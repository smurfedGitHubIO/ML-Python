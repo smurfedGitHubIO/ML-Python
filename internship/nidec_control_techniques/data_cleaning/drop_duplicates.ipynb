{
 "cells": [
  {
   "cell_type": "code",
   "execution_count": 1,
   "id": "ad20a1f9-4253-4fba-bdd7-d59a79ef3c2c",
   "metadata": {},
   "outputs": [],
   "source": [
    "import pandas as pd\n",
    "import numpy as np"
   ]
  },
  {
   "cell_type": "markdown",
   "id": "a2d13d5c-8336-4ff6-bb0b-828eb02f6923",
   "metadata": {},
   "source": [
    "## Angola"
   ]
  },
  {
   "cell_type": "code",
   "execution_count": 2,
   "id": "66a3c124-e07b-4b2d-8e4e-dadaf727c846",
   "metadata": {},
   "outputs": [],
   "source": [
    "angola_df = pd.read_excel('./Angola.xlsx')"
   ]
  },
  {
   "cell_type": "code",
   "execution_count": 3,
   "id": "35fe490e-90b2-4ab1-b885-2bab107cb576",
   "metadata": {},
   "outputs": [
    {
     "data": {
      "text/html": [
       "<div>\n",
       "<style scoped>\n",
       "    .dataframe tbody tr th:only-of-type {\n",
       "        vertical-align: middle;\n",
       "    }\n",
       "\n",
       "    .dataframe tbody tr th {\n",
       "        vertical-align: top;\n",
       "    }\n",
       "\n",
       "    .dataframe thead th {\n",
       "        text-align: right;\n",
       "    }\n",
       "</style>\n",
       "<table border=\"1\" class=\"dataframe\">\n",
       "  <thead>\n",
       "    <tr style=\"text-align: right;\">\n",
       "      <th></th>\n",
       "      <th>Business Model</th>\n",
       "      <th>Category</th>\n",
       "      <th>Subcategory</th>\n",
       "      <th>Company Name</th>\n",
       "      <th>Address</th>\n",
       "      <th>State</th>\n",
       "      <th>Country</th>\n",
       "      <th>Contact No.</th>\n",
       "      <th>Fax No.</th>\n",
       "      <th>Website</th>\n",
       "      <th>Email</th>\n",
       "      <th>Annual Sales</th>\n",
       "      <th>Employees</th>\n",
       "    </tr>\n",
       "  </thead>\n",
       "  <tbody>\n",
       "    <tr>\n",
       "      <th>0</th>\n",
       "      <td>OEM</td>\n",
       "      <td>NC Machine Tools</td>\n",
       "      <td>Digital Printers</td>\n",
       "      <td>Acail Angola - Indust.Comercio De Ferro, S.A</td>\n",
       "      <td>Km 23 Polo Industrial De Viana, Luanda, Northe...</td>\n",
       "      <td>Northern Angola</td>\n",
       "      <td>Angola</td>\n",
       "      <td>244-929-602-872</td>\n",
       "      <td>NaN</td>\n",
       "      <td>https://www.acailangola.com/</td>\n",
       "      <td>NaN</td>\n",
       "      <td>4368000.0</td>\n",
       "      <td>NaN</td>\n",
       "    </tr>\n",
       "    <tr>\n",
       "      <th>1</th>\n",
       "      <td>OEM</td>\n",
       "      <td>NC Machine Tools</td>\n",
       "      <td>Direct Thermal Transfer Printers</td>\n",
       "      <td>Acail Angola - Indust.Comercio De Ferro, S.A</td>\n",
       "      <td>Km 23 Polo Industrial De Viana, Luanda, Northe...</td>\n",
       "      <td>Northern Angola</td>\n",
       "      <td>Angola</td>\n",
       "      <td>244-929-602-872</td>\n",
       "      <td>NaN</td>\n",
       "      <td>https://www.acailangola.com/</td>\n",
       "      <td>NaN</td>\n",
       "      <td>4368000.0</td>\n",
       "      <td>NaN</td>\n",
       "    </tr>\n",
       "    <tr>\n",
       "      <th>2</th>\n",
       "      <td>OEM</td>\n",
       "      <td>Machinery Parts &amp; Components</td>\n",
       "      <td>Display Screen</td>\n",
       "      <td>Asco - Angolan Services Company, Lda</td>\n",
       "      <td>Rua Joao De Barros, Luanda, Northern Angola, A...</td>\n",
       "      <td>Northern Angola</td>\n",
       "      <td>Angola</td>\n",
       "      <td>244-931-823-449</td>\n",
       "      <td>NaN</td>\n",
       "      <td>https://asco-lda.com/</td>\n",
       "      <td>NaN</td>\n",
       "      <td>5410600.0</td>\n",
       "      <td>NaN</td>\n",
       "    </tr>\n",
       "    <tr>\n",
       "      <th>3</th>\n",
       "      <td>OEM</td>\n",
       "      <td>Machinery Parts &amp; Components</td>\n",
       "      <td>Display Screen</td>\n",
       "      <td>Asco - Angolan Services Company, Lda</td>\n",
       "      <td>Rua Joao De Barros, Luanda, Northern Angola, A...</td>\n",
       "      <td>Northern Angola</td>\n",
       "      <td>Angola</td>\n",
       "      <td>244-931-823-449</td>\n",
       "      <td>NaN</td>\n",
       "      <td>https://asco-lda.com/</td>\n",
       "      <td>NaN</td>\n",
       "      <td>5410600.0</td>\n",
       "      <td>NaN</td>\n",
       "    </tr>\n",
       "    <tr>\n",
       "      <th>4</th>\n",
       "      <td>OEM</td>\n",
       "      <td>Machinery Parts &amp; Components</td>\n",
       "      <td>Drill Brushes</td>\n",
       "      <td>Asco - Angolan Services Company, Lda</td>\n",
       "      <td>Rua Joao De Barros, Luanda, Northern Angola, A...</td>\n",
       "      <td>Northern Angola</td>\n",
       "      <td>Angola</td>\n",
       "      <td>244-931-823-449</td>\n",
       "      <td>NaN</td>\n",
       "      <td>https://asco-lda.com/</td>\n",
       "      <td>NaN</td>\n",
       "      <td>5410600.0</td>\n",
       "      <td>NaN</td>\n",
       "    </tr>\n",
       "  </tbody>\n",
       "</table>\n",
       "</div>"
      ],
      "text/plain": [
       "  Business Model                      Category  \\\n",
       "0            OEM              NC Machine Tools   \n",
       "1            OEM              NC Machine Tools   \n",
       "2            OEM  Machinery Parts & Components   \n",
       "3            OEM  Machinery Parts & Components   \n",
       "4            OEM  Machinery Parts & Components   \n",
       "\n",
       "                        Subcategory  \\\n",
       "0                  Digital Printers   \n",
       "1  Direct Thermal Transfer Printers   \n",
       "2                    Display Screen   \n",
       "3                    Display Screen   \n",
       "4                     Drill Brushes   \n",
       "\n",
       "                                   Company Name  \\\n",
       "0  Acail Angola - Indust.Comercio De Ferro, S.A   \n",
       "1  Acail Angola - Indust.Comercio De Ferro, S.A   \n",
       "2          Asco - Angolan Services Company, Lda   \n",
       "3          Asco - Angolan Services Company, Lda   \n",
       "4          Asco - Angolan Services Company, Lda   \n",
       "\n",
       "                                             Address            State Country  \\\n",
       "0  Km 23 Polo Industrial De Viana, Luanda, Northe...  Northern Angola  Angola   \n",
       "1  Km 23 Polo Industrial De Viana, Luanda, Northe...  Northern Angola  Angola   \n",
       "2  Rua Joao De Barros, Luanda, Northern Angola, A...  Northern Angola  Angola   \n",
       "3  Rua Joao De Barros, Luanda, Northern Angola, A...  Northern Angola  Angola   \n",
       "4  Rua Joao De Barros, Luanda, Northern Angola, A...  Northern Angola  Angola   \n",
       "\n",
       "       Contact No. Fax No.                       Website Email  Annual Sales  \\\n",
       "0  244-929-602-872     NaN  https://www.acailangola.com/   NaN     4368000.0   \n",
       "1  244-929-602-872     NaN  https://www.acailangola.com/   NaN     4368000.0   \n",
       "2  244-931-823-449     NaN         https://asco-lda.com/   NaN     5410600.0   \n",
       "3  244-931-823-449     NaN         https://asco-lda.com/   NaN     5410600.0   \n",
       "4  244-931-823-449     NaN         https://asco-lda.com/   NaN     5410600.0   \n",
       "\n",
       "   Employees  \n",
       "0        NaN  \n",
       "1        NaN  \n",
       "2        NaN  \n",
       "3        NaN  \n",
       "4        NaN  "
      ]
     },
     "execution_count": 3,
     "metadata": {},
     "output_type": "execute_result"
    }
   ],
   "source": [
    "angola_df.head()"
   ]
  },
  {
   "cell_type": "code",
   "execution_count": 7,
   "id": "29e156df-4939-4029-83aa-aa6f09711528",
   "metadata": {},
   "outputs": [
    {
     "data": {
      "text/plain": [
       "(352, 13)"
      ]
     },
     "execution_count": 7,
     "metadata": {},
     "output_type": "execute_result"
    }
   ],
   "source": [
    "angola_df.shape"
   ]
  },
  {
   "cell_type": "code",
   "execution_count": 8,
   "id": "42feb49a-a09d-458e-9ed3-b2ca48a4b8b3",
   "metadata": {},
   "outputs": [
    {
     "name": "stdout",
     "output_type": "stream",
     "text": [
      "<class 'pandas.core.frame.DataFrame'>\n",
      "RangeIndex: 352 entries, 0 to 351\n",
      "Data columns (total 13 columns):\n",
      " #   Column          Non-Null Count  Dtype  \n",
      "---  ------          --------------  -----  \n",
      " 0   Business Model  352 non-null    object \n",
      " 1   Category        352 non-null    object \n",
      " 2   Subcategory     352 non-null    object \n",
      " 3   Company Name    352 non-null    object \n",
      " 4   Address         344 non-null    object \n",
      " 5   State           344 non-null    object \n",
      " 6   Country         352 non-null    object \n",
      " 7   Contact No.     277 non-null    object \n",
      " 8   Fax No.         7 non-null      object \n",
      " 9   Website         319 non-null    object \n",
      " 10  Email           70 non-null     object \n",
      " 11  Annual Sales    340 non-null    float64\n",
      " 12  Employees       210 non-null    float64\n",
      "dtypes: float64(2), object(11)\n",
      "memory usage: 35.9+ KB\n"
     ]
    }
   ],
   "source": [
    "angola_df.info()"
   ]
  },
  {
   "cell_type": "code",
   "execution_count": 9,
   "id": "46b0532a-8961-4adc-a0f9-3f5a36e355c2",
   "metadata": {},
   "outputs": [],
   "source": [
    "angola_df.drop_duplicates(inplace=True)"
   ]
  },
  {
   "cell_type": "code",
   "execution_count": 10,
   "id": "edf591f2-3580-4cc1-bba7-bb73198b12e9",
   "metadata": {},
   "outputs": [
    {
     "data": {
      "text/plain": [
       "(284, 13)"
      ]
     },
     "execution_count": 10,
     "metadata": {},
     "output_type": "execute_result"
    }
   ],
   "source": [
    "angola_df.shape"
   ]
  },
  {
   "cell_type": "code",
   "execution_count": 12,
   "id": "38ab5689-b8c4-4000-8114-c54904b4cb38",
   "metadata": {},
   "outputs": [
    {
     "name": "stdout",
     "output_type": "stream",
     "text": [
      "['.ipynb_checkpoints', 'Angola.xlsx', 'Burundi.xlsx', 'Central African Republic (CAR).xlsx', 'drop_duplicates.ipynb', 'Gambia.xlsx', 'Malawi.xlsx', 'Rwanda.xlsx']\n"
     ]
    }
   ],
   "source": [
    "import os\n",
    "print(os.listdir())"
   ]
  },
  {
   "cell_type": "code",
   "execution_count": 13,
   "id": "80545599-f29f-4b4b-a894-e082f3d95354",
   "metadata": {},
   "outputs": [
    {
     "data": {
      "text/html": [
       "<div>\n",
       "<style scoped>\n",
       "    .dataframe tbody tr th:only-of-type {\n",
       "        vertical-align: middle;\n",
       "    }\n",
       "\n",
       "    .dataframe tbody tr th {\n",
       "        vertical-align: top;\n",
       "    }\n",
       "\n",
       "    .dataframe thead th {\n",
       "        text-align: right;\n",
       "    }\n",
       "</style>\n",
       "<table border=\"1\" class=\"dataframe\">\n",
       "  <thead>\n",
       "    <tr style=\"text-align: right;\">\n",
       "      <th></th>\n",
       "      <th>Business Model</th>\n",
       "      <th>Category</th>\n",
       "      <th>Subcategory</th>\n",
       "      <th>Company Name</th>\n",
       "      <th>Address</th>\n",
       "      <th>State</th>\n",
       "      <th>Country</th>\n",
       "      <th>Contact No.</th>\n",
       "      <th>Fax No.</th>\n",
       "      <th>Website</th>\n",
       "      <th>Email</th>\n",
       "      <th>Annual Sales</th>\n",
       "      <th>Employees</th>\n",
       "    </tr>\n",
       "  </thead>\n",
       "  <tbody>\n",
       "    <tr>\n",
       "      <th>0</th>\n",
       "      <td>End-user</td>\n",
       "      <td>Wood</td>\n",
       "      <td>Wood Product</td>\n",
       "      <td>BURUNDI QUALITY STOVES S.A.</td>\n",
       "      <td>Quartier Industriel Bujumbura, 12 Burundi</td>\n",
       "      <td>Bujumbura</td>\n",
       "      <td>Burundi</td>\n",
       "      <td>257 76 89 70 78\\n</td>\n",
       "      <td>NaN</td>\n",
       "      <td>NaN</td>\n",
       "      <td>NaN</td>\n",
       "      <td>3850000.0</td>\n",
       "      <td>NaN</td>\n",
       "    </tr>\n",
       "    <tr>\n",
       "      <th>1</th>\n",
       "      <td>End-user</td>\n",
       "      <td>Textile</td>\n",
       "      <td>Textile</td>\n",
       "      <td>Afritextile</td>\n",
       "      <td>Avenue de L’Agriculture , BP.4916-Bujumbura</td>\n",
       "      <td>Bujumbura</td>\n",
       "      <td>Burundi</td>\n",
       "      <td>257 22276481</td>\n",
       "      <td>NaN</td>\n",
       "      <td>https://www.afritextile.bi/</td>\n",
       "      <td>info@afritextile.net</td>\n",
       "      <td>NaN</td>\n",
       "      <td>NaN</td>\n",
       "    </tr>\n",
       "    <tr>\n",
       "      <th>2</th>\n",
       "      <td>End-user</td>\n",
       "      <td>Printing</td>\n",
       "      <td>Print</td>\n",
       "      <td>Grace Media</td>\n",
       "      <td>29 Bd de l'Uprona, Bujumbura, Burundi</td>\n",
       "      <td>Bujumbura</td>\n",
       "      <td>Burundi</td>\n",
       "      <td>257 68 30 90 90</td>\n",
       "      <td>NaN</td>\n",
       "      <td>NaN</td>\n",
       "      <td>NaN</td>\n",
       "      <td>NaN</td>\n",
       "      <td>NaN</td>\n",
       "    </tr>\n",
       "    <tr>\n",
       "      <th>3</th>\n",
       "      <td>End-user</td>\n",
       "      <td>Plastic</td>\n",
       "      <td>Plastic</td>\n",
       "      <td>B.R.A PLASTEX M.F.G S.A</td>\n",
       "      <td>M8GJ+2RF, Bujumbura, Burundi</td>\n",
       "      <td>Bujumbura</td>\n",
       "      <td>Burundi</td>\n",
       "      <td>257 69 21 21 21</td>\n",
       "      <td>NaN</td>\n",
       "      <td>https://bramfg.com/</td>\n",
       "      <td>NaN</td>\n",
       "      <td>740120.0</td>\n",
       "      <td>20.0</td>\n",
       "    </tr>\n",
       "    <tr>\n",
       "      <th>4</th>\n",
       "      <td>End-user</td>\n",
       "      <td>Plastic</td>\n",
       "      <td>Plastic</td>\n",
       "      <td>B.R.A Mfg\\n</td>\n",
       "      <td>28 Ave Ntahangwa, Bujumbura, Burundi</td>\n",
       "      <td>Bujumbura</td>\n",
       "      <td>Burundi</td>\n",
       "      <td>257 65 88 89 99</td>\n",
       "      <td>NaN</td>\n",
       "      <td>NaN</td>\n",
       "      <td>NaN</td>\n",
       "      <td>NaN</td>\n",
       "      <td>NaN</td>\n",
       "    </tr>\n",
       "  </tbody>\n",
       "</table>\n",
       "</div>"
      ],
      "text/plain": [
       "  Business Model  Category   Subcategory                 Company Name  \\\n",
       "0       End-user      Wood  Wood Product  BURUNDI QUALITY STOVES S.A.   \n",
       "1       End-user   Textile       Textile                  Afritextile   \n",
       "2       End-user  Printing        Print                   Grace Media   \n",
       "3       End-user   Plastic       Plastic      B.R.A PLASTEX M.F.G S.A   \n",
       "4       End-user   Plastic       Plastic                  B.R.A Mfg\\n   \n",
       "\n",
       "                                       Address      State  Country  \\\n",
       "0    Quartier Industriel Bujumbura, 12 Burundi  Bujumbura  Burundi   \n",
       "1  Avenue de L’Agriculture , BP.4916-Bujumbura  Bujumbura  Burundi   \n",
       "2        29 Bd de l'Uprona, Bujumbura, Burundi  Bujumbura  Burundi   \n",
       "3                 M8GJ+2RF, Bujumbura, Burundi  Bujumbura  Burundi   \n",
       "4         28 Ave Ntahangwa, Bujumbura, Burundi  Bujumbura  Burundi   \n",
       "\n",
       "         Contact No. Fax No.                      Website  \\\n",
       "0  257 76 89 70 78\\n     NaN                          NaN   \n",
       "1      257 22276481      NaN  https://www.afritextile.bi/   \n",
       "2    257 68 30 90 90     NaN                          NaN   \n",
       "3    257 69 21 21 21     NaN          https://bramfg.com/   \n",
       "4    257 65 88 89 99     NaN                          NaN   \n",
       "\n",
       "                   Email  Annual Sales  Employees  \n",
       "0                    NaN     3850000.0        NaN  \n",
       "1   info@afritextile.net           NaN        NaN  \n",
       "2                    NaN           NaN        NaN  \n",
       "3                    NaN      740120.0       20.0  \n",
       "4                    NaN           NaN        NaN  "
      ]
     },
     "execution_count": 13,
     "metadata": {},
     "output_type": "execute_result"
    }
   ],
   "source": [
    "burundi_df = pd.read_excel('Burundi.xlsx')\n",
    "burundi_df.head()"
   ]
  },
  {
   "cell_type": "code",
   "execution_count": 14,
   "id": "da47758b-9ee1-4c1f-8786-7fbf359f68d8",
   "metadata": {},
   "outputs": [
    {
     "name": "stdout",
     "output_type": "stream",
     "text": [
      "<class 'pandas.core.frame.DataFrame'>\n",
      "RangeIndex: 76 entries, 0 to 75\n",
      "Data columns (total 13 columns):\n",
      " #   Column          Non-Null Count  Dtype  \n",
      "---  ------          --------------  -----  \n",
      " 0   Business Model  76 non-null     object \n",
      " 1   Category        76 non-null     object \n",
      " 2   Subcategory     76 non-null     object \n",
      " 3   Company Name    76 non-null     object \n",
      " 4   Address         76 non-null     object \n",
      " 5   State           76 non-null     object \n",
      " 6   Country         76 non-null     object \n",
      " 7   Contact No.     73 non-null     object \n",
      " 8   Fax No.         7 non-null      object \n",
      " 9   Website         32 non-null     object \n",
      " 10  Email           19 non-null     object \n",
      " 11  Annual Sales    25 non-null     float64\n",
      " 12  Employees       12 non-null     float64\n",
      "dtypes: float64(2), object(11)\n",
      "memory usage: 7.8+ KB\n"
     ]
    }
   ],
   "source": [
    "burundi_df.info()"
   ]
  },
  {
   "cell_type": "code",
   "execution_count": 16,
   "id": "d74558ed-749e-45b0-817c-db4bf78e899f",
   "metadata": {},
   "outputs": [
    {
     "data": {
      "text/html": [
       "<div>\n",
       "<style scoped>\n",
       "    .dataframe tbody tr th:only-of-type {\n",
       "        vertical-align: middle;\n",
       "    }\n",
       "\n",
       "    .dataframe tbody tr th {\n",
       "        vertical-align: top;\n",
       "    }\n",
       "\n",
       "    .dataframe thead th {\n",
       "        text-align: right;\n",
       "    }\n",
       "</style>\n",
       "<table border=\"1\" class=\"dataframe\">\n",
       "  <thead>\n",
       "    <tr style=\"text-align: right;\">\n",
       "      <th></th>\n",
       "      <th>Annual Sales</th>\n",
       "      <th>Employees</th>\n",
       "    </tr>\n",
       "  </thead>\n",
       "  <tbody>\n",
       "    <tr>\n",
       "      <th>count</th>\n",
       "      <td>2.500000e+01</td>\n",
       "      <td>12.000000</td>\n",
       "    </tr>\n",
       "    <tr>\n",
       "      <th>mean</th>\n",
       "      <td>3.768888e+06</td>\n",
       "      <td>27.666667</td>\n",
       "    </tr>\n",
       "    <tr>\n",
       "      <th>std</th>\n",
       "      <td>4.254098e+06</td>\n",
       "      <td>28.288556</td>\n",
       "    </tr>\n",
       "    <tr>\n",
       "      <th>min</th>\n",
       "      <td>5.018600e+04</td>\n",
       "      <td>1.000000</td>\n",
       "    </tr>\n",
       "    <tr>\n",
       "      <th>25%</th>\n",
       "      <td>7.746960e+05</td>\n",
       "      <td>8.750000</td>\n",
       "    </tr>\n",
       "    <tr>\n",
       "      <th>50%</th>\n",
       "      <td>2.295500e+06</td>\n",
       "      <td>19.500000</td>\n",
       "    </tr>\n",
       "    <tr>\n",
       "      <th>75%</th>\n",
       "      <td>5.638900e+06</td>\n",
       "      <td>35.500000</td>\n",
       "    </tr>\n",
       "    <tr>\n",
       "      <th>max</th>\n",
       "      <td>1.629770e+07</td>\n",
       "      <td>98.000000</td>\n",
       "    </tr>\n",
       "  </tbody>\n",
       "</table>\n",
       "</div>"
      ],
      "text/plain": [
       "       Annual Sales  Employees\n",
       "count  2.500000e+01  12.000000\n",
       "mean   3.768888e+06  27.666667\n",
       "std    4.254098e+06  28.288556\n",
       "min    5.018600e+04   1.000000\n",
       "25%    7.746960e+05   8.750000\n",
       "50%    2.295500e+06  19.500000\n",
       "75%    5.638900e+06  35.500000\n",
       "max    1.629770e+07  98.000000"
      ]
     },
     "execution_count": 16,
     "metadata": {},
     "output_type": "execute_result"
    }
   ],
   "source": [
    "burundi_df.describe()"
   ]
  },
  {
   "cell_type": "code",
   "execution_count": 17,
   "id": "382484e1-ff13-4d78-afca-824e3ff89029",
   "metadata": {},
   "outputs": [],
   "source": [
    "burundi_df.drop_duplicates(inplace=True)"
   ]
  },
  {
   "cell_type": "code",
   "execution_count": 19,
   "id": "d33b5bd8-f24b-40b1-b721-a2e55e503157",
   "metadata": {},
   "outputs": [
    {
     "data": {
      "text/plain": [
       "(76, 13)"
      ]
     },
     "execution_count": 19,
     "metadata": {},
     "output_type": "execute_result"
    }
   ],
   "source": [
    "burundi_df.shape"
   ]
  },
  {
   "cell_type": "markdown",
   "id": "ab12688a-7319-46e7-9f06-48a7376d770e",
   "metadata": {},
   "source": [
    "No duplicates for Burundi."
   ]
  },
  {
   "cell_type": "code",
   "execution_count": 21,
   "id": "01185069-2aed-4d7a-97ba-bdb98347bf6a",
   "metadata": {},
   "outputs": [
    {
     "data": {
      "text/plain": [
       "(3, 13)"
      ]
     },
     "execution_count": 21,
     "metadata": {},
     "output_type": "execute_result"
    }
   ],
   "source": [
    "car_df = pd.read_excel('Central African Republic (CAR).xlsx')\n",
    "car_df.shape"
   ]
  },
  {
   "cell_type": "code",
   "execution_count": 22,
   "id": "287b56fa-bb41-456c-a4a1-3087aeca9867",
   "metadata": {},
   "outputs": [
    {
     "data": {
      "text/plain": [
       "(3, 13)"
      ]
     },
     "execution_count": 22,
     "metadata": {},
     "output_type": "execute_result"
    }
   ],
   "source": [
    "car_df.drop_duplicates(inplace=True)\n",
    "car_df.shape"
   ]
  },
  {
   "cell_type": "markdown",
   "id": "3f19f3d2-631d-4496-9488-baee286c6cb8",
   "metadata": {},
   "source": [
    "No duplicates for CAR."
   ]
  },
  {
   "cell_type": "code",
   "execution_count": 23,
   "id": "390d059a-d4d6-449d-bd12-41b44ff35b2b",
   "metadata": {},
   "outputs": [
    {
     "data": {
      "text/plain": [
       "(110, 13)"
      ]
     },
     "execution_count": 23,
     "metadata": {},
     "output_type": "execute_result"
    }
   ],
   "source": [
    "gambia_df = pd.read_excel('Gambia.xlsx')\n",
    "gambia_df.shape"
   ]
  },
  {
   "cell_type": "code",
   "execution_count": 24,
   "id": "7b4bff64-dac2-42b2-a3e3-ff583ddacef0",
   "metadata": {},
   "outputs": [
    {
     "data": {
      "text/plain": [
       "(109, 13)"
      ]
     },
     "execution_count": 24,
     "metadata": {},
     "output_type": "execute_result"
    }
   ],
   "source": [
    "gambia_df.drop_duplicates(inplace=True)\n",
    "gambia_df.shape"
   ]
  },
  {
   "cell_type": "markdown",
   "id": "a02c03f5-2d3b-481c-af72-c65401861c8b",
   "metadata": {},
   "source": [
    "There's one duplicate for Gambia."
   ]
  },
  {
   "cell_type": "code",
   "execution_count": null,
   "id": "72e7d066-4524-4781-9138-950328ac701f",
   "metadata": {},
   "outputs": [],
   "source": []
  }
 ],
 "metadata": {
  "kernelspec": {
   "display_name": "Python 3 (ipykernel)",
   "language": "python",
   "name": "python3"
  },
  "language_info": {
   "codemirror_mode": {
    "name": "ipython",
    "version": 3
   },
   "file_extension": ".py",
   "mimetype": "text/x-python",
   "name": "python",
   "nbconvert_exporter": "python",
   "pygments_lexer": "ipython3",
   "version": "3.11.5"
  }
 },
 "nbformat": 4,
 "nbformat_minor": 5
}
