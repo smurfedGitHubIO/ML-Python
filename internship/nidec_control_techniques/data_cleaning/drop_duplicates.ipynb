{
 "cells": [
  {
   "cell_type": "code",
   "execution_count": 1,
   "id": "ad20a1f9-4253-4fba-bdd7-d59a79ef3c2c",
   "metadata": {},
   "outputs": [],
   "source": [
    "import pandas as pd\n",
    "import numpy as np"
   ]
  },
  {
   "cell_type": "code",
   "execution_count": 2,
   "id": "66a3c124-e07b-4b2d-8e4e-dadaf727c846",
   "metadata": {},
   "outputs": [],
   "source": [
    "angola_df = pd.read_excel('./Angola.xlsx')"
   ]
  },
  {
   "cell_type": "code",
   "execution_count": 3,
   "id": "35fe490e-90b2-4ab1-b885-2bab107cb576",
   "metadata": {},
   "outputs": [
    {
     "data": {
      "text/html": [
       "<div>\n",
       "<style scoped>\n",
       "    .dataframe tbody tr th:only-of-type {\n",
       "        vertical-align: middle;\n",
       "    }\n",
       "\n",
       "    .dataframe tbody tr th {\n",
       "        vertical-align: top;\n",
       "    }\n",
       "\n",
       "    .dataframe thead th {\n",
       "        text-align: right;\n",
       "    }\n",
       "</style>\n",
       "<table border=\"1\" class=\"dataframe\">\n",
       "  <thead>\n",
       "    <tr style=\"text-align: right;\">\n",
       "      <th></th>\n",
       "      <th>Business Model</th>\n",
       "      <th>Category</th>\n",
       "      <th>Subcategory</th>\n",
       "      <th>Company Name</th>\n",
       "      <th>Address</th>\n",
       "      <th>State</th>\n",
       "      <th>Country</th>\n",
       "      <th>Contact No.</th>\n",
       "      <th>Fax No.</th>\n",
       "      <th>Website</th>\n",
       "      <th>Email</th>\n",
       "      <th>Annual Sales</th>\n",
       "      <th>Employees</th>\n",
       "    </tr>\n",
       "  </thead>\n",
       "  <tbody>\n",
       "    <tr>\n",
       "      <th>0</th>\n",
       "      <td>OEM</td>\n",
       "      <td>NC Machine Tools</td>\n",
       "      <td>Digital Printers</td>\n",
       "      <td>Acail Angola - Indust.Comercio De Ferro, S.A</td>\n",
       "      <td>Km 23 Polo Industrial De Viana, Luanda, Northe...</td>\n",
       "      <td>Northern Angola</td>\n",
       "      <td>Angola</td>\n",
       "      <td>244-929-602-872</td>\n",
       "      <td>NaN</td>\n",
       "      <td>https://www.acailangola.com/</td>\n",
       "      <td>NaN</td>\n",
       "      <td>4368000.0</td>\n",
       "      <td>NaN</td>\n",
       "    </tr>\n",
       "    <tr>\n",
       "      <th>1</th>\n",
       "      <td>OEM</td>\n",
       "      <td>NC Machine Tools</td>\n",
       "      <td>Direct Thermal Transfer Printers</td>\n",
       "      <td>Acail Angola - Indust.Comercio De Ferro, S.A</td>\n",
       "      <td>Km 23 Polo Industrial De Viana, Luanda, Northe...</td>\n",
       "      <td>Northern Angola</td>\n",
       "      <td>Angola</td>\n",
       "      <td>244-929-602-872</td>\n",
       "      <td>NaN</td>\n",
       "      <td>https://www.acailangola.com/</td>\n",
       "      <td>NaN</td>\n",
       "      <td>4368000.0</td>\n",
       "      <td>NaN</td>\n",
       "    </tr>\n",
       "    <tr>\n",
       "      <th>2</th>\n",
       "      <td>OEM</td>\n",
       "      <td>Machinery Parts &amp; Components</td>\n",
       "      <td>Display Screen</td>\n",
       "      <td>Asco - Angolan Services Company, Lda</td>\n",
       "      <td>Rua Joao De Barros, Luanda, Northern Angola, A...</td>\n",
       "      <td>Northern Angola</td>\n",
       "      <td>Angola</td>\n",
       "      <td>244-931-823-449</td>\n",
       "      <td>NaN</td>\n",
       "      <td>https://asco-lda.com/</td>\n",
       "      <td>NaN</td>\n",
       "      <td>5410600.0</td>\n",
       "      <td>NaN</td>\n",
       "    </tr>\n",
       "    <tr>\n",
       "      <th>3</th>\n",
       "      <td>OEM</td>\n",
       "      <td>Machinery Parts &amp; Components</td>\n",
       "      <td>Display Screen</td>\n",
       "      <td>Asco - Angolan Services Company, Lda</td>\n",
       "      <td>Rua Joao De Barros, Luanda, Northern Angola, A...</td>\n",
       "      <td>Northern Angola</td>\n",
       "      <td>Angola</td>\n",
       "      <td>244-931-823-449</td>\n",
       "      <td>NaN</td>\n",
       "      <td>https://asco-lda.com/</td>\n",
       "      <td>NaN</td>\n",
       "      <td>5410600.0</td>\n",
       "      <td>NaN</td>\n",
       "    </tr>\n",
       "    <tr>\n",
       "      <th>4</th>\n",
       "      <td>OEM</td>\n",
       "      <td>Machinery Parts &amp; Components</td>\n",
       "      <td>Drill Brushes</td>\n",
       "      <td>Asco - Angolan Services Company, Lda</td>\n",
       "      <td>Rua Joao De Barros, Luanda, Northern Angola, A...</td>\n",
       "      <td>Northern Angola</td>\n",
       "      <td>Angola</td>\n",
       "      <td>244-931-823-449</td>\n",
       "      <td>NaN</td>\n",
       "      <td>https://asco-lda.com/</td>\n",
       "      <td>NaN</td>\n",
       "      <td>5410600.0</td>\n",
       "      <td>NaN</td>\n",
       "    </tr>\n",
       "  </tbody>\n",
       "</table>\n",
       "</div>"
      ],
      "text/plain": [
       "  Business Model                      Category  \\\n",
       "0            OEM              NC Machine Tools   \n",
       "1            OEM              NC Machine Tools   \n",
       "2            OEM  Machinery Parts & Components   \n",
       "3            OEM  Machinery Parts & Components   \n",
       "4            OEM  Machinery Parts & Components   \n",
       "\n",
       "                        Subcategory  \\\n",
       "0                  Digital Printers   \n",
       "1  Direct Thermal Transfer Printers   \n",
       "2                    Display Screen   \n",
       "3                    Display Screen   \n",
       "4                     Drill Brushes   \n",
       "\n",
       "                                   Company Name  \\\n",
       "0  Acail Angola - Indust.Comercio De Ferro, S.A   \n",
       "1  Acail Angola - Indust.Comercio De Ferro, S.A   \n",
       "2          Asco - Angolan Services Company, Lda   \n",
       "3          Asco - Angolan Services Company, Lda   \n",
       "4          Asco - Angolan Services Company, Lda   \n",
       "\n",
       "                                             Address            State Country  \\\n",
       "0  Km 23 Polo Industrial De Viana, Luanda, Northe...  Northern Angola  Angola   \n",
       "1  Km 23 Polo Industrial De Viana, Luanda, Northe...  Northern Angola  Angola   \n",
       "2  Rua Joao De Barros, Luanda, Northern Angola, A...  Northern Angola  Angola   \n",
       "3  Rua Joao De Barros, Luanda, Northern Angola, A...  Northern Angola  Angola   \n",
       "4  Rua Joao De Barros, Luanda, Northern Angola, A...  Northern Angola  Angola   \n",
       "\n",
       "       Contact No. Fax No.                       Website Email  Annual Sales  \\\n",
       "0  244-929-602-872     NaN  https://www.acailangola.com/   NaN     4368000.0   \n",
       "1  244-929-602-872     NaN  https://www.acailangola.com/   NaN     4368000.0   \n",
       "2  244-931-823-449     NaN         https://asco-lda.com/   NaN     5410600.0   \n",
       "3  244-931-823-449     NaN         https://asco-lda.com/   NaN     5410600.0   \n",
       "4  244-931-823-449     NaN         https://asco-lda.com/   NaN     5410600.0   \n",
       "\n",
       "   Employees  \n",
       "0        NaN  \n",
       "1        NaN  \n",
       "2        NaN  \n",
       "3        NaN  \n",
       "4        NaN  "
      ]
     },
     "execution_count": 3,
     "metadata": {},
     "output_type": "execute_result"
    }
   ],
   "source": [
    "angola_df.head()"
   ]
  },
  {
   "cell_type": "code",
   "execution_count": 7,
   "id": "29e156df-4939-4029-83aa-aa6f09711528",
   "metadata": {},
   "outputs": [
    {
     "data": {
      "text/plain": [
       "(352, 13)"
      ]
     },
     "execution_count": 7,
     "metadata": {},
     "output_type": "execute_result"
    }
   ],
   "source": [
    "angola_df.shape"
   ]
  },
  {
   "cell_type": "code",
   "execution_count": 8,
   "id": "42feb49a-a09d-458e-9ed3-b2ca48a4b8b3",
   "metadata": {},
   "outputs": [
    {
     "name": "stdout",
     "output_type": "stream",
     "text": [
      "<class 'pandas.core.frame.DataFrame'>\n",
      "RangeIndex: 352 entries, 0 to 351\n",
      "Data columns (total 13 columns):\n",
      " #   Column          Non-Null Count  Dtype  \n",
      "---  ------          --------------  -----  \n",
      " 0   Business Model  352 non-null    object \n",
      " 1   Category        352 non-null    object \n",
      " 2   Subcategory     352 non-null    object \n",
      " 3   Company Name    352 non-null    object \n",
      " 4   Address         344 non-null    object \n",
      " 5   State           344 non-null    object \n",
      " 6   Country         352 non-null    object \n",
      " 7   Contact No.     277 non-null    object \n",
      " 8   Fax No.         7 non-null      object \n",
      " 9   Website         319 non-null    object \n",
      " 10  Email           70 non-null     object \n",
      " 11  Annual Sales    340 non-null    float64\n",
      " 12  Employees       210 non-null    float64\n",
      "dtypes: float64(2), object(11)\n",
      "memory usage: 35.9+ KB\n"
     ]
    }
   ],
   "source": [
    "angola_df.info()"
   ]
  },
  {
   "cell_type": "code",
   "execution_count": 9,
   "id": "46b0532a-8961-4adc-a0f9-3f5a36e355c2",
   "metadata": {},
   "outputs": [],
   "source": [
    "angola_df.drop_duplicates(inplace=True)"
   ]
  },
  {
   "cell_type": "code",
   "execution_count": 10,
   "id": "edf591f2-3580-4cc1-bba7-bb73198b12e9",
   "metadata": {},
   "outputs": [
    {
     "data": {
      "text/plain": [
       "(284, 13)"
      ]
     },
     "execution_count": 10,
     "metadata": {},
     "output_type": "execute_result"
    }
   ],
   "source": [
    "angola_df.shape"
   ]
  },
  {
   "cell_type": "code",
   "execution_count": null,
   "id": "38ab5689-b8c4-4000-8114-c54904b4cb38",
   "metadata": {},
   "outputs": [],
   "source": []
  }
 ],
 "metadata": {
  "kernelspec": {
   "display_name": "Python 3 (ipykernel)",
   "language": "python",
   "name": "python3"
  },
  "language_info": {
   "codemirror_mode": {
    "name": "ipython",
    "version": 3
   },
   "file_extension": ".py",
   "mimetype": "text/x-python",
   "name": "python",
   "nbconvert_exporter": "python",
   "pygments_lexer": "ipython3",
   "version": "3.11.5"
  }
 },
 "nbformat": 4,
 "nbformat_minor": 5
}
