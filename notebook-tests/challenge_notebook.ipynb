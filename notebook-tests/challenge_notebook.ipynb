{
 "cells": [
  {
   "cell_type": "code",
   "execution_count": 1,
   "id": "9d096de5-28db-46f3-a6bb-bab5b9210052",
   "metadata": {},
   "outputs": [],
   "source": [
    "import pandas as pd\n",
    "from matplotlib import pyplot as plt\n",
    "import numpy as np"
   ]
  },
  {
   "cell_type": "markdown",
   "id": "1416a02d-9392-4561-b6da-42e9ca1827eb",
   "metadata": {},
   "source": [
    "# Customer Info"
   ]
  },
  {
   "cell_type": "code",
   "execution_count": 2,
   "id": "5685f2f3-6763-4163-930b-7a349e00c57b",
   "metadata": {},
   "outputs": [
    {
     "data": {
      "text/html": [
       "<div>\n",
       "<style scoped>\n",
       "    .dataframe tbody tr th:only-of-type {\n",
       "        vertical-align: middle;\n",
       "    }\n",
       "\n",
       "    .dataframe tbody tr th {\n",
       "        vertical-align: top;\n",
       "    }\n",
       "\n",
       "    .dataframe thead th {\n",
       "        text-align: right;\n",
       "    }\n",
       "</style>\n",
       "<table border=\"1\" class=\"dataframe\">\n",
       "  <thead>\n",
       "    <tr style=\"text-align: right;\">\n",
       "      <th></th>\n",
       "      <th>CUST_NUM</th>\n",
       "      <th>PROVINCE</th>\n",
       "      <th>REGION</th>\n",
       "      <th>EDUCATION</th>\n",
       "      <th>AGE</th>\n",
       "      <th>TENURE</th>\n",
       "      <th>BUSINESS_OWNER</th>\n",
       "      <th>DIGITAL_FLAG</th>\n",
       "      <th>INCOME_SOURCE</th>\n",
       "      <th>IDV_OR_ORG</th>\n",
       "      <th>SEGMENT</th>\n",
       "      <th>SUBSEGMENT</th>\n",
       "      <th>GENDER</th>\n",
       "      <th>MARITAL_STATUS</th>\n",
       "    </tr>\n",
       "  </thead>\n",
       "  <tbody>\n",
       "    <tr>\n",
       "      <th>0</th>\n",
       "      <td>11712.654012</td>\n",
       "      <td>BENGUET</td>\n",
       "      <td>CORDILLERA ADMINISTRATIVE REGION (CAR)</td>\n",
       "      <td>NO_DATA</td>\n",
       "      <td>20.0</td>\n",
       "      <td>1.833333</td>\n",
       "      <td>N</td>\n",
       "      <td>DIGITAL</td>\n",
       "      <td>ALLOWANCE</td>\n",
       "      <td>1</td>\n",
       "      <td>3</td>\n",
       "      <td>CORE MASS</td>\n",
       "      <td>MALE</td>\n",
       "      <td>SINGLE</td>\n",
       "    </tr>\n",
       "    <tr>\n",
       "      <th>1</th>\n",
       "      <td>436.605085</td>\n",
       "      <td>BENGUET</td>\n",
       "      <td>CORDILLERA ADMINISTRATIVE REGION (CAR)</td>\n",
       "      <td>NO_DATA</td>\n",
       "      <td>21.0</td>\n",
       "      <td>4.250000</td>\n",
       "      <td>N</td>\n",
       "      <td>NO_DATA</td>\n",
       "      <td>SALARY</td>\n",
       "      <td>1</td>\n",
       "      <td>3</td>\n",
       "      <td>CORE MASS</td>\n",
       "      <td>FEMALE</td>\n",
       "      <td>SINGLE</td>\n",
       "    </tr>\n",
       "    <tr>\n",
       "      <th>2</th>\n",
       "      <td>921.989154</td>\n",
       "      <td>BENGUET</td>\n",
       "      <td>CORDILLERA ADMINISTRATIVE REGION (CAR)</td>\n",
       "      <td>NO_DATA</td>\n",
       "      <td>23.0</td>\n",
       "      <td>2.000000</td>\n",
       "      <td>N</td>\n",
       "      <td>TRADITIONAL</td>\n",
       "      <td>ALLOWANCE</td>\n",
       "      <td>1</td>\n",
       "      <td>3</td>\n",
       "      <td>CORE MASS</td>\n",
       "      <td>MALE</td>\n",
       "      <td>SINGLE</td>\n",
       "    </tr>\n",
       "    <tr>\n",
       "      <th>3</th>\n",
       "      <td>1119.634762</td>\n",
       "      <td>BENGUET</td>\n",
       "      <td>CORDILLERA ADMINISTRATIVE REGION (CAR)</td>\n",
       "      <td>LOW</td>\n",
       "      <td>13.0</td>\n",
       "      <td>5.583333</td>\n",
       "      <td>N</td>\n",
       "      <td>TRADITIONAL</td>\n",
       "      <td>ALLOWANCE</td>\n",
       "      <td>1</td>\n",
       "      <td>3</td>\n",
       "      <td>CORE MASS</td>\n",
       "      <td>MALE</td>\n",
       "      <td>SINGLE</td>\n",
       "    </tr>\n",
       "    <tr>\n",
       "      <th>4</th>\n",
       "      <td>1709.755538</td>\n",
       "      <td>BENGUET</td>\n",
       "      <td>CORDILLERA ADMINISTRATIVE REGION (CAR)</td>\n",
       "      <td>NO_DATA</td>\n",
       "      <td>20.0</td>\n",
       "      <td>1.250000</td>\n",
       "      <td>N</td>\n",
       "      <td>DIGITAL</td>\n",
       "      <td>SALARY</td>\n",
       "      <td>1</td>\n",
       "      <td>3</td>\n",
       "      <td>CORE MASS</td>\n",
       "      <td>FEMALE</td>\n",
       "      <td>SINGLE</td>\n",
       "    </tr>\n",
       "  </tbody>\n",
       "</table>\n",
       "</div>"
      ],
      "text/plain": [
       "       CUST_NUM PROVINCE                                  REGION EDUCATION  \\\n",
       "0  11712.654012  BENGUET  CORDILLERA ADMINISTRATIVE REGION (CAR)   NO_DATA   \n",
       "1    436.605085  BENGUET  CORDILLERA ADMINISTRATIVE REGION (CAR)   NO_DATA   \n",
       "2    921.989154  BENGUET  CORDILLERA ADMINISTRATIVE REGION (CAR)   NO_DATA   \n",
       "3   1119.634762  BENGUET  CORDILLERA ADMINISTRATIVE REGION (CAR)       LOW   \n",
       "4   1709.755538  BENGUET  CORDILLERA ADMINISTRATIVE REGION (CAR)   NO_DATA   \n",
       "\n",
       "    AGE    TENURE BUSINESS_OWNER DIGITAL_FLAG INCOME_SOURCE  IDV_OR_ORG  \\\n",
       "0  20.0  1.833333              N      DIGITAL     ALLOWANCE           1   \n",
       "1  21.0  4.250000              N      NO_DATA        SALARY           1   \n",
       "2  23.0  2.000000              N  TRADITIONAL     ALLOWANCE           1   \n",
       "3  13.0  5.583333              N  TRADITIONAL     ALLOWANCE           1   \n",
       "4  20.0  1.250000              N      DIGITAL        SALARY           1   \n",
       "\n",
       "   SEGMENT SUBSEGMENT  GENDER MARITAL_STATUS  \n",
       "0        3  CORE MASS    MALE         SINGLE  \n",
       "1        3  CORE MASS  FEMALE         SINGLE  \n",
       "2        3  CORE MASS    MALE         SINGLE  \n",
       "3        3  CORE MASS    MALE         SINGLE  \n",
       "4        3  CORE MASS  FEMALE         SINGLE  "
      ]
     },
     "execution_count": 2,
     "metadata": {},
     "output_type": "execute_result"
    }
   ],
   "source": [
    "customer_info_df = pd.read_excel('./data/dataset/CUSTOMER INFO_PJDSC.xlsx')\n",
    "customer_info_df.head()"
   ]
  },
  {
   "cell_type": "code",
   "execution_count": 10,
   "id": "276b0254-632f-4ff5-a440-060f4c958440",
   "metadata": {},
   "outputs": [],
   "source": [
    "customer_info_df.columns = [feat.lower() for feat in customer_info_df.columns]"
   ]
  },
  {
   "cell_type": "code",
   "execution_count": 12,
   "id": "6e60b3a3-9c16-4a36-bb22-38929bc7f7f4",
   "metadata": {},
   "outputs": [
    {
     "data": {
      "text/plain": [
       "cust_num          46148\n",
       "province             45\n",
       "region               14\n",
       "education             4\n",
       "age                 106\n",
       "tenure              307\n",
       "business_owner        2\n",
       "digital_flag          3\n",
       "income_source        12\n",
       "gender                3\n",
       "marital_status        6\n",
       "dtype: int64"
      ]
     },
     "execution_count": 12,
     "metadata": {},
     "output_type": "execute_result"
    }
   ],
   "source": [
    "customer_info_df.nunique()"
   ]
  },
  {
   "cell_type": "code",
   "execution_count": 4,
   "id": "a606739f-b52b-497b-bff3-1de4a424d74e",
   "metadata": {},
   "outputs": [],
   "source": [
    "customer_info_df.drop(labels=['IDV_OR_ORG', 'SEGMENT', 'SUBSEGMENT'], axis=1, inplace=True)"
   ]
  },
  {
   "cell_type": "code",
   "execution_count": 13,
   "id": "303644bc-69f6-4ad2-906f-e90f171c5b14",
   "metadata": {},
   "outputs": [
    {
     "data": {
      "text/plain": [
       "(138444, 11)"
      ]
     },
     "execution_count": 13,
     "metadata": {},
     "output_type": "execute_result"
    }
   ],
   "source": [
    "customer_info_df.shape"
   ]
  },
  {
   "cell_type": "markdown",
   "id": "54f51466-96cd-42cb-854c-a8a899931228",
   "metadata": {},
   "source": [
    "It is worth-noting that the `CUST_NUM` feature is not unique to all 138444 customers."
   ]
  },
  {
   "cell_type": "code",
   "execution_count": 14,
   "id": "3e925ede-50b4-4078-89c9-45767ed6a17d",
   "metadata": {},
   "outputs": [
    {
     "data": {
      "text/plain": [
       "cust_num           0\n",
       "province           0\n",
       "region             0\n",
       "education          0\n",
       "age               66\n",
       "tenure             0\n",
       "business_owner     0\n",
       "digital_flag       0\n",
       "income_source      0\n",
       "gender             0\n",
       "marital_status     0\n",
       "dtype: int64"
      ]
     },
     "execution_count": 14,
     "metadata": {},
     "output_type": "execute_result"
    }
   ],
   "source": [
    "customer_info_df.isna().sum()"
   ]
  },
  {
   "cell_type": "code",
   "execution_count": 19,
   "id": "b3cc5019-4b99-4e40-aa9f-40e1f5b9ada9",
   "metadata": {},
   "outputs": [
    {
     "name": "stdout",
     "output_type": "stream",
     "text": [
      "cust_num: float64\n",
      "province: object\n",
      "region: object\n",
      "education: object\n",
      "age: float64\n",
      "tenure: float64\n",
      "business_owner: object\n",
      "digital_flag: object\n",
      "income_source: object\n",
      "gender: object\n",
      "marital_status: object\n"
     ]
    }
   ],
   "source": [
    "for feats in customer_info_df.columns:\n",
    "    print(f'{feats}: {customer_info_df[feats].dtype}')"
   ]
  },
  {
   "cell_type": "markdown",
   "id": "dc106cd0-8e1d-4272-932b-93e39f148d2b",
   "metadata": {},
   "source": [
    "## Categorical Feature Encoding"
   ]
  },
  {
   "cell_type": "code",
   "execution_count": 29,
   "id": "8c976cc5-e459-4804-bef5-fbd32f94cad6",
   "metadata": {},
   "outputs": [],
   "source": [
    "business_owner_mapping = {'Y': 1, 'N': 0}\n",
    "customer_info_df.business_owner = customer_info_df.business_owner.map(business_owner_mapping)"
   ]
  },
  {
   "cell_type": "markdown",
   "id": "d3a16595-8233-45c2-8b57-05a189bc4337",
   "metadata": {},
   "source": [
    "## Preliminary Analysis"
   ]
  },
  {
   "cell_type": "markdown",
   "id": "5e3e5612-537e-4f90-9d5c-98e3e7789802",
   "metadata": {},
   "source": [
    "### Province"
   ]
  },
  {
   "cell_type": "code",
   "execution_count": 64,
   "id": "7971d42d-123e-46d3-9058-bb1148ecb11d",
   "metadata": {
    "scrolled": true
   },
   "outputs": [
    {
     "data": {
      "text/plain": [
       "province\n",
       "NEGROS OCCIDENTAL                 13488\n",
       "MISAMIS ORIENTAL                   9783\n",
       "PANGASINAN                         8841\n",
       "BENGUET                            8214\n",
       "ZAMBALES                           5742\n",
       "ZAMBOANGA DEL SUR                  5310\n",
       "SOUTH COTABATO                     5262\n",
       "NEGROS ORIENTAL                    5034\n",
       "LEYTE                              4845\n",
       "NUEVA ECIJA                        4836\n",
       "BOHOL                              4206\n",
       "CAMARINES SUR                      4044\n",
       "TARLAC                             4020\n",
       "ISABELA                            3792\n",
       "ALBAY                              3546\n",
       "LA UNION                           3462\n",
       "DAVAO DEL NORTE                    3432\n",
       "ILOCOS NORTE                       3363\n",
       "CAGAYAN                            3111\n",
       "AKLAN                              3102\n",
       "BATAAN                             2727\n",
       "CAPIZ                              2634\n",
       "LANAO DEL NORTE                    2460\n",
       "PALAWAN                            2397\n",
       "AGUSAN DEL NORTE                   2364\n",
       "BUKIDNON                           2319\n",
       "ILOCOS SUR                         1893\n",
       "MISAMIS OCCIDENTAL                 1497\n",
       "ZAMBOANGA DEL NORTE                1320\n",
       "ANTIQUE                            1284\n",
       "COTABATO (NORTH COTABATO)          1191\n",
       "NUEVA VIZCAYA                      1119\n",
       "CAMARINES NORTE                    1098\n",
       "SURIGAO DEL NORTE                  1068\n",
       "ORIENTAL MINDORO                   1044\n",
       "COTABATO CITY (NOT A PROVINCE)     1017\n",
       "SORSOGON                            945\n",
       "SULTAN KUDARAT                      462\n",
       "DAVAO ORIENTAL                      453\n",
       "AGUSAN DEL SUR                      402\n",
       "SOUTHERN LEYTE                      402\n",
       "NORTHERN SAMAR                      351\n",
       "SURIGAO DEL SUR                     309\n",
       "SAMAR (WESTERN SAMAR)               246\n",
       "OCCIDENTAL MINDORO                    9\n",
       "Name: count, dtype: int64"
      ]
     },
     "execution_count": 64,
     "metadata": {},
     "output_type": "execute_result"
    }
   ],
   "source": [
    "customer_info_df['province'].value_counts()"
   ]
  },
  {
   "cell_type": "markdown",
   "id": "64903d47-05d3-494e-8482-857eeca712d0",
   "metadata": {},
   "source": [
    "### Region"
   ]
  },
  {
   "cell_type": "code",
   "execution_count": 63,
   "id": "99bef613-c9b3-40cd-a226-1009a5879957",
   "metadata": {
    "scrolled": true
   },
   "outputs": [
    {
     "data": {
      "text/plain": [
       "region\n",
       "REGION VI (WESTERN VISAYAS)               20508\n",
       "REGION I (ILOCOS REGION)                  17559\n",
       "REGION III (CENTRAL LUZON)                17325\n",
       "REGION X (NORTHERN MINDANAO)              16059\n",
       "REGION V (BICOL REGION)                    9633\n",
       "REGION VII (CENTRAL VISAYAS)               9240\n",
       "CORDILLERA ADMINISTRATIVE REGION (CAR)     8214\n",
       "REGION II (CAGAYAN VALLEY)                 8022\n",
       "REGION XII (SOCCSKSARGEN)                  7932\n",
       "REGION IX (ZAMBOANGA PENINSULA)            6630\n",
       "REGION VIII (EASTERN VISAYAS)              5844\n",
       "REGION XIII (CARAGA)                       4143\n",
       "REGION XI (DAVAO REGION)                   3885\n",
       "MIMAROPA REGION                            3450\n",
       "Name: count, dtype: int64"
      ]
     },
     "execution_count": 63,
     "metadata": {},
     "output_type": "execute_result"
    }
   ],
   "source": [
    "customer_info_df['region'].value_counts()"
   ]
  },
  {
   "cell_type": "code",
   "execution_count": 62,
   "id": "5282aa1b-ff20-4b42-8646-fb6b0c863ace",
   "metadata": {
    "scrolled": true
   },
   "outputs": [
    {
     "data": {
      "text/plain": [
       "education\n",
       "MID        63396\n",
       "NO_DATA    39690\n",
       "LOW        32748\n",
       "HIGH        2610\n",
       "Name: count, dtype: int64"
      ]
     },
     "execution_count": 62,
     "metadata": {},
     "output_type": "execute_result"
    }
   ],
   "source": [
    "customer_info_df['education'].value_counts()"
   ]
  },
  {
   "cell_type": "markdown",
   "id": "41f12803-4ff8-4fc5-9fdb-3587100403e3",
   "metadata": {},
   "source": [
    "As we can see from the count, we might need to impute the missing values for the `education` feature."
   ]
  },
  {
   "cell_type": "markdown",
   "id": "3498563b-bf2e-4f50-8d1d-f72f5652fd65",
   "metadata": {},
   "source": [
    "### Age"
   ]
  },
  {
   "cell_type": "code",
   "execution_count": 65,
   "id": "6c9cd2be-0b0a-4e39-b880-c16b3d5c99ae",
   "metadata": {},
   "outputs": [
    {
     "data": {
      "text/plain": [
       "age\n",
       "27.0     5499\n",
       "28.0     5481\n",
       "26.0     5391\n",
       "29.0     5310\n",
       "30.0     5088\n",
       "         ... \n",
       "1.0         3\n",
       "104.0       3\n",
       "4.0         3\n",
       "108.0       3\n",
       "3.0         3\n",
       "Name: count, Length: 106, dtype: int64"
      ]
     },
     "execution_count": 65,
     "metadata": {},
     "output_type": "execute_result"
    }
   ],
   "source": [
    "customer_info_df['age'].value_counts()"
   ]
  },
  {
   "cell_type": "code",
   "execution_count": 42,
   "id": "c4b8e684-897d-48a0-85a3-521ec2d4cc7f",
   "metadata": {},
   "outputs": [
    {
     "data": {
      "image/png": "[encoded data removed]",
      "text/plain": [
       "<Figure size 640x480 with 1 Axes>"
      ]
     },
     "metadata": {},
     "output_type": "display_data"
    }
   ],
   "source": [
    "customer_info_df['age'].hist()\n",
    "plt.title('Age Count')\n",
    "plt.xlabel('Age')\n",
    "plt.ylabel('Count')\n",
    "plt.show()"
   ]
  },
  {
   "cell_type": "code",
   "execution_count": 66,
   "id": "a2b62366-59e2-4de7-abdb-07147d17f99e",
   "metadata": {},
   "outputs": [
    {
     "data": {
      "text/plain": [
       "tenure\n",
       "0.916667     1833\n",
       "0.333333     1797\n",
       "0.833333     1785\n",
       "0.750000     1773\n",
       "0.666667     1755\n",
       "             ... \n",
       "27.000000       3\n",
       "25.833333       3\n",
       "26.583333       3\n",
       "26.916667       3\n",
       "23.083333       3\n",
       "Name: count, Length: 307, dtype: int64"
      ]
     },
     "execution_count": 66,
     "metadata": {},
     "output_type": "execute_result"
    }
   ],
   "source": [
    "customer_info_df['tenure'].value_counts()"
   ]
  },
  {
   "cell_type": "markdown",
   "id": "6ff1b9ec-0c6e-41e7-a7bc-7c1630756937",
   "metadata": {},
   "source": [
    "### Business Owner"
   ]
  },
  {
   "cell_type": "code",
   "execution_count": 68,
   "id": "5824452d-9666-496c-a495-e6af8786dea7",
   "metadata": {},
   "outputs": [
    {
     "data": {
      "text/plain": [
       "business_owner\n",
       "0    131553\n",
       "1      6891\n",
       "Name: count, dtype: int64"
      ]
     },
     "execution_count": 68,
     "metadata": {},
     "output_type": "execute_result"
    }
   ],
   "source": [
    "customer_info_df['business_owner'].value_counts()"
   ]
  },
  {
   "cell_type": "markdown",
   "id": "71444c12-0c47-470a-8c5b-fc83de89f384",
   "metadata": {},
   "source": [
    "### Digital Flag"
   ]
  },
  {
   "cell_type": "code",
   "execution_count": 69,
   "id": "d288f64c-2a5f-4ea4-9065-1c514f166866",
   "metadata": {},
   "outputs": [
    {
     "data": {
      "text/plain": [
       "digital_flag\n",
       "TRADITIONAL    64695\n",
       "NO_DATA        41775\n",
       "DIGITAL        31974\n",
       "Name: count, dtype: int64"
      ]
     },
     "execution_count": 69,
     "metadata": {},
     "output_type": "execute_result"
    }
   ],
   "source": [
    "customer_info_df['digital_flag'].value_counts()"
   ]
  },
  {
   "cell_type": "markdown",
   "id": "2119b084-4212-46f3-9756-5e058246ee84",
   "metadata": {},
   "source": [
    "### Income Source"
   ]
  },
  {
   "cell_type": "code",
   "execution_count": 72,
   "id": "fc3de649-86ff-464c-95bb-88e13f95236a",
   "metadata": {},
   "outputs": [
    {
     "data": {
      "text/plain": [
       "income_source\n",
       "SALARY                                     84531\n",
       "ALLOWANCE                                  18357\n",
       "PENSION                                    11055\n",
       "REMITTANCE                                 10581\n",
       "BUSINESS                                    7818\n",
       "OTHER_SOURCES_NOT_SPECIFIED                 2181\n",
       "NO_DATA                                     1830\n",
       "COMMISSION                                  1533\n",
       "ECONOMICALLY_INACTIVE                        300\n",
       "INTEREST_SAVINGS_PLACEMENTS_INVESTMENTS      234\n",
       "DONATION                                      21\n",
       "CAMPAIGN_FUND                                  3\n",
       "Name: count, dtype: int64"
      ]
     },
     "execution_count": 72,
     "metadata": {},
     "output_type": "execute_result"
    }
   ],
   "source": [
    "customer_info_df['income_source'].value_counts()"
   ]
  },
  {
   "cell_type": "markdown",
   "id": "c7602126-009f-4415-9597-abd289383bfd",
   "metadata": {},
   "source": [
    "### Gender"
   ]
  },
  {
   "cell_type": "code",
   "execution_count": 70,
   "id": "35d39ec7-859a-4031-b762-ba94f0a43e8a",
   "metadata": {},
   "outputs": [
    {
     "data": {
      "text/plain": [
       "gender\n",
       "FEMALE    80298\n",
       "MALE      55380\n",
       "OTHERS     2766\n",
       "Name: count, dtype: int64"
      ]
     },
     "execution_count": 70,
     "metadata": {},
     "output_type": "execute_result"
    }
   ],
   "source": [
    "customer_info_df['gender'].value_counts()"
   ]
  },
  {
   "cell_type": "markdown",
   "id": "ee4307bb-83dd-44ad-879a-9b5ebce8beb9",
   "metadata": {},
   "source": [
    "Note: Di ko nagagawang graph. Basta mas maraming babae ang gumagamit."
   ]
  },
  {
   "cell_type": "markdown",
   "id": "d7537864-e77c-4cde-9a7a-e079df9cb264",
   "metadata": {},
   "source": [
    "### Marital Status"
   ]
  },
  {
   "cell_type": "code",
   "execution_count": 73,
   "id": "58f7146f-9da4-408d-83fa-a582ebc445ef",
   "metadata": {},
   "outputs": [
    {
     "data": {
      "text/plain": [
       "marital_status\n",
       "SINGLE       80310\n",
       "MARRIED      48459\n",
       "WIDOWED       4149\n",
       "DIVORCED      2769\n",
       "SEPARATED     1395\n",
       "OTHERS        1362\n",
       "Name: count, dtype: int64"
      ]
     },
     "execution_count": 73,
     "metadata": {},
     "output_type": "execute_result"
    }
   ],
   "source": [
    "customer_info_df['marital_status'].value_counts()"
   ]
  },
  {
   "cell_type": "markdown",
   "id": "3c910a36-ee6d-407d-b88b-a32c834da42e",
   "metadata": {},
   "source": [
    "Add correlation matrix dito."
   ]
  },
  {
   "cell_type": "code",
   "execution_count": 67,
   "id": "4c9e7f93-9981-45db-b563-195362375d4f",
   "metadata": {},
   "outputs": [
    {
     "ename": "ValueError",
     "evalue": "could not convert string to float: 'BENGUET'",
     "output_type": "error",
     "traceback": [
      "\u001b[1;31m---------------------------------------------------------------------------\u001b[0m",
      "\u001b[1;31mValueError\u001b[0m                                Traceback (most recent call last)",
      "Cell \u001b[1;32mIn[67], line 1\u001b[0m\n\u001b[1;32m----> 1\u001b[0m \u001b[43mcustomer_info_df\u001b[49m\u001b[38;5;241;43m.\u001b[39;49m\u001b[43mcorr\u001b[49m\u001b[43m(\u001b[49m\u001b[43m)\u001b[49m\n",
      "File \u001b[1;32m~\\AppData\\Local\\Programs\\Python\\Python311\\Lib\\site-packages\\pandas\\core\\frame.py:10054\u001b[0m, in \u001b[0;36mDataFrame.corr\u001b[1;34m(self, method, min_periods, numeric_only)\u001b[0m\n\u001b[0;32m  10052\u001b[0m cols \u001b[38;5;241m=\u001b[39m data\u001b[38;5;241m.\u001b[39mcolumns\n\u001b[0;32m  10053\u001b[0m idx \u001b[38;5;241m=\u001b[39m cols\u001b[38;5;241m.\u001b[39mcopy()\n\u001b[1;32m> 10054\u001b[0m mat \u001b[38;5;241m=\u001b[39m \u001b[43mdata\u001b[49m\u001b[38;5;241;43m.\u001b[39;49m\u001b[43mto_numpy\u001b[49m\u001b[43m(\u001b[49m\u001b[43mdtype\u001b[49m\u001b[38;5;241;43m=\u001b[39;49m\u001b[38;5;28;43mfloat\u001b[39;49m\u001b[43m,\u001b[49m\u001b[43m \u001b[49m\u001b[43mna_value\u001b[49m\u001b[38;5;241;43m=\u001b[39;49m\u001b[43mnp\u001b[49m\u001b[38;5;241;43m.\u001b[39;49m\u001b[43mnan\u001b[49m\u001b[43m,\u001b[49m\u001b[43m \u001b[49m\u001b[43mcopy\u001b[49m\u001b[38;5;241;43m=\u001b[39;49m\u001b[38;5;28;43;01mFalse\u001b[39;49;00m\u001b[43m)\u001b[49m\n\u001b[0;32m  10056\u001b[0m \u001b[38;5;28;01mif\u001b[39;00m method \u001b[38;5;241m==\u001b[39m \u001b[38;5;124m\"\u001b[39m\u001b[38;5;124mpearson\u001b[39m\u001b[38;5;124m\"\u001b[39m:\n\u001b[0;32m  10057\u001b[0m     correl \u001b[38;5;241m=\u001b[39m libalgos\u001b[38;5;241m.\u001b[39mnancorr(mat, minp\u001b[38;5;241m=\u001b[39mmin_periods)\n",
      "File \u001b[1;32m~\\AppData\\Local\\Programs\\Python\\Python311\\Lib\\site-packages\\pandas\\core\\frame.py:1838\u001b[0m, in \u001b[0;36mDataFrame.to_numpy\u001b[1;34m(self, dtype, copy, na_value)\u001b[0m\n\u001b[0;32m   1836\u001b[0m \u001b[38;5;28;01mif\u001b[39;00m dtype \u001b[38;5;129;01mis\u001b[39;00m \u001b[38;5;129;01mnot\u001b[39;00m \u001b[38;5;28;01mNone\u001b[39;00m:\n\u001b[0;32m   1837\u001b[0m     dtype \u001b[38;5;241m=\u001b[39m np\u001b[38;5;241m.\u001b[39mdtype(dtype)\n\u001b[1;32m-> 1838\u001b[0m result \u001b[38;5;241m=\u001b[39m \u001b[38;5;28;43mself\u001b[39;49m\u001b[38;5;241;43m.\u001b[39;49m\u001b[43m_mgr\u001b[49m\u001b[38;5;241;43m.\u001b[39;49m\u001b[43mas_array\u001b[49m\u001b[43m(\u001b[49m\u001b[43mdtype\u001b[49m\u001b[38;5;241;43m=\u001b[39;49m\u001b[43mdtype\u001b[49m\u001b[43m,\u001b[49m\u001b[43m \u001b[49m\u001b[43mcopy\u001b[49m\u001b[38;5;241;43m=\u001b[39;49m\u001b[43mcopy\u001b[49m\u001b[43m,\u001b[49m\u001b[43m \u001b[49m\u001b[43mna_value\u001b[49m\u001b[38;5;241;43m=\u001b[39;49m\u001b[43mna_value\u001b[49m\u001b[43m)\u001b[49m\n\u001b[0;32m   1839\u001b[0m \u001b[38;5;28;01mif\u001b[39;00m result\u001b[38;5;241m.\u001b[39mdtype \u001b[38;5;129;01mis\u001b[39;00m \u001b[38;5;129;01mnot\u001b[39;00m dtype:\n\u001b[0;32m   1840\u001b[0m     result \u001b[38;5;241m=\u001b[39m np\u001b[38;5;241m.\u001b[39marray(result, dtype\u001b[38;5;241m=\u001b[39mdtype, copy\u001b[38;5;241m=\u001b[39m\u001b[38;5;28;01mFalse\u001b[39;00m)\n",
      "File \u001b[1;32m~\\AppData\\Local\\Programs\\Python\\Python311\\Lib\\site-packages\\pandas\\core\\internals\\managers.py:1732\u001b[0m, in \u001b[0;36mBlockManager.as_array\u001b[1;34m(self, dtype, copy, na_value)\u001b[0m\n\u001b[0;32m   1730\u001b[0m         arr\u001b[38;5;241m.\u001b[39mflags\u001b[38;5;241m.\u001b[39mwriteable \u001b[38;5;241m=\u001b[39m \u001b[38;5;28;01mFalse\u001b[39;00m\n\u001b[0;32m   1731\u001b[0m \u001b[38;5;28;01melse\u001b[39;00m:\n\u001b[1;32m-> 1732\u001b[0m     arr \u001b[38;5;241m=\u001b[39m \u001b[38;5;28;43mself\u001b[39;49m\u001b[38;5;241;43m.\u001b[39;49m\u001b[43m_interleave\u001b[49m\u001b[43m(\u001b[49m\u001b[43mdtype\u001b[49m\u001b[38;5;241;43m=\u001b[39;49m\u001b[43mdtype\u001b[49m\u001b[43m,\u001b[49m\u001b[43m \u001b[49m\u001b[43mna_value\u001b[49m\u001b[38;5;241;43m=\u001b[39;49m\u001b[43mna_value\u001b[49m\u001b[43m)\u001b[49m\n\u001b[0;32m   1733\u001b[0m     \u001b[38;5;66;03m# The underlying data was copied within _interleave, so no need\u001b[39;00m\n\u001b[0;32m   1734\u001b[0m     \u001b[38;5;66;03m# to further copy if copy=True or setting na_value\u001b[39;00m\n\u001b[0;32m   1736\u001b[0m \u001b[38;5;28;01mif\u001b[39;00m na_value \u001b[38;5;129;01mis\u001b[39;00m \u001b[38;5;129;01mnot\u001b[39;00m lib\u001b[38;5;241m.\u001b[39mno_default:\n",
      "File \u001b[1;32m~\\AppData\\Local\\Programs\\Python\\Python311\\Lib\\site-packages\\pandas\\core\\internals\\managers.py:1794\u001b[0m, in \u001b[0;36mBlockManager._interleave\u001b[1;34m(self, dtype, na_value)\u001b[0m\n\u001b[0;32m   1792\u001b[0m     \u001b[38;5;28;01melse\u001b[39;00m:\n\u001b[0;32m   1793\u001b[0m         arr \u001b[38;5;241m=\u001b[39m blk\u001b[38;5;241m.\u001b[39mget_values(dtype)\n\u001b[1;32m-> 1794\u001b[0m     \u001b[43mresult\u001b[49m\u001b[43m[\u001b[49m\u001b[43mrl\u001b[49m\u001b[38;5;241;43m.\u001b[39;49m\u001b[43mindexer\u001b[49m\u001b[43m]\u001b[49m \u001b[38;5;241m=\u001b[39m arr\n\u001b[0;32m   1795\u001b[0m     itemmask[rl\u001b[38;5;241m.\u001b[39mindexer] \u001b[38;5;241m=\u001b[39m \u001b[38;5;241m1\u001b[39m\n\u001b[0;32m   1797\u001b[0m \u001b[38;5;28;01mif\u001b[39;00m \u001b[38;5;129;01mnot\u001b[39;00m itemmask\u001b[38;5;241m.\u001b[39mall():\n",
      "\u001b[1;31mValueError\u001b[0m: could not convert string to float: 'BENGUET'"
     ]
    }
   ],
   "source": [
    "customer_info_df.corr()"
   ]
  },
  {
   "cell_type": "markdown",
   "id": "a23f0415-d6ff-4545-91ff-e5921cce22c5",
   "metadata": {},
   "source": [
    "Need nga imap lahat ng categorical variables para macorrelate."
   ]
  },
  {
   "cell_type": "code",
   "execution_count": null,
   "id": "c9f7bd4a-7bbb-45fa-b3d5-7d85a0f0b931",
   "metadata": {},
   "outputs": [],
   "source": []
  }
 ],
 "metadata": {
  "kernelspec": {
   "display_name": "Python 3 (ipykernel)",
   "language": "python",
   "name": "python3"
  },
  "language_info": {
   "codemirror_mode": {
    "name": "ipython",
    "version": 3
   },
   "file_extension": ".py",
   "mimetype": "text/x-python",
   "name": "python",
   "nbconvert_exporter": "python",
   "pygments_lexer": "ipython3",
   "version": "3.11.0"
  }
 },
 "nbformat": 4,
 "nbformat_minor": 5
}
