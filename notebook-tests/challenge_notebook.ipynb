{
 "cells": [
  {
   "cell_type": "code",
   "execution_count": 1,
   "id": "9d096de5-28db-46f3-a6bb-bab5b9210052",
   "metadata": {},
   "outputs": [],
   "source": [
    "import pandas as pd\n",
    "from matplotlib import pyplot as plt\n",
    "import numpy as np\n",
    "import seaborn as sns\n",
    "from scipy import stats"
   ]
  },
  {
   "cell_type": "markdown",
   "id": "1416a02d-9392-4561-b6da-42e9ca1827eb",
   "metadata": {},
   "source": [
    "# Customer Info"
   ]
  },
  {
   "cell_type": "code",
   "execution_count": 2,
   "id": "5685f2f3-6763-4163-930b-7a349e00c57b",
   "metadata": {},
   "outputs": [
    {
     "data": {
      "text/html": [
       "<div>\n",
       "<style scoped>\n",
       "    .dataframe tbody tr th:only-of-type {\n",
       "        vertical-align: middle;\n",
       "    }\n",
       "\n",
       "    .dataframe tbody tr th {\n",
       "        vertical-align: top;\n",
       "    }\n",
       "\n",
       "    .dataframe thead th {\n",
       "        text-align: right;\n",
       "    }\n",
       "</style>\n",
       "<table border=\"1\" class=\"dataframe\">\n",
       "  <thead>\n",
       "    <tr style=\"text-align: right;\">\n",
       "      <th></th>\n",
       "      <th>CUST_NUM</th>\n",
       "      <th>PROVINCE</th>\n",
       "      <th>REGION</th>\n",
       "      <th>EDUCATION</th>\n",
       "      <th>AGE</th>\n",
       "      <th>TENURE</th>\n",
       "      <th>BUSINESS_OWNER</th>\n",
       "      <th>DIGITAL_FLAG</th>\n",
       "      <th>INCOME_SOURCE</th>\n",
       "      <th>IDV_OR_ORG</th>\n",
       "      <th>SEGMENT</th>\n",
       "      <th>SUBSEGMENT</th>\n",
       "      <th>GENDER</th>\n",
       "      <th>MARITAL_STATUS</th>\n",
       "    </tr>\n",
       "  </thead>\n",
       "  <tbody>\n",
       "    <tr>\n",
       "      <th>0</th>\n",
       "      <td>11712.654012</td>\n",
       "      <td>BENGUET</td>\n",
       "      <td>CORDILLERA ADMINISTRATIVE REGION (CAR)</td>\n",
       "      <td>NO_DATA</td>\n",
       "      <td>20.0</td>\n",
       "      <td>1.833333</td>\n",
       "      <td>N</td>\n",
       "      <td>DIGITAL</td>\n",
       "      <td>ALLOWANCE</td>\n",
       "      <td>1</td>\n",
       "      <td>3</td>\n",
       "      <td>CORE MASS</td>\n",
       "      <td>MALE</td>\n",
       "      <td>SINGLE</td>\n",
       "    </tr>\n",
       "    <tr>\n",
       "      <th>1</th>\n",
       "      <td>436.605085</td>\n",
       "      <td>BENGUET</td>\n",
       "      <td>CORDILLERA ADMINISTRATIVE REGION (CAR)</td>\n",
       "      <td>NO_DATA</td>\n",
       "      <td>21.0</td>\n",
       "      <td>4.250000</td>\n",
       "      <td>N</td>\n",
       "      <td>NO_DATA</td>\n",
       "      <td>SALARY</td>\n",
       "      <td>1</td>\n",
       "      <td>3</td>\n",
       "      <td>CORE MASS</td>\n",
       "      <td>FEMALE</td>\n",
       "      <td>SINGLE</td>\n",
       "    </tr>\n",
       "    <tr>\n",
       "      <th>2</th>\n",
       "      <td>921.989154</td>\n",
       "      <td>BENGUET</td>\n",
       "      <td>CORDILLERA ADMINISTRATIVE REGION (CAR)</td>\n",
       "      <td>NO_DATA</td>\n",
       "      <td>23.0</td>\n",
       "      <td>2.000000</td>\n",
       "      <td>N</td>\n",
       "      <td>TRADITIONAL</td>\n",
       "      <td>ALLOWANCE</td>\n",
       "      <td>1</td>\n",
       "      <td>3</td>\n",
       "      <td>CORE MASS</td>\n",
       "      <td>MALE</td>\n",
       "      <td>SINGLE</td>\n",
       "    </tr>\n",
       "    <tr>\n",
       "      <th>3</th>\n",
       "      <td>1119.634762</td>\n",
       "      <td>BENGUET</td>\n",
       "      <td>CORDILLERA ADMINISTRATIVE REGION (CAR)</td>\n",
       "      <td>LOW</td>\n",
       "      <td>13.0</td>\n",
       "      <td>5.583333</td>\n",
       "      <td>N</td>\n",
       "      <td>TRADITIONAL</td>\n",
       "      <td>ALLOWANCE</td>\n",
       "      <td>1</td>\n",
       "      <td>3</td>\n",
       "      <td>CORE MASS</td>\n",
       "      <td>MALE</td>\n",
       "      <td>SINGLE</td>\n",
       "    </tr>\n",
       "    <tr>\n",
       "      <th>4</th>\n",
       "      <td>1709.755538</td>\n",
       "      <td>BENGUET</td>\n",
       "      <td>CORDILLERA ADMINISTRATIVE REGION (CAR)</td>\n",
       "      <td>NO_DATA</td>\n",
       "      <td>20.0</td>\n",
       "      <td>1.250000</td>\n",
       "      <td>N</td>\n",
       "      <td>DIGITAL</td>\n",
       "      <td>SALARY</td>\n",
       "      <td>1</td>\n",
       "      <td>3</td>\n",
       "      <td>CORE MASS</td>\n",
       "      <td>FEMALE</td>\n",
       "      <td>SINGLE</td>\n",
       "    </tr>\n",
       "  </tbody>\n",
       "</table>\n",
       "</div>"
      ],
      "text/plain": [
       "       CUST_NUM PROVINCE                                  REGION EDUCATION  \\\n",
       "0  11712.654012  BENGUET  CORDILLERA ADMINISTRATIVE REGION (CAR)   NO_DATA   \n",
       "1    436.605085  BENGUET  CORDILLERA ADMINISTRATIVE REGION (CAR)   NO_DATA   \n",
       "2    921.989154  BENGUET  CORDILLERA ADMINISTRATIVE REGION (CAR)   NO_DATA   \n",
       "3   1119.634762  BENGUET  CORDILLERA ADMINISTRATIVE REGION (CAR)       LOW   \n",
       "4   1709.755538  BENGUET  CORDILLERA ADMINISTRATIVE REGION (CAR)   NO_DATA   \n",
       "\n",
       "    AGE    TENURE BUSINESS_OWNER DIGITAL_FLAG INCOME_SOURCE  IDV_OR_ORG  \\\n",
       "0  20.0  1.833333              N      DIGITAL     ALLOWANCE           1   \n",
       "1  21.0  4.250000              N      NO_DATA        SALARY           1   \n",
       "2  23.0  2.000000              N  TRADITIONAL     ALLOWANCE           1   \n",
       "3  13.0  5.583333              N  TRADITIONAL     ALLOWANCE           1   \n",
       "4  20.0  1.250000              N      DIGITAL        SALARY           1   \n",
       "\n",
       "   SEGMENT SUBSEGMENT  GENDER MARITAL_STATUS  \n",
       "0        3  CORE MASS    MALE         SINGLE  \n",
       "1        3  CORE MASS  FEMALE         SINGLE  \n",
       "2        3  CORE MASS    MALE         SINGLE  \n",
       "3        3  CORE MASS    MALE         SINGLE  \n",
       "4        3  CORE MASS  FEMALE         SINGLE  "
      ]
     },
     "execution_count": 2,
     "metadata": {},
     "output_type": "execute_result"
    }
   ],
   "source": [
    "customer_info_df = pd.read_excel('./data/dataset/CUSTOMER INFO_PJDSC.xlsx')\n",
    "customer_info_df.head()"
   ]
  },
  {
   "cell_type": "code",
   "execution_count": 3,
   "id": "303644bc-69f6-4ad2-906f-e90f171c5b14",
   "metadata": {},
   "outputs": [
    {
     "data": {
      "text/plain": [
       "(138444, 14)"
      ]
     },
     "execution_count": 3,
     "metadata": {},
     "output_type": "execute_result"
    }
   ],
   "source": [
    "customer_info_df.shape"
   ]
  },
  {
   "cell_type": "code",
   "execution_count": 4,
   "id": "1fcae462-c50e-4e97-8c47-800177010dd4",
   "metadata": {},
   "outputs": [
    {
     "data": {
      "text/html": [
       "<div>\n",
       "<style scoped>\n",
       "    .dataframe tbody tr th:only-of-type {\n",
       "        vertical-align: middle;\n",
       "    }\n",
       "\n",
       "    .dataframe tbody tr th {\n",
       "        vertical-align: top;\n",
       "    }\n",
       "\n",
       "    .dataframe thead th {\n",
       "        text-align: right;\n",
       "    }\n",
       "</style>\n",
       "<table border=\"1\" class=\"dataframe\">\n",
       "  <thead>\n",
       "    <tr style=\"text-align: right;\">\n",
       "      <th></th>\n",
       "      <th>CUST_NUM</th>\n",
       "      <th>PROVINCE</th>\n",
       "      <th>REGION</th>\n",
       "      <th>EDUCATION</th>\n",
       "      <th>AGE</th>\n",
       "      <th>TENURE</th>\n",
       "      <th>BUSINESS_OWNER</th>\n",
       "      <th>DIGITAL_FLAG</th>\n",
       "      <th>INCOME_SOURCE</th>\n",
       "      <th>IDV_OR_ORG</th>\n",
       "      <th>SEGMENT</th>\n",
       "      <th>SUBSEGMENT</th>\n",
       "      <th>GENDER</th>\n",
       "      <th>MARITAL_STATUS</th>\n",
       "    </tr>\n",
       "  </thead>\n",
       "  <tbody>\n",
       "    <tr>\n",
       "      <th>count</th>\n",
       "      <td>138444.000000</td>\n",
       "      <td>138444</td>\n",
       "      <td>138444</td>\n",
       "      <td>138444</td>\n",
       "      <td>138378.000000</td>\n",
       "      <td>138444.000000</td>\n",
       "      <td>138444</td>\n",
       "      <td>138444</td>\n",
       "      <td>138444</td>\n",
       "      <td>138444.0</td>\n",
       "      <td>138444.0</td>\n",
       "      <td>138444</td>\n",
       "      <td>138444</td>\n",
       "      <td>138444</td>\n",
       "    </tr>\n",
       "    <tr>\n",
       "      <th>unique</th>\n",
       "      <td>NaN</td>\n",
       "      <td>45</td>\n",
       "      <td>14</td>\n",
       "      <td>4</td>\n",
       "      <td>NaN</td>\n",
       "      <td>NaN</td>\n",
       "      <td>2</td>\n",
       "      <td>3</td>\n",
       "      <td>12</td>\n",
       "      <td>NaN</td>\n",
       "      <td>NaN</td>\n",
       "      <td>1</td>\n",
       "      <td>3</td>\n",
       "      <td>6</td>\n",
       "    </tr>\n",
       "    <tr>\n",
       "      <th>top</th>\n",
       "      <td>NaN</td>\n",
       "      <td>NEGROS OCCIDENTAL</td>\n",
       "      <td>REGION VI (WESTERN VISAYAS)</td>\n",
       "      <td>MID</td>\n",
       "      <td>NaN</td>\n",
       "      <td>NaN</td>\n",
       "      <td>N</td>\n",
       "      <td>TRADITIONAL</td>\n",
       "      <td>SALARY</td>\n",
       "      <td>NaN</td>\n",
       "      <td>NaN</td>\n",
       "      <td>CORE MASS</td>\n",
       "      <td>FEMALE</td>\n",
       "      <td>SINGLE</td>\n",
       "    </tr>\n",
       "    <tr>\n",
       "      <th>freq</th>\n",
       "      <td>NaN</td>\n",
       "      <td>13488</td>\n",
       "      <td>20508</td>\n",
       "      <td>63396</td>\n",
       "      <td>NaN</td>\n",
       "      <td>NaN</td>\n",
       "      <td>131553</td>\n",
       "      <td>64695</td>\n",
       "      <td>84531</td>\n",
       "      <td>NaN</td>\n",
       "      <td>NaN</td>\n",
       "      <td>138444</td>\n",
       "      <td>80298</td>\n",
       "      <td>80310</td>\n",
       "    </tr>\n",
       "    <tr>\n",
       "      <th>mean</th>\n",
       "      <td>9424.785491</td>\n",
       "      <td>NaN</td>\n",
       "      <td>NaN</td>\n",
       "      <td>NaN</td>\n",
       "      <td>40.255496</td>\n",
       "      <td>6.280592</td>\n",
       "      <td>NaN</td>\n",
       "      <td>NaN</td>\n",
       "      <td>NaN</td>\n",
       "      <td>1.0</td>\n",
       "      <td>3.0</td>\n",
       "      <td>NaN</td>\n",
       "      <td>NaN</td>\n",
       "      <td>NaN</td>\n",
       "    </tr>\n",
       "    <tr>\n",
       "      <th>std</th>\n",
       "      <td>3337.146487</td>\n",
       "      <td>NaN</td>\n",
       "      <td>NaN</td>\n",
       "      <td>NaN</td>\n",
       "      <td>15.712651</td>\n",
       "      <td>5.241069</td>\n",
       "      <td>NaN</td>\n",
       "      <td>NaN</td>\n",
       "      <td>NaN</td>\n",
       "      <td>0.0</td>\n",
       "      <td>0.0</td>\n",
       "      <td>NaN</td>\n",
       "      <td>NaN</td>\n",
       "      <td>NaN</td>\n",
       "    </tr>\n",
       "    <tr>\n",
       "      <th>min</th>\n",
       "      <td>85.229103</td>\n",
       "      <td>NaN</td>\n",
       "      <td>NaN</td>\n",
       "      <td>NaN</td>\n",
       "      <td>1.000000</td>\n",
       "      <td>0.083333</td>\n",
       "      <td>NaN</td>\n",
       "      <td>NaN</td>\n",
       "      <td>NaN</td>\n",
       "      <td>1.0</td>\n",
       "      <td>3.0</td>\n",
       "      <td>NaN</td>\n",
       "      <td>NaN</td>\n",
       "      <td>NaN</td>\n",
       "    </tr>\n",
       "    <tr>\n",
       "      <th>25%</th>\n",
       "      <td>7064.942498</td>\n",
       "      <td>NaN</td>\n",
       "      <td>NaN</td>\n",
       "      <td>NaN</td>\n",
       "      <td>28.000000</td>\n",
       "      <td>2.166667</td>\n",
       "      <td>NaN</td>\n",
       "      <td>NaN</td>\n",
       "      <td>NaN</td>\n",
       "      <td>1.0</td>\n",
       "      <td>3.0</td>\n",
       "      <td>NaN</td>\n",
       "      <td>NaN</td>\n",
       "      <td>NaN</td>\n",
       "    </tr>\n",
       "    <tr>\n",
       "      <th>50%</th>\n",
       "      <td>10000.653129</td>\n",
       "      <td>NaN</td>\n",
       "      <td>NaN</td>\n",
       "      <td>NaN</td>\n",
       "      <td>36.000000</td>\n",
       "      <td>5.083333</td>\n",
       "      <td>NaN</td>\n",
       "      <td>NaN</td>\n",
       "      <td>NaN</td>\n",
       "      <td>1.0</td>\n",
       "      <td>3.0</td>\n",
       "      <td>NaN</td>\n",
       "      <td>NaN</td>\n",
       "      <td>NaN</td>\n",
       "    </tr>\n",
       "    <tr>\n",
       "      <th>75%</th>\n",
       "      <td>12247.160446</td>\n",
       "      <td>NaN</td>\n",
       "      <td>NaN</td>\n",
       "      <td>NaN</td>\n",
       "      <td>49.000000</td>\n",
       "      <td>9.000000</td>\n",
       "      <td>NaN</td>\n",
       "      <td>NaN</td>\n",
       "      <td>NaN</td>\n",
       "      <td>1.0</td>\n",
       "      <td>3.0</td>\n",
       "      <td>NaN</td>\n",
       "      <td>NaN</td>\n",
       "      <td>NaN</td>\n",
       "    </tr>\n",
       "    <tr>\n",
       "      <th>max</th>\n",
       "      <td>14141.980201</td>\n",
       "      <td>NaN</td>\n",
       "      <td>NaN</td>\n",
       "      <td>NaN</td>\n",
       "      <td>122.000000</td>\n",
       "      <td>30.416667</td>\n",
       "      <td>NaN</td>\n",
       "      <td>NaN</td>\n",
       "      <td>NaN</td>\n",
       "      <td>1.0</td>\n",
       "      <td>3.0</td>\n",
       "      <td>NaN</td>\n",
       "      <td>NaN</td>\n",
       "      <td>NaN</td>\n",
       "    </tr>\n",
       "  </tbody>\n",
       "</table>\n",
       "</div>"
      ],
      "text/plain": [
       "             CUST_NUM           PROVINCE                       REGION  \\\n",
       "count   138444.000000             138444                       138444   \n",
       "unique            NaN                 45                           14   \n",
       "top               NaN  NEGROS OCCIDENTAL  REGION VI (WESTERN VISAYAS)   \n",
       "freq              NaN              13488                        20508   \n",
       "mean      9424.785491                NaN                          NaN   \n",
       "std       3337.146487                NaN                          NaN   \n",
       "min         85.229103                NaN                          NaN   \n",
       "25%       7064.942498                NaN                          NaN   \n",
       "50%      10000.653129                NaN                          NaN   \n",
       "75%      12247.160446                NaN                          NaN   \n",
       "max      14141.980201                NaN                          NaN   \n",
       "\n",
       "       EDUCATION            AGE         TENURE BUSINESS_OWNER DIGITAL_FLAG  \\\n",
       "count     138444  138378.000000  138444.000000         138444       138444   \n",
       "unique         4            NaN            NaN              2            3   \n",
       "top          MID            NaN            NaN              N  TRADITIONAL   \n",
       "freq       63396            NaN            NaN         131553        64695   \n",
       "mean         NaN      40.255496       6.280592            NaN          NaN   \n",
       "std          NaN      15.712651       5.241069            NaN          NaN   \n",
       "min          NaN       1.000000       0.083333            NaN          NaN   \n",
       "25%          NaN      28.000000       2.166667            NaN          NaN   \n",
       "50%          NaN      36.000000       5.083333            NaN          NaN   \n",
       "75%          NaN      49.000000       9.000000            NaN          NaN   \n",
       "max          NaN     122.000000      30.416667            NaN          NaN   \n",
       "\n",
       "       INCOME_SOURCE  IDV_OR_ORG   SEGMENT SUBSEGMENT  GENDER MARITAL_STATUS  \n",
       "count         138444    138444.0  138444.0     138444  138444         138444  \n",
       "unique            12         NaN       NaN          1       3              6  \n",
       "top           SALARY         NaN       NaN  CORE MASS  FEMALE         SINGLE  \n",
       "freq           84531         NaN       NaN     138444   80298          80310  \n",
       "mean             NaN         1.0       3.0        NaN     NaN            NaN  \n",
       "std              NaN         0.0       0.0        NaN     NaN            NaN  \n",
       "min              NaN         1.0       3.0        NaN     NaN            NaN  \n",
       "25%              NaN         1.0       3.0        NaN     NaN            NaN  \n",
       "50%              NaN         1.0       3.0        NaN     NaN            NaN  \n",
       "75%              NaN         1.0       3.0        NaN     NaN            NaN  \n",
       "max              NaN         1.0       3.0        NaN     NaN            NaN  "
      ]
     },
     "execution_count": 4,
     "metadata": {},
     "output_type": "execute_result"
    }
   ],
   "source": [
    "customer_info_df.describe(include='all')"
   ]
  },
  {
   "cell_type": "code",
   "execution_count": 5,
   "id": "b9d60eda-f612-4487-a2a8-1055ac83ff78",
   "metadata": {},
   "outputs": [
    {
     "name": "stdout",
     "output_type": "stream",
     "text": [
      "<class 'pandas.core.frame.DataFrame'>\n",
      "RangeIndex: 138444 entries, 0 to 138443\n",
      "Data columns (total 14 columns):\n",
      " #   Column          Non-Null Count   Dtype  \n",
      "---  ------          --------------   -----  \n",
      " 0   CUST_NUM        138444 non-null  float64\n",
      " 1   PROVINCE        138444 non-null  object \n",
      " 2   REGION          138444 non-null  object \n",
      " 3   EDUCATION       138444 non-null  object \n",
      " 4   AGE             138378 non-null  float64\n",
      " 5   TENURE          138444 non-null  float64\n",
      " 6   BUSINESS_OWNER  138444 non-null  object \n",
      " 7   DIGITAL_FLAG    138444 non-null  object \n",
      " 8   INCOME_SOURCE   138444 non-null  object \n",
      " 9   IDV_OR_ORG      138444 non-null  int64  \n",
      " 10  SEGMENT         138444 non-null  int64  \n",
      " 11  SUBSEGMENT      138444 non-null  object \n",
      " 12  GENDER          138444 non-null  object \n",
      " 13  MARITAL_STATUS  138444 non-null  object \n",
      "dtypes: float64(3), int64(2), object(9)\n",
      "memory usage: 14.8+ MB\n"
     ]
    }
   ],
   "source": [
    "customer_info_df.info()"
   ]
  },
  {
   "cell_type": "markdown",
   "id": "0eda3687-436e-4e4c-b96f-e79a6a77f977",
   "metadata": {},
   "source": [
    "We check if there are `NULL` values on any feature."
   ]
  },
  {
   "cell_type": "markdown",
   "id": "9291e0b2-e989-4ce2-8ef9-a9c245097391",
   "metadata": {},
   "source": [
    "As we can see, the `age` feature contains `NULL` values but this doesn't mean that the other features won't contain `NULL` data."
   ]
  },
  {
   "cell_type": "code",
   "execution_count": 6,
   "id": "6e60b3a3-9c16-4a36-bb22-38929bc7f7f4",
   "metadata": {},
   "outputs": [
    {
     "data": {
      "text/plain": [
       "CUST_NUM          46148\n",
       "PROVINCE             45\n",
       "REGION               14\n",
       "EDUCATION             4\n",
       "AGE                 106\n",
       "TENURE              307\n",
       "BUSINESS_OWNER        2\n",
       "DIGITAL_FLAG          3\n",
       "INCOME_SOURCE        12\n",
       "IDV_OR_ORG            1\n",
       "SEGMENT               1\n",
       "SUBSEGMENT            1\n",
       "GENDER                3\n",
       "MARITAL_STATUS        6\n",
       "dtype: int64"
      ]
     },
     "execution_count": 6,
     "metadata": {},
     "output_type": "execute_result"
    }
   ],
   "source": [
    "customer_info_df.nunique()"
   ]
  },
  {
   "cell_type": "code",
   "execution_count": 7,
   "id": "a606739f-b52b-497b-bff3-1de4a424d74e",
   "metadata": {},
   "outputs": [],
   "source": [
    "customer_info_df.drop(labels=['IDV_OR_ORG', 'SEGMENT', 'SUBSEGMENT'], axis=1, inplace=True)"
   ]
  },
  {
   "cell_type": "markdown",
   "id": "933779d4-cb93-4610-a342-32594de08020",
   "metadata": {},
   "source": [
    "From here, we remove all features that only contains one value."
   ]
  },
  {
   "cell_type": "code",
   "execution_count": 8,
   "id": "262fdd22-3c48-4b47-94be-f1b072119bd2",
   "metadata": {},
   "outputs": [
    {
     "data": {
      "text/plain": [
       "CUST_NUM          46148\n",
       "PROVINCE             45\n",
       "REGION               14\n",
       "EDUCATION             4\n",
       "AGE                 106\n",
       "TENURE              307\n",
       "BUSINESS_OWNER        2\n",
       "DIGITAL_FLAG          3\n",
       "INCOME_SOURCE        12\n",
       "GENDER                3\n",
       "MARITAL_STATUS        6\n",
       "dtype: int64"
      ]
     },
     "execution_count": 8,
     "metadata": {},
     "output_type": "execute_result"
    }
   ],
   "source": [
    "customer_info_df.nunique()"
   ]
  },
  {
   "cell_type": "markdown",
   "id": "54f51466-96cd-42cb-854c-a8a899931228",
   "metadata": {},
   "source": [
    "It is worth-noting that the `CUST_NUM` feature is not unique to all 138444 customers."
   ]
  },
  {
   "cell_type": "markdown",
   "id": "d3a16595-8233-45c2-8b57-05a189bc4337",
   "metadata": {},
   "source": [
    "# Preliminary Analysis"
   ]
  },
  {
   "cell_type": "markdown",
   "id": "5e3e5612-537e-4f90-9d5c-98e3e7789802",
   "metadata": {
    "jp-MarkdownHeadingCollapsed": true
   },
   "source": [
    "### Province"
   ]
  },
  {
   "cell_type": "code",
   "execution_count": 10,
   "id": "7971d42d-123e-46d3-9058-bb1148ecb11d",
   "metadata": {},
   "outputs": [
    {
     "data": {
      "text/plain": [
       "PROVINCE\n",
       "NEGROS OCCIDENTAL                 13488\n",
       "MISAMIS ORIENTAL                   9783\n",
       "PANGASINAN                         8841\n",
       "BENGUET                            8214\n",
       "ZAMBALES                           5742\n",
       "ZAMBOANGA DEL SUR                  5310\n",
       "SOUTH COTABATO                     5262\n",
       "NEGROS ORIENTAL                    5034\n",
       "LEYTE                              4845\n",
       "NUEVA ECIJA                        4836\n",
       "BOHOL                              4206\n",
       "CAMARINES SUR                      4044\n",
       "TARLAC                             4020\n",
       "ISABELA                            3792\n",
       "ALBAY                              3546\n",
       "LA UNION                           3462\n",
       "DAVAO DEL NORTE                    3432\n",
       "ILOCOS NORTE                       3363\n",
       "CAGAYAN                            3111\n",
       "AKLAN                              3102\n",
       "BATAAN                             2727\n",
       "CAPIZ                              2634\n",
       "LANAO DEL NORTE                    2460\n",
       "PALAWAN                            2397\n",
       "AGUSAN DEL NORTE                   2364\n",
       "BUKIDNON                           2319\n",
       "ILOCOS SUR                         1893\n",
       "MISAMIS OCCIDENTAL                 1497\n",
       "ZAMBOANGA DEL NORTE                1320\n",
       "ANTIQUE                            1284\n",
       "COTABATO (NORTH COTABATO)          1191\n",
       "NUEVA VIZCAYA                      1119\n",
       "CAMARINES NORTE                    1098\n",
       "SURIGAO DEL NORTE                  1068\n",
       "ORIENTAL MINDORO                   1044\n",
       "COTABATO CITY (NOT A PROVINCE)     1017\n",
       "SORSOGON                            945\n",
       "SULTAN KUDARAT                      462\n",
       "DAVAO ORIENTAL                      453\n",
       "AGUSAN DEL SUR                      402\n",
       "SOUTHERN LEYTE                      402\n",
       "NORTHERN SAMAR                      351\n",
       "SURIGAO DEL SUR                     309\n",
       "SAMAR (WESTERN SAMAR)               246\n",
       "OCCIDENTAL MINDORO                    9\n",
       "Name: count, dtype: int64"
      ]
     },
     "execution_count": 10,
     "metadata": {},
     "output_type": "execute_result"
    }
   ],
   "source": [
    "customer_info_df['PROVINCE'].value_counts()"
   ]
  },
  {
   "cell_type": "markdown",
   "id": "14b2e42e-c636-4973-96bf-4bdcd0613e0b",
   "metadata": {},
   "source": [
    "Based from the values taken by the `province` feature, we can see that there are some interesting values that were inputted from customer inputs such as SAMAR (WESTERN SAMAR), COTABATO (NORTH COTABATO) and COTABATO CITY (NOT A PROVINCE). We can map SAMAR (WESTERN SAMAR) into WESTERN SAMAR and COTABATO (NORTH COTABATO) into NORTH COTABATO."
   ]
  },
  {
   "cell_type": "markdown",
   "id": "47043ecf-1eee-4a66-8df6-7000839b587b",
   "metadata": {},
   "source": [
    "For the case of COTABATO CITY, we included it as a province since there might be misrepresentations that may occur for that province."
   ]
  },
  {
   "cell_type": "code",
   "execution_count": 11,
   "id": "1b8a718b-870c-4af1-8caf-7c6fe5352f7c",
   "metadata": {},
   "outputs": [],
   "source": [
    "province_mapper = {'SAMAR (WESTERN SAMAR)': 'WESTERN SAMAR', 'COTABATO (NORTH COTABATO)': 'NORTH COTABATO', 'COTABATO CITY (NOT A PROVINCE)': 'COTABATO CITY'}\n",
    "for i in customer_info_df['PROVINCE'].unique():\n",
    "    if not i in province_mapper:\n",
    "        province_mapper[i] = i\n",
    "customer_info_df['PROVINCE'] = customer_info_df['PROVINCE'].map(province_mapper)"
   ]
  },
  {
   "cell_type": "code",
   "execution_count": 12,
   "id": "e752a053-0bd7-4d4a-b342-52d819c3fc8f",
   "metadata": {},
   "outputs": [
    {
     "data": {
      "text/plain": [
       "PROVINCE\n",
       "NEGROS OCCIDENTAL      13488\n",
       "MISAMIS ORIENTAL        9783\n",
       "PANGASINAN              8841\n",
       "BENGUET                 8214\n",
       "ZAMBALES                5742\n",
       "ZAMBOANGA DEL SUR       5310\n",
       "SOUTH COTABATO          5262\n",
       "NEGROS ORIENTAL         5034\n",
       "LEYTE                   4845\n",
       "NUEVA ECIJA             4836\n",
       "BOHOL                   4206\n",
       "CAMARINES SUR           4044\n",
       "TARLAC                  4020\n",
       "ISABELA                 3792\n",
       "ALBAY                   3546\n",
       "LA UNION                3462\n",
       "DAVAO DEL NORTE         3432\n",
       "ILOCOS NORTE            3363\n",
       "CAGAYAN                 3111\n",
       "AKLAN                   3102\n",
       "BATAAN                  2727\n",
       "CAPIZ                   2634\n",
       "LANAO DEL NORTE         2460\n",
       "PALAWAN                 2397\n",
       "AGUSAN DEL NORTE        2364\n",
       "BUKIDNON                2319\n",
       "ILOCOS SUR              1893\n",
       "MISAMIS OCCIDENTAL      1497\n",
       "ZAMBOANGA DEL NORTE     1320\n",
       "ANTIQUE                 1284\n",
       "NORTH COTABATO          1191\n",
       "NUEVA VIZCAYA           1119\n",
       "CAMARINES NORTE         1098\n",
       "SURIGAO DEL NORTE       1068\n",
       "ORIENTAL MINDORO        1044\n",
       "COTABATO CITY           1017\n",
       "SORSOGON                 945\n",
       "SULTAN KUDARAT           462\n",
       "DAVAO ORIENTAL           453\n",
       "AGUSAN DEL SUR           402\n",
       "SOUTHERN LEYTE           402\n",
       "NORTHERN SAMAR           351\n",
       "SURIGAO DEL SUR          309\n",
       "WESTERN SAMAR            246\n",
       "OCCIDENTAL MINDORO         9\n",
       "Name: count, dtype: int64"
      ]
     },
     "execution_count": 12,
     "metadata": {},
     "output_type": "execute_result"
    }
   ],
   "source": [
    "customer_info_df['PROVINCE'].value_counts()"
   ]
  },
  {
   "cell_type": "code",
   "execution_count": 52,
   "id": "adced5a8-8191-4483-b408-f20e0d3ca724",
   "metadata": {},
   "outputs": [],
   "source": [
    "customer_info_df['PROVINCE'], province_uniques = customer_info_df['PROVINCE'].factorize()"
   ]
  },
  {
   "cell_type": "code",
   "execution_count": 53,
   "id": "2cb91744-a20d-433f-879a-44df1d03dca1",
   "metadata": {},
   "outputs": [
    {
     "data": {
      "text/plain": [
       "array([ 0,  1,  2,  3,  4,  5,  6,  7,  8,  9, 10, 11, 12, 13, 14, 15, 16,\n",
       "       17, 18, 19, 20, 21, 22, 23, 24, 25, 26, 27, 28, 29, 30, 31, 32, 33,\n",
       "       34, 35, 36, 37, 38, 39, 40, 41, 42, 43, 44], dtype=int64)"
      ]
     },
     "execution_count": 53,
     "metadata": {},
     "output_type": "execute_result"
    }
   ],
   "source": [
    "customer_info_df['PROVINCE'].unique()"
   ]
  },
  {
   "cell_type": "markdown",
   "id": "64903d47-05d3-494e-8482-857eeca712d0",
   "metadata": {
    "jp-MarkdownHeadingCollapsed": true
   },
   "source": [
    "### Region"
   ]
  },
  {
   "cell_type": "code",
   "execution_count": 13,
   "id": "99bef613-c9b3-40cd-a226-1009a5879957",
   "metadata": {},
   "outputs": [
    {
     "data": {
      "text/plain": [
       "REGION\n",
       "REGION VI (WESTERN VISAYAS)               20508\n",
       "REGION I (ILOCOS REGION)                  17559\n",
       "REGION III (CENTRAL LUZON)                17325\n",
       "REGION X (NORTHERN MINDANAO)              16059\n",
       "REGION V (BICOL REGION)                    9633\n",
       "REGION VII (CENTRAL VISAYAS)               9240\n",
       "CORDILLERA ADMINISTRATIVE REGION (CAR)     8214\n",
       "REGION II (CAGAYAN VALLEY)                 8022\n",
       "REGION XII (SOCCSKSARGEN)                  7932\n",
       "REGION IX (ZAMBOANGA PENINSULA)            6630\n",
       "REGION VIII (EASTERN VISAYAS)              5844\n",
       "REGION XIII (CARAGA)                       4143\n",
       "REGION XI (DAVAO REGION)                   3885\n",
       "MIMAROPA REGION                            3450\n",
       "Name: count, dtype: int64"
      ]
     },
     "execution_count": 13,
     "metadata": {},
     "output_type": "execute_result"
    }
   ],
   "source": [
    "customer_info_df['REGION'].value_counts()"
   ]
  },
  {
   "cell_type": "markdown",
   "id": "ba8e02ef-0e8a-4ed6-92f1-e16db24bedf0",
   "metadata": {},
   "source": [
    "There are also minor modifications that can be done for the `region` feature."
   ]
  },
  {
   "cell_type": "code",
   "execution_count": 14,
   "id": "2a38d0d5-cd08-410c-8c74-bb1da5e671a1",
   "metadata": {},
   "outputs": [],
   "source": [
    "region_mapper = {'MIMAROPA REGION': 'REGION IV-B (MIMAROPA REGION)'}\n",
    "for i in customer_info_df['REGION'].unique():\n",
    "    if not i in region_mapper:\n",
    "        region_mapper[i] = i\n",
    "customer_info_df['REGION'] = customer_info_df['REGION'].map(region_mapper)"
   ]
  },
  {
   "cell_type": "code",
   "execution_count": 15,
   "id": "928d7b67-9302-4be3-9df0-b64c5d903f3d",
   "metadata": {},
   "outputs": [
    {
     "data": {
      "text/plain": [
       "REGION\n",
       "REGION VI (WESTERN VISAYAS)               20508\n",
       "REGION I (ILOCOS REGION)                  17559\n",
       "REGION III (CENTRAL LUZON)                17325\n",
       "REGION X (NORTHERN MINDANAO)              16059\n",
       "REGION V (BICOL REGION)                    9633\n",
       "REGION VII (CENTRAL VISAYAS)               9240\n",
       "CORDILLERA ADMINISTRATIVE REGION (CAR)     8214\n",
       "REGION II (CAGAYAN VALLEY)                 8022\n",
       "REGION XII (SOCCSKSARGEN)                  7932\n",
       "REGION IX (ZAMBOANGA PENINSULA)            6630\n",
       "REGION VIII (EASTERN VISAYAS)              5844\n",
       "REGION XIII (CARAGA)                       4143\n",
       "REGION XI (DAVAO REGION)                   3885\n",
       "REGION IV-B (MIMAROPA REGION)              3450\n",
       "Name: count, dtype: int64"
      ]
     },
     "execution_count": 15,
     "metadata": {},
     "output_type": "execute_result"
    }
   ],
   "source": [
    "customer_info_df['REGION'].value_counts()"
   ]
  },
  {
   "cell_type": "code",
   "execution_count": 54,
   "id": "6feb6f6c-ef69-4665-aef4-965e961015e2",
   "metadata": {},
   "outputs": [],
   "source": [
    "customer_info_df['REGION'], region_uniques = customer_info_df['REGION'].factorize()"
   ]
  },
  {
   "cell_type": "markdown",
   "id": "e1410650-8fce-4554-af19-d2dba377bb80",
   "metadata": {
    "jp-MarkdownHeadingCollapsed": true
   },
   "source": [
    "### Education"
   ]
  },
  {
   "cell_type": "code",
   "execution_count": 58,
   "id": "5282aa1b-ff20-4b42-8646-fb6b0c863ace",
   "metadata": {},
   "outputs": [
    {
     "data": {
      "text/plain": [
       "EDUCATION\n",
       "1.0    102816\n",
       "0.0     32364\n",
       "2.0      2598\n",
       "Name: count, dtype: int64"
      ]
     },
     "execution_count": 58,
     "metadata": {},
     "output_type": "execute_result"
    }
   ],
   "source": [
    "customer_info_df['EDUCATION'].value_counts()"
   ]
  },
  {
   "cell_type": "markdown",
   "id": "41f12803-4ff8-4fc5-9fdb-3587100403e3",
   "metadata": {},
   "source": [
    "As we can see from the count, we might need to impute the missing values for the `education` feature."
   ]
  },
  {
   "cell_type": "code",
   "execution_count": 17,
   "id": "e19a1d23-0a6a-49f5-9d6c-424bc7a2db0c",
   "metadata": {},
   "outputs": [],
   "source": [
    "education_mapper = {'LOW': 0, 'MID': 1, 'HIGH': 2, 'NO_DATA': np.nan}"
   ]
  },
  {
   "cell_type": "code",
   "execution_count": 18,
   "id": "1754bdba-6dba-4c7a-bd3a-892b439d00bf",
   "metadata": {},
   "outputs": [],
   "source": [
    "customer_info_df['EDUCATION'] = customer_info_df['EDUCATION'].map(education_mapper)"
   ]
  },
  {
   "cell_type": "code",
   "execution_count": 19,
   "id": "108db863-7d44-42fc-ba97-3b7f78c26e1d",
   "metadata": {},
   "outputs": [
    {
     "data": {
      "text/plain": [
       "EDUCATION\n",
       "1.0    103086\n",
       "0.0     32748\n",
       "2.0      2610\n",
       "Name: count, dtype: int64"
      ]
     },
     "execution_count": 19,
     "metadata": {},
     "output_type": "execute_result"
    }
   ],
   "source": [
    "customer_info_df['EDUCATION'].fillna(1, inplace=True)\n",
    "customer_info_df['EDUCATION'].value_counts()"
   ]
  },
  {
   "cell_type": "markdown",
   "id": "3498563b-bf2e-4f50-8d1d-f72f5652fd65",
   "metadata": {
    "jp-MarkdownHeadingCollapsed": true
   },
   "source": [
    "### Age"
   ]
  },
  {
   "cell_type": "markdown",
   "id": "9ebb1d46-6180-44c7-aae5-9b4d6a1acdad",
   "metadata": {},
   "source": [
    "We first up all `NaN` values using the mean value of the `AGE` feature."
   ]
  },
  {
   "cell_type": "code",
   "execution_count": 29,
   "id": "2c37624d-7a7a-4f37-acfd-2a602764db93",
   "metadata": {},
   "outputs": [],
   "source": [
    "customer_info_df['AGE'] = customer_info_df['AGE'].fillna(int(customer_info_df['AGE'].mean()))"
   ]
  },
  {
   "cell_type": "code",
   "execution_count": 30,
   "id": "c4b8e684-897d-48a0-85a3-521ec2d4cc7f",
   "metadata": {},
   "outputs": [
    {
     "data": {
      "image/png": "[encoded data removed]",
      "text/plain": [
       "<Figure size 640x480 with 1 Axes>"
      ]
     },
     "metadata": {},
     "output_type": "display_data"
    }
   ],
   "source": [
    "customer_info_df['AGE'].hist()\n",
    "plt.title('Age Count')\n",
    "plt.xlabel('Age')\n",
    "plt.ylabel('Count')\n",
    "plt.grid(False)\n",
    "plt.show()"
   ]
  },
  {
   "cell_type": "code",
   "execution_count": 31,
   "id": "04842caf-20e6-4f23-9e27-cfd9f2ca440a",
   "metadata": {},
   "outputs": [
    {
     "data": {
      "image/png": "[encoded data removed]",
      "text/plain": [
       "<Figure size 640x480 with 1 Axes>"
      ]
     },
     "metadata": {},
     "output_type": "display_data"
    }
   ],
   "source": [
    "customer_info_df.boxplot(column=['AGE'])\n",
    "plt.grid(False)\n",
    "plt.show()"
   ]
  },
  {
   "cell_type": "markdown",
   "id": "a4953489-d15f-42d5-b9a7-1b9018e97a4c",
   "metadata": {},
   "source": [
    "We remove outliers using the z-score."
   ]
  },
  {
   "cell_type": "code",
   "execution_count": 33,
   "id": "32491c9a-2519-4840-9dc6-d5afb2047a00",
   "metadata": {},
   "outputs": [],
   "source": [
    "z_scores = np.abs(stats.zscore(customer_info_df['AGE']))\n",
    "threshold = 3 # Default std outlier\n",
    "customer_info_df = customer_info_df[z_scores <= threshold]"
   ]
  },
  {
   "cell_type": "code",
   "execution_count": 35,
   "id": "e3a8d891-092d-4bbc-b553-5afa8921714c",
   "metadata": {},
   "outputs": [
    {
     "data": {
      "text/plain": [
       "count    137787.000000\n",
       "mean         40.001132\n",
       "std          15.299970\n",
       "min           1.000000\n",
       "25%          28.000000\n",
       "50%          36.000000\n",
       "75%          49.000000\n",
       "max          87.000000\n",
       "Name: AGE, dtype: float64"
      ]
     },
     "execution_count": 35,
     "metadata": {},
     "output_type": "execute_result"
    }
   ],
   "source": [
    "customer_info_df['AGE'].describe()"
   ]
  },
  {
   "cell_type": "markdown",
   "id": "acdf7e83-5d5f-4ace-b5b3-bb9f4e23c9a1",
   "metadata": {},
   "source": [
    "We might also need to consider the validity of age values that were inputted by the users. The earliest age that a child can have, with parental guidance, to create a bank account is 5 years old (Source: https://www.banksphilippines.com/2022/10/age-to-open-a-bank-account.html). Considering this, we should also count all accounts whose `AGE` value is less than 5 years old as outliers."
   ]
  },
  {
   "cell_type": "code",
   "execution_count": 36,
   "id": "a6a4d0c2-64c3-4520-b998-37e8708710bd",
   "metadata": {},
   "outputs": [
    {
     "data": {
      "text/plain": [
       "count    137778.000000\n",
       "mean         40.003571\n",
       "std          15.297491\n",
       "min           5.000000\n",
       "25%          28.000000\n",
       "50%          36.000000\n",
       "75%          49.000000\n",
       "max          87.000000\n",
       "Name: AGE, dtype: float64"
      ]
     },
     "execution_count": 36,
     "metadata": {},
     "output_type": "execute_result"
    }
   ],
   "source": [
    "customer_info_df = customer_info_df[customer_info_df['AGE'] >= 5]\n",
    "customer_info_df['AGE'].describe()"
   ]
  },
  {
   "cell_type": "markdown",
   "id": "e7c5d54b-b454-46a4-8714-e3248f4110ee",
   "metadata": {
    "jp-MarkdownHeadingCollapsed": true
   },
   "source": [
    "## Tenure"
   ]
  },
  {
   "cell_type": "code",
   "execution_count": 25,
   "id": "a2b62366-59e2-4de7-abdb-07147d17f99e",
   "metadata": {},
   "outputs": [
    {
     "data": {
      "text/plain": [
       "tenure\n",
       "0.916667     1833\n",
       "0.333333     1797\n",
       "0.833333     1785\n",
       "0.750000     1773\n",
       "0.666667     1755\n",
       "             ... \n",
       "27.000000       3\n",
       "25.833333       3\n",
       "26.583333       3\n",
       "26.916667       3\n",
       "23.083333       3\n",
       "Name: count, Length: 307, dtype: int64"
      ]
     },
     "execution_count": 25,
     "metadata": {},
     "output_type": "execute_result"
    }
   ],
   "source": [
    "customer_info_df['tenure'].value_counts()"
   ]
  },
  {
   "cell_type": "code",
   "execution_count": 50,
   "id": "19c733d7-08f5-44c4-a8a0-a7b629e87582",
   "metadata": {},
   "outputs": [
    {
     "data": {
      "image/png": "[encoded data removed]",
      "text/plain": [
       "<Figure size 640x480 with 1 Axes>"
      ]
     },
     "metadata": {},
     "output_type": "display_data"
    }
   ],
   "source": [
    "customer_info_df.boxplot(column=['TENURE'])\n",
    "plt.grid(False)\n",
    "plt.show()"
   ]
  },
  {
   "cell_type": "markdown",
   "id": "32a6cdf6-f780-44c0-8ea5-e03e5d923cbe",
   "metadata": {},
   "source": [
    "The boxplot above shows "
   ]
  },
  {
   "cell_type": "markdown",
   "id": "6ff1b9ec-0c6e-41e7-a7bc-7c1630756937",
   "metadata": {},
   "source": [
    "## Business Owner"
   ]
  },
  {
   "cell_type": "code",
   "execution_count": 47,
   "id": "5824452d-9666-496c-a495-e6af8786dea7",
   "metadata": {},
   "outputs": [],
   "source": [
    "customer_info_df['BUSINESS_OWNER'], busown_uniques = customer_info_df['BUSINESS_OWNER'].factorize()"
   ]
  },
  {
   "cell_type": "code",
   "execution_count": 48,
   "id": "176169a8-9c79-467c-86a6-5f27f99c4e3d",
   "metadata": {},
   "outputs": [
    {
     "data": {
      "text/plain": [
       "BUSINESS_OWNER\n",
       "0    130899\n",
       "1      6879\n",
       "Name: count, dtype: int64"
      ]
     },
     "execution_count": 48,
     "metadata": {},
     "output_type": "execute_result"
    }
   ],
   "source": [
    "customer_info_df['BUSINESS_OWNER'].value_counts()"
   ]
  },
  {
   "cell_type": "code",
   "execution_count": 49,
   "id": "60e60823-0b69-46cf-bdcd-222ce6ca2248",
   "metadata": {},
   "outputs": [
    {
     "data": {
      "text/plain": [
       "Index([0, 1], dtype='int64')"
      ]
     },
     "execution_count": 49,
     "metadata": {},
     "output_type": "execute_result"
    }
   ],
   "source": [
    "busown_uniques"
   ]
  },
  {
   "cell_type": "markdown",
   "id": "71444c12-0c47-470a-8c5b-fc83de89f384",
   "metadata": {},
   "source": [
    "## Digital Flag"
   ]
  },
  {
   "cell_type": "code",
   "execution_count": 27,
   "id": "d288f64c-2a5f-4ea4-9065-1c514f166866",
   "metadata": {},
   "outputs": [
    {
     "data": {
      "text/plain": [
       "digital_flag\n",
       "TRADITIONAL    64695\n",
       "NO_DATA        41775\n",
       "DIGITAL        31974\n",
       "Name: count, dtype: int64"
      ]
     },
     "execution_count": 27,
     "metadata": {},
     "output_type": "execute_result"
    }
   ],
   "source": [
    "customer_info_df['DIGITAL_FLAG'].value_counts()"
   ]
  },
  {
   "cell_type": "markdown",
   "id": "9de6d2a3-9aca-483b-9ce9-053cc543ebb4",
   "metadata": {},
   "source": [
    "From the definitions given from, `NO_DATA` is a valid value so we won't count it as a new category."
   ]
  },
  {
   "cell_type": "code",
   "execution_count": 80,
   "id": "35eab347-731d-4fdb-8bf4-5b2ab0cfec10",
   "metadata": {},
   "outputs": [],
   "source": [
    "customer_info_df['DIGITAL_FLAG'], digfla_unique = customer_info_df['DIGITAL_FLAG'].factorize()"
   ]
  },
  {
   "cell_type": "code",
   "execution_count": 81,
   "id": "2fe367ef-3bf8-4b09-8cc7-194443703c9e",
   "metadata": {},
   "outputs": [
    {
     "data": {
      "text/html": [
       "<div>\n",
       "<style scoped>\n",
       "    .dataframe tbody tr th:only-of-type {\n",
       "        vertical-align: middle;\n",
       "    }\n",
       "\n",
       "    .dataframe tbody tr th {\n",
       "        vertical-align: top;\n",
       "    }\n",
       "\n",
       "    .dataframe thead th {\n",
       "        text-align: right;\n",
       "    }\n",
       "</style>\n",
       "<table border=\"1\" class=\"dataframe\">\n",
       "  <thead>\n",
       "    <tr style=\"text-align: right;\">\n",
       "      <th></th>\n",
       "      <th>CUST_NUM</th>\n",
       "      <th>PROVINCE</th>\n",
       "      <th>REGION</th>\n",
       "      <th>EDUCATION</th>\n",
       "      <th>AGE</th>\n",
       "      <th>TENURE</th>\n",
       "      <th>BUSINESS_OWNER</th>\n",
       "      <th>DIGITAL_FLAG</th>\n",
       "      <th>INCOME_SOURCE</th>\n",
       "      <th>GENDER</th>\n",
       "      <th>MARITAL_STATUS</th>\n",
       "    </tr>\n",
       "  </thead>\n",
       "  <tbody>\n",
       "    <tr>\n",
       "      <th>0</th>\n",
       "      <td>11712.654012</td>\n",
       "      <td>0</td>\n",
       "      <td>0</td>\n",
       "      <td>1.0</td>\n",
       "      <td>20.0</td>\n",
       "      <td>1.833333</td>\n",
       "      <td>0</td>\n",
       "      <td>0</td>\n",
       "      <td>0</td>\n",
       "      <td>0</td>\n",
       "      <td>0</td>\n",
       "    </tr>\n",
       "    <tr>\n",
       "      <th>1</th>\n",
       "      <td>436.605085</td>\n",
       "      <td>0</td>\n",
       "      <td>0</td>\n",
       "      <td>1.0</td>\n",
       "      <td>21.0</td>\n",
       "      <td>4.250000</td>\n",
       "      <td>0</td>\n",
       "      <td>1</td>\n",
       "      <td>1</td>\n",
       "      <td>1</td>\n",
       "      <td>0</td>\n",
       "    </tr>\n",
       "    <tr>\n",
       "      <th>2</th>\n",
       "      <td>921.989154</td>\n",
       "      <td>0</td>\n",
       "      <td>0</td>\n",
       "      <td>1.0</td>\n",
       "      <td>23.0</td>\n",
       "      <td>2.000000</td>\n",
       "      <td>0</td>\n",
       "      <td>2</td>\n",
       "      <td>0</td>\n",
       "      <td>0</td>\n",
       "      <td>0</td>\n",
       "    </tr>\n",
       "    <tr>\n",
       "      <th>3</th>\n",
       "      <td>1119.634762</td>\n",
       "      <td>0</td>\n",
       "      <td>0</td>\n",
       "      <td>0.0</td>\n",
       "      <td>13.0</td>\n",
       "      <td>5.583333</td>\n",
       "      <td>0</td>\n",
       "      <td>2</td>\n",
       "      <td>0</td>\n",
       "      <td>0</td>\n",
       "      <td>0</td>\n",
       "    </tr>\n",
       "    <tr>\n",
       "      <th>4</th>\n",
       "      <td>1709.755538</td>\n",
       "      <td>0</td>\n",
       "      <td>0</td>\n",
       "      <td>1.0</td>\n",
       "      <td>20.0</td>\n",
       "      <td>1.250000</td>\n",
       "      <td>0</td>\n",
       "      <td>0</td>\n",
       "      <td>1</td>\n",
       "      <td>1</td>\n",
       "      <td>0</td>\n",
       "    </tr>\n",
       "  </tbody>\n",
       "</table>\n",
       "</div>"
      ],
      "text/plain": [
       "       CUST_NUM  PROVINCE  REGION  EDUCATION   AGE    TENURE  BUSINESS_OWNER  \\\n",
       "0  11712.654012         0       0        1.0  20.0  1.833333               0   \n",
       "1    436.605085         0       0        1.0  21.0  4.250000               0   \n",
       "2    921.989154         0       0        1.0  23.0  2.000000               0   \n",
       "3   1119.634762         0       0        0.0  13.0  5.583333               0   \n",
       "4   1709.755538         0       0        1.0  20.0  1.250000               0   \n",
       "\n",
       "   DIGITAL_FLAG  INCOME_SOURCE  GENDER  MARITAL_STATUS  \n",
       "0             0              0       0               0  \n",
       "1             1              1       1               0  \n",
       "2             2              0       0               0  \n",
       "3             2              0       0               0  \n",
       "4             0              1       1               0  "
      ]
     },
     "execution_count": 81,
     "metadata": {},
     "output_type": "execute_result"
    }
   ],
   "source": [
    "customer_info_df.head()"
   ]
  },
  {
   "cell_type": "code",
   "execution_count": 82,
   "id": "ae07ee84-a2f1-4eec-8471-7f1fde434c38",
   "metadata": {},
   "outputs": [
    {
     "data": {
      "text/plain": [
       "Index(['DIGITAL', 'NO_DATA', 'TRADITIONAL'], dtype='object')"
      ]
     },
     "execution_count": 82,
     "metadata": {},
     "output_type": "execute_result"
    }
   ],
   "source": [
    "digfla_unique"
   ]
  },
  {
   "cell_type": "markdown",
   "id": "2119b084-4212-46f3-9756-5e058246ee84",
   "metadata": {},
   "source": [
    "## Income Source"
   ]
  },
  {
   "cell_type": "code",
   "execution_count": 28,
   "id": "fc3de649-86ff-464c-95bb-88e13f95236a",
   "metadata": {},
   "outputs": [
    {
     "data": {
      "text/plain": [
       "income_source\n",
       "SALARY                                     84531\n",
       "ALLOWANCE                                  18357\n",
       "PENSION                                    11055\n",
       "REMITTANCE                                 10581\n",
       "BUSINESS                                    7818\n",
       "OTHER_SOURCES_NOT_SPECIFIED                 2181\n",
       "NO_DATA                                     1830\n",
       "COMMISSION                                  1533\n",
       "ECONOMICALLY_INACTIVE                        300\n",
       "INTEREST_SAVINGS_PLACEMENTS_INVESTMENTS      234\n",
       "DONATION                                      21\n",
       "CAMPAIGN_FUND                                  3\n",
       "Name: count, dtype: int64"
      ]
     },
     "execution_count": 28,
     "metadata": {},
     "output_type": "execute_result"
    }
   ],
   "source": [
    "customer_info_df['INCOME_SOURCE'].value_counts()"
   ]
  },
  {
   "cell_type": "markdown",
   "id": "f67bb8a1-8b90-4dbf-bc7e-cffde2b94662",
   "metadata": {},
   "source": [
    "Note the unique values that the `INCOME_SOURCE` feature takes. Almost all except two pertains to specific income sources. The `OTHER_SOURCES_NOT_SPECIFIED` and `NO_DATA` income source values does not specify any known income source so what we can do here is we group them as one new income source called `OTHERS`."
   ]
  },
  {
   "cell_type": "code",
   "execution_count": 77,
   "id": "f8b92089-256c-4ed7-9e5a-f4dfefbed9d0",
   "metadata": {},
   "outputs": [],
   "source": [
    "income_source_mapper = {'NO_DATA': 'OTHERS', 'OTHER_SOURCES_NOT_SPECIFIED': 'OTHERS'}\n",
    "for i in customer_info_df['INCOME_SOURCE'].unique():\n",
    "    if not i in income_source_mapper:\n",
    "        income_source_mapper[i] = i\n",
    "customer_info_df['INCOME_SOURCE'] = customer_info_df['INCOME_SOURCE'].map(income_source_mapper)"
   ]
  },
  {
   "cell_type": "code",
   "execution_count": 78,
   "id": "5e0d164c-1ebc-4fca-ad1d-7d1cd2f6b749",
   "metadata": {},
   "outputs": [],
   "source": [
    "customer_info_df['INCOME_SOURCE'], incsou_unique = customer_info_df['INCOME_SOURCE'].factorize()"
   ]
  },
  {
   "cell_type": "code",
   "execution_count": 79,
   "id": "0f099381-b981-43ae-9a21-f0c47cb76d5d",
   "metadata": {},
   "outputs": [
    {
     "data": {
      "text/html": [
       "<div>\n",
       "<style scoped>\n",
       "    .dataframe tbody tr th:only-of-type {\n",
       "        vertical-align: middle;\n",
       "    }\n",
       "\n",
       "    .dataframe tbody tr th {\n",
       "        vertical-align: top;\n",
       "    }\n",
       "\n",
       "    .dataframe thead th {\n",
       "        text-align: right;\n",
       "    }\n",
       "</style>\n",
       "<table border=\"1\" class=\"dataframe\">\n",
       "  <thead>\n",
       "    <tr style=\"text-align: right;\">\n",
       "      <th></th>\n",
       "      <th>CUST_NUM</th>\n",
       "      <th>PROVINCE</th>\n",
       "      <th>REGION</th>\n",
       "      <th>EDUCATION</th>\n",
       "      <th>AGE</th>\n",
       "      <th>TENURE</th>\n",
       "      <th>BUSINESS_OWNER</th>\n",
       "      <th>DIGITAL_FLAG</th>\n",
       "      <th>INCOME_SOURCE</th>\n",
       "      <th>GENDER</th>\n",
       "      <th>MARITAL_STATUS</th>\n",
       "    </tr>\n",
       "  </thead>\n",
       "  <tbody>\n",
       "    <tr>\n",
       "      <th>0</th>\n",
       "      <td>11712.654012</td>\n",
       "      <td>0</td>\n",
       "      <td>0</td>\n",
       "      <td>1.0</td>\n",
       "      <td>20.0</td>\n",
       "      <td>1.833333</td>\n",
       "      <td>0</td>\n",
       "      <td>DIGITAL</td>\n",
       "      <td>0</td>\n",
       "      <td>0</td>\n",
       "      <td>0</td>\n",
       "    </tr>\n",
       "    <tr>\n",
       "      <th>1</th>\n",
       "      <td>436.605085</td>\n",
       "      <td>0</td>\n",
       "      <td>0</td>\n",
       "      <td>1.0</td>\n",
       "      <td>21.0</td>\n",
       "      <td>4.250000</td>\n",
       "      <td>0</td>\n",
       "      <td>NO_DATA</td>\n",
       "      <td>1</td>\n",
       "      <td>1</td>\n",
       "      <td>0</td>\n",
       "    </tr>\n",
       "    <tr>\n",
       "      <th>2</th>\n",
       "      <td>921.989154</td>\n",
       "      <td>0</td>\n",
       "      <td>0</td>\n",
       "      <td>1.0</td>\n",
       "      <td>23.0</td>\n",
       "      <td>2.000000</td>\n",
       "      <td>0</td>\n",
       "      <td>TRADITIONAL</td>\n",
       "      <td>0</td>\n",
       "      <td>0</td>\n",
       "      <td>0</td>\n",
       "    </tr>\n",
       "    <tr>\n",
       "      <th>3</th>\n",
       "      <td>1119.634762</td>\n",
       "      <td>0</td>\n",
       "      <td>0</td>\n",
       "      <td>0.0</td>\n",
       "      <td>13.0</td>\n",
       "      <td>5.583333</td>\n",
       "      <td>0</td>\n",
       "      <td>TRADITIONAL</td>\n",
       "      <td>0</td>\n",
       "      <td>0</td>\n",
       "      <td>0</td>\n",
       "    </tr>\n",
       "    <tr>\n",
       "      <th>4</th>\n",
       "      <td>1709.755538</td>\n",
       "      <td>0</td>\n",
       "      <td>0</td>\n",
       "      <td>1.0</td>\n",
       "      <td>20.0</td>\n",
       "      <td>1.250000</td>\n",
       "      <td>0</td>\n",
       "      <td>DIGITAL</td>\n",
       "      <td>1</td>\n",
       "      <td>1</td>\n",
       "      <td>0</td>\n",
       "    </tr>\n",
       "  </tbody>\n",
       "</table>\n",
       "</div>"
      ],
      "text/plain": [
       "       CUST_NUM  PROVINCE  REGION  EDUCATION   AGE    TENURE  BUSINESS_OWNER  \\\n",
       "0  11712.654012         0       0        1.0  20.0  1.833333               0   \n",
       "1    436.605085         0       0        1.0  21.0  4.250000               0   \n",
       "2    921.989154         0       0        1.0  23.0  2.000000               0   \n",
       "3   1119.634762         0       0        0.0  13.0  5.583333               0   \n",
       "4   1709.755538         0       0        1.0  20.0  1.250000               0   \n",
       "\n",
       "  DIGITAL_FLAG  INCOME_SOURCE  GENDER  MARITAL_STATUS  \n",
       "0      DIGITAL              0       0               0  \n",
       "1      NO_DATA              1       1               0  \n",
       "2  TRADITIONAL              0       0               0  \n",
       "3  TRADITIONAL              0       0               0  \n",
       "4      DIGITAL              1       1               0  "
      ]
     },
     "execution_count": 79,
     "metadata": {},
     "output_type": "execute_result"
    }
   ],
   "source": [
    "customer_info_df.head()"
   ]
  },
  {
   "cell_type": "markdown",
   "id": "c7602126-009f-4415-9597-abd289383bfd",
   "metadata": {},
   "source": [
    "## Gender"
   ]
  },
  {
   "cell_type": "code",
   "execution_count": 42,
   "id": "35d39ec7-859a-4031-b762-ba94f0a43e8a",
   "metadata": {},
   "outputs": [
    {
     "data": {
      "text/plain": [
       "GENDER\n",
       "FEMALE    79872\n",
       "MALE      55146\n",
       "OTHERS     2760\n",
       "Name: count, dtype: int64"
      ]
     },
     "execution_count": 42,
     "metadata": {},
     "output_type": "execute_result"
    }
   ],
   "source": [
    "customer_info_df['GENDER'].value_counts()"
   ]
  },
  {
   "cell_type": "code",
   "execution_count": 43,
   "id": "42313acb-b34d-431e-bd66-bb211b1af4cf",
   "metadata": {},
   "outputs": [],
   "source": [
    "customer_info_df['GENDER'], gender_uniques = customer_info_df['GENDER'].factorize()"
   ]
  },
  {
   "cell_type": "code",
   "execution_count": 45,
   "id": "7741dfe2-51e8-4cde-aee0-6ce2c8698c04",
   "metadata": {},
   "outputs": [
    {
     "data": {
      "text/plain": [
       "GENDER\n",
       "1    79872\n",
       "0    55146\n",
       "2     2760\n",
       "Name: count, dtype: int64"
      ]
     },
     "execution_count": 45,
     "metadata": {},
     "output_type": "execute_result"
    }
   ],
   "source": [
    "customer_info_df['GENDER'].value_counts()"
   ]
  },
  {
   "cell_type": "code",
   "execution_count": 46,
   "id": "56b358e7-9fa0-4e37-9ef8-46edf8a2f439",
   "metadata": {},
   "outputs": [
    {
     "data": {
      "text/plain": [
       "Index(['MALE', 'FEMALE', 'OTHERS'], dtype='object')"
      ]
     },
     "execution_count": 46,
     "metadata": {},
     "output_type": "execute_result"
    }
   ],
   "source": [
    "gender_uniques"
   ]
  },
  {
   "cell_type": "markdown",
   "id": "d7537864-e77c-4cde-9a7a-e079df9cb264",
   "metadata": {},
   "source": [
    "## Marital Status"
   ]
  },
  {
   "cell_type": "code",
   "execution_count": 37,
   "id": "58f7146f-9da4-408d-83fa-a582ebc445ef",
   "metadata": {},
   "outputs": [
    {
     "data": {
      "text/plain": [
       "MARITAL_STATUS\n",
       "SINGLE       79953\n",
       "MARRIED      48198\n",
       "WIDOWED       4113\n",
       "DIVORCED      2760\n",
       "SEPARATED     1392\n",
       "OTHERS        1362\n",
       "Name: count, dtype: int64"
      ]
     },
     "execution_count": 37,
     "metadata": {},
     "output_type": "execute_result"
    }
   ],
   "source": [
    "customer_info_df['MARITAL_STATUS'].value_counts()"
   ]
  },
  {
   "cell_type": "code",
   "execution_count": 38,
   "id": "0f206d68-cc6e-4aa9-8831-093d1f57186a",
   "metadata": {},
   "outputs": [],
   "source": [
    "customer_info_df['MARITAL_STATUS'], marstat_uniques = customer_info_df['MARITAL_STATUS'].factorize()"
   ]
  },
  {
   "cell_type": "code",
   "execution_count": 40,
   "id": "8185ff6c-a95f-4b49-bbfa-4c70cb9512f0",
   "metadata": {},
   "outputs": [
    {
     "data": {
      "text/plain": [
       "MARITAL_STATUS\n",
       "0    79953\n",
       "1    48198\n",
       "2     4113\n",
       "3     2760\n",
       "5     1392\n",
       "4     1362\n",
       "Name: count, dtype: int64"
      ]
     },
     "execution_count": 40,
     "metadata": {},
     "output_type": "execute_result"
    }
   ],
   "source": [
    "customer_info_df['MARITAL_STATUS'].value_counts()"
   ]
  },
  {
   "cell_type": "code",
   "execution_count": 41,
   "id": "f95cc7dd-4d15-40e3-9b2c-34a03be91ba4",
   "metadata": {},
   "outputs": [
    {
     "data": {
      "text/plain": [
       "Index(['SINGLE', 'MARRIED', 'WIDOWED', 'DIVORCED', 'OTHERS', 'SEPARATED'], dtype='object')"
      ]
     },
     "execution_count": 41,
     "metadata": {},
     "output_type": "execute_result"
    }
   ],
   "source": [
    "marstat_uniques"
   ]
  },
  {
   "cell_type": "markdown",
   "id": "9f3bac3e-bdbc-4c4c-9658-d5f8fdcb914d",
   "metadata": {},
   "source": [
    "## Additional Preprocessing"
   ]
  },
  {
   "cell_type": "code",
   "execution_count": 83,
   "id": "8d83b4e9-b897-433f-968b-3f2fa4984d04",
   "metadata": {},
   "outputs": [],
   "source": [
    "customer_info_df.drop_duplicates(inplace=True)"
   ]
  },
  {
   "cell_type": "code",
   "execution_count": 84,
   "id": "182db1b1-88ae-45f4-96f2-80f38424b5f7",
   "metadata": {},
   "outputs": [
    {
     "data": {
      "text/plain": [
       "(45926, 11)"
      ]
     },
     "execution_count": 84,
     "metadata": {},
     "output_type": "execute_result"
    }
   ],
   "source": [
    "customer_info_df.shape"
   ]
  },
  {
   "cell_type": "markdown",
   "id": "20448b5c-60ae-4914-aa65-9c2e8cfa7e06",
   "metadata": {},
   "source": [
    "Save preprocessed and cleaned dataset into a new CSV file."
   ]
  },
  {
   "cell_type": "code",
   "execution_count": 86,
   "id": "599f5a30-f670-4657-9bbf-7f954f6b326c",
   "metadata": {},
   "outputs": [],
   "source": [
    "customer_info_df.to_csv('CUSTOMER_INFO_CLEANED.csv', sep=',')"
   ]
  },
  {
   "cell_type": "markdown",
   "id": "6f42ac1c-172f-4eaf-8851-4a1d035446b6",
   "metadata": {},
   "source": [
    "# Bivariate Analysis"
   ]
  },
  {
   "cell_type": "code",
   "execution_count": 55,
   "id": "ba3daca0-c16b-4d73-aea7-8fca9ad97156",
   "metadata": {},
   "outputs": [
    {
     "name": "stdout",
     "output_type": "stream",
     "text": [
      "<class 'pandas.core.frame.DataFrame'>\n",
      "Index: 137778 entries, 0 to 138443\n",
      "Data columns (total 11 columns):\n",
      " #   Column          Non-Null Count   Dtype  \n",
      "---  ------          --------------   -----  \n",
      " 0   CUST_NUM        137778 non-null  float64\n",
      " 1   PROVINCE        137778 non-null  int64  \n",
      " 2   REGION          137778 non-null  int64  \n",
      " 3   EDUCATION       137778 non-null  float64\n",
      " 4   AGE             137778 non-null  float64\n",
      " 5   TENURE          137778 non-null  float64\n",
      " 6   BUSINESS_OWNER  137778 non-null  int64  \n",
      " 7   DIGITAL_FLAG    137778 non-null  object \n",
      " 8   INCOME_SOURCE   137778 non-null  object \n",
      " 9   GENDER          137778 non-null  int64  \n",
      " 10  MARITAL_STATUS  137778 non-null  int64  \n",
      "dtypes: float64(4), int64(5), object(2)\n",
      "memory usage: 12.6+ MB\n"
     ]
    }
   ],
   "source": [
    "customer_info_df.info()"
   ]
  },
  {
   "cell_type": "code",
   "execution_count": 35,
   "id": "4c9e7f93-9981-45db-b563-195362375d4f",
   "metadata": {},
   "outputs": [
    {
     "data": {
      "text/html": [
       "<div>\n",
       "<style scoped>\n",
       "    .dataframe tbody tr th:only-of-type {\n",
       "        vertical-align: middle;\n",
       "    }\n",
       "\n",
       "    .dataframe tbody tr th {\n",
       "        vertical-align: top;\n",
       "    }\n",
       "\n",
       "    .dataframe thead th {\n",
       "        text-align: right;\n",
       "    }\n",
       "</style>\n",
       "<table border=\"1\" class=\"dataframe\">\n",
       "  <thead>\n",
       "    <tr style=\"text-align: right;\">\n",
       "      <th></th>\n",
       "      <th>cust_num</th>\n",
       "      <th>education</th>\n",
       "      <th>age</th>\n",
       "      <th>tenure</th>\n",
       "      <th>business_owner</th>\n",
       "      <th>gender</th>\n",
       "      <th>marital_status</th>\n",
       "    </tr>\n",
       "  </thead>\n",
       "  <tbody>\n",
       "    <tr>\n",
       "      <th>cust_num</th>\n",
       "      <td>1.000000</td>\n",
       "      <td>-0.003940</td>\n",
       "      <td>0.002227</td>\n",
       "      <td>0.005340</td>\n",
       "      <td>0.001467</td>\n",
       "      <td>0.009125</td>\n",
       "      <td>0.006144</td>\n",
       "    </tr>\n",
       "    <tr>\n",
       "      <th>education</th>\n",
       "      <td>-0.003940</td>\n",
       "      <td>1.000000</td>\n",
       "      <td>-0.068130</td>\n",
       "      <td>-0.086695</td>\n",
       "      <td>-0.006109</td>\n",
       "      <td>0.001954</td>\n",
       "      <td>0.027381</td>\n",
       "    </tr>\n",
       "    <tr>\n",
       "      <th>age</th>\n",
       "      <td>0.002227</td>\n",
       "      <td>-0.068130</td>\n",
       "      <td>1.000000</td>\n",
       "      <td>0.461876</td>\n",
       "      <td>0.124741</td>\n",
       "      <td>-0.000815</td>\n",
       "      <td>0.070514</td>\n",
       "    </tr>\n",
       "    <tr>\n",
       "      <th>tenure</th>\n",
       "      <td>0.005340</td>\n",
       "      <td>-0.086695</td>\n",
       "      <td>0.461876</td>\n",
       "      <td>1.000000</td>\n",
       "      <td>0.119844</td>\n",
       "      <td>-0.000748</td>\n",
       "      <td>0.038517</td>\n",
       "    </tr>\n",
       "    <tr>\n",
       "      <th>business_owner</th>\n",
       "      <td>0.001467</td>\n",
       "      <td>-0.006109</td>\n",
       "      <td>0.124741</td>\n",
       "      <td>0.119844</td>\n",
       "      <td>1.000000</td>\n",
       "      <td>-0.006401</td>\n",
       "      <td>0.016540</td>\n",
       "    </tr>\n",
       "    <tr>\n",
       "      <th>gender</th>\n",
       "      <td>0.009125</td>\n",
       "      <td>0.001954</td>\n",
       "      <td>-0.000815</td>\n",
       "      <td>-0.000748</td>\n",
       "      <td>-0.006401</td>\n",
       "      <td>1.000000</td>\n",
       "      <td>0.003757</td>\n",
       "    </tr>\n",
       "    <tr>\n",
       "      <th>marital_status</th>\n",
       "      <td>0.006144</td>\n",
       "      <td>0.027381</td>\n",
       "      <td>0.070514</td>\n",
       "      <td>0.038517</td>\n",
       "      <td>0.016540</td>\n",
       "      <td>0.003757</td>\n",
       "      <td>1.000000</td>\n",
       "    </tr>\n",
       "  </tbody>\n",
       "</table>\n",
       "</div>"
      ],
      "text/plain": [
       "                cust_num  education       age    tenure  business_owner  \\\n",
       "cust_num        1.000000  -0.003940  0.002227  0.005340        0.001467   \n",
       "education      -0.003940   1.000000 -0.068130 -0.086695       -0.006109   \n",
       "age             0.002227  -0.068130  1.000000  0.461876        0.124741   \n",
       "tenure          0.005340  -0.086695  0.461876  1.000000        0.119844   \n",
       "business_owner  0.001467  -0.006109  0.124741  0.119844        1.000000   \n",
       "gender          0.009125   0.001954 -0.000815 -0.000748       -0.006401   \n",
       "marital_status  0.006144   0.027381  0.070514  0.038517        0.016540   \n",
       "\n",
       "                  gender  marital_status  \n",
       "cust_num        0.009125        0.006144  \n",
       "education       0.001954        0.027381  \n",
       "age            -0.000815        0.070514  \n",
       "tenure         -0.000748        0.038517  \n",
       "business_owner -0.006401        0.016540  \n",
       "gender          1.000000        0.003757  \n",
       "marital_status  0.003757        1.000000  "
      ]
     },
     "execution_count": 35,
     "metadata": {},
     "output_type": "execute_result"
    }
   ],
   "source": [
    "customer_info_df.corr(method='pearson', numeric_only=True)"
   ]
  },
  {
   "cell_type": "code",
   "execution_count": 79,
   "id": "41354455-7a6d-410c-9f3e-39726de1f94a",
   "metadata": {},
   "outputs": [
    {
     "data": {
      "text/plain": [
       "<Axes: >"
      ]
     },
     "execution_count": 79,
     "metadata": {},
     "output_type": "execute_result"
    },
    {
     "data": {
      "image/png": "[encoded data removed]",
      "text/plain": [
       "<Figure size 640x480 with 2 Axes>"
      ]
     },
     "metadata": {},
     "output_type": "display_data"
    }
   ],
   "source": [
    "sns.heatmap(data=customer_info_df.corr(method='pearson', numeric_only=True), annot=True)"
   ]
  },
  {
   "cell_type": "markdown",
   "id": "a23f0415-d6ff-4545-91ff-e5921cce22c5",
   "metadata": {},
   "source": [
    "Need nga imap lahat ng categorical variables para macorrelate."
   ]
  },
  {
   "cell_type": "code",
   "execution_count": null,
   "id": "c9f7bd4a-7bbb-45fa-b3d5-7d85a0f0b931",
   "metadata": {},
   "outputs": [],
   "source": []
  }
 ],
 "metadata": {
  "kernelspec": {
   "display_name": "Python 3 (ipykernel)",
   "language": "python",
   "name": "python3"
  },
  "language_info": {
   "codemirror_mode": {
    "name": "ipython",
    "version": 3
   },
   "file_extension": ".py",
   "mimetype": "text/x-python",
   "name": "python",
   "nbconvert_exporter": "python",
   "pygments_lexer": "ipython3",
   "version": "3.11.0"
  }
 },
 "nbformat": 4,
 "nbformat_minor": 5
}
