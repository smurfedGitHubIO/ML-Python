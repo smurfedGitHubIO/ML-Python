{
 "cells": [
  {
   "cell_type": "code",
   "execution_count": 2,
   "id": "c5fcce8f-a063-4e82-ad85-2bf31f8b1cda",
   "metadata": {},
   "outputs": [],
   "source": [
    "import pandas as pd\n",
    "import numpy as np"
   ]
  },
  {
   "cell_type": "code",
   "execution_count": 3,
   "id": "c3631076-35ac-4751-ab3c-9a767bc50761",
   "metadata": {},
   "outputs": [
    {
     "data": {
      "text/html": [
       "<div>\n",
       "<style scoped>\n",
       "    .dataframe tbody tr th:only-of-type {\n",
       "        vertical-align: middle;\n",
       "    }\n",
       "\n",
       "    .dataframe tbody tr th {\n",
       "        vertical-align: top;\n",
       "    }\n",
       "\n",
       "    .dataframe thead th {\n",
       "        text-align: right;\n",
       "    }\n",
       "</style>\n",
       "<table border=\"1\" class=\"dataframe\">\n",
       "  <thead>\n",
       "    <tr style=\"text-align: right;\">\n",
       "      <th></th>\n",
       "      <th>Timestamp</th>\n",
       "      <th>Email Address</th>\n",
       "      <th>Kindly rank your preferred internship task. [Weekly Kumustahan + Grievance Form]</th>\n",
       "      <th>Kindly rank your preferred internship task. [Christmas Party Planning]</th>\n",
       "      <th>Kindly rank your preferred internship task. [Organize Internal Affairs Committee Records]</th>\n",
       "      <th>Kindly choose your preferred team below.</th>\n",
       "      <th>Do you want to be a Vice-Director for your chosen team?</th>\n",
       "    </tr>\n",
       "  </thead>\n",
       "  <tbody>\n",
       "    <tr>\n",
       "      <th>0</th>\n",
       "      <td>2023-11-25 14:48:31.195</td>\n",
       "      <td>jvfrongoso@up.edu.ph</td>\n",
       "      <td>High Priority</td>\n",
       "      <td>Mid Priority</td>\n",
       "      <td>Low Priority</td>\n",
       "      <td>Memberships Team</td>\n",
       "      <td>No</td>\n",
       "    </tr>\n",
       "    <tr>\n",
       "      <th>1</th>\n",
       "      <td>2023-11-25 18:37:42.407</td>\n",
       "      <td>rsbaldevarona1@alum.up.edu.ph</td>\n",
       "      <td>Low Priority</td>\n",
       "      <td>Mid Priority</td>\n",
       "      <td>High Priority</td>\n",
       "      <td>Records Team</td>\n",
       "      <td>No</td>\n",
       "    </tr>\n",
       "    <tr>\n",
       "      <th>2</th>\n",
       "      <td>2023-11-25 18:37:46.598</td>\n",
       "      <td>morgannelim@gmail.com</td>\n",
       "      <td>Mid Priority</td>\n",
       "      <td>High Priority</td>\n",
       "      <td>Low Priority</td>\n",
       "      <td>Memberships Team</td>\n",
       "      <td>No</td>\n",
       "    </tr>\n",
       "    <tr>\n",
       "      <th>3</th>\n",
       "      <td>2023-11-25 18:42:46.045</td>\n",
       "      <td>edmendoza1@up.edu.ph</td>\n",
       "      <td>Low Priority</td>\n",
       "      <td>Mid Priority</td>\n",
       "      <td>High Priority</td>\n",
       "      <td>Records Team</td>\n",
       "      <td>Yes</td>\n",
       "    </tr>\n",
       "    <tr>\n",
       "      <th>4</th>\n",
       "      <td>2023-11-25 18:43:13.842</td>\n",
       "      <td>mrzapanta1@up.edu.ph</td>\n",
       "      <td>Low Priority</td>\n",
       "      <td>High Priority</td>\n",
       "      <td>Mid Priority</td>\n",
       "      <td>Memberships Team</td>\n",
       "      <td>No</td>\n",
       "    </tr>\n",
       "  </tbody>\n",
       "</table>\n",
       "</div>"
      ],
      "text/plain": [
       "                Timestamp                  Email Address  \\\n",
       "0 2023-11-25 14:48:31.195           jvfrongoso@up.edu.ph   \n",
       "1 2023-11-25 18:37:42.407  rsbaldevarona1@alum.up.edu.ph   \n",
       "2 2023-11-25 18:37:46.598          morgannelim@gmail.com   \n",
       "3 2023-11-25 18:42:46.045           edmendoza1@up.edu.ph   \n",
       "4 2023-11-25 18:43:13.842           mrzapanta1@up.edu.ph   \n",
       "\n",
       "  Kindly rank your preferred internship task. [Weekly Kumustahan + Grievance Form]  \\\n",
       "0                                      High Priority                                 \n",
       "1                                       Low Priority                                 \n",
       "2                                       Mid Priority                                 \n",
       "3                                       Low Priority                                 \n",
       "4                                       Low Priority                                 \n",
       "\n",
       "  Kindly rank your preferred internship task. [Christmas Party Planning]  \\\n",
       "0                                       Mid Priority                       \n",
       "1                                       Mid Priority                       \n",
       "2                                      High Priority                       \n",
       "3                                       Mid Priority                       \n",
       "4                                      High Priority                       \n",
       "\n",
       "  Kindly rank your preferred internship task. [Organize Internal Affairs Committee Records]  \\\n",
       "0                                       Low Priority                                          \n",
       "1                                      High Priority                                          \n",
       "2                                       Low Priority                                          \n",
       "3                                      High Priority                                          \n",
       "4                                       Mid Priority                                          \n",
       "\n",
       "  Kindly choose your preferred team below.  \\\n",
       "0                         Memberships Team   \n",
       "1                             Records Team   \n",
       "2                         Memberships Team   \n",
       "3                             Records Team   \n",
       "4                         Memberships Team   \n",
       "\n",
       "  Do you want to be a Vice-Director for your chosen team?  \n",
       "0                                                 No       \n",
       "1                                                 No       \n",
       "2                                                 No       \n",
       "3                                                Yes       \n",
       "4                                                 No       "
      ]
     },
     "execution_count": 3,
     "metadata": {},
     "output_type": "execute_result"
    }
   ],
   "source": [
    "df = pd.read_excel('[AY2324A] Internal Affairs Onboarding (Responses).xlsx')\n",
    "df.head()"
   ]
  },
  {
   "cell_type": "code",
   "execution_count": 4,
   "id": "dbecad40-3e50-42e3-8976-ab05a12e7747",
   "metadata": {},
   "outputs": [
    {
     "data": {
      "text/plain": [
       "Index(['Timestamp', 'Email Address',\n",
       "       'Kindly rank your preferred internship task. [Weekly Kumustahan + Grievance Form]',\n",
       "       'Kindly rank your preferred internship task. [Christmas Party Planning]',\n",
       "       'Kindly rank your preferred internship task. [Organize Internal Affairs Committee Records]',\n",
       "       'Kindly choose your preferred team below.',\n",
       "       'Do you want to be a Vice-Director for your chosen team?'],\n",
       "      dtype='object')"
      ]
     },
     "execution_count": 4,
     "metadata": {},
     "output_type": "execute_result"
    }
   ],
   "source": [
    "df.columns"
   ]
  },
  {
   "cell_type": "code",
   "execution_count": 5,
   "id": "a1e1ddf2-84f7-4f9c-be00-cf5e4a85a1ac",
   "metadata": {},
   "outputs": [],
   "source": [
    "df.columns = ['timestamp', 'email', 'kumustahan', 'xmas', 'organization', 'team', 'vice-director']"
   ]
  },
  {
   "cell_type": "code",
   "execution_count": 6,
   "id": "ec9e9fb2-789f-4d99-a4d5-162f9348f5d7",
   "metadata": {},
   "outputs": [
    {
     "data": {
      "text/html": [
       "<div>\n",
       "<style scoped>\n",
       "    .dataframe tbody tr th:only-of-type {\n",
       "        vertical-align: middle;\n",
       "    }\n",
       "\n",
       "    .dataframe tbody tr th {\n",
       "        vertical-align: top;\n",
       "    }\n",
       "\n",
       "    .dataframe thead th {\n",
       "        text-align: right;\n",
       "    }\n",
       "</style>\n",
       "<table border=\"1\" class=\"dataframe\">\n",
       "  <thead>\n",
       "    <tr style=\"text-align: right;\">\n",
       "      <th></th>\n",
       "      <th>timestamp</th>\n",
       "      <th>email</th>\n",
       "      <th>kumustahan</th>\n",
       "      <th>xmas</th>\n",
       "      <th>organization</th>\n",
       "      <th>team</th>\n",
       "      <th>vice-director</th>\n",
       "    </tr>\n",
       "  </thead>\n",
       "  <tbody>\n",
       "    <tr>\n",
       "      <th>0</th>\n",
       "      <td>2023-11-25 14:48:31.195</td>\n",
       "      <td>jvfrongoso@up.edu.ph</td>\n",
       "      <td>High Priority</td>\n",
       "      <td>Mid Priority</td>\n",
       "      <td>Low Priority</td>\n",
       "      <td>Memberships Team</td>\n",
       "      <td>No</td>\n",
       "    </tr>\n",
       "    <tr>\n",
       "      <th>1</th>\n",
       "      <td>2023-11-25 18:37:42.407</td>\n",
       "      <td>rsbaldevarona1@alum.up.edu.ph</td>\n",
       "      <td>Low Priority</td>\n",
       "      <td>Mid Priority</td>\n",
       "      <td>High Priority</td>\n",
       "      <td>Records Team</td>\n",
       "      <td>No</td>\n",
       "    </tr>\n",
       "    <tr>\n",
       "      <th>2</th>\n",
       "      <td>2023-11-25 18:37:46.598</td>\n",
       "      <td>morgannelim@gmail.com</td>\n",
       "      <td>Mid Priority</td>\n",
       "      <td>High Priority</td>\n",
       "      <td>Low Priority</td>\n",
       "      <td>Memberships Team</td>\n",
       "      <td>No</td>\n",
       "    </tr>\n",
       "    <tr>\n",
       "      <th>3</th>\n",
       "      <td>2023-11-25 18:42:46.045</td>\n",
       "      <td>edmendoza1@up.edu.ph</td>\n",
       "      <td>Low Priority</td>\n",
       "      <td>Mid Priority</td>\n",
       "      <td>High Priority</td>\n",
       "      <td>Records Team</td>\n",
       "      <td>Yes</td>\n",
       "    </tr>\n",
       "    <tr>\n",
       "      <th>4</th>\n",
       "      <td>2023-11-25 18:43:13.842</td>\n",
       "      <td>mrzapanta1@up.edu.ph</td>\n",
       "      <td>Low Priority</td>\n",
       "      <td>High Priority</td>\n",
       "      <td>Mid Priority</td>\n",
       "      <td>Memberships Team</td>\n",
       "      <td>No</td>\n",
       "    </tr>\n",
       "  </tbody>\n",
       "</table>\n",
       "</div>"
      ],
      "text/plain": [
       "                timestamp                          email     kumustahan  \\\n",
       "0 2023-11-25 14:48:31.195           jvfrongoso@up.edu.ph  High Priority   \n",
       "1 2023-11-25 18:37:42.407  rsbaldevarona1@alum.up.edu.ph   Low Priority   \n",
       "2 2023-11-25 18:37:46.598          morgannelim@gmail.com   Mid Priority   \n",
       "3 2023-11-25 18:42:46.045           edmendoza1@up.edu.ph   Low Priority   \n",
       "4 2023-11-25 18:43:13.842           mrzapanta1@up.edu.ph   Low Priority   \n",
       "\n",
       "            xmas   organization              team vice-director  \n",
       "0   Mid Priority   Low Priority  Memberships Team            No  \n",
       "1   Mid Priority  High Priority      Records Team            No  \n",
       "2  High Priority   Low Priority  Memberships Team            No  \n",
       "3   Mid Priority  High Priority      Records Team           Yes  \n",
       "4  High Priority   Mid Priority  Memberships Team            No  "
      ]
     },
     "execution_count": 6,
     "metadata": {},
     "output_type": "execute_result"
    }
   ],
   "source": [
    "df.head()"
   ]
  },
  {
   "cell_type": "code",
   "execution_count": 7,
   "id": "da3def89-6c4e-478e-829f-eca7b979d436",
   "metadata": {},
   "outputs": [
    {
     "data": {
      "text/plain": [
       "RangeIndex(start=0, stop=30, step=1)"
      ]
     },
     "execution_count": 7,
     "metadata": {},
     "output_type": "execute_result"
    }
   ],
   "source": [
    "df.index"
   ]
  },
  {
   "cell_type": "code",
   "execution_count": 10,
   "id": "d304213a-d014-4696-83e4-d68c49cd48c8",
   "metadata": {},
   "outputs": [],
   "source": [
    "df.drop([0, 8, 18], axis=0, inplace=True)"
   ]
  },
  {
   "cell_type": "code",
   "execution_count": 14,
   "id": "013b5722-e634-416e-96b4-c87d2764d978",
   "metadata": {},
   "outputs": [
    {
     "data": {
      "text/plain": [
       "team          timestamp                email                          kumustahan    xmas          organization   vice-director\n",
       "Records Team  2023-11-25 18:37:42.407  rsbaldevarona1@alum.up.edu.ph  Low Priority  Mid Priority  High Priority  No               1\n",
       "              2023-11-25 18:42:46.045  edmendoza1@up.edu.ph           Low Priority  Mid Priority  High Priority  Yes              1\n",
       "              2023-11-25 18:43:44.691  styledcv@gmail.com             Mid Priority  Low Priority  High Priority  No               1\n",
       "              2023-11-25 18:45:09.391  melodelle82@gmail.com          Mid Priority  Low Priority  High Priority  No               1\n",
       "              2023-11-25 18:49:35.757  rairacta@up.edu.ph             Mid Priority  Low Priority  High Priority  No               1\n",
       "              2023-11-25 19:53:21.750  dtlara1@alum.up.edu.ph         Low Priority  Mid Priority  High Priority  Yes              1\n",
       "              2023-11-26 01:17:32.913  eeero@alum.up.edu.ph           Mid Priority  Low Priority  High Priority  No               1\n",
       "              2023-11-26 13:44:05.233  lstiu@up.edu.ph                Mid Priority  Low Priority  High Priority  No               1\n",
       "              2023-11-26 14:27:07.496  ntawit@up.edu.ph               Mid Priority  Low Priority  High Priority  No               1\n",
       "              2023-11-26 14:57:59.021  rhyzpect@gmail.com             Low Priority  Mid Priority  High Priority  No               1\n",
       "              2023-11-26 20:38:38.674  mafemeg15@gmail.com            Mid Priority  Low Priority  High Priority  No               1\n",
       "              2023-11-26 20:45:01.955  sdvillanueva3@up.edu.ph        Mid Priority  Low Priority  High Priority  No               1\n",
       "Name: count, dtype: int64"
      ]
     },
     "execution_count": 14,
     "metadata": {},
     "output_type": "execute_result"
    }
   ],
   "source": [
    "df[df['organization'] == 'High Priority'].groupby('team').value_counts()"
   ]
  },
  {
   "cell_type": "code",
   "execution_count": 15,
   "id": "74078d16-1e4c-4e0d-a05a-e2d2f799b9cc",
   "metadata": {},
   "outputs": [
    {
     "data": {
      "text/plain": [
       "team              timestamp                email                          kumustahan     xmas           organization   vice-director\n",
       "Memberships Team  2023-11-25 18:37:46.598  morgannelim@gmail.com          Mid Priority   High Priority  Low Priority   No               1\n",
       "                  2023-11-25 18:43:13.842  mrzapanta1@up.edu.ph           Low Priority   High Priority  Mid Priority   No               1\n",
       "                  2023-11-26 16:57:53.403  movillanueva@up.edu.ph         Mid Priority   High Priority  Low Priority   No               1\n",
       "                  2023-11-26 13:42:48.230  maiguejohn02@gmail.com         High Priority  Mid Priority   Low Priority   No               1\n",
       "                  2023-11-26 04:00:12.402  gptorres@up.edu.ph             Mid Priority   High Priority  Low Priority   No               1\n",
       "                  2023-11-26 00:21:48.625  cpcarullo@up.edu.ph            High Priority  Low Priority   Mid Priority   No               1\n",
       "                  2023-11-25 21:53:18.098  labasano.mac@gmail.com         Mid Priority   High Priority  Low Priority   Yes              1\n",
       "                  2023-11-25 20:38:43.788  smcapucao@alum.up.edu.ph       High Priority  Mid Priority   Low Priority   No               1\n",
       "                  2023-11-25 20:02:34.064  jgraquino@alum.up.edu.ph       Low Priority   High Priority  Mid Priority   No               1\n",
       "                  2023-11-25 19:21:10.784  jyybut1@up.edu.ph              Low Priority   High Priority  Mid Priority   Yes              1\n",
       "                  2023-11-25 19:10:55.676  jptappul@up.edu.ph             High Priority  Low Priority   Mid Priority   No               1\n",
       "                  2023-11-25 19:10:29.923  rlcurray@up.edu.ph             High Priority  Low Priority   Mid Priority   No               1\n",
       "                  2023-11-25 18:51:46.314  abmuyco@up.edu.ph              High Priority  Low Priority   Mid Priority   Yes              1\n",
       "Records Team      2023-11-25 18:42:46.045  edmendoza1@up.edu.ph           Low Priority   Mid Priority   High Priority  Yes              1\n",
       "                  2023-11-26 20:38:38.674  mafemeg15@gmail.com            Mid Priority   Low Priority   High Priority  No               1\n",
       "                  2023-11-26 14:57:59.021  rhyzpect@gmail.com             Low Priority   Mid Priority   High Priority  No               1\n",
       "                  2023-11-26 14:27:07.496  ntawit@up.edu.ph               Mid Priority   Low Priority   High Priority  No               1\n",
       "                  2023-11-26 13:44:05.233  lstiu@up.edu.ph                Mid Priority   Low Priority   High Priority  No               1\n",
       "                  2023-11-26 05:52:29.360  jmdelossantos6@up.edu.ph       High Priority  Mid Priority   Low Priority   No               1\n",
       "                  2023-11-26 01:17:32.913  eeero@alum.up.edu.ph           Mid Priority   Low Priority   High Priority  No               1\n",
       "                  2023-11-25 22:59:28.434  cpmiranda1@up.edu.ph           High Priority  Low Priority   Mid Priority   Yes              1\n",
       "                  2023-11-25 19:53:21.750  dtlara1@alum.up.edu.ph         Low Priority   Mid Priority   High Priority  Yes              1\n",
       "                  2023-11-25 18:49:35.757  rairacta@up.edu.ph             Mid Priority   Low Priority   High Priority  No               1\n",
       "                  2023-11-25 18:45:09.391  melodelle82@gmail.com          Mid Priority   Low Priority   High Priority  No               1\n",
       "                  2023-11-25 18:43:44.691  styledcv@gmail.com             Mid Priority   Low Priority   High Priority  No               1\n",
       "                  2023-11-25 18:37:42.407  rsbaldevarona1@alum.up.edu.ph  Low Priority   Mid Priority   High Priority  No               1\n",
       "                  2023-11-26 20:45:01.955  sdvillanueva3@up.edu.ph        Mid Priority   Low Priority   High Priority  No               1\n",
       "Name: count, dtype: int64"
      ]
     },
     "execution_count": 15,
     "metadata": {},
     "output_type": "execute_result"
    }
   ],
   "source": [
    "df.groupby('team').value_counts()"
   ]
  },
  {
   "cell_type": "code",
   "execution_count": 16,
   "id": "9789bde9-fbcb-4ebc-9fc3-c4f3a0992923",
   "metadata": {},
   "outputs": [
    {
     "data": {
      "text/html": [
       "<div>\n",
       "<style scoped>\n",
       "    .dataframe tbody tr th:only-of-type {\n",
       "        vertical-align: middle;\n",
       "    }\n",
       "\n",
       "    .dataframe tbody tr th {\n",
       "        vertical-align: top;\n",
       "    }\n",
       "\n",
       "    .dataframe thead th {\n",
       "        text-align: right;\n",
       "    }\n",
       "</style>\n",
       "<table border=\"1\" class=\"dataframe\">\n",
       "  <thead>\n",
       "    <tr style=\"text-align: right;\">\n",
       "      <th></th>\n",
       "      <th>timestamp</th>\n",
       "    </tr>\n",
       "  </thead>\n",
       "  <tbody>\n",
       "    <tr>\n",
       "      <th>count</th>\n",
       "      <td>27</td>\n",
       "    </tr>\n",
       "    <tr>\n",
       "      <th>mean</th>\n",
       "      <td>2023-11-26 02:03:58.699037184</td>\n",
       "    </tr>\n",
       "    <tr>\n",
       "      <th>min</th>\n",
       "      <td>2023-11-25 18:37:42.407000</td>\n",
       "    </tr>\n",
       "    <tr>\n",
       "      <th>25%</th>\n",
       "      <td>2023-11-25 18:50:41.035499776</td>\n",
       "    </tr>\n",
       "    <tr>\n",
       "      <th>50%</th>\n",
       "      <td>2023-11-25 20:38:43.788000</td>\n",
       "    </tr>\n",
       "    <tr>\n",
       "      <th>75%</th>\n",
       "      <td>2023-11-26 09:47:38.795000064</td>\n",
       "    </tr>\n",
       "    <tr>\n",
       "      <th>max</th>\n",
       "      <td>2023-11-26 20:45:01.955000</td>\n",
       "    </tr>\n",
       "  </tbody>\n",
       "</table>\n",
       "</div>"
      ],
      "text/plain": [
       "                           timestamp\n",
       "count                             27\n",
       "mean   2023-11-26 02:03:58.699037184\n",
       "min       2023-11-25 18:37:42.407000\n",
       "25%    2023-11-25 18:50:41.035499776\n",
       "50%       2023-11-25 20:38:43.788000\n",
       "75%    2023-11-26 09:47:38.795000064\n",
       "max       2023-11-26 20:45:01.955000"
      ]
     },
     "execution_count": 16,
     "metadata": {},
     "output_type": "execute_result"
    }
   ],
   "source": [
    "df.describe()"
   ]
  },
  {
   "cell_type": "markdown",
   "id": "92004c44-cfc8-4101-a217-079e2f9adaa2",
   "metadata": {},
   "source": [
    "Yung dalawang di nakapagsagot is si Ignacio and Rae Menchavez."
   ]
  },
  {
   "cell_type": "code",
   "execution_count": 18,
   "id": "dcf61469-d7f3-460c-af67-52d2dc641891",
   "metadata": {},
   "outputs": [
    {
     "data": {
      "text/html": [
       "<div>\n",
       "<style scoped>\n",
       "    .dataframe tbody tr th:only-of-type {\n",
       "        vertical-align: middle;\n",
       "    }\n",
       "\n",
       "    .dataframe tbody tr th {\n",
       "        vertical-align: top;\n",
       "    }\n",
       "\n",
       "    .dataframe thead th {\n",
       "        text-align: right;\n",
       "    }\n",
       "</style>\n",
       "<table border=\"1\" class=\"dataframe\">\n",
       "  <thead>\n",
       "    <tr style=\"text-align: right;\">\n",
       "      <th></th>\n",
       "      <th>timestamp</th>\n",
       "    </tr>\n",
       "  </thead>\n",
       "  <tbody>\n",
       "    <tr>\n",
       "      <th>count</th>\n",
       "      <td>7</td>\n",
       "    </tr>\n",
       "    <tr>\n",
       "      <th>mean</th>\n",
       "      <td>2023-11-25 23:56:35.598714368</td>\n",
       "    </tr>\n",
       "    <tr>\n",
       "      <th>min</th>\n",
       "      <td>2023-11-25 18:37:46.598000</td>\n",
       "    </tr>\n",
       "    <tr>\n",
       "      <th>25%</th>\n",
       "      <td>2023-11-25 19:02:12.312999936</td>\n",
       "    </tr>\n",
       "    <tr>\n",
       "      <th>50%</th>\n",
       "      <td>2023-11-25 20:02:34.064000</td>\n",
       "    </tr>\n",
       "    <tr>\n",
       "      <th>75%</th>\n",
       "      <td>2023-11-26 00:56:45.249999872</td>\n",
       "    </tr>\n",
       "    <tr>\n",
       "      <th>max</th>\n",
       "      <td>2023-11-26 16:57:53.403000</td>\n",
       "    </tr>\n",
       "  </tbody>\n",
       "</table>\n",
       "</div>"
      ],
      "text/plain": [
       "                           timestamp\n",
       "count                              7\n",
       "mean   2023-11-25 23:56:35.598714368\n",
       "min       2023-11-25 18:37:46.598000\n",
       "25%    2023-11-25 19:02:12.312999936\n",
       "50%       2023-11-25 20:02:34.064000\n",
       "75%    2023-11-26 00:56:45.249999872\n",
       "max       2023-11-26 16:57:53.403000"
      ]
     },
     "execution_count": 18,
     "metadata": {},
     "output_type": "execute_result"
    }
   ],
   "source": [
    "df[df['xmas'] == 'High Priority'].describe()"
   ]
  },
  {
   "cell_type": "code",
   "execution_count": 19,
   "id": "ea46a94f-6b43-41ff-8beb-a783a0398397",
   "metadata": {},
   "outputs": [
    {
     "data": {
      "text/html": [
       "<div>\n",
       "<style scoped>\n",
       "    .dataframe tbody tr th:only-of-type {\n",
       "        vertical-align: middle;\n",
       "    }\n",
       "\n",
       "    .dataframe tbody tr th {\n",
       "        vertical-align: top;\n",
       "    }\n",
       "\n",
       "    .dataframe thead th {\n",
       "        text-align: right;\n",
       "    }\n",
       "</style>\n",
       "<table border=\"1\" class=\"dataframe\">\n",
       "  <thead>\n",
       "    <tr style=\"text-align: right;\">\n",
       "      <th></th>\n",
       "      <th>timestamp</th>\n",
       "    </tr>\n",
       "  </thead>\n",
       "  <tbody>\n",
       "    <tr>\n",
       "      <th>count</th>\n",
       "      <td>8</td>\n",
       "    </tr>\n",
       "    <tr>\n",
       "      <th>mean</th>\n",
       "      <td>2023-11-26 00:06:03.793750016</td>\n",
       "    </tr>\n",
       "    <tr>\n",
       "      <th>min</th>\n",
       "      <td>2023-11-25 18:51:46.314000</td>\n",
       "    </tr>\n",
       "    <tr>\n",
       "      <th>25%</th>\n",
       "      <td>2023-11-25 19:10:49.237750016</td>\n",
       "    </tr>\n",
       "    <tr>\n",
       "      <th>50%</th>\n",
       "      <td>2023-11-25 21:49:06.110999808</td>\n",
       "    </tr>\n",
       "    <tr>\n",
       "      <th>75%</th>\n",
       "      <td>2023-11-26 01:44:28.808749824</td>\n",
       "    </tr>\n",
       "    <tr>\n",
       "      <th>max</th>\n",
       "      <td>2023-11-26 13:42:48.230000</td>\n",
       "    </tr>\n",
       "  </tbody>\n",
       "</table>\n",
       "</div>"
      ],
      "text/plain": [
       "                           timestamp\n",
       "count                              8\n",
       "mean   2023-11-26 00:06:03.793750016\n",
       "min       2023-11-25 18:51:46.314000\n",
       "25%    2023-11-25 19:10:49.237750016\n",
       "50%    2023-11-25 21:49:06.110999808\n",
       "75%    2023-11-26 01:44:28.808749824\n",
       "max       2023-11-26 13:42:48.230000"
      ]
     },
     "execution_count": 19,
     "metadata": {},
     "output_type": "execute_result"
    }
   ],
   "source": [
    "df[df['kumustahan'] == 'High Priority'].describe()"
   ]
  },
  {
   "cell_type": "markdown",
   "id": "d7a6f1c9-969a-4d95-a123-c61d65a97831",
   "metadata": {},
   "source": [
    "Put Rae Menchavez to Christmas Party Planning."
   ]
  },
  {
   "cell_type": "code",
   "execution_count": 20,
   "id": "a0291db5-981c-4410-8c38-38b827478482",
   "metadata": {},
   "outputs": [
    {
     "data": {
      "text/plain": [
       "team          timestamp                email                          kumustahan    xmas          organization   vice-director\n",
       "Records Team  2023-11-25 18:37:42.407  rsbaldevarona1@alum.up.edu.ph  Low Priority  Mid Priority  High Priority  No               1\n",
       "              2023-11-25 18:42:46.045  edmendoza1@up.edu.ph           Low Priority  Mid Priority  High Priority  Yes              1\n",
       "              2023-11-25 18:43:44.691  styledcv@gmail.com             Mid Priority  Low Priority  High Priority  No               1\n",
       "              2023-11-25 18:45:09.391  melodelle82@gmail.com          Mid Priority  Low Priority  High Priority  No               1\n",
       "              2023-11-25 18:49:35.757  rairacta@up.edu.ph             Mid Priority  Low Priority  High Priority  No               1\n",
       "              2023-11-25 19:53:21.750  dtlara1@alum.up.edu.ph         Low Priority  Mid Priority  High Priority  Yes              1\n",
       "              2023-11-26 01:17:32.913  eeero@alum.up.edu.ph           Mid Priority  Low Priority  High Priority  No               1\n",
       "              2023-11-26 13:44:05.233  lstiu@up.edu.ph                Mid Priority  Low Priority  High Priority  No               1\n",
       "              2023-11-26 14:27:07.496  ntawit@up.edu.ph               Mid Priority  Low Priority  High Priority  No               1\n",
       "              2023-11-26 14:57:59.021  rhyzpect@gmail.com             Low Priority  Mid Priority  High Priority  No               1\n",
       "              2023-11-26 20:38:38.674  mafemeg15@gmail.com            Mid Priority  Low Priority  High Priority  No               1\n",
       "              2023-11-26 20:45:01.955  sdvillanueva3@up.edu.ph        Mid Priority  Low Priority  High Priority  No               1\n",
       "Name: count, dtype: int64"
      ]
     },
     "execution_count": 20,
     "metadata": {},
     "output_type": "execute_result"
    }
   ],
   "source": [
    "df[df['organization'] == 'High Priority'].groupby('team').value_counts()"
   ]
  },
  {
   "cell_type": "code",
   "execution_count": 24,
   "id": "0f592c37-788a-4bbe-b5f4-23b4306f4eb1",
   "metadata": {},
   "outputs": [
    {
     "data": {
      "text/plain": [
       "team              email                   \n",
       "Memberships Team  abmuyco@up.edu.ph           1\n",
       "                  cpcarullo@up.edu.ph         1\n",
       "                  jptappul@up.edu.ph          1\n",
       "                  maiguejohn02@gmail.com      1\n",
       "                  rlcurray@up.edu.ph          1\n",
       "                  smcapucao@alum.up.edu.ph    1\n",
       "Records Team      cpmiranda1@up.edu.ph        1\n",
       "                  jmdelossantos6@up.edu.ph    1\n",
       "Name: count, dtype: int64"
      ]
     },
     "execution_count": 24,
     "metadata": {},
     "output_type": "execute_result"
    }
   ],
   "source": [
    "df[df['kumustahan'] == 'High Priority'].groupby('team')['email'].value_counts()"
   ]
  },
  {
   "cell_type": "code",
   "execution_count": 23,
   "id": "bc312d6a-e167-42c0-a58e-a80c7254b5c8",
   "metadata": {},
   "outputs": [
    {
     "data": {
      "text/plain": [
       "team              timestamp                email                     kumustahan    xmas           organization  vice-director\n",
       "Memberships Team  2023-11-25 18:37:46.598  morgannelim@gmail.com     Mid Priority  High Priority  Low Priority  No               1\n",
       "                  2023-11-25 18:43:13.842  mrzapanta1@up.edu.ph      Low Priority  High Priority  Mid Priority  No               1\n",
       "                  2023-11-25 19:21:10.784  jyybut1@up.edu.ph         Low Priority  High Priority  Mid Priority  Yes              1\n",
       "                  2023-11-25 20:02:34.064  jgraquino@alum.up.edu.ph  Low Priority  High Priority  Mid Priority  No               1\n",
       "                  2023-11-25 21:53:18.098  labasano.mac@gmail.com    Mid Priority  High Priority  Low Priority  Yes              1\n",
       "                  2023-11-26 04:00:12.402  gptorres@up.edu.ph        Mid Priority  High Priority  Low Priority  No               1\n",
       "                  2023-11-26 16:57:53.403  movillanueva@up.edu.ph    Mid Priority  High Priority  Low Priority  No               1\n",
       "Name: count, dtype: int64"
      ]
     },
     "execution_count": 23,
     "metadata": {},
     "output_type": "execute_result"
    }
   ],
   "source": [
    "df[df['xmas'] == 'High Priority'].groupby('team').value_counts()"
   ]
  },
  {
   "cell_type": "markdown",
   "id": "fdb5e1fb-8505-4de3-83cb-52ed7fd22925",
   "metadata": {},
   "source": [
    "Consider `Fender Ignacio` as a special case."
   ]
  },
  {
   "cell_type": "markdown",
   "id": "dcabfa73-9199-401c-b1e0-de712ffeea1c",
   "metadata": {},
   "source": [
    "`Rae Menchavez` is now part of Memberships Team and Christmas Party Planning."
   ]
  },
  {
   "cell_type": "code",
   "execution_count": null,
   "id": "42214b23-3809-48d5-ac00-46e249f5c781",
   "metadata": {},
   "outputs": [],
   "source": []
  }
 ],
 "metadata": {
  "kernelspec": {
   "display_name": "Python 3 (ipykernel)",
   "language": "python",
   "name": "python3"
  },
  "language_info": {
   "codemirror_mode": {
    "name": "ipython",
    "version": 3
   },
   "file_extension": ".py",
   "mimetype": "text/x-python",
   "name": "python",
   "nbconvert_exporter": "python",
   "pygments_lexer": "ipython3",
   "version": "3.11.5"
  }
 },
 "nbformat": 4,
 "nbformat_minor": 5
}
