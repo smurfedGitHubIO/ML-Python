{
 "cells": [
  {
   "cell_type": "code",
   "execution_count": 1,
   "id": "5b47501c-ceff-4a13-a4fa-560bcd954590",
   "metadata": {},
   "outputs": [],
   "source": [
    "import numpy as np"
   ]
  },
  {
   "cell_type": "code",
   "execution_count": 7,
   "id": "0c3de41d-418b-4953-8cbc-7df1e2ce2f7d",
   "metadata": {},
   "outputs": [],
   "source": [
    "sample = np.ndarray((2,3))"
   ]
  },
  {
   "cell_type": "code",
   "execution_count": 8,
   "id": "70070614-7714-41e1-862b-0cab814895f6",
   "metadata": {},
   "outputs": [
    {
     "data": {
      "text/plain": [
       "(2, 3)"
      ]
     },
     "execution_count": 8,
     "metadata": {},
     "output_type": "execute_result"
    }
   ],
   "source": [
    "sample.shape"
   ]
  },
  {
   "cell_type": "code",
   "execution_count": 9,
   "id": "240cd7b1-2946-4ecc-a260-810283476e83",
   "metadata": {},
   "outputs": [
    {
     "data": {
      "text/plain": [
       "dtype('float64')"
      ]
     },
     "execution_count": 9,
     "metadata": {},
     "output_type": "execute_result"
    }
   ],
   "source": [
    "sample.dtype"
   ]
  },
  {
   "cell_type": "code",
   "execution_count": 13,
   "id": "338072a7-f30b-4268-baa8-70660bc51560",
   "metadata": {},
   "outputs": [
    {
     "data": {
      "text/plain": [
       "array([[ 0,  1,  2,  3],\n",
       "       [ 4,  5,  6,  7],\n",
       "       [ 8,  9, 10, 11],\n",
       "       [12, 13, 14, 15],\n",
       "       [16, 17, 18, 19],\n",
       "       [20, 21, 22, 23],\n",
       "       [24, 25, 26, 27],\n",
       "       [28, 29, 30, 31]])"
      ]
     },
     "execution_count": 13,
     "metadata": {},
     "output_type": "execute_result"
    }
   ],
   "source": [
    "array = np.arange(32).reshape((8,4))\n",
    "array"
   ]
  },
  {
   "cell_type": "code",
   "execution_count": 14,
   "id": "3c6e8947-3ce4-4b47-83d6-abf45b930dae",
   "metadata": {},
   "outputs": [
    {
     "data": {
      "text/plain": [
       "array([ 4, 15, 22, 29])"
      ]
     },
     "execution_count": 14,
     "metadata": {},
     "output_type": "execute_result"
    }
   ],
   "source": [
    "array[[1,3,5,7], [0,3,2,1]]"
   ]
  },
  {
   "cell_type": "code",
   "execution_count": 15,
   "id": "775da9dc-1631-4996-8ffb-cc817101aa9f",
   "metadata": {},
   "outputs": [
    {
     "data": {
      "text/plain": [
       "array([[ 4,  7,  6,  5],\n",
       "       [12, 15, 14, 13],\n",
       "       [20, 23, 22, 21],\n",
       "       [28, 31, 30, 29]])"
      ]
     },
     "execution_count": 15,
     "metadata": {},
     "output_type": "execute_result"
    }
   ],
   "source": [
    "array[[1,3,5,7]][:, [0,3,2,1]]"
   ]
  },
  {
   "cell_type": "code",
   "execution_count": 16,
   "id": "aa900e4b-d466-4b25-a8f9-dd874b65ee48",
   "metadata": {},
   "outputs": [
    {
     "data": {
      "text/plain": [
       "array([[ 4,  7,  6,  5],\n",
       "       [12, 15, 14, 13],\n",
       "       [20, 23, 22, 21],\n",
       "       [28, 31, 30, 29]])"
      ]
     },
     "execution_count": 16,
     "metadata": {},
     "output_type": "execute_result"
    }
   ],
   "source": [
    "array[np.ix_([1,3,5,7], [0,3,2,1])]"
   ]
  },
  {
   "cell_type": "code",
   "execution_count": 18,
   "id": "44b6c776-d7e7-43c2-9529-d7160eda21cd",
   "metadata": {},
   "outputs": [
    {
     "name": "stdout",
     "output_type": "stream",
     "text": [
      "<zip object at 0x000002D6BBDB90C0>\n"
     ]
    }
   ],
   "source": [
    "a, b = [1,2,3], [4,5,6]\n",
    "x = zip(a,b)\n",
    "print(x) # iterator pala si x"
   ]
  },
  {
   "cell_type": "markdown",
   "id": "ff45d178-7afb-4d21-b269-8a375b7499ea",
   "metadata": {},
   "source": [
    "Actually alam ko na yung mga nilagay rito so wala akong masyadong matetest unless magsagot ako ng problems or magcheck ng documentation."
   ]
  },
  {
   "cell_type": "code",
   "execution_count": null,
   "id": "12db1cb0-5bef-422f-84e7-b27200783208",
   "metadata": {},
   "outputs": [],
   "source": []
  }
 ],
 "metadata": {
  "kernelspec": {
   "display_name": "Python 3 (ipykernel)",
   "language": "python",
   "name": "python3"
  },
  "language_info": {
   "codemirror_mode": {
    "name": "ipython",
    "version": 3
   },
   "file_extension": ".py",
   "mimetype": "text/x-python",
   "name": "python",
   "nbconvert_exporter": "python",
   "pygments_lexer": "ipython3",
   "version": "3.11.5"
  }
 },
 "nbformat": 4,
 "nbformat_minor": 5
}
