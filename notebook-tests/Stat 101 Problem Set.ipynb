{
 "cells": [
  {
   "cell_type": "code",
   "execution_count": 3,
   "id": "71a9ec86-6e58-4de2-9793-7a137020a1f5",
   "metadata": {},
   "outputs": [],
   "source": [
    "import pandas as pd\n",
    "from matplotlib import pyplot as plt\n",
    "import numpy as np"
   ]
  },
  {
   "cell_type": "code",
   "execution_count": 4,
   "id": "0e835b41-2cde-4cd2-9536-98cb2dd47932",
   "metadata": {},
   "outputs": [],
   "source": [
    "x = pd.Series([281, 281, 281, 102, 102, 140, 140, 513, 513, 513, 389, 389, 389, 389, 389])"
   ]
  },
  {
   "cell_type": "code",
   "execution_count": 5,
   "id": "e437c953-e4de-482a-aa25-8abac5c027a4",
   "metadata": {},
   "outputs": [
    {
     "data": {
      "text/plain": [
       "320.73333333333335"
      ]
     },
     "execution_count": 5,
     "metadata": {},
     "output_type": "execute_result"
    }
   ],
   "source": [
    "x.mean()"
   ]
  },
  {
   "cell_type": "code",
   "execution_count": 6,
   "id": "b2875630-976b-4818-8dca-31e09ac465da",
   "metadata": {},
   "outputs": [
    {
     "data": {
      "text/plain": [
       "389.0"
      ]
     },
     "execution_count": 6,
     "metadata": {},
     "output_type": "execute_result"
    }
   ],
   "source": [
    "x.median()"
   ]
  },
  {
   "cell_type": "code",
   "execution_count": 7,
   "id": "f5620515-b4f0-48a2-bfb6-aa85a113924a",
   "metadata": {},
   "outputs": [
    {
     "data": {
      "text/plain": [
       "0    389\n",
       "dtype: int64"
      ]
     },
     "execution_count": 7,
     "metadata": {},
     "output_type": "execute_result"
    }
   ],
   "source": [
    "x.mode()"
   ]
  },
  {
   "cell_type": "code",
   "execution_count": 9,
   "id": "9eaca796-d193-407a-954a-d67137fe8257",
   "metadata": {},
   "outputs": [
    {
     "data": {
      "image/png": "[encoded data removed]",
      "text/plain": [
       "<Figure size 640x480 with 1 Axes>"
      ]
     },
     "metadata": {},
     "output_type": "display_data"
    }
   ],
   "source": [
    "plt.boxplot(x)\n",
    "plt.show()"
   ]
  },
  {
   "cell_type": "code",
   "execution_count": 10,
   "id": "81160d8e-4431-4cb9-a3f5-149573acbf6a",
   "metadata": {},
   "outputs": [
    {
     "data": {
      "text/plain": [
       "146.3740153884984"
      ]
     },
     "execution_count": 10,
     "metadata": {},
     "output_type": "execute_result"
    }
   ],
   "source": [
    "x.std()"
   ]
  },
  {
   "cell_type": "code",
   "execution_count": 13,
   "id": "83655333-5762-4b0b-99df-f158b79f1c35",
   "metadata": {},
   "outputs": [
    {
     "ename": "TypeError",
     "evalue": "bar() missing 1 required positional argument: 'height'",
     "output_type": "error",
     "traceback": [
      "\u001b[1;31m---------------------------------------------------------------------------\u001b[0m",
      "\u001b[1;31mTypeError\u001b[0m                                 Traceback (most recent call last)",
      "Cell \u001b[1;32mIn[13], line 1\u001b[0m\n\u001b[1;32m----> 1\u001b[0m \u001b[43mplt\u001b[49m\u001b[38;5;241;43m.\u001b[39;49m\u001b[43mbar\u001b[49m\u001b[43m(\u001b[49m\u001b[43mx\u001b[49m\u001b[43m)\u001b[49m\n",
      "\u001b[1;31mTypeError\u001b[0m: bar() missing 1 required positional argument: 'height'"
     ]
    }
   ],
   "source": [
    "plt.bar(x)"
   ]
  },
  {
   "cell_type": "code",
   "execution_count": null,
   "id": "755b08f5-7d90-4fc3-be92-9846b72f892b",
   "metadata": {},
   "outputs": [],
   "source": []
  }
 ],
 "metadata": {
  "kernelspec": {
   "display_name": "Python 3 (ipykernel)",
   "language": "python",
   "name": "python3"
  },
  "language_info": {
   "codemirror_mode": {
    "name": "ipython",
    "version": 3
   },
   "file_extension": ".py",
   "mimetype": "text/x-python",
   "name": "python",
   "nbconvert_exporter": "python",
   "pygments_lexer": "ipython3",
   "version": "3.11.5"
  }
 },
 "nbformat": 4,
 "nbformat_minor": 5
}
