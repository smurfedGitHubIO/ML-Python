{
 "cells": [
  {
   "cell_type": "code",
   "execution_count": 1,
   "id": "deb996fa-59bf-4581-a60f-ccaf32a11d0f",
   "metadata": {},
   "outputs": [],
   "source": [
    "import pandas as pd\n",
    "from PyPDF2 import PdfReader as PDFReader\n",
    "import os"
   ]
  },
  {
   "cell_type": "code",
   "execution_count": 11,
   "id": "e5f949f6-7f88-4fbd-8e92-fd2530ecc984",
   "metadata": {},
   "outputs": [
    {
     "name": "stdout",
     "output_type": "stream",
     "text": [
      "   No. Unnamed: 1  Voter's Name                Unnamed: 3  \\\n",
      "0    1          C           NaN  ABAD, CARLITO CANONIZADO   \n",
      "1    2        NaN           NaN     ABAD, JENNIFER FLORES   \n",
      "2    3        NaN           NaN  ALEJANDRIA, RIA CASTILLO   \n",
      "3    4          *           NaN       ALERA, REGINE SELGA   \n",
      "4    5        NaN           NaN     APALIS, ARIZZA SUELEN   \n",
      "\n",
      "                           Unnamed: 4  Voter's Address  \n",
      "0   62 SISA ST.  ACACIA  MALABON CITY              NaN  \n",
      "1   62 SISA ST.  ACACIA  MALABON CITY              NaN  \n",
      "2  106 SISA ST.  ACACIA  MALABON CITY              NaN  \n",
      "3                    98 E BASILIO ST.              NaN  \n",
      "4                          25 BASILIO              NaN  \n",
      "                                                 No.  Voter's Name  \\\n",
      "0                                  28              *           NaN   \n",
      "1                              29              *\\n30           NaN   \n",
      "2  31                   CAYABYAB, MARK KEVIN ZAMO...           NaN   \n",
      "3  32                   CERO, JOVELITA FUENTES   ...           NaN   \n",
      "4  33                   CODON, LEONILA HIMOR     ...           NaN   \n",
      "\n",
      "                                         Unnamed: 2 Unnamed: 3  \\\n",
      "0                      CAPATI, RONALD ALLAN BARBOZA        NaN   \n",
      "1  CARACAS, JOMARI SOLVER\\nCARVAJAL, RICHIE INGUANA        NaN   \n",
      "2                                               NaN        NaN   \n",
      "3                                               NaN        NaN   \n",
      "4                                               NaN        NaN   \n",
      "\n",
      "                    Unnamed: 4 Unnamed: 5 Unnamed: 6      Unnamed: 7  \\\n",
      "0                          NaN        NaN        NaN  03 CONSUELO ST   \n",
      "1  8 FLERIDA ST.\\n152 SISA ST.        NaN        NaN             NaN   \n",
      "2                          NaN        NaN        NaN             NaN   \n",
      "3                          NaN        NaN        NaN             NaN   \n",
      "4                          NaN        NaN        NaN             NaN   \n",
      "\n",
      "  Unnamed: 8  Voter's Address  \n",
      "0        NaN              NaN  \n",
      "1        NaN              NaN  \n",
      "2        NaN              NaN  \n",
      "3        NaN              NaN  \n",
      "4        NaN              NaN  \n"
     ]
    }
   ],
   "source": [
    "for files in os.listdir('./EXCEL-ADDRESS, SENIOR SK PWD ILLIT CLASSIFICATION/'):\n",
    "    xls = pd.ExcelFile(f'./EXCEL-ADDRESS, SENIOR SK PWD ILLIT CLASSIFICATION/{files}')\n",
    "    sheet_names = xls.sheet_names\n",
    "    for i in range(2):\n",
    "        df = pd.read_excel(f'./EXCEL-ADDRESS, SENIOR SK PWD ILLIT CLASSIFICATION/{files}', skiprows=2, sheet_name=sheet_names[i])\n",
    "        print(df.head())\n",
    "    break"
   ]
  },
  {
   "cell_type": "code",
   "execution_count": null,
   "id": "179a8495-39df-429f-9dd1-1bc0de4418cb",
   "metadata": {},
   "outputs": [],
   "source": []
  }
 ],
 "metadata": {
  "kernelspec": {
   "display_name": "Python 3 (ipykernel)",
   "language": "python",
   "name": "python3"
  },
  "language_info": {
   "codemirror_mode": {
    "name": "ipython",
    "version": 3
   },
   "file_extension": ".py",
   "mimetype": "text/x-python",
   "name": "python",
   "nbconvert_exporter": "python",
   "pygments_lexer": "ipython3",
   "version": "3.11.5"
  }
 },
 "nbformat": 4,
 "nbformat_minor": 5
}
