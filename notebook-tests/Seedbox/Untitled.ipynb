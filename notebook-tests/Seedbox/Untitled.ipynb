{
 "cells": [
  {
   "cell_type": "code",
   "execution_count": 1,
   "id": "ee269f5b-9028-4a33-81b1-42ec56f1b695",
   "metadata": {},
   "outputs": [],
   "source": [
    "import numpy as np\n",
    "import pandas as pd\n",
    "import shapefile as shp\n",
    "import matplotlib.pyplot as plt\n",
    "import seaborn as sns"
   ]
  },
  {
   "cell_type": "code",
   "execution_count": 2,
   "id": "79f2fef0-ed33-4081-88ab-9015fbcf424b",
   "metadata": {},
   "outputs": [],
   "source": [
    "sns.set(style=\"whitegrid\", palette=\"pastel\", color_codes=True)\n",
    "sns.mpl.rc(\"figure\", figsize=(10,6))"
   ]
  },
  {
   "cell_type": "code",
   "execution_count": 3,
   "id": "7b36217e-3f24-4e9e-82c0-cf3bcd1ee19f",
   "metadata": {},
   "outputs": [],
   "source": [
    "#opening the vector map\n",
    "shp_path = \"./gadm41_PHL_1.shp\"\n",
    "#reading the shape file by using reader function of the shape lib\n",
    "sf = shp.Reader(shp_path)"
   ]
  },
  {
   "cell_type": "code",
   "execution_count": 4,
   "id": "929fdd74-31c7-41a9-b52c-60ee28a56e13",
   "metadata": {},
   "outputs": [
    {
     "data": {
      "text/plain": [
       "81"
      ]
     },
     "execution_count": 4,
     "metadata": {},
     "output_type": "execute_result"
    }
   ],
   "source": [
    "len(sf.shapes())"
   ]
  },
  {
   "cell_type": "code",
   "execution_count": 5,
   "id": "93f176c5-9ff4-4b18-b399-6134d85a296f",
   "metadata": {},
   "outputs": [
    {
     "data": {
      "text/plain": [
       "[Record #0: ['PHL.1_1', 'PHL', 'Philippines', 'Abra', 'NA', 'NA', 'Lalawigan', 'Province', '1401', 'PH.AB', 'PH-ABR'],\n",
       " Record #1: ['PHL.2_1', 'PHL', 'Philippines', 'Agusan del Norte', 'NA', 'NA', 'Lalawigan', 'Province', '1602', 'PH.AN', 'PH-AGN'],\n",
       " Record #2: ['PHL.3_1', 'PHL', 'Philippines', 'Agusan del Sur', 'NA', 'NA', 'Lalawigan', 'Province', '1603', 'PH.AS', 'PH-AGS'],\n",
       " Record #3: ['PHL.4_1', 'PHL', 'Philippines', 'Aklan', 'NA', 'NA', 'Lalawigan', 'Province', '604', 'PH.AK', 'PH-AKL'],\n",
       " Record #4: ['PHL.5_1', 'PHL', 'Philippines', 'Albay', 'NA', 'NA', 'Lalawigan', 'Province', '505', 'PH.AL', 'PH-ALB'],\n",
       " Record #5: ['PHL.6_1', 'PHL', 'Philippines', 'Antique', 'NA', 'NA', 'Lalawigan', 'Province', '606', 'PH.AQ', 'PH-ANT'],\n",
       " Record #6: ['PHL.7_1', 'PHL', 'Philippines', 'Apayao', 'NA', 'NA', 'Lalawigan', 'Province', '1481', 'PH.AP', 'PH-APA'],\n",
       " Record #7: ['PHL.8_1', 'PHL', 'Philippines', 'Aurora', 'NA', 'NA', 'Lalawigan', 'Province', '377', 'PH.AU', 'PH-AUR'],\n",
       " Record #8: ['PHL.9_1', 'PHL', 'Philippines', 'Basilan', 'NA', 'NA', 'Lalawigan', 'Province', '1507', 'PH.BS', 'PH-BAS'],\n",
       " Record #9: ['PHL.10_1', 'PHL', 'Philippines', 'Bataan', 'NA', 'NA', 'Lalawigan', 'Province', '308', 'PH.BA', 'PH-BAN'],\n",
       " Record #10: ['PHL.11_1', 'PHL', 'Philippines', 'Batanes', 'NA', 'NA', 'Lalawigan', 'Province', '209', 'PH.BN', 'PH-BTN'],\n",
       " Record #11: ['PHL.12_1', 'PHL', 'Philippines', 'Batangas', 'NA', 'NA', 'Lalawigan', 'Province', '410', 'PH.BT', 'PH-BTG'],\n",
       " Record #12: ['PHL.13_1', 'PHL', 'Philippines', 'Benguet', 'NA', 'NA', 'Lalawigan', 'Province', '1411', 'PH.BG', 'PH-BEN'],\n",
       " Record #13: ['PHL.14_1', 'PHL', 'Philippines', 'Biliran', 'NA', 'NA', 'Lalawigan', 'Province', '878', 'PH.BI', 'PH-BIL'],\n",
       " Record #14: ['PHL.15_1', 'PHL', 'Philippines', 'Bohol', 'NA', 'NA', 'Lalawigan', 'Province', '712', 'PH.BO', 'PH-BOH'],\n",
       " Record #15: ['PHL.16_1', 'PHL', 'Philippines', 'Bukidnon', 'NA', 'NA', 'Lalawigan', 'Province', '1013', 'PH.BK', 'PH-BUK'],\n",
       " Record #16: ['PHL.17_1', 'PHL', 'Philippines', 'Bulacan', 'NA', 'NA', 'Lalawigan', 'Province', '314', 'PH.BU', 'PH-BUL'],\n",
       " Record #17: ['PHL.18_1', 'PHL', 'Philippines', 'Cagayan', 'NA', 'NA', 'Lalawigan', 'Province', '215', 'PH.CG', 'PH-CAG'],\n",
       " Record #18: ['PHL.19_1', 'PHL', 'Philippines', 'Camarines Norte', 'NA', 'NA', 'Lalawigan', 'Province', '516', 'PH.CN', 'PH-CAN'],\n",
       " Record #19: ['PHL.20_1', 'PHL', 'Philippines', 'Camarines Sur', 'NA', 'NA', 'Lalawigan', 'Province', '517', 'PH.CS', 'PH-CAS'],\n",
       " Record #20: ['PHL.21_1', 'PHL', 'Philippines', 'Camiguin', 'NA', 'NA', 'Lalawigan', 'Province', '1018', 'PH.CM', 'PH-CAM'],\n",
       " Record #21: ['PHL.22_1', 'PHL', 'Philippines', 'Capiz', 'NA', 'NA', 'Lalawigan', 'Province', '619', 'PH.CP', 'PH-CAP'],\n",
       " Record #22: ['PHL.23_1', 'PHL', 'Philippines', 'Catanduanes', 'NA', 'NA', 'Lalawigan', 'Province', '520', 'PH.CT', 'PH-CAT'],\n",
       " Record #23: ['PHL.24_1', 'PHL', 'Philippines', 'Cavite', 'NA', 'NA', 'Lalawigan', 'Province', '421', 'PH.CV', 'PH-CAV'],\n",
       " Record #24: ['PHL.25_1', 'PHL', 'Philippines', 'Cebu', 'NA', 'NA', 'Lalawigan', 'Province', '722', 'PH.CB', 'PH-CEB'],\n",
       " Record #25: ['PHL.26_1', 'PHL', 'Philippines', 'Compostela Valley', 'NA', 'NA', 'Lalawigan', 'Province', '1182', 'PH.CL', 'NA'],\n",
       " Record #26: ['PHL.27_1', 'PHL', 'Philippines', 'Davao del Norte', 'Davao', 'NA', 'Lalawigan', 'Province', '1123', 'PH.DV', 'PH-DAV'],\n",
       " Record #27: ['PHL.28_1', 'PHL', 'Philippines', 'Davao del Sur', 'NA', 'NA', 'Lalawigan', 'Province', '1124', 'PH.DS', 'PH-DAS'],\n",
       " Record #28: ['PHL.29_1', 'PHL', 'Philippines', 'Davao Oriental', 'NA', 'NA', 'Lalawigan', 'Province', '1125', 'PH.DO', 'PH-DAO'],\n",
       " Record #29: ['PHL.30_1', 'PHL', 'Philippines', 'Dinagat Islands', 'NA', 'NA', 'Lalawigan', 'Province', '1685', 'PH.DI', 'PH-DIN'],\n",
       " Record #30: ['PHL.31_1', 'PHL', 'Philippines', 'Eastern Samar', 'NA', 'NA', 'Lalawigan', 'Province', '826', 'PH.ES', 'PH-EAS'],\n",
       " Record #31: ['PHL.32_1', 'PHL', 'Philippines', 'Guimaras', 'NA', 'NA', 'Lalawigan', 'Province', '679', 'PH.GU', 'PH-GUI'],\n",
       " Record #32: ['PHL.33_1', 'PHL', 'Philippines', 'Ifugao', 'NA', 'NA', 'Lalawigan', 'Province', '1427', 'PH.IF', 'PH-IFU'],\n",
       " Record #33: ['PHL.34_1', 'PHL', 'Philippines', 'Ilocos Norte', 'NA', 'NA', 'Lalawigan', 'Province', '128', 'PH.IN', 'PH-ILN'],\n",
       " Record #34: ['PHL.35_1', 'PHL', 'Philippines', 'Ilocos Sur', 'NA', 'NA', 'Lalawigan', 'Province', '129', 'PH.IS', 'PH-ILS'],\n",
       " Record #35: ['PHL.36_1', 'PHL', 'Philippines', 'Iloilo', 'NA', 'NA', 'Lalawigan', 'Province', '630', 'PH.II', 'PH-ILI'],\n",
       " Record #36: ['PHL.37_1', 'PHL', 'Philippines', 'Isabela', 'NA', 'NA', 'Lalawigan', 'Province', '231', 'PH.IB', 'PH-ISA'],\n",
       " Record #37: ['PHL.38_1', 'PHL', 'Philippines', 'Kalinga', 'NA', 'NA', 'Lalawigan', 'Province', '1432', 'PH.KA', 'PH-KAL'],\n",
       " Record #38: ['PHL.39_1', 'PHL', 'Philippines', 'La Union', 'NA', 'NA', 'Lalawigan', 'Province', '133', 'PH.LU', 'PH-LUN'],\n",
       " Record #39: ['PHL.40_1', 'PHL', 'Philippines', 'Laguna', 'NA', 'NA', 'Lalawigan', 'Province', '434', 'PH.LG', 'PH-LAG'],\n",
       " Record #40: ['PHL.41_1', 'PHL', 'Philippines', 'Lanao del Norte', 'NA', 'NA', 'Lalawigan', 'Province', '1035', 'PH.LN', 'PH-LAN'],\n",
       " Record #41: ['PHL.42_1', 'PHL', 'Philippines', 'Lanao del Sur', 'NA', 'NA', 'Lalawigan', 'Province', '1536', 'PH.LS', 'PH-LAS'],\n",
       " Record #42: ['PHL.43_1', 'PHL', 'Philippines', 'Leyte', 'NA', 'NA', 'Lalawigan', 'Province', '837', 'PH.LE', 'PH-LEY'],\n",
       " Record #43: ['PHL.44_1', 'PHL', 'Philippines', 'Maguindanao', 'NA', 'NA', 'Lalawigan', 'Province', '1538', 'PH.MG', 'PH-MAG'],\n",
       " Record #44: ['PHL.45_1', 'PHL', 'Philippines', 'Marinduque', 'NA', 'NA', 'Lalawigan', 'Province', '1740', 'PH.MQ', 'PH-MAD'],\n",
       " Record #45: ['PHL.46_1', 'PHL', 'Philippines', 'Masbate', 'NA', 'NA', 'Lalawigan', 'Province', '541', 'PH.MB', 'PH-MAS'],\n",
       " Record #46: ['PHL.47_1', 'PHL', 'Philippines', 'Metropolitan Manila', 'NA', 'NA', 'Lalawigan', 'Province', '1339', 'PH.MM', 'NA'],\n",
       " Record #47: ['PHL.48_1', 'PHL', 'Philippines', 'Misamis Occidental', 'NA', 'NA', 'Lalawigan', 'Province', '1042', 'PH.MD', 'PH-MSC'],\n",
       " Record #48: ['PHL.49_1', 'PHL', 'Philippines', 'Misamis Oriental', 'NA', 'NA', 'Lalawigan', 'Province', '1043', 'PH.MN', 'PH-MSR'],\n",
       " Record #49: ['PHL.50_1', 'PHL', 'Philippines', 'Mountain Province', 'NA', 'NA', 'Lalawigan', 'Province', '1444', 'PH.MT', 'PH-MOU'],\n",
       " Record #50: ['PHL.51_1', 'PHL', 'Philippines', 'Negros Occidental', 'NA', 'NA', 'Lalawigan', 'Province', '645', 'PH.ND', 'PH-NEC'],\n",
       " Record #51: ['PHL.52_1', 'PHL', 'Philippines', 'Negros Oriental', 'NA', 'NA', 'Lalawigan', 'Province', '746', 'PH.NR', 'PH-NER'],\n",
       " Record #52: ['PHL.53_1', 'PHL', 'Philippines', 'North Cotabato', 'NA', 'NA', 'Lalawigan', 'Province', '1247', 'PH.NC', 'NA'],\n",
       " Record #53: ['PHL.54_1', 'PHL', 'Philippines', 'Northern Samar', 'NA', 'NA', 'Lalawigan', 'Province', '848', 'PH.NS', 'PH-NSA'],\n",
       " Record #54: ['PHL.55_1', 'PHL', 'Philippines', 'Nueva Ecija', 'NA', 'NA', 'Lalawigan', 'Province', '349', 'PH.NE', 'PH-NUE'],\n",
       " Record #55: ['PHL.56_1', 'PHL', 'Philippines', 'Nueva Vizcaya', 'NA', 'NA', 'Lalawigan', 'Province', '250', 'PH.NV', 'PH-NUV'],\n",
       " Record #56: ['PHL.57_1', 'PHL', 'Philippines', 'Occidental Mindoro', 'NA', 'NA', 'Lalawigan', 'Province', '1751', 'PH.MC', 'NA'],\n",
       " Record #57: ['PHL.58_1', 'PHL', 'Philippines', 'Oriental Mindoro', 'NA', 'NA', 'Lalawigan', 'Province', '1752', 'PH.MR', 'NA'],\n",
       " Record #58: ['PHL.59_1', 'PHL', 'Philippines', 'Palawan', 'Paragua', 'NA', 'Lalawigan', 'Province', '1753', 'PH.PL', 'PH-PLW'],\n",
       " Record #59: ['PHL.60_1', 'PHL', 'Philippines', 'Pampanga', 'NA', 'NA', 'Lalawigan', 'Province', '354', 'PH.PM', 'PH-PAM'],\n",
       " Record #60: ['PHL.61_1', 'PHL', 'Philippines', 'Pangasinan', 'NA', 'NA', 'Lalawigan', 'Province', '155', 'PH.PN', 'PH-PAN'],\n",
       " Record #61: ['PHL.62_1', 'PHL', 'Philippines', 'Quezon', 'NA', 'NA', 'Lalawigan', 'Province', '456', 'PH.QZ', 'PH-QUE'],\n",
       " Record #62: ['PHL.63_1', 'PHL', 'Philippines', 'Quirino', 'NA', 'NA', 'Lalawigan', 'Province', '257', 'PH.QR', 'PH-QUI'],\n",
       " Record #63: ['PHL.64_1', 'PHL', 'Philippines', 'Rizal', 'NA', 'NA', 'Lalawigan', 'Province', '458', 'PH.RI', 'PH-RIZ'],\n",
       " Record #64: ['PHL.65_1', 'PHL', 'Philippines', 'Romblon', 'NA', 'NA', 'Lalawigan', 'Province', '1759', 'PH.RO', 'PH-ROM'],\n",
       " Record #65: ['PHL.66_1', 'PHL', 'Philippines', 'Samar', 'Western Samar', 'NA', 'Lalawigan', 'Province', '860', 'PH.SM', 'PH-WSA'],\n",
       " Record #66: ['PHL.67_1', 'PHL', 'Philippines', 'Sarangani', 'NA', 'NA', 'Lalawigan', 'Province', '1280', 'PH.SG', 'PH-SAR'],\n",
       " Record #67: ['PHL.68_1', 'PHL', 'Philippines', 'Siquijor', 'NA', 'NA', 'Lalawigan', 'Province', '761', 'PH.SQ', 'PH-SIG'],\n",
       " Record #68: ['PHL.69_1', 'PHL', 'Philippines', 'Sorsogon', 'NA', 'NA', 'Lalawigan', 'Province', '562', 'PH.SR', 'PH-SOR'],\n",
       " Record #69: ['PHL.70_1', 'PHL', 'Philippines', 'South Cotabato', 'NA', 'NA', 'Lalawigan', 'Province', '1263', 'PH.SC', 'PH-SCO'],\n",
       " Record #70: ['PHL.71_1', 'PHL', 'Philippines', 'Southern Leyte', 'NA', 'NA', 'Lalawigan', 'Province', '864', 'PH.SL', 'PH-SLE'],\n",
       " Record #71: ['PHL.72_1', 'PHL', 'Philippines', 'Sultan Kudarat', 'NA', 'NA', 'Lalawigan', 'Province', '1265', 'PH.SK', 'PH-SUK'],\n",
       " Record #72: ['PHL.73_1', 'PHL', 'Philippines', 'Sulu', 'NA', 'NA', 'Lalawigan', 'Province', '1566', 'PH.SU', 'PH-SLU'],\n",
       " Record #73: ['PHL.74_1', 'PHL', 'Philippines', 'Surigao del Norte', 'NA', 'NA', 'Lalawigan', 'Province', '1667', 'PH.SN', 'PH-SUN'],\n",
       " Record #74: ['PHL.75_1', 'PHL', 'Philippines', 'Surigao del Sur', 'NA', 'NA', 'Lalawigan', 'Province', '1668', 'PH.SS', 'PH-SUR'],\n",
       " Record #75: ['PHL.76_1', 'PHL', 'Philippines', 'Tarlac', 'NA', 'NA', 'Lalawigan', 'Province', '369', 'PH.TR', 'PH-TAR'],\n",
       " Record #76: ['PHL.77_1', 'PHL', 'Philippines', 'Tawi-Tawi', 'NA', 'NA', 'Lalawigan', 'Province', '1570', 'PH.TT', 'PH-TAW'],\n",
       " Record #77: ['PHL.78_1', 'PHL', 'Philippines', 'Zambales', 'NA', 'NA', 'Lalawigan', 'Province', '155', 'PH.PN', 'PH-ZMB'],\n",
       " Record #78: ['PHL.79_1', 'PHL', 'Philippines', 'Zamboanga del Norte', 'NA', 'NA', 'Lalawigan', 'Province', '972', 'PH.ZN', 'PH-ZAN'],\n",
       " Record #79: ['PHL.80_1', 'PHL', 'Philippines', 'Zamboanga del Sur', 'NA', 'NA', 'Lalawigan', 'Province', '973', 'PH.ZS', 'PH-ZAS'],\n",
       " Record #80: ['PHL.81_1', 'PHL', 'Philippines', 'Zamboanga Sibugay', 'NA', 'NA', 'Lalawigan', 'Province', '983', 'PH.ZY', 'PH-ZSI']]"
      ]
     },
     "execution_count": 5,
     "metadata": {},
     "output_type": "execute_result"
    }
   ],
   "source": [
    "sf.records()"
   ]
  },
  {
   "cell_type": "code",
   "execution_count": 6,
   "id": "5c0e52c9-5629-4bcd-b2a1-2c9d4ae29d16",
   "metadata": {},
   "outputs": [],
   "source": [
    "def read_shapefile(sf):\n",
    "    #fetching the headings from the shape file\n",
    "    fields = [x[0] for x in sf.fields][1:]\n",
    "#fetching the records from the shape file\n",
    "    records = [list(i) for i in sf.records()]\n",
    "    shps = [s.points for s in sf.shapes()]\n",
    "#converting shapefile data into pandas dataframe\n",
    "    df = pd.DataFrame(columns=fields, data=records)\n",
    "#assigning the coordinates\n",
    "    df = df.assign(coords=shps)\n",
    "    return df"
   ]
  },
  {
   "cell_type": "code",
   "execution_count": 7,
   "id": "4a919533-83ed-43e4-bef6-d7ed55b21382",
   "metadata": {},
   "outputs": [
    {
     "data": {
      "text/plain": [
       "(81, 12)"
      ]
     },
     "execution_count": 7,
     "metadata": {},
     "output_type": "execute_result"
    }
   ],
   "source": [
    "df = read_shapefile(sf)\n",
    "df.shape"
   ]
  },
  {
   "cell_type": "code",
   "execution_count": 8,
   "id": "4cb2fb1f-4d09-4864-b5f0-81054f72d9a9",
   "metadata": {},
   "outputs": [
    {
     "data": {
      "text/html": [
       "<div>\n",
       "<style scoped>\n",
       "    .dataframe tbody tr th:only-of-type {\n",
       "        vertical-align: middle;\n",
       "    }\n",
       "\n",
       "    .dataframe tbody tr th {\n",
       "        vertical-align: top;\n",
       "    }\n",
       "\n",
       "    .dataframe thead th {\n",
       "        text-align: right;\n",
       "    }\n",
       "</style>\n",
       "<table border=\"1\" class=\"dataframe\">\n",
       "  <thead>\n",
       "    <tr style=\"text-align: right;\">\n",
       "      <th></th>\n",
       "      <th>GID_1</th>\n",
       "      <th>GID_0</th>\n",
       "      <th>COUNTRY</th>\n",
       "      <th>NAME_1</th>\n",
       "      <th>VARNAME_1</th>\n",
       "      <th>NL_NAME_1</th>\n",
       "      <th>TYPE_1</th>\n",
       "      <th>ENGTYPE_1</th>\n",
       "      <th>CC_1</th>\n",
       "      <th>HASC_1</th>\n",
       "      <th>ISO_1</th>\n",
       "      <th>coords</th>\n",
       "    </tr>\n",
       "  </thead>\n",
       "  <tbody>\n",
       "    <tr>\n",
       "      <th>10</th>\n",
       "      <td>PHL.11_1</td>\n",
       "      <td>PHL</td>\n",
       "      <td>Philippines</td>\n",
       "      <td>Batanes</td>\n",
       "      <td>NA</td>\n",
       "      <td>NA</td>\n",
       "      <td>Lalawigan</td>\n",
       "      <td>Province</td>\n",
       "      <td>209</td>\n",
       "      <td>PH.BN</td>\n",
       "      <td>PH-BTN</td>\n",
       "      <td>[(121.93083190900029, 20.407499313000073), (12...</td>\n",
       "    </tr>\n",
       "    <tr>\n",
       "      <th>46</th>\n",
       "      <td>PHL.47_1</td>\n",
       "      <td>PHL</td>\n",
       "      <td>Philippines</td>\n",
       "      <td>Metropolitan Manila</td>\n",
       "      <td>NA</td>\n",
       "      <td>NA</td>\n",
       "      <td>Lalawigan</td>\n",
       "      <td>Province</td>\n",
       "      <td>1339</td>\n",
       "      <td>PH.MM</td>\n",
       "      <td>NA</td>\n",
       "      <td>[(120.99389648400017, 14.411710740000046), (12...</td>\n",
       "    </tr>\n",
       "    <tr>\n",
       "      <th>63</th>\n",
       "      <td>PHL.64_1</td>\n",
       "      <td>PHL</td>\n",
       "      <td>Philippines</td>\n",
       "      <td>Rizal</td>\n",
       "      <td>NA</td>\n",
       "      <td>NA</td>\n",
       "      <td>Lalawigan</td>\n",
       "      <td>Province</td>\n",
       "      <td>458</td>\n",
       "      <td>PH.RI</td>\n",
       "      <td>PH-RIZ</td>\n",
       "      <td>[(121.24054718000014, 14.297750473000065), (12...</td>\n",
       "    </tr>\n",
       "    <tr>\n",
       "      <th>7</th>\n",
       "      <td>PHL.8_1</td>\n",
       "      <td>PHL</td>\n",
       "      <td>Philippines</td>\n",
       "      <td>Aurora</td>\n",
       "      <td>NA</td>\n",
       "      <td>NA</td>\n",
       "      <td>Lalawigan</td>\n",
       "      <td>Province</td>\n",
       "      <td>377</td>\n",
       "      <td>PH.AU</td>\n",
       "      <td>PH-AUR</td>\n",
       "      <td>[(121.40289306700015, 15.246270180000181), (12...</td>\n",
       "    </tr>\n",
       "    <tr>\n",
       "      <th>40</th>\n",
       "      <td>PHL.41_1</td>\n",
       "      <td>PHL</td>\n",
       "      <td>Philippines</td>\n",
       "      <td>Lanao del Norte</td>\n",
       "      <td>NA</td>\n",
       "      <td>NA</td>\n",
       "      <td>Lalawigan</td>\n",
       "      <td>Province</td>\n",
       "      <td>1035</td>\n",
       "      <td>PH.LN</td>\n",
       "      <td>PH-LAN</td>\n",
       "      <td>[(123.81083679200015, 7.701389789000018), (123...</td>\n",
       "    </tr>\n",
       "  </tbody>\n",
       "</table>\n",
       "</div>"
      ],
      "text/plain": [
       "       GID_1 GID_0      COUNTRY               NAME_1 VARNAME_1 NL_NAME_1  \\\n",
       "10  PHL.11_1   PHL  Philippines              Batanes        NA        NA   \n",
       "46  PHL.47_1   PHL  Philippines  Metropolitan Manila        NA        NA   \n",
       "63  PHL.64_1   PHL  Philippines                Rizal        NA        NA   \n",
       "7    PHL.8_1   PHL  Philippines               Aurora        NA        NA   \n",
       "40  PHL.41_1   PHL  Philippines      Lanao del Norte        NA        NA   \n",
       "\n",
       "       TYPE_1 ENGTYPE_1  CC_1 HASC_1   ISO_1  \\\n",
       "10  Lalawigan  Province   209  PH.BN  PH-BTN   \n",
       "46  Lalawigan  Province  1339  PH.MM      NA   \n",
       "63  Lalawigan  Province   458  PH.RI  PH-RIZ   \n",
       "7   Lalawigan  Province   377  PH.AU  PH-AUR   \n",
       "40  Lalawigan  Province  1035  PH.LN  PH-LAN   \n",
       "\n",
       "                                               coords  \n",
       "10  [(121.93083190900029, 20.407499313000073), (12...  \n",
       "46  [(120.99389648400017, 14.411710740000046), (12...  \n",
       "63  [(121.24054718000014, 14.297750473000065), (12...  \n",
       "7   [(121.40289306700015, 15.246270180000181), (12...  \n",
       "40  [(123.81083679200015, 7.701389789000018), (123...  "
      ]
     },
     "execution_count": 8,
     "metadata": {},
     "output_type": "execute_result"
    }
   ],
   "source": [
    "df.sample(5)"
   ]
  },
  {
   "cell_type": "code",
   "execution_count": 9,
   "id": "cd756121-9b8d-45ff-8205-19b64dfb605a",
   "metadata": {},
   "outputs": [],
   "source": [
    "def plot_shape(id, s=None):\n",
    "    plt.figure()\n",
    "    #plotting the graphical axes where map ploting will be done\n",
    "    ax = plt.axes()\n",
    "    ax.set_aspect('equal')\n",
    "#storing the id number to be worked upon\n",
    "    shape_ex = sf.shape(id)\n",
    "#NP.ZERO initializes an array of rows and column with 0 in place of each elements \n",
    "    #an array will be generated where number of rows will be(len(shape_ex,point))and number of columns will be 1 and stored into the variable\n",
    "    x_lon = np.zeros((len(shape_ex.points),1))\n",
    "#an array will be generated where number of rows will be(len(shape_ex,point))and number of columns will be 1 and stored into the variable\n",
    "    y_lat = np.zeros((len(shape_ex.points),1))\n",
    "    for ip in range(len(shape_ex.points)):\n",
    "        x_lon[ip] = shape_ex.points[ip][0]\n",
    "        y_lat[ip] = shape_ex.points[ip][1]\n",
    "#plotting using the derived coordinated stored in array created by numpy\n",
    "    plt.plot(x_lon,y_lat) \n",
    "    x0 = np.mean(x_lon)\n",
    "    y0 = np.mean(y_lat)\n",
    "    plt.text(x0, y0, s, fontsize=10)\n",
    "# use bbox (bounding box) to set plot limits\n",
    "    plt.xlim(shape_ex.bbox[0],shape_ex.bbox[2])\n",
    "    return x0, y0"
   ]
  },
  {
   "cell_type": "code",
   "execution_count": 12,
   "id": "3d2169ff-7f7d-4fd5-bd16-557a256cf767",
   "metadata": {},
   "outputs": [
    {
     "ename": "TypeError",
     "evalue": "list indices must be integers or slices, not Index",
     "output_type": "error",
     "traceback": [
      "\u001b[1;31m---------------------------------------------------------------------------\u001b[0m",
      "\u001b[1;31mTypeError\u001b[0m                                 Traceback (most recent call last)",
      "Cell \u001b[1;32mIn[12], line 4\u001b[0m\n\u001b[0;32m      2\u001b[0m \u001b[38;5;66;03m#to get the id of the city map to be plotted\u001b[39;00m\n\u001b[0;32m      3\u001b[0m com_id \u001b[38;5;241m=\u001b[39m df[df[\u001b[38;5;124m\"\u001b[39m\u001b[38;5;124mNAME_1\u001b[39m\u001b[38;5;124m\"\u001b[39m] \u001b[38;5;241m==\u001b[39m \u001b[38;5;124m\"\u001b[39m\u001b[38;5;124mMalabon\u001b[39m\u001b[38;5;124m\"\u001b[39m]\u001b[38;5;241m.\u001b[39mindex\n\u001b[1;32m----> 4\u001b[0m \u001b[43mplot_shape\u001b[49m\u001b[43m(\u001b[49m\u001b[43mcom_id\u001b[49m\u001b[43m,\u001b[49m\u001b[43m \u001b[49m\u001b[38;5;124;43m\"\u001b[39;49m\u001b[38;5;124;43mNAME_1\u001b[39;49m\u001b[38;5;124;43m\"\u001b[39;49m\u001b[43m)\u001b[49m\n\u001b[0;32m      5\u001b[0m sf\u001b[38;5;241m.\u001b[39mshape(com_id)\n",
      "Cell \u001b[1;32mIn[9], line 7\u001b[0m, in \u001b[0;36mplot_shape\u001b[1;34m(id, s)\u001b[0m\n\u001b[0;32m      5\u001b[0m     ax\u001b[38;5;241m.\u001b[39mset_aspect(\u001b[38;5;124m'\u001b[39m\u001b[38;5;124mequal\u001b[39m\u001b[38;5;124m'\u001b[39m)\n\u001b[0;32m      6\u001b[0m \u001b[38;5;66;03m#storing the id number to be worked upon\u001b[39;00m\n\u001b[1;32m----> 7\u001b[0m     shape_ex \u001b[38;5;241m=\u001b[39m \u001b[43msf\u001b[49m\u001b[38;5;241;43m.\u001b[39;49m\u001b[43mshape\u001b[49m\u001b[43m(\u001b[49m\u001b[38;5;28;43mid\u001b[39;49m\u001b[43m)\u001b[49m\n\u001b[0;32m      8\u001b[0m \u001b[38;5;66;03m#NP.ZERO initializes an array of rows and column with 0 in place of each elements \u001b[39;00m\n\u001b[0;32m      9\u001b[0m     \u001b[38;5;66;03m#an array will be generated where number of rows will be(len(shape_ex,point))and number of columns will be 1 and stored into the variable\u001b[39;00m\n\u001b[0;32m     10\u001b[0m     x_lon \u001b[38;5;241m=\u001b[39m np\u001b[38;5;241m.\u001b[39mzeros((\u001b[38;5;28mlen\u001b[39m(shape_ex\u001b[38;5;241m.\u001b[39mpoints),\u001b[38;5;241m1\u001b[39m))\n",
      "File \u001b[1;32m~\\AppData\\Local\\Programs\\Python\\Python311\\Lib\\site-packages\\shapefile.py:1426\u001b[0m, in \u001b[0;36mReader.shape\u001b[1;34m(self, i, bbox)\u001b[0m\n\u001b[0;32m   1424\u001b[0m shp \u001b[38;5;241m=\u001b[39m \u001b[38;5;28mself\u001b[39m\u001b[38;5;241m.\u001b[39m__getFileObj(\u001b[38;5;28mself\u001b[39m\u001b[38;5;241m.\u001b[39mshp)\n\u001b[0;32m   1425\u001b[0m i \u001b[38;5;241m=\u001b[39m \u001b[38;5;28mself\u001b[39m\u001b[38;5;241m.\u001b[39m__restrictIndex(i)\n\u001b[1;32m-> 1426\u001b[0m offset \u001b[38;5;241m=\u001b[39m \u001b[38;5;28;43mself\u001b[39;49m\u001b[38;5;241;43m.\u001b[39;49m\u001b[43m__shapeIndex\u001b[49m\u001b[43m(\u001b[49m\u001b[43mi\u001b[49m\u001b[43m)\u001b[49m\n\u001b[0;32m   1427\u001b[0m \u001b[38;5;28;01mif\u001b[39;00m \u001b[38;5;129;01mnot\u001b[39;00m offset:\n\u001b[0;32m   1428\u001b[0m     \u001b[38;5;66;03m# Shx index not available.\u001b[39;00m\n\u001b[0;32m   1429\u001b[0m     \u001b[38;5;66;03m# Determine length of shp file\u001b[39;00m\n\u001b[0;32m   1430\u001b[0m     shp\u001b[38;5;241m.\u001b[39mseek(\u001b[38;5;241m0\u001b[39m,\u001b[38;5;241m2\u001b[39m)\n",
      "File \u001b[1;32m~\\AppData\\Local\\Programs\\Python\\Python311\\Lib\\site-packages\\shapefile.py:1416\u001b[0m, in \u001b[0;36mReader.__shapeIndex\u001b[1;34m(self, i)\u001b[0m\n\u001b[0;32m   1414\u001b[0m \u001b[38;5;28;01mif\u001b[39;00m \u001b[38;5;129;01mnot\u001b[39;00m \u001b[38;5;28mself\u001b[39m\u001b[38;5;241m.\u001b[39m_offsets:\n\u001b[0;32m   1415\u001b[0m     \u001b[38;5;28mself\u001b[39m\u001b[38;5;241m.\u001b[39m__shxOffsets()\n\u001b[1;32m-> 1416\u001b[0m \u001b[38;5;28;01mreturn\u001b[39;00m \u001b[38;5;28;43mself\u001b[39;49m\u001b[38;5;241;43m.\u001b[39;49m\u001b[43m_offsets\u001b[49m\u001b[43m[\u001b[49m\u001b[43mi\u001b[49m\u001b[43m]\u001b[49m\n",
      "\u001b[1;31mTypeError\u001b[0m: list indices must be integers or slices, not Index"
     ]
    },
    {
     "data": {
      "image/png": "[encoded data removed]",
      "text/plain": [
       "<Figure size 1000x600 with 1 Axes>"
      ]
     },
     "metadata": {},
     "output_type": "display_data"
    }
   ],
   "source": [
    "DIST_NAME = \"Malabon\"\n",
    "#to get the id of the city map to be plotted\n",
    "com_id = df[df[\"NAME_1\"] == \"Malabon\"].index\n",
    "plot_shape(com_id, \"NAME_1\")\n",
    "sf.shape(com_id)"
   ]
  },
  {
   "cell_type": "code",
   "execution_count": null,
   "id": "18a1e31f-2142-4ec3-8d0a-1b5db9bf40b5",
   "metadata": {},
   "outputs": [],
   "source": []
  }
 ],
 "metadata": {
  "kernelspec": {
   "display_name": "Python 3 (ipykernel)",
   "language": "python",
   "name": "python3"
  },
  "language_info": {
   "codemirror_mode": {
    "name": "ipython",
    "version": 3
   },
   "file_extension": ".py",
   "mimetype": "text/x-python",
   "name": "python",
   "nbconvert_exporter": "python",
   "pygments_lexer": "ipython3",
   "version": "3.11.5"
  }
 },
 "nbformat": 4,
 "nbformat_minor": 5
}
