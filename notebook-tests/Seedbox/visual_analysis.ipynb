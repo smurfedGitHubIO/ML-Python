{
 "cells": [
  {
   "cell_type": "markdown",
   "id": "bd6410c4-aa61-404f-ba65-821cc90530b3",
   "metadata": {},
   "source": [
    "## Library Imports"
   ]
  },
  {
   "cell_type": "code",
   "execution_count": 1,
   "id": "7a88dd33-2084-44f5-a87e-1c07b1b4a785",
   "metadata": {},
   "outputs": [],
   "source": [
    "import pandas as pd\n",
    "import os\n",
    "import numpy as np\n",
    "from matplotlib import pyplot as plt\n",
    "import seaborn as sns\n",
    "\n",
    "import ipywidgets as widgets\n",
    "from IPython.display import display\n",
    "from ipywidgets import interact, interactive, fixed, interact_manual\n",
    "\n",
    "plt.style.use(\"seaborn-v0_8-muted\")"
   ]
  },
  {
   "cell_type": "markdown",
   "id": "0e5e0252-655f-4d27-9724-6d192d0df125",
   "metadata": {},
   "source": [
    "## Dataset Import and Initial Values"
   ]
  },
  {
   "cell_type": "code",
   "execution_count": 2,
   "id": "e31721d8-d921-4c66-9317-a44a33f8cdc6",
   "metadata": {},
   "outputs": [
    {
     "ename": "FileNotFoundError",
     "evalue": "[Errno 2] No such file or directory: './age_distribution_per_barangay_2023.csv'",
     "output_type": "error",
     "traceback": [
      "\u001b[1;31m---------------------------------------------------------------------------\u001b[0m",
      "\u001b[1;31mFileNotFoundError\u001b[0m                         Traceback (most recent call last)",
      "Cell \u001b[1;32mIn[2], line 1\u001b[0m\n\u001b[1;32m----> 1\u001b[0m df \u001b[38;5;241m=\u001b[39m \u001b[43mpd\u001b[49m\u001b[38;5;241;43m.\u001b[39;49m\u001b[43mread_csv\u001b[49m\u001b[43m(\u001b[49m\u001b[38;5;124;43m'\u001b[39;49m\u001b[38;5;124;43m./age_distribution_per_barangay_2023.csv\u001b[39;49m\u001b[38;5;124;43m'\u001b[39;49m\u001b[43m,\u001b[49m\u001b[43m \u001b[49m\u001b[43mindex_col\u001b[49m\u001b[38;5;241;43m=\u001b[39;49m\u001b[38;5;124;43m'\u001b[39;49m\u001b[38;5;124;43mBARANGAY\u001b[39;49m\u001b[38;5;124;43m'\u001b[39;49m\u001b[43m)\u001b[49m\n\u001b[0;32m      2\u001b[0m sdf \u001b[38;5;241m=\u001b[39m pd\u001b[38;5;241m.\u001b[39mread_csv(\u001b[38;5;124m'\u001b[39m\u001b[38;5;124m./municipal_summary_per_barangay_2023.csv\u001b[39m\u001b[38;5;124m'\u001b[39m, encoding\u001b[38;5;241m=\u001b[39m\u001b[38;5;124m'\u001b[39m\u001b[38;5;124mlatin-1\u001b[39m\u001b[38;5;124m'\u001b[39m, index_col\u001b[38;5;241m=\u001b[39m\u001b[38;5;124m'\u001b[39m\u001b[38;5;124mBARANGAY\u001b[39m\u001b[38;5;124m'\u001b[39m)\n\u001b[0;32m      3\u001b[0m new_columns \u001b[38;5;241m=\u001b[39m [\u001b[38;5;124m'\u001b[39m\u001b[38;5;124mnumber_of_precincts\u001b[39m\u001b[38;5;124m'\u001b[39m, \u001b[38;5;124m'\u001b[39m\u001b[38;5;124mregistered_males\u001b[39m\u001b[38;5;124m'\u001b[39m, \u001b[38;5;124m'\u001b[39m\u001b[38;5;124mregistered_females\u001b[39m\u001b[38;5;124m'\u001b[39m, \u001b[38;5;124m'\u001b[39m\u001b[38;5;124mregistered_invalid_sex\u001b[39m\u001b[38;5;124m'\u001b[39m, \u001b[38;5;124m'\u001b[39m\u001b[38;5;124mtotal_voters\u001b[39m\u001b[38;5;124m'\u001b[39m, \u001b[38;5;124m'\u001b[39m\u001b[38;5;124mtotal_male_voters\u001b[39m\u001b[38;5;124m'\u001b[39m, \u001b[38;5;124m'\u001b[39m\u001b[38;5;124mtotal_female_voters\u001b[39m\u001b[38;5;124m'\u001b[39m, \u001b[38;5;124m'\u001b[39m\u001b[38;5;124mtotal_invalid_sex_voters\u001b[39m\u001b[38;5;124m'\u001b[39m, \u001b[38;5;124m'\u001b[39m\u001b[38;5;124mtotal_number_who_voted\u001b[39m\u001b[38;5;124m'\u001b[39m, \u001b[38;5;124m'\u001b[39m\u001b[38;5;124mtotal_male_voters_perc\u001b[39m\u001b[38;5;124m'\u001b[39m, \u001b[38;5;124m'\u001b[39m\u001b[38;5;124mtotal_female_voters_perc\u001b[39m\u001b[38;5;124m'\u001b[39m, \u001b[38;5;124m'\u001b[39m\u001b[38;5;124mtotal_number_who_voted_perc\u001b[39m\u001b[38;5;124m'\u001b[39m]\n",
      "File \u001b[1;32m~\\AppData\\Local\\Programs\\Python\\Python311\\Lib\\site-packages\\pandas\\io\\parsers\\readers.py:948\u001b[0m, in \u001b[0;36mread_csv\u001b[1;34m(filepath_or_buffer, sep, delimiter, header, names, index_col, usecols, dtype, engine, converters, true_values, false_values, skipinitialspace, skiprows, skipfooter, nrows, na_values, keep_default_na, na_filter, verbose, skip_blank_lines, parse_dates, infer_datetime_format, keep_date_col, date_parser, date_format, dayfirst, cache_dates, iterator, chunksize, compression, thousands, decimal, lineterminator, quotechar, quoting, doublequote, escapechar, comment, encoding, encoding_errors, dialect, on_bad_lines, delim_whitespace, low_memory, memory_map, float_precision, storage_options, dtype_backend)\u001b[0m\n\u001b[0;32m    935\u001b[0m kwds_defaults \u001b[38;5;241m=\u001b[39m _refine_defaults_read(\n\u001b[0;32m    936\u001b[0m     dialect,\n\u001b[0;32m    937\u001b[0m     delimiter,\n\u001b[1;32m   (...)\u001b[0m\n\u001b[0;32m    944\u001b[0m     dtype_backend\u001b[38;5;241m=\u001b[39mdtype_backend,\n\u001b[0;32m    945\u001b[0m )\n\u001b[0;32m    946\u001b[0m kwds\u001b[38;5;241m.\u001b[39mupdate(kwds_defaults)\n\u001b[1;32m--> 948\u001b[0m \u001b[38;5;28;01mreturn\u001b[39;00m \u001b[43m_read\u001b[49m\u001b[43m(\u001b[49m\u001b[43mfilepath_or_buffer\u001b[49m\u001b[43m,\u001b[49m\u001b[43m \u001b[49m\u001b[43mkwds\u001b[49m\u001b[43m)\u001b[49m\n",
      "File \u001b[1;32m~\\AppData\\Local\\Programs\\Python\\Python311\\Lib\\site-packages\\pandas\\io\\parsers\\readers.py:611\u001b[0m, in \u001b[0;36m_read\u001b[1;34m(filepath_or_buffer, kwds)\u001b[0m\n\u001b[0;32m    608\u001b[0m _validate_names(kwds\u001b[38;5;241m.\u001b[39mget(\u001b[38;5;124m\"\u001b[39m\u001b[38;5;124mnames\u001b[39m\u001b[38;5;124m\"\u001b[39m, \u001b[38;5;28;01mNone\u001b[39;00m))\n\u001b[0;32m    610\u001b[0m \u001b[38;5;66;03m# Create the parser.\u001b[39;00m\n\u001b[1;32m--> 611\u001b[0m parser \u001b[38;5;241m=\u001b[39m \u001b[43mTextFileReader\u001b[49m\u001b[43m(\u001b[49m\u001b[43mfilepath_or_buffer\u001b[49m\u001b[43m,\u001b[49m\u001b[43m \u001b[49m\u001b[38;5;241;43m*\u001b[39;49m\u001b[38;5;241;43m*\u001b[39;49m\u001b[43mkwds\u001b[49m\u001b[43m)\u001b[49m\n\u001b[0;32m    613\u001b[0m \u001b[38;5;28;01mif\u001b[39;00m chunksize \u001b[38;5;129;01mor\u001b[39;00m iterator:\n\u001b[0;32m    614\u001b[0m     \u001b[38;5;28;01mreturn\u001b[39;00m parser\n",
      "File \u001b[1;32m~\\AppData\\Local\\Programs\\Python\\Python311\\Lib\\site-packages\\pandas\\io\\parsers\\readers.py:1448\u001b[0m, in \u001b[0;36mTextFileReader.__init__\u001b[1;34m(self, f, engine, **kwds)\u001b[0m\n\u001b[0;32m   1445\u001b[0m     \u001b[38;5;28mself\u001b[39m\u001b[38;5;241m.\u001b[39moptions[\u001b[38;5;124m\"\u001b[39m\u001b[38;5;124mhas_index_names\u001b[39m\u001b[38;5;124m\"\u001b[39m] \u001b[38;5;241m=\u001b[39m kwds[\u001b[38;5;124m\"\u001b[39m\u001b[38;5;124mhas_index_names\u001b[39m\u001b[38;5;124m\"\u001b[39m]\n\u001b[0;32m   1447\u001b[0m \u001b[38;5;28mself\u001b[39m\u001b[38;5;241m.\u001b[39mhandles: IOHandles \u001b[38;5;241m|\u001b[39m \u001b[38;5;28;01mNone\u001b[39;00m \u001b[38;5;241m=\u001b[39m \u001b[38;5;28;01mNone\u001b[39;00m\n\u001b[1;32m-> 1448\u001b[0m \u001b[38;5;28mself\u001b[39m\u001b[38;5;241m.\u001b[39m_engine \u001b[38;5;241m=\u001b[39m \u001b[38;5;28;43mself\u001b[39;49m\u001b[38;5;241;43m.\u001b[39;49m\u001b[43m_make_engine\u001b[49m\u001b[43m(\u001b[49m\u001b[43mf\u001b[49m\u001b[43m,\u001b[49m\u001b[43m \u001b[49m\u001b[38;5;28;43mself\u001b[39;49m\u001b[38;5;241;43m.\u001b[39;49m\u001b[43mengine\u001b[49m\u001b[43m)\u001b[49m\n",
      "File \u001b[1;32m~\\AppData\\Local\\Programs\\Python\\Python311\\Lib\\site-packages\\pandas\\io\\parsers\\readers.py:1705\u001b[0m, in \u001b[0;36mTextFileReader._make_engine\u001b[1;34m(self, f, engine)\u001b[0m\n\u001b[0;32m   1703\u001b[0m     \u001b[38;5;28;01mif\u001b[39;00m \u001b[38;5;124m\"\u001b[39m\u001b[38;5;124mb\u001b[39m\u001b[38;5;124m\"\u001b[39m \u001b[38;5;129;01mnot\u001b[39;00m \u001b[38;5;129;01min\u001b[39;00m mode:\n\u001b[0;32m   1704\u001b[0m         mode \u001b[38;5;241m+\u001b[39m\u001b[38;5;241m=\u001b[39m \u001b[38;5;124m\"\u001b[39m\u001b[38;5;124mb\u001b[39m\u001b[38;5;124m\"\u001b[39m\n\u001b[1;32m-> 1705\u001b[0m \u001b[38;5;28mself\u001b[39m\u001b[38;5;241m.\u001b[39mhandles \u001b[38;5;241m=\u001b[39m \u001b[43mget_handle\u001b[49m\u001b[43m(\u001b[49m\n\u001b[0;32m   1706\u001b[0m \u001b[43m    \u001b[49m\u001b[43mf\u001b[49m\u001b[43m,\u001b[49m\n\u001b[0;32m   1707\u001b[0m \u001b[43m    \u001b[49m\u001b[43mmode\u001b[49m\u001b[43m,\u001b[49m\n\u001b[0;32m   1708\u001b[0m \u001b[43m    \u001b[49m\u001b[43mencoding\u001b[49m\u001b[38;5;241;43m=\u001b[39;49m\u001b[38;5;28;43mself\u001b[39;49m\u001b[38;5;241;43m.\u001b[39;49m\u001b[43moptions\u001b[49m\u001b[38;5;241;43m.\u001b[39;49m\u001b[43mget\u001b[49m\u001b[43m(\u001b[49m\u001b[38;5;124;43m\"\u001b[39;49m\u001b[38;5;124;43mencoding\u001b[39;49m\u001b[38;5;124;43m\"\u001b[39;49m\u001b[43m,\u001b[49m\u001b[43m \u001b[49m\u001b[38;5;28;43;01mNone\u001b[39;49;00m\u001b[43m)\u001b[49m\u001b[43m,\u001b[49m\n\u001b[0;32m   1709\u001b[0m \u001b[43m    \u001b[49m\u001b[43mcompression\u001b[49m\u001b[38;5;241;43m=\u001b[39;49m\u001b[38;5;28;43mself\u001b[39;49m\u001b[38;5;241;43m.\u001b[39;49m\u001b[43moptions\u001b[49m\u001b[38;5;241;43m.\u001b[39;49m\u001b[43mget\u001b[49m\u001b[43m(\u001b[49m\u001b[38;5;124;43m\"\u001b[39;49m\u001b[38;5;124;43mcompression\u001b[39;49m\u001b[38;5;124;43m\"\u001b[39;49m\u001b[43m,\u001b[49m\u001b[43m \u001b[49m\u001b[38;5;28;43;01mNone\u001b[39;49;00m\u001b[43m)\u001b[49m\u001b[43m,\u001b[49m\n\u001b[0;32m   1710\u001b[0m \u001b[43m    \u001b[49m\u001b[43mmemory_map\u001b[49m\u001b[38;5;241;43m=\u001b[39;49m\u001b[38;5;28;43mself\u001b[39;49m\u001b[38;5;241;43m.\u001b[39;49m\u001b[43moptions\u001b[49m\u001b[38;5;241;43m.\u001b[39;49m\u001b[43mget\u001b[49m\u001b[43m(\u001b[49m\u001b[38;5;124;43m\"\u001b[39;49m\u001b[38;5;124;43mmemory_map\u001b[39;49m\u001b[38;5;124;43m\"\u001b[39;49m\u001b[43m,\u001b[49m\u001b[43m \u001b[49m\u001b[38;5;28;43;01mFalse\u001b[39;49;00m\u001b[43m)\u001b[49m\u001b[43m,\u001b[49m\n\u001b[0;32m   1711\u001b[0m \u001b[43m    \u001b[49m\u001b[43mis_text\u001b[49m\u001b[38;5;241;43m=\u001b[39;49m\u001b[43mis_text\u001b[49m\u001b[43m,\u001b[49m\n\u001b[0;32m   1712\u001b[0m \u001b[43m    \u001b[49m\u001b[43merrors\u001b[49m\u001b[38;5;241;43m=\u001b[39;49m\u001b[38;5;28;43mself\u001b[39;49m\u001b[38;5;241;43m.\u001b[39;49m\u001b[43moptions\u001b[49m\u001b[38;5;241;43m.\u001b[39;49m\u001b[43mget\u001b[49m\u001b[43m(\u001b[49m\u001b[38;5;124;43m\"\u001b[39;49m\u001b[38;5;124;43mencoding_errors\u001b[39;49m\u001b[38;5;124;43m\"\u001b[39;49m\u001b[43m,\u001b[49m\u001b[43m \u001b[49m\u001b[38;5;124;43m\"\u001b[39;49m\u001b[38;5;124;43mstrict\u001b[39;49m\u001b[38;5;124;43m\"\u001b[39;49m\u001b[43m)\u001b[49m\u001b[43m,\u001b[49m\n\u001b[0;32m   1713\u001b[0m \u001b[43m    \u001b[49m\u001b[43mstorage_options\u001b[49m\u001b[38;5;241;43m=\u001b[39;49m\u001b[38;5;28;43mself\u001b[39;49m\u001b[38;5;241;43m.\u001b[39;49m\u001b[43moptions\u001b[49m\u001b[38;5;241;43m.\u001b[39;49m\u001b[43mget\u001b[49m\u001b[43m(\u001b[49m\u001b[38;5;124;43m\"\u001b[39;49m\u001b[38;5;124;43mstorage_options\u001b[39;49m\u001b[38;5;124;43m\"\u001b[39;49m\u001b[43m,\u001b[49m\u001b[43m \u001b[49m\u001b[38;5;28;43;01mNone\u001b[39;49;00m\u001b[43m)\u001b[49m\u001b[43m,\u001b[49m\n\u001b[0;32m   1714\u001b[0m \u001b[43m\u001b[49m\u001b[43m)\u001b[49m\n\u001b[0;32m   1715\u001b[0m \u001b[38;5;28;01massert\u001b[39;00m \u001b[38;5;28mself\u001b[39m\u001b[38;5;241m.\u001b[39mhandles \u001b[38;5;129;01mis\u001b[39;00m \u001b[38;5;129;01mnot\u001b[39;00m \u001b[38;5;28;01mNone\u001b[39;00m\n\u001b[0;32m   1716\u001b[0m f \u001b[38;5;241m=\u001b[39m \u001b[38;5;28mself\u001b[39m\u001b[38;5;241m.\u001b[39mhandles\u001b[38;5;241m.\u001b[39mhandle\n",
      "File \u001b[1;32m~\\AppData\\Local\\Programs\\Python\\Python311\\Lib\\site-packages\\pandas\\io\\common.py:863\u001b[0m, in \u001b[0;36mget_handle\u001b[1;34m(path_or_buf, mode, encoding, compression, memory_map, is_text, errors, storage_options)\u001b[0m\n\u001b[0;32m    858\u001b[0m \u001b[38;5;28;01melif\u001b[39;00m \u001b[38;5;28misinstance\u001b[39m(handle, \u001b[38;5;28mstr\u001b[39m):\n\u001b[0;32m    859\u001b[0m     \u001b[38;5;66;03m# Check whether the filename is to be opened in binary mode.\u001b[39;00m\n\u001b[0;32m    860\u001b[0m     \u001b[38;5;66;03m# Binary mode does not support 'encoding' and 'newline'.\u001b[39;00m\n\u001b[0;32m    861\u001b[0m     \u001b[38;5;28;01mif\u001b[39;00m ioargs\u001b[38;5;241m.\u001b[39mencoding \u001b[38;5;129;01mand\u001b[39;00m \u001b[38;5;124m\"\u001b[39m\u001b[38;5;124mb\u001b[39m\u001b[38;5;124m\"\u001b[39m \u001b[38;5;129;01mnot\u001b[39;00m \u001b[38;5;129;01min\u001b[39;00m ioargs\u001b[38;5;241m.\u001b[39mmode:\n\u001b[0;32m    862\u001b[0m         \u001b[38;5;66;03m# Encoding\u001b[39;00m\n\u001b[1;32m--> 863\u001b[0m         handle \u001b[38;5;241m=\u001b[39m \u001b[38;5;28;43mopen\u001b[39;49m\u001b[43m(\u001b[49m\n\u001b[0;32m    864\u001b[0m \u001b[43m            \u001b[49m\u001b[43mhandle\u001b[49m\u001b[43m,\u001b[49m\n\u001b[0;32m    865\u001b[0m \u001b[43m            \u001b[49m\u001b[43mioargs\u001b[49m\u001b[38;5;241;43m.\u001b[39;49m\u001b[43mmode\u001b[49m\u001b[43m,\u001b[49m\n\u001b[0;32m    866\u001b[0m \u001b[43m            \u001b[49m\u001b[43mencoding\u001b[49m\u001b[38;5;241;43m=\u001b[39;49m\u001b[43mioargs\u001b[49m\u001b[38;5;241;43m.\u001b[39;49m\u001b[43mencoding\u001b[49m\u001b[43m,\u001b[49m\n\u001b[0;32m    867\u001b[0m \u001b[43m            \u001b[49m\u001b[43merrors\u001b[49m\u001b[38;5;241;43m=\u001b[39;49m\u001b[43merrors\u001b[49m\u001b[43m,\u001b[49m\n\u001b[0;32m    868\u001b[0m \u001b[43m            \u001b[49m\u001b[43mnewline\u001b[49m\u001b[38;5;241;43m=\u001b[39;49m\u001b[38;5;124;43m\"\u001b[39;49m\u001b[38;5;124;43m\"\u001b[39;49m\u001b[43m,\u001b[49m\n\u001b[0;32m    869\u001b[0m \u001b[43m        \u001b[49m\u001b[43m)\u001b[49m\n\u001b[0;32m    870\u001b[0m     \u001b[38;5;28;01melse\u001b[39;00m:\n\u001b[0;32m    871\u001b[0m         \u001b[38;5;66;03m# Binary mode\u001b[39;00m\n\u001b[0;32m    872\u001b[0m         handle \u001b[38;5;241m=\u001b[39m \u001b[38;5;28mopen\u001b[39m(handle, ioargs\u001b[38;5;241m.\u001b[39mmode)\n",
      "\u001b[1;31mFileNotFoundError\u001b[0m: [Errno 2] No such file or directory: './age_distribution_per_barangay_2023.csv'"
     ]
    }
   ],
   "source": [
    "df = pd.read_csv('./age_distribution_per_barangay_2023.csv', index_col='BARANGAY')\n",
    "sdf = pd.read_csv('./municipal_summary_per_barangay_2023.csv', encoding='latin-1', index_col='BARANGAY')\n",
    "new_columns = ['number_of_precincts', 'registered_males', 'registered_females', 'registered_invalid_sex', 'total_voters', 'total_male_voters', 'total_female_voters', 'total_invalid_sex_voters', 'total_number_who_voted', 'total_male_voters_perc', 'total_female_voters_perc', 'total_number_who_voted_perc']\n",
    "sdf.columns = new_columns"
   ]
  },
  {
   "cell_type": "code",
   "execution_count": null,
   "id": "81419fbf-5213-40fb-9202-294b57003b1c",
   "metadata": {},
   "outputs": [],
   "source": [
    "sdf['registered_males'] = sdf['registered_males'].str.replace(',', '').astype(int)\n",
    "sdf['registered_females'] = sdf['registered_females'].str.replace(',', '').astype(int)\n",
    "sdf['total_voters'] = sdf['total_voters'].str.replace(',', '').astype(int)\n",
    "sdf['total_male_voters'] = sdf['total_male_voters'].str.replace(',', '').astype(int)\n",
    "sdf['total_female_voters'] = sdf['total_female_voters'].str.replace(',', '').astype(int)\n",
    "sdf['total_number_who_voted'] = sdf['total_number_who_voted'].str.replace(',', '').astype(int)"
   ]
  },
  {
   "cell_type": "code",
   "execution_count": null,
   "id": "35bf0db3-90b3-4a1b-b308-5177d0432dc0",
   "metadata": {},
   "outputs": [],
   "source": [
    "gen_images_add = './Generated Images'\n",
    "list_of_barangays = []\n",
    "for pdf in os.listdir('./PDFS'):\n",
    "    list_of_barangays.append(pdf[:-4])\n",
    "list_of_barangays[4] = list_of_barangays[4][:-15]\n",
    "groups = ['18-30', '31-59', '60+']"
   ]
  },
  {
   "cell_type": "markdown",
   "id": "f93e0a95-d952-443b-9921-d5c79da5257c",
   "metadata": {},
   "source": [
    "## Registered Voters Distribution per Barangay per Age Distribution"
   ]
  },
  {
   "cell_type": "code",
   "execution_count": null,
   "id": "df822429-6a81-4659-9531-9c4bb116ac77",
   "metadata": {},
   "outputs": [],
   "source": [
    "def print_age_distribution_per_barangay(age_group):\n",
    "    cur_group = df.sort_values(by=age_group, ascending=True)\n",
    "    cur_group[age_group].plot(kind='barh', figsize=(10, 6))\n",
    "    ax = cur_group[age_group].plot(kind='barh', figsize=(10, 6))\n",
    "    \n",
    "    for i, v in enumerate(cur_group[age_group]):\n",
    "        ax.text(v + 0.1, i, str(v), color='black')\n",
    "    \n",
    "    sns.set_style(\"white\") \n",
    "    sns.despine()\n",
    "    plt.xlabel('VOTER COUNT')\n",
    "    plt.title(f'REGISTERED VOTERS DISTRIBUTION PER BARANGAY AGED {age_group}')\n",
    "    \n",
    "    plt.show()\n",
    "\n",
    "interact(print_age_distribution_per_barangay, age_group=groups)"
   ]
  },
  {
   "cell_type": "markdown",
   "id": "85e23d4b-bf15-49d4-91b3-d53ae0c94f0f",
   "metadata": {},
   "source": [
    "## Age Distribution per Barangay"
   ]
  },
  {
   "cell_type": "code",
   "execution_count": null,
   "id": "5039b6c5-68d6-4f67-8473-1449687fb856",
   "metadata": {},
   "outputs": [],
   "source": [
    "def print_pie_chart(barangay):\n",
    "    values = {\n",
    "        '18-30': df.loc[barangay, '18-30'],\n",
    "        '31-59': df.loc[barangay, '31-59'],\n",
    "        '60+': df.loc[barangay, '60+'],\n",
    "    }\n",
    "    sorted_values = dict(sorted(values.items(), key=lambda item:-item[1]))\n",
    "    labels = list(sorted_values.keys())\n",
    "    sizes = list(sorted_values.values())\n",
    "    plt.figure(figsize=(8, 8))\n",
    "    plt.pie(sizes, labels=labels, autopct='%1.1f%%', startangle=90)\n",
    "    \n",
    "    plt.axis('equal')\n",
    "    \n",
    "    plt.title(f'AGE DISTRIBUTION FOR {barangay}')\n",
    "    plt.show()\n",
    "\n",
    "interact(print_pie_chart, barangay=list_of_barangays)"
   ]
  },
  {
   "cell_type": "code",
   "execution_count": null,
   "id": "802d8889-d140-413c-9f74-d3c837293ec7",
   "metadata": {},
   "outputs": [],
   "source": [
    "import csv\n",
    "lst = []\n",
    "\n",
    "def return_age_value(barangay, age_bracket):\n",
    "    values = {\n",
    "        '18-30': df.loc[barangay, '18-30'],\n",
    "        '31-59': df.loc[barangay, '31-59'],\n",
    "        '60+': df.loc[barangay, '60+'],\n",
    "    }\n",
    "    return values[age_bracket]\n",
    "\n",
    "for i in list_of_barangays:\n",
    "    print(i)\n",
    "    qlst = []\n",
    "    for j in groups: \n",
    "        qlst.append(return_age_value(i, j))\n",
    "    lst.append(qlst)\n",
    "\n",
    "file_path = \"./test.csv\"\n",
    "\n",
    "# Writing data to CSV file\n",
    "with open(file_path, mode='w', newline='') as file:\n",
    "    writer = csv.writer(file)\n",
    "    writer.writerows(lst)\n",
    "\n",
    "print(\"Data has been successfully saved to\", file_path)"
   ]
  },
  {
   "cell_type": "markdown",
   "id": "17587486-08a7-46ff-bbfd-e861eabb9395",
   "metadata": {},
   "source": [
    "## Total Age Distribution"
   ]
  },
  {
   "cell_type": "code",
   "execution_count": null,
   "id": "5fe0ee55-13fa-4bdd-88f9-21f82d28f235",
   "metadata": {},
   "outputs": [],
   "source": [
    "column_sums = df.sum(axis=0)\n",
    "age_groups = column_sums.sort_values()\n",
    "age_groups.plot(kind='pie', figsize=(10, 6), autopct='%1.1f%%', startangle=90)\n",
    "\n",
    "plt.title(f'AGE DISTRIBUTION OF REGISTERED VOTERS')\n",
    "plt.show()"
   ]
  },
  {
   "cell_type": "markdown",
   "id": "63540acd-9120-4790-9913-51c8dcc06224",
   "metadata": {},
   "source": [
    "## Registered Voters per Barangay"
   ]
  },
  {
   "cell_type": "code",
   "execution_count": null,
   "id": "b2bd2525-9016-4ff7-8d3b-9bb447680090",
   "metadata": {},
   "outputs": [],
   "source": [
    "df['Total'] = df['18-30']+df['31-59']+df['60+']\n",
    "\n",
    "sorted_df = df.sort_values(by='Total')\n",
    "\n",
    "plt.figure(figsize=(10,6))\n",
    "ax = plt.barh(sorted_df.index, sorted_df['Total'])\n",
    "for bar, value in zip(ax, sorted_df['Total']):\n",
    "    plt.text(bar.get_width(), bar.get_y() + bar.get_height() / 2, str(value), ha='left', va='center')\n",
    "\n",
    "\n",
    "sns.set_style(\"white\") \n",
    "sns.despine()\n",
    "\n",
    "plt.xlabel('TOTAL')\n",
    "plt.title('TOTAL NUMBER OF REGISTERED VOTERS PER BARANGAY')\n",
    "\n",
    "plt.show()"
   ]
  },
  {
   "cell_type": "markdown",
   "id": "012605af-0220-41f6-8f16-cc9baeba772f",
   "metadata": {},
   "source": [
    "## Registered Voters Distribution by Sex"
   ]
  },
  {
   "cell_type": "code",
   "execution_count": null,
   "id": "8e72ce29-bb9b-478c-b4b0-7ece4303be3b",
   "metadata": {},
   "outputs": [],
   "source": [
    "column_sums = sdf.sum(axis=0)\n",
    "sdct = {\n",
    "    'Males': column_sums['registered_males'],\n",
    "    'Females': column_sums['registered_females'],\n",
    "    'Invalid Sex': column_sums['registered_invalid_sex'],\n",
    "}\n",
    "ser = pd.Series(sdct).sort_values()\n",
    "ax = ser.plot(kind='barh', figsize=(10, 6))\n",
    "for i, v in enumerate(ser):\n",
    "    ax.text(v + 0.1, i, str(v), color='black')\n",
    "    \n",
    "sns.set_style(\"white\") \n",
    "sns.despine()\n",
    "\n",
    "plt.xlabel('TOTAL')\n",
    "plt.title('REGISTERED VOTERS DISTRIBUTION BY SEX')\n",
    "plt.show()"
   ]
  },
  {
   "cell_type": "markdown",
   "id": "28473ff3-f651-44db-ac2b-957f4bd95324",
   "metadata": {},
   "source": [
    "## Sex Distribution per Barangay"
   ]
  },
  {
   "cell_type": "code",
   "execution_count": null,
   "id": "f5e7651f-2648-4846-aa0f-7fa8f3c42e4e",
   "metadata": {},
   "outputs": [],
   "source": [
    "def print_sex_distribution_chart_per_barangay(barangay):\n",
    "    column_sums = sdf.sum(axis=0)\n",
    "    sdct = {\n",
    "        'Males': sdf.loc[barangay, 'registered_males'],\n",
    "        'Females': sdf.loc[barangay, 'registered_females'],\n",
    "        'Invalid Sex': sdf.loc[barangay, 'registered_invalid_sex'],\n",
    "    }\n",
    "    ser = pd.Series(sdct).sort_values()\n",
    "    ax = ser.plot(kind='barh', figsize=(10, 6))\n",
    "    for i, v in enumerate(ser):\n",
    "        ax.text(v + 0.1, i, str(v), color='black')\n",
    "        \n",
    "    sns.set_style(\"white\") \n",
    "    sns.despine()\n",
    "    \n",
    "    plt.xlabel('TOTAL')\n",
    "    plt.title('REGISTERED VOTERS DISTRIBUTION BY SEX')\n",
    "    \n",
    "    plt.show()\n",
    "\n",
    "interact(print_sex_distribution_chart_per_barangay, barangay=list_of_barangays)"
   ]
  },
  {
   "cell_type": "code",
   "execution_count": null,
   "id": "6a0d6a50-f985-47a9-b3b3-b9682095a8a6",
   "metadata": {},
   "outputs": [],
   "source": [
    "import csv\n",
    "lst = []\n",
    "gender = ['Males', 'Females', 'Invalid Sex']\n",
    "\n",
    "def return_gender_value(barangay, gender):\n",
    "    values = {\n",
    "        'Males': sdf.loc[barangay, 'registered_males'],\n",
    "        'Females': sdf.loc[barangay, 'registered_females'],\n",
    "        'Invalid Sex': sdf.loc[barangay, 'registered_invalid_sex'],\n",
    "    }\n",
    "    return values[gender]\n",
    "\n",
    "for i in list_of_barangays:\n",
    "    print(i)\n",
    "    qlst = []\n",
    "    for j in gender: \n",
    "        qlst.append(return_gender_value(i, j))\n",
    "    lst.append(qlst)\n",
    "\n",
    "file_path = \"./test.csv\"\n",
    "\n",
    "# Writing data to CSV file\n",
    "with open(file_path, mode='w', newline='') as file:\n",
    "    writer = csv.writer(file)\n",
    "    writer.writerows(lst)\n",
    "\n",
    "print(\"Data has been successfully saved to\", file_path)"
   ]
  },
  {
   "cell_type": "markdown",
   "id": "9948e6b7-a934-4ced-9a64-c2d7a065b407",
   "metadata": {},
   "source": [
    "## Distribution of Voter Turn-around Per Barangay"
   ]
  },
  {
   "cell_type": "code",
   "execution_count": null,
   "id": "a9a636ed-25e4-41be-af3d-e112f7ef40d2",
   "metadata": {},
   "outputs": [],
   "source": [
    "def voter_turn_around_chart_per_barangay(barangay):\n",
    "    column_sums = sdf.sum(axis=0)\n",
    "    sdct = {\n",
    "        'Males': sdf.loc[barangay, 'total_male_voters'],\n",
    "        'Females': sdf.loc[barangay, 'total_female_voters'],\n",
    "        'Invalid Sex': sdf.loc[barangay, 'total_invalid_sex_voters'],\n",
    "    }\n",
    "    ser = pd.Series(sdct).sort_values()\n",
    "    ax = ser.plot(kind='barh', figsize=(10, 6))\n",
    "    for i, v in enumerate(ser):\n",
    "        ax.text(v + 0.1, i, str(v), color='black')\n",
    "        \n",
    "    sns.set_style(\"white\") \n",
    "    sns.despine()\n",
    "    \n",
    "    plt.xlabel('TOTAL')\n",
    "    plt.title('REGISTERED VOTERS DISTRIBUTION BY SEX')\n",
    "    \n",
    "    plt.show()\n",
    "\n",
    "interact(voter_turn_around_chart_per_barangay, barangay=list_of_barangays)"
   ]
  },
  {
   "cell_type": "code",
   "execution_count": null,
   "id": "c3c2a961-0639-4c23-bfdd-fee6666185d9",
   "metadata": {},
   "outputs": [],
   "source": [
    "import csv\n",
    "lst = []\n",
    "gender = ['Males', 'Females', 'Invalid Sex']\n",
    "\n",
    "def return_gender_value(barangay, gender):\n",
    "    values = {\n",
    "        'Males': sdf.loc[barangay, 'total_male_voters'],\n",
    "        'Females': sdf.loc[barangay, 'total_female_voters'],\n",
    "        'Invalid Sex': sdf.loc[barangay, 'total_invalid_sex_voters'],\n",
    "    }\n",
    "    return values[gender]\n",
    "\n",
    "for i in list_of_barangays:\n",
    "    print(i)\n",
    "    qlst = []\n",
    "    for j in gender: \n",
    "        qlst.append(return_gender_value(i, j))\n",
    "    lst.append(qlst)\n",
    "\n",
    "file_path = \"./test.csv\"\n",
    "\n",
    "# Writing data to CSV file\n",
    "with open(file_path, mode='w', newline='') as file:\n",
    "    writer = csv.writer(file)\n",
    "    writer.writerows(lst)\n",
    "\n",
    "print(\"Data has been successfully saved to\", file_path)"
   ]
  },
  {
   "cell_type": "code",
   "execution_count": null,
   "id": "6295ab95-597b-48f7-9c93-04f89cccfafe",
   "metadata": {},
   "outputs": [],
   "source": [
    "sdf['total_male_voters_negate'] = sdf['registered_males'] - sdf['total_male_voters'] \n",
    "sdf['total_female_voters_negate'] = sdf['registered_females'] - sdf['total_female_voters']\n",
    "sdf['total_invalid_sex_voters_negate'] = sdf['registered_invalid_sex'] - sdf['total_invalid_sex_voters']"
   ]
  },
  {
   "cell_type": "code",
   "execution_count": null,
   "id": "44b441b1-6b18-4972-b872-a56fe28edaf4",
   "metadata": {},
   "outputs": [],
   "source": [
    "sdf['total_turnout'] = sdf['total_male_voters']+sdf['total_female_voters']+sdf['total_invalid_sex_voters']"
   ]
  },
  {
   "cell_type": "code",
   "execution_count": null,
   "id": "ba36381f-19e9-4b59-8432-257277681d12",
   "metadata": {},
   "outputs": [],
   "source": [
    "lst = sdf['total_turnout'].sort_index().tolist()\n",
    "\n",
    "for i in lst:\n",
    "    print(i)"
   ]
  },
  {
   "cell_type": "markdown",
   "id": "a0139cf7-0bf2-432e-9178-387a6cfc6a27",
   "metadata": {},
   "source": [
    "## Distribution of those who didn't vote per barangay"
   ]
  },
  {
   "cell_type": "code",
   "execution_count": null,
   "id": "745f1736-0d4b-47b8-874b-b40cbf223e94",
   "metadata": {},
   "outputs": [],
   "source": [
    "def negated_voter_turn_around_chart_per_barangay(barangay):\n",
    "    column_sums = sdf.sum(axis=0)\n",
    "    sdct = {\n",
    "        'Males': sdf.loc[barangay, 'total_male_voters_negate'],\n",
    "        'Females': sdf.loc[barangay, 'total_female_voters_negate'],\n",
    "        'Invalid Sex': sdf.loc[barangay, 'total_invalid_sex_voters_negate'],\n",
    "    }\n",
    "    ser = pd.Series(sdct).sort_values()\n",
    "    ax = ser.plot(kind='barh', figsize=(10, 6))\n",
    "    for i, v in enumerate(ser):\n",
    "        ax.text(v + 0.1, i, str(v), color='black')\n",
    "        \n",
    "    sns.set_style(\"white\") \n",
    "    sns.despine()\n",
    "    \n",
    "    plt.xlabel('TOTAL')\n",
    "    plt.title('REGISTERED VOTERS DISTRIBUTION BY SEX')\n",
    "    plt.show()\n",
    "\n",
    "interact(negated_voter_turn_around_chart_per_barangay, barangay=list_of_barangays)"
   ]
  },
  {
   "cell_type": "markdown",
   "id": "6f553568-eda7-446e-b29d-e40358eb69c0",
   "metadata": {},
   "source": [
    "```\n",
    "TO DO:\n",
    "[ ] - By percentage distribution to know which sex didnt vote the most\n",
    "[ ] - Per barangay distribution\n",
    "```"
   ]
  },
  {
   "cell_type": "code",
   "execution_count": null,
   "id": "0d4a165b-8a9f-4c5c-a571-493b630ae3cb",
   "metadata": {},
   "outputs": [],
   "source": []
  }
 ],
 "metadata": {
  "kernelspec": {
   "display_name": "Python 3 (ipykernel)",
   "language": "python",
   "name": "python3"
  },
  "language_info": {
   "codemirror_mode": {
    "name": "ipython",
    "version": 3
   },
   "file_extension": ".py",
   "mimetype": "text/x-python",
   "name": "python",
   "nbconvert_exporter": "python",
   "pygments_lexer": "ipython3",
   "version": "3.11.5"
  }
 },
 "nbformat": 4,
 "nbformat_minor": 5
}
