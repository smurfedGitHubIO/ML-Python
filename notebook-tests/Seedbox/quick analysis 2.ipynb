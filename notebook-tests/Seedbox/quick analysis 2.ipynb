{
 "cells": [
  {
   "cell_type": "code",
   "execution_count": 1,
   "id": "43834d57-c2d6-4c64-bbff-a2273b27652c",
   "metadata": {},
   "outputs": [],
   "source": [
    "import pandas as pd\n",
    "import os"
   ]
  },
  {
   "cell_type": "code",
   "execution_count": 2,
   "id": "71a01ea3-0fa2-434c-84c0-77ae62b1d249",
   "metadata": {},
   "outputs": [
    {
     "data": {
      "text/html": [
       "<div>\n",
       "<style scoped>\n",
       "    .dataframe tbody tr th:only-of-type {\n",
       "        vertical-align: middle;\n",
       "    }\n",
       "\n",
       "    .dataframe tbody tr th {\n",
       "        vertical-align: top;\n",
       "    }\n",
       "\n",
       "    .dataframe thead th {\n",
       "        text-align: right;\n",
       "    }\n",
       "</style>\n",
       "<table border=\"1\" class=\"dataframe\">\n",
       "  <thead>\n",
       "    <tr style=\"text-align: right;\">\n",
       "      <th></th>\n",
       "      <th>NO.</th>\n",
       "      <th>ORG</th>\n",
       "      <th>LAST</th>\n",
       "      <th>FIRST</th>\n",
       "      <th>MIDDLE</th>\n",
       "      <th>FULLNAME</th>\n",
       "      <th>YEAR</th>\n",
       "      <th>MONTH</th>\n",
       "      <th>DAY</th>\n",
       "      <th>POSITION</th>\n",
       "      <th>...</th>\n",
       "      <th>CIVIL STATUS</th>\n",
       "      <th>BIRTH PLACE</th>\n",
       "      <th>PROVINCIAL ADDRESS</th>\n",
       "      <th>TOTAL FAMILY MEMBERS</th>\n",
       "      <th>EDUCATIONAL BACKGROUND</th>\n",
       "      <th>WORK</th>\n",
       "      <th>PRECINCT #</th>\n",
       "      <th>NOTE</th>\n",
       "      <th>REMARKS</th>\n",
       "      <th>Unnamed: 22</th>\n",
       "    </tr>\n",
       "  </thead>\n",
       "  <tbody>\n",
       "    <tr>\n",
       "      <th>0</th>\n",
       "      <td>NaN</td>\n",
       "      <td>BATANG LACSON</td>\n",
       "      <td>LORESTO</td>\n",
       "      <td>XIEMON LARS</td>\n",
       "      <td>MORALES</td>\n",
       "      <td>LORESTO, XIEMON LARS MORALES</td>\n",
       "      <td>1999</td>\n",
       "      <td>11</td>\n",
       "      <td>3</td>\n",
       "      <td>MEMBER</td>\n",
       "      <td>...</td>\n",
       "      <td>NaN</td>\n",
       "      <td>NaN</td>\n",
       "      <td>NaN</td>\n",
       "      <td>NaN</td>\n",
       "      <td>NaN</td>\n",
       "      <td>NaN</td>\n",
       "      <td>0554A</td>\n",
       "      <td>NaN</td>\n",
       "      <td>NaN</td>\n",
       "      <td>NaN</td>\n",
       "    </tr>\n",
       "    <tr>\n",
       "      <th>1</th>\n",
       "      <td>NaN</td>\n",
       "      <td>KKM</td>\n",
       "      <td>ABAD</td>\n",
       "      <td>JOVITA</td>\n",
       "      <td>FLORES</td>\n",
       "      <td>ABAD, JOVITA FLORES</td>\n",
       "      <td>1956</td>\n",
       "      <td>5</td>\n",
       "      <td>17</td>\n",
       "      <td>MEMBER</td>\n",
       "      <td>...</td>\n",
       "      <td>NaN</td>\n",
       "      <td>NaN</td>\n",
       "      <td>NaN</td>\n",
       "      <td>NaN</td>\n",
       "      <td>NaN</td>\n",
       "      <td>NaN</td>\n",
       "      <td>0556A</td>\n",
       "      <td>OK</td>\n",
       "      <td>NaN</td>\n",
       "      <td>NaN</td>\n",
       "    </tr>\n",
       "    <tr>\n",
       "      <th>2</th>\n",
       "      <td>NaN</td>\n",
       "      <td>KKM</td>\n",
       "      <td>ABADEJOS</td>\n",
       "      <td>DOROTHY</td>\n",
       "      <td>ECHALAS</td>\n",
       "      <td>ABADEJOS, DOROTHY ECHALAS</td>\n",
       "      <td>1974</td>\n",
       "      <td>1</td>\n",
       "      <td>8</td>\n",
       "      <td>MEMBER</td>\n",
       "      <td>...</td>\n",
       "      <td>NaN</td>\n",
       "      <td>NaN</td>\n",
       "      <td>NaN</td>\n",
       "      <td>NaN</td>\n",
       "      <td>NaN</td>\n",
       "      <td>NaN</td>\n",
       "      <td>0570B</td>\n",
       "      <td>OK</td>\n",
       "      <td>NaN</td>\n",
       "      <td>NaN</td>\n",
       "    </tr>\n",
       "    <tr>\n",
       "      <th>3</th>\n",
       "      <td>NaN</td>\n",
       "      <td>KKM</td>\n",
       "      <td>ABELLA</td>\n",
       "      <td>LIEZEL</td>\n",
       "      <td>GUILING</td>\n",
       "      <td>ABELLA, LIEZEL GUILING</td>\n",
       "      <td>1984</td>\n",
       "      <td>6</td>\n",
       "      <td>18</td>\n",
       "      <td>MEMBER</td>\n",
       "      <td>...</td>\n",
       "      <td>NaN</td>\n",
       "      <td>NaN</td>\n",
       "      <td>NaN</td>\n",
       "      <td>NaN</td>\n",
       "      <td>NaN</td>\n",
       "      <td>NaN</td>\n",
       "      <td>0570B</td>\n",
       "      <td>NO ID</td>\n",
       "      <td>NaN</td>\n",
       "      <td>NaN</td>\n",
       "    </tr>\n",
       "    <tr>\n",
       "      <th>4</th>\n",
       "      <td>NaN</td>\n",
       "      <td>KKM</td>\n",
       "      <td>ABORDO</td>\n",
       "      <td>ANAPHIE</td>\n",
       "      <td>ESTRABELA</td>\n",
       "      <td>ABORDO, ANAPHIE ESTRABELA</td>\n",
       "      <td>1980</td>\n",
       "      <td>1</td>\n",
       "      <td>7</td>\n",
       "      <td>MEMBER</td>\n",
       "      <td>...</td>\n",
       "      <td>NaN</td>\n",
       "      <td>NaN</td>\n",
       "      <td>NaN</td>\n",
       "      <td>NaN</td>\n",
       "      <td>NaN</td>\n",
       "      <td>NaN</td>\n",
       "      <td>0559A</td>\n",
       "      <td>NO ID</td>\n",
       "      <td>NaN</td>\n",
       "      <td>NaN</td>\n",
       "    </tr>\n",
       "  </tbody>\n",
       "</table>\n",
       "<p>5 rows × 23 columns</p>\n",
       "</div>"
      ],
      "text/plain": [
       "   NO.            ORG      LAST        FIRST     MIDDLE  \\\n",
       "0  NaN  BATANG LACSON   LORESTO  XIEMON LARS    MORALES   \n",
       "1  NaN            KKM      ABAD       JOVITA     FLORES   \n",
       "2  NaN            KKM  ABADEJOS      DOROTHY    ECHALAS   \n",
       "3  NaN            KKM    ABELLA       LIEZEL    GUILING   \n",
       "4  NaN            KKM    ABORDO      ANAPHIE  ESTRABELA   \n",
       "\n",
       "                       FULLNAME  YEAR MONTH DAY POSITION  ... CIVIL STATUS  \\\n",
       "0  LORESTO, XIEMON LARS MORALES  1999    11   3   MEMBER  ...          NaN   \n",
       "1           ABAD, JOVITA FLORES  1956     5  17   MEMBER  ...          NaN   \n",
       "2     ABADEJOS, DOROTHY ECHALAS  1974     1   8   MEMBER  ...          NaN   \n",
       "3        ABELLA, LIEZEL GUILING  1984     6  18   MEMBER  ...          NaN   \n",
       "4     ABORDO, ANAPHIE ESTRABELA  1980     1   7   MEMBER  ...          NaN   \n",
       "\n",
       "  BIRTH PLACE PROVINCIAL ADDRESS TOTAL FAMILY MEMBERS EDUCATIONAL BACKGROUND  \\\n",
       "0         NaN                NaN                  NaN                    NaN   \n",
       "1         NaN                NaN                  NaN                    NaN   \n",
       "2         NaN                NaN                  NaN                    NaN   \n",
       "3         NaN                NaN                  NaN                    NaN   \n",
       "4         NaN                NaN                  NaN                    NaN   \n",
       "\n",
       "  WORK  PRECINCT #   NOTE  REMARKS Unnamed: 22  \n",
       "0  NaN       0554A    NaN      NaN         NaN  \n",
       "1  NaN       0556A     OK      NaN         NaN  \n",
       "2  NaN       0570B     OK      NaN         NaN  \n",
       "3  NaN       0570B  NO ID      NaN         NaN  \n",
       "4  NaN       0559A  NO ID      NaN         NaN  \n",
       "\n",
       "[5 rows x 23 columns]"
      ]
     },
     "execution_count": 2,
     "metadata": {},
     "output_type": "execute_result"
    }
   ],
   "source": [
    "df = pd.read_excel('./MASTERLIST 32K.xlsx')\n",
    "df.head()"
   ]
  },
  {
   "cell_type": "code",
   "execution_count": 3,
   "id": "62c8090c-6208-4e51-8b1a-94d706f3e63c",
   "metadata": {},
   "outputs": [
    {
     "data": {
      "text/plain": [
       "(32089, 23)"
      ]
     },
     "execution_count": 3,
     "metadata": {},
     "output_type": "execute_result"
    }
   ],
   "source": [
    "df.shape"
   ]
  },
  {
   "cell_type": "code",
   "execution_count": 4,
   "id": "f17010a0-611e-4c21-b127-90990613b899",
   "metadata": {},
   "outputs": [
    {
     "data": {
      "text/plain": [
       "ORG\n",
       "LAKAS                                 9914\n",
       "KKM                                   9799\n",
       "THUNDERS                              8813\n",
       "SANGLAHI                              1450\n",
       "REPUBLIKA                             1211\n",
       "BATANG LACSON                          898\n",
       "SPECIAL OPS                              2\n",
       "                                         1\n",
       "KKM                                      1\n",
       "Name: count, dtype: int64"
      ]
     },
     "execution_count": 4,
     "metadata": {},
     "output_type": "execute_result"
    }
   ],
   "source": [
    "df['ORG'].value_counts()"
   ]
  },
  {
   "cell_type": "code",
   "execution_count": 5,
   "id": "34d30f97-3f3e-4b17-a09f-bc54f207a1c3",
   "metadata": {},
   "outputs": [
    {
     "data": {
      "text/plain": [
       "array(['BATANG LACSON', 'KKM', 'LAKAS', 'REPUBLIKA', 'SANGLAHI',\n",
       "       'THUNDERS', '                                  ', 'SPECIAL OPS',\n",
       "       'KKM '], dtype=object)"
      ]
     },
     "execution_count": 5,
     "metadata": {},
     "output_type": "execute_result"
    }
   ],
   "source": [
    "df['ORG'].unique()"
   ]
  },
  {
   "cell_type": "code",
   "execution_count": 6,
   "id": "ca23ff20-13e4-4df9-959b-c23133b2e7a6",
   "metadata": {},
   "outputs": [],
   "source": [
    "df['ORG'] = df['ORG'].replace({'KKM ': 'KKM'})"
   ]
  },
  {
   "cell_type": "code",
   "execution_count": 7,
   "id": "59294468-e16c-4bee-bab5-da301a58dbaa",
   "metadata": {},
   "outputs": [
    {
     "data": {
      "text/plain": [
       "ORG\n",
       "LAKAS                                 9914\n",
       "KKM                                   9800\n",
       "THUNDERS                              8813\n",
       "SANGLAHI                              1450\n",
       "REPUBLIKA                             1211\n",
       "BATANG LACSON                          898\n",
       "SPECIAL OPS                              2\n",
       "                                         1\n",
       "Name: count, dtype: int64"
      ]
     },
     "execution_count": 7,
     "metadata": {},
     "output_type": "execute_result"
    }
   ],
   "source": [
    "df['ORG'].value_counts()"
   ]
  },
  {
   "cell_type": "code",
   "execution_count": 8,
   "id": "1f634a15-b258-4b3d-a286-906876f07ee3",
   "metadata": {},
   "outputs": [
    {
     "data": {
      "text/plain": [
       "Index(['NO.', 'ORG', 'LAST', 'FIRST', 'MIDDLE', 'FULLNAME', 'YEAR', 'MONTH',\n",
       "       'DAY', 'POSITION', 'ADDRESS', 'BARANGAY', 'SEX', 'CIVIL STATUS',\n",
       "       'BIRTH PLACE', 'PROVINCIAL ADDRESS', 'TOTAL FAMILY MEMBERS',\n",
       "       'EDUCATIONAL BACKGROUND', 'WORK', 'PRECINCT #', 'NOTE', 'REMARKS',\n",
       "       'Unnamed: 22'],\n",
       "      dtype='object')"
      ]
     },
     "execution_count": 8,
     "metadata": {},
     "output_type": "execute_result"
    }
   ],
   "source": [
    "df.columns"
   ]
  },
  {
   "cell_type": "code",
   "execution_count": 9,
   "id": "63a293c5-474a-4626-a6b5-25efc188dffc",
   "metadata": {},
   "outputs": [
    {
     "data": {
      "text/html": [
       "<div>\n",
       "<style scoped>\n",
       "    .dataframe tbody tr th:only-of-type {\n",
       "        vertical-align: middle;\n",
       "    }\n",
       "\n",
       "    .dataframe tbody tr th {\n",
       "        vertical-align: top;\n",
       "    }\n",
       "\n",
       "    .dataframe thead th {\n",
       "        text-align: right;\n",
       "    }\n",
       "</style>\n",
       "<table border=\"1\" class=\"dataframe\">\n",
       "  <thead>\n",
       "    <tr style=\"text-align: right;\">\n",
       "      <th></th>\n",
       "      <th>NO.</th>\n",
       "      <th>TOTAL FAMILY MEMBERS</th>\n",
       "      <th>WORK</th>\n",
       "      <th>Unnamed: 22</th>\n",
       "    </tr>\n",
       "  </thead>\n",
       "  <tbody>\n",
       "    <tr>\n",
       "      <th>count</th>\n",
       "      <td>0.0</td>\n",
       "      <td>58.000000</td>\n",
       "      <td>0.0</td>\n",
       "      <td>5.000000</td>\n",
       "    </tr>\n",
       "    <tr>\n",
       "      <th>mean</th>\n",
       "      <td>NaN</td>\n",
       "      <td>2.568966</td>\n",
       "      <td>NaN</td>\n",
       "      <td>50.600000</td>\n",
       "    </tr>\n",
       "    <tr>\n",
       "      <th>std</th>\n",
       "      <td>NaN</td>\n",
       "      <td>1.201053</td>\n",
       "      <td>NaN</td>\n",
       "      <td>17.756689</td>\n",
       "    </tr>\n",
       "    <tr>\n",
       "      <th>min</th>\n",
       "      <td>NaN</td>\n",
       "      <td>1.000000</td>\n",
       "      <td>NaN</td>\n",
       "      <td>21.000000</td>\n",
       "    </tr>\n",
       "    <tr>\n",
       "      <th>25%</th>\n",
       "      <td>NaN</td>\n",
       "      <td>2.000000</td>\n",
       "      <td>NaN</td>\n",
       "      <td>48.000000</td>\n",
       "    </tr>\n",
       "    <tr>\n",
       "      <th>50%</th>\n",
       "      <td>NaN</td>\n",
       "      <td>2.000000</td>\n",
       "      <td>NaN</td>\n",
       "      <td>59.000000</td>\n",
       "    </tr>\n",
       "    <tr>\n",
       "      <th>75%</th>\n",
       "      <td>NaN</td>\n",
       "      <td>3.000000</td>\n",
       "      <td>NaN</td>\n",
       "      <td>59.000000</td>\n",
       "    </tr>\n",
       "    <tr>\n",
       "      <th>max</th>\n",
       "      <td>NaN</td>\n",
       "      <td>7.000000</td>\n",
       "      <td>NaN</td>\n",
       "      <td>66.000000</td>\n",
       "    </tr>\n",
       "  </tbody>\n",
       "</table>\n",
       "</div>"
      ],
      "text/plain": [
       "       NO.  TOTAL FAMILY MEMBERS  WORK  Unnamed: 22\n",
       "count  0.0             58.000000   0.0     5.000000\n",
       "mean   NaN              2.568966   NaN    50.600000\n",
       "std    NaN              1.201053   NaN    17.756689\n",
       "min    NaN              1.000000   NaN    21.000000\n",
       "25%    NaN              2.000000   NaN    48.000000\n",
       "50%    NaN              2.000000   NaN    59.000000\n",
       "75%    NaN              3.000000   NaN    59.000000\n",
       "max    NaN              7.000000   NaN    66.000000"
      ]
     },
     "execution_count": 9,
     "metadata": {},
     "output_type": "execute_result"
    }
   ],
   "source": [
    "df.describe()"
   ]
  },
  {
   "cell_type": "code",
   "execution_count": 10,
   "id": "1bc83a8a-4280-4de3-a9e0-43df7c89360b",
   "metadata": {},
   "outputs": [
    {
     "name": "stdout",
     "output_type": "stream",
     "text": [
      "<class 'pandas.core.frame.DataFrame'>\n",
      "RangeIndex: 32089 entries, 0 to 32088\n",
      "Data columns (total 23 columns):\n",
      " #   Column                  Non-Null Count  Dtype  \n",
      "---  ------                  --------------  -----  \n",
      " 0   NO.                     0 non-null      float64\n",
      " 1   ORG                     32089 non-null  object \n",
      " 2   LAST                    32089 non-null  object \n",
      " 3   FIRST                   32089 non-null  object \n",
      " 4   MIDDLE                  32041 non-null  object \n",
      " 5   FULLNAME                32089 non-null  object \n",
      " 6   YEAR                    32082 non-null  object \n",
      " 7   MONTH                   32082 non-null  object \n",
      " 8   DAY                     32083 non-null  object \n",
      " 9   POSITION                32037 non-null  object \n",
      " 10  ADDRESS                 32066 non-null  object \n",
      " 11  BARANGAY                32089 non-null  object \n",
      " 12  SEX                     32089 non-null  object \n",
      " 13  CIVIL STATUS            80 non-null     object \n",
      " 14  BIRTH PLACE             80 non-null     object \n",
      " 15  PROVINCIAL ADDRESS      68 non-null     object \n",
      " 16  TOTAL FAMILY MEMBERS    58 non-null     float64\n",
      " 17  EDUCATIONAL BACKGROUND  66 non-null     object \n",
      " 18  WORK                    0 non-null      float64\n",
      " 19  PRECINCT #              32082 non-null  object \n",
      " 20  NOTE                    10201 non-null  object \n",
      " 21  REMARKS                 23 non-null     object \n",
      " 22  Unnamed: 22             5 non-null      float64\n",
      "dtypes: float64(4), object(19)\n",
      "memory usage: 5.6+ MB\n"
     ]
    }
   ],
   "source": [
    "df.info()"
   ]
  },
  {
   "cell_type": "code",
   "execution_count": 11,
   "id": "84fcee1f-142a-495d-a072-6c4f7b3d2b38",
   "metadata": {},
   "outputs": [],
   "source": [
    "# indices = [0,13,14,15,16,17,18,20,21,22]\n",
    "# list_of_columns_to_drop = []\n",
    "# for ind in indices:\n",
    "#     list_of_columns_to_drop.append(df.columns[ind])\n",
    "# df.drop(labels=list_of_columns_to_drop, axis=1, inplace=True)"
   ]
  },
  {
   "cell_type": "code",
   "execution_count": 14,
   "id": "90158b96-8afc-48df-93f5-145b09ceb222",
   "metadata": {},
   "outputs": [
    {
     "data": {
      "text/plain": [
       "array(['MEMBER', nan, 'COORDINATOR', 'PUROK LEADER', 'PL'], dtype=object)"
      ]
     },
     "execution_count": 14,
     "metadata": {},
     "output_type": "execute_result"
    }
   ],
   "source": [
    "df['POSITION'].unique()"
   ]
  },
  {
   "cell_type": "code",
   "execution_count": 15,
   "id": "20303bf9-d700-4882-b7de-5e555bd2285f",
   "metadata": {},
   "outputs": [
    {
     "data": {
      "text/plain": [
       "POSITION\n",
       "MEMBER          32025\n",
       "PL                  7\n",
       "PUROK LEADER        3\n",
       "COORDINATOR         2\n",
       "Name: count, dtype: int64"
      ]
     },
     "execution_count": 15,
     "metadata": {},
     "output_type": "execute_result"
    }
   ],
   "source": [
    "df['POSITION'].value_counts()"
   ]
  },
  {
   "cell_type": "code",
   "execution_count": 16,
   "id": "05e5eceb-9b07-4f6a-9d6c-1d26cd006abe",
   "metadata": {},
   "outputs": [],
   "source": [
    "df['POSITION'].fillna('MEMBER', inplace=True)"
   ]
  },
  {
   "cell_type": "code",
   "execution_count": 17,
   "id": "200e246c-3127-49c1-8b75-a56460f08051",
   "metadata": {},
   "outputs": [
    {
     "data": {
      "text/plain": [
       "PRECINCT #\n",
       "0001A           27\n",
       "0001B           21\n",
       "0002A           17\n",
       "0002A\\t          1\n",
       "0002B           15\n",
       "                ..\n",
       "685A             1\n",
       "725A             2\n",
       "9125C            1\n",
       "F0337            1\n",
       "NEW REGISTER     1\n",
       "Name: ORG, Length: 1753, dtype: int64"
      ]
     },
     "execution_count": 17,
     "metadata": {},
     "output_type": "execute_result"
    }
   ],
   "source": [
    "df.groupby('PRECINCT #')['ORG'].count()"
   ]
  },
  {
   "cell_type": "code",
   "execution_count": 18,
   "id": "baf14f29-d90f-4182-a655-88c59172dcbe",
   "metadata": {},
   "outputs": [
    {
     "data": {
      "text/plain": [
       "BARANGAY\n",
       "ACACIA            750\n",
       "ACACIA              1\n",
       "BARITAN           775\n",
       "BAYAN BAYANAN       1\n",
       "BAYAN-BAYANAN     913\n",
       "CATMON           2557\n",
       "CATMON            574\n",
       "CONCEPCION       1531\n",
       "CONCEPCION          1\n",
       "DAMPALIT          940\n",
       "FLORES            424\n",
       "HULONG DUHAT     1142\n",
       "IBABA            1128\n",
       "LONGOS           3563\n",
       "MAYSILO           977\n",
       "MUZON             627\n",
       "NIUGAN            374\n",
       "PANGHULO         1627\n",
       "POTRERO          3313\n",
       "POTRERO            34\n",
       "SAN AGUSTIN       813\n",
       "SANTULAN         1555\n",
       "TAÑONG           1647\n",
       "TINAJEROS        1463\n",
       "TONSUYA          3814\n",
       "TONSUYA             1\n",
       "TUGATOG          1544\n",
       "Name: ORG, dtype: int64"
      ]
     },
     "execution_count": 18,
     "metadata": {},
     "output_type": "execute_result"
    }
   ],
   "source": [
    "df.groupby('BARANGAY')['ORG'].count()"
   ]
  },
  {
   "cell_type": "code",
   "execution_count": 20,
   "id": "c0ae8116-cf84-4829-b24c-18fce9e6aa4f",
   "metadata": {},
   "outputs": [
    {
     "data": {
      "text/plain": [
       "array([nan, 'OK', 'NO ID', 'NO FORM', 'WITH ID', 'SANDOVAL', 'ETRYK',\n",
       "       'CONCEPCION VOTER', 'NIUGAN VOTER', 'IBABA VOTER', 'BARITAN VOTER',\n",
       "       'EDIT KKM', 'FOR OATH', 'TAÑONG VOTER', 'CHANGE ID',\n",
       "       'NO ID & FORM', 'NO ID  ', 'ORETA', 'SANTULAN VOTER', 'NO ID '],\n",
       "      dtype=object)"
      ]
     },
     "execution_count": 20,
     "metadata": {},
     "output_type": "execute_result"
    }
   ],
   "source": [
    "df['NOTE'].unique()"
   ]
  },
  {
   "cell_type": "code",
   "execution_count": null,
   "id": "557c4e7a-ca6a-49c6-9fda-699c5b3b1486",
   "metadata": {},
   "outputs": [],
   "source": []
  }
 ],
 "metadata": {
  "kernelspec": {
   "display_name": "Python 3 (ipykernel)",
   "language": "python",
   "name": "python3"
  },
  "language_info": {
   "codemirror_mode": {
    "name": "ipython",
    "version": 3
   },
   "file_extension": ".py",
   "mimetype": "text/x-python",
   "name": "python",
   "nbconvert_exporter": "python",
   "pygments_lexer": "ipython3",
   "version": "3.11.5"
  }
 },
 "nbformat": 4,
 "nbformat_minor": 5
}
