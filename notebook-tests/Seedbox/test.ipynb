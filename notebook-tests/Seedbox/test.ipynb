{
 "cells": [
  {
   "cell_type": "code",
   "execution_count": 26,
   "id": "77a8e22d-b60a-4448-8cd7-b9db1b1872bf",
   "metadata": {},
   "outputs": [],
   "source": [
    "import pandas as pd\n",
    "from PyPDF2 import PdfReader as PDFReader, PdfWriter as PDFWriter\n",
    "import os"
   ]
  },
  {
   "cell_type": "code",
   "execution_count": 27,
   "id": "699c46be-31f6-432b-9544-6621cc9ba752",
   "metadata": {},
   "outputs": [
    {
     "data": {
      "text/plain": [
       "['.ipynb_checkpoints', 'BRGY TUGATOG.pdf', 'PDFS', 'test.ipynb']"
      ]
     },
     "execution_count": 27,
     "metadata": {},
     "output_type": "execute_result"
    }
   ],
   "source": [
    "os.listdir('./')"
   ]
  },
  {
   "cell_type": "code",
   "execution_count": 46,
   "id": "893efaf5-182d-42ad-be18-a24622772720",
   "metadata": {},
   "outputs": [],
   "source": [
    "params = {\n",
    "    'number': {\n",
    "        'upper_left': (0, 630),\n",
    "        'lower_right': (60, 80),\n",
    "        'upper_right': (60, 630),\n",
    "        'lower_left': (0, 80),\n",
    "    },\n",
    "    'legend_and_voters_name': {\n",
    "        'upper_left': (60, 630),\n",
    "        'lower_right': (360, 80),\n",
    "        'upper_right': (360, 630),\n",
    "        'lower_left': (60, 80),\n",
    "    },\n",
    "    'address': {\n",
    "        'upper_left': (360, 630),\n",
    "        'lower_right': (580, 80),\n",
    "        'upper_right': (580, 630),\n",
    "        'lower_left': (360, 80),\n",
    "    }\n",
    "}\n",
    "\n",
    "end_line = \"We CERTIFY that the above voting records are true, correct and complete.\""
   ]
  },
  {
   "cell_type": "code",
   "execution_count": null,
   "id": "cc20e60d-5df1-4e0d-9374-777884011094",
   "metadata": {},
   "outputs": [],
   "source": [
    "# checks if the current page contains the end of the list for a certain precinct number\n",
    "cur = PDFReader('BRGY TUGATOG.pdf')\n",
    "list_ends = []\n",
    "for i in range(len(cur.pages)):\n",
    "    # print(cur.pages[31].extract_text())\n",
    "    lst = cur.pages[i].extract_text().split('\\n')\n",
    "    # number = \n",
    "    # print(lst[8].split(' ')[0])\n",
    "    check_end_line = False\n",
    "    for ind in range(len(lst)):\n",
    "        if lst[ind] == end_line:\n",
    "            check_end_line = True\n",
    "            list_ends.append(i)\n",
    "            break"
   ]
  },
  {
   "cell_type": "code",
   "execution_count": 55,
   "id": "18b5f5c8-d2bb-4bda-8a4b-967060d92468",
   "metadata": {},
   "outputs": [],
   "source": [
    "for pdfs in os.listdir('./PDFS/'):\n",
    "    cur = PDFReader(f'./PDFS/{pdfs}')\n",
    "    output = PDFWriter()\n",
    "    for i in range(len(cur.pages)):\n",
    "        for key, index in enumerate(params):\n",
    "            pg = cur.pages[i]\n",
    "            ind = params[index]\n",
    "            pg.cropbox.upper_left = (ind['upper_left'][0], ind['upper_left'][1])\n",
    "            pg.cropbox.lower_right = (ind['lower_right'][0], ind['lower_right'][1])\n",
    "            pg.cropbox.upper_right = (ind['upper_right'][0], ind['upper_right'][1])\n",
    "            pg.cropbox.lower_left = (ind['lower_left'][0], ind['lower_left'][1])\n",
    "            output.add_page(pg)\n",
    "    with open(f'./Created PDFs/{pdfs}.pdf', \"wb\") as out_f:\n",
    "        output.write(out_f)\n",
    "    break"
   ]
  },
  {
   "cell_type": "code",
   "execution_count": 65,
   "id": "3c94bf79-9283-46b0-8527-72f4b71804c6",
   "metadata": {},
   "outputs": [],
   "source": []
  },
  {
   "cell_type": "code",
   "execution_count": 68,
   "id": "0b1525a8-2c77-4d3b-a5c2-d0cdd4884dfe",
   "metadata": {
    "scrolled": true
   },
   "outputs": [],
   "source": []
  },
  {
   "cell_type": "code",
   "execution_count": null,
   "id": "bd9e0cfd-39da-4d6f-98ba-816ec3118e61",
   "metadata": {},
   "outputs": [],
   "source": []
  }
 ],
 "metadata": {
  "kernelspec": {
   "display_name": "Python 3 (ipykernel)",
   "language": "python",
   "name": "python3"
  },
  "language_info": {
   "codemirror_mode": {
    "name": "ipython",
    "version": 3
   },
   "file_extension": ".py",
   "mimetype": "text/x-python",
   "name": "python",
   "nbconvert_exporter": "python",
   "pygments_lexer": "ipython3",
   "version": "3.11.5"
  }
 },
 "nbformat": 4,
 "nbformat_minor": 5
}
