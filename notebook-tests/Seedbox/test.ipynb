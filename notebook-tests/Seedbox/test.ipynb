{
 "cells": [
  {
   "cell_type": "code",
   "execution_count": 26,
   "id": "77a8e22d-b60a-4448-8cd7-b9db1b1872bf",
   "metadata": {},
   "outputs": [],
   "source": [
    "import pandas as pd\n",
    "from PyPDF2 import PdfReader as PDFReader, PdfWriter as PDFWriter\n",
    "import os"
   ]
  },
  {
   "cell_type": "code",
   "execution_count": 27,
   "id": "699c46be-31f6-432b-9544-6621cc9ba752",
   "metadata": {},
   "outputs": [
    {
     "data": {
      "text/plain": [
       "['.ipynb_checkpoints', 'BRGY TUGATOG.pdf', 'PDFS', 'test.ipynb']"
      ]
     },
     "execution_count": 27,
     "metadata": {},
     "output_type": "execute_result"
    }
   ],
   "source": [
    "os.listdir('./')"
   ]
  },
  {
   "cell_type": "code",
   "execution_count": 109,
   "id": "893efaf5-182d-42ad-be18-a24622772720",
   "metadata": {},
   "outputs": [],
   "source": [
    "params = {\n",
    "    'number': {\n",
    "        'upper_left': (0, 630),\n",
    "        'lower_right': (60, 80),\n",
    "        'upper_right': (60, 630),\n",
    "        'lower_left': (0, 80),\n",
    "    },\n",
    "    'legend_and_voters_name': {\n",
    "        'upper_left': (60, 630),\n",
    "        'lower_right': (360, 80),\n",
    "        'upper_right': (360, 630),\n",
    "        'lower_left': (60, 80),\n",
    "    },\n",
    "    'address': {\n",
    "        'upper_left': (360, 630),\n",
    "        'lower_right': (580, 80),\n",
    "        'upper_right': (580, 630),\n",
    "        'lower_left': (360, 80),\n",
    "    }\n",
    "}\n",
    "\n",
    "end_line = \"We CERTIFY that the above voting records are true, correct and complete.\""
   ]
  },
  {
   "cell_type": "code",
   "execution_count": 97,
   "id": "cc20e60d-5df1-4e0d-9374-777884011094",
   "metadata": {},
   "outputs": [],
   "source": [
    "# checks if the current page contains the end of the list for a certain precinct number\n",
    "cur = PDFReader('BRGY TUGATOG.pdf')\n",
    "list_ends = []\n",
    "for i in range(len(cur.pages)):\n",
    "    lst = cur.pages[i].extract_text().split('\\n')\n",
    "    check_end_line = False\n",
    "    for ind in range(len(lst)):\n",
    "        if lst[ind] == end_line:\n",
    "            check_end_line = True\n",
    "            list_ends.append(i)\n",
    "            break"
   ]
  },
  {
   "cell_type": "code",
   "execution_count": 129,
   "id": "2013762c-2dc6-46c2-90ed-e515d74eca0f",
   "metadata": {},
   "outputs": [
    {
     "name": "stdout",
     "output_type": "stream",
     "text": [
      "194 16 whjat\n",
      "hala\n"
     ]
    }
   ],
   "source": [
    "# assumption here is that the end of the list page with the name and signature texts contains table entries\n",
    "# if there are no table entries, we basically skip it and move on to the next precinct\n",
    "cur = PDFReader('BRGY TUGATOG.pdf')\n",
    "output = PDFWriter()\n",
    "# print(cur.pages[15].extract_text())\n",
    "page_content = cur.pages[15].extract_text().split('\\n')\n",
    "# print(page_content)\n",
    "found = False\n",
    "first_number = int(page_content[8].split()[0])\n",
    "# print(first_number)\n",
    "for i in range(len(page_content)):\n",
    "    if page_content[i] == end_line:\n",
    "        print(\"hala\")\n",
    "    if page_content[i] == 'Name and Signature' and not found:\n",
    "        print(page_content[i-1].split()[0], i, \"whjat\")\n",
    "        found = True\n",
    "        for key, index in enumerate(params):\n",
    "            pg = cur.pages[15]\n",
    "            ind = params[index]\n",
    "            diff = abs(first_number - int(page_content[i-1].split()[0]))+1\n",
    "            pg.cropbox.upper_left = (ind['upper_left'][0], ind['upper_left'][1])\n",
    "            pg.cropbox.upper_right = (ind['upper_right'][0], ind['upper_right'][1])\n",
    "            pg.cropbox.lower_left = (ind['upper_left'][0], ind['upper_left'][1]-diff*20)\n",
    "            pg.cropbox.lower_right = (ind['upper_right'][0], ind['upper_right'][1]-diff*20)\n",
    "            output.add_page(pg)\n",
    "with open(f'test.pdf', \"wb\") as out_f:\n",
    "    output.write(out_f)"
   ]
  },
  {
   "cell_type": "code",
   "execution_count": 141,
   "id": "bd9e0cfd-39da-4d6f-98ba-816ec3118e61",
   "metadata": {},
   "outputs": [
    {
     "name": "stdout",
     "output_type": "stream",
     "text": [
      "1819 625\n"
     ]
    }
   ],
   "source": [
    "cur = PDFReader(f'BRGY TUGATOG.pdf')\n",
    "output = PDFWriter()\n",
    "counter = 0\n",
    "for i in range(len(cur.pages)):\n",
    "    page_content = cur.pages[i].extract_text().split('\\n')\n",
    "    check_end, current_index, name_and_signature_found = False, -1, False\n",
    "    for ind in range(len(page_content)):\n",
    "        if page_content[ind] == \"Name and Signature\" and not name_and_signature_found:\n",
    "            check_end, name_and_signature_found = True, True\n",
    "            # handle case where the end of the list for a certain precinct is found\n",
    "            first_number = page_content[8].split()[0]\n",
    "            if first_number == 'Name':\n",
    "                counter += 1\n",
    "                # handle the case where the eight index value is not a valid table entry (Name and Signature)\n",
    "                continue\n",
    "            else:\n",
    "                # else, find the last number of the last person for that precinct and proceed with cropping\n",
    "                diff = abs(int(first_number) - int(page_content[ind-1].split()[0]))+1\n",
    "                \n",
    "                for key, index in enumerate(params):\n",
    "                    pg = cur.pages[i]\n",
    "                    ind = params[index]\n",
    "                    pg.cropbox.upper_left = (ind['upper_left'][0], ind['upper_left'][1])\n",
    "                    pg.cropbox.upper_right = (ind['upper_right'][0], ind['upper_right'][1])\n",
    "                    pg.cropbox.lower_left = (ind['upper_left'][0], ind['upper_left'][1]-diff*20)\n",
    "                    pg.cropbox.lower_right = (ind['upper_right'][0], ind['upper_right'][1]-diff*20)\n",
    "                    output.add_page(pg)\n",
    "    if not check_end:\n",
    "        # proceed to standard crop\n",
    "        for key, index in enumerate(params):\n",
    "            pg = cur.pages[i]\n",
    "            ind = params[index]\n",
    "            pg.cropbox.upper_left = (ind['upper_left'][0], ind['upper_left'][1])\n",
    "            pg.cropbox.lower_right = (ind['lower_right'][0], ind['lower_right'][1])\n",
    "            pg.cropbox.upper_right = (ind['upper_right'][0], ind['upper_right'][1])\n",
    "            pg.cropbox.lower_left = (ind['lower_left'][0], ind['lower_left'][1])\n",
    "            output.add_page(pg)\n",
    "            \n",
    "print(counter + len(output.pages), len(cur.pages))\n",
    "\n",
    "with open(f'./Created PDFs/{pdfs}.pdf', \"wb\") as out_f:\n",
    "    output.write(out_f)"
   ]
  },
  {
   "cell_type": "code",
   "execution_count": 125,
   "id": "18b5f5c8-d2bb-4bda-8a4b-967060d92468",
   "metadata": {
    "scrolled": true
   },
   "outputs": [],
   "source": [
    "for pdfs in os.listdir('./PDFS/'):\n",
    "    cur = PDFReader(f'./PDFS/{pdfs}')\n",
    "    output = PDFWriter()\n",
    "    \n",
    "    for i in range(len(cur.pages)):\n",
    "        page_content = cur.pages[i].extract_text().split('\\n')\n",
    "        check_end, current_index = False, -1\n",
    "        for ind in range(len(page_content)):\n",
    "            if page_content[ind] == end_line:\n",
    "                print(page_content[ind], i)\n",
    "                check_end = True\n",
    "                current_index = ind\n",
    "                break\n",
    "        if check_end:\n",
    "            # handle case where the end of the list for a certain precinct is found\n",
    "            first_number = page_content[8].split()[0]\n",
    "            if first_number == 'Name':\n",
    "                continue\n",
    "            else:\n",
    "                # handle the case where the eight index value is not a valid table entry (Name and Signature)\n",
    "                # print(first_number, current_index)\n",
    "                continue\n",
    "        else:\n",
    "            # proceed to standard crop\n",
    "            break\n",
    "            for key, index in enumerate(params):\n",
    "                pg = cur.pages[i]\n",
    "                ind = params[index]\n",
    "                pg.cropbox.upper_left = (ind['upper_left'][0], ind['upper_left'][1])\n",
    "                pg.cropbox.lower_right = (ind['lower_right'][0], ind['lower_right'][1])\n",
    "                pg.cropbox.upper_right = (ind['upper_right'][0], ind['upper_right'][1])\n",
    "                pg.cropbox.lower_left = (ind['lower_left'][0], ind['lower_left'][1])\n",
    "                output.add_page(pg)\n",
    "    with open(f'./Created PDFs/{pdfs}.pdf', \"wb\") as out_f:\n",
    "        output.write(out_f)\n",
    "    break"
   ]
  }
 ],
 "metadata": {
  "kernelspec": {
   "display_name": "Python 3 (ipykernel)",
   "language": "python",
   "name": "python3"
  },
  "language_info": {
   "codemirror_mode": {
    "name": "ipython",
    "version": 3
   },
   "file_extension": ".py",
   "mimetype": "text/x-python",
   "name": "python",
   "nbconvert_exporter": "python",
   "pygments_lexer": "ipython3",
   "version": "3.11.5"
  }
 },
 "nbformat": 4,
 "nbformat_minor": 5
}
