{
 "cells": [
  {
   "cell_type": "code",
   "execution_count": 1,
   "id": "946bbfa3-d876-4e4e-941c-3013dbc287b3",
   "metadata": {},
   "outputs": [],
   "source": [
    "import torch"
   ]
  },
  {
   "cell_type": "code",
   "execution_count": 3,
   "id": "c6053a1a-4f7b-4ce4-a734-7ad3271f3804",
   "metadata": {},
   "outputs": [
    {
     "data": {
      "text/plain": [
       "tensor([ 0.,  1.,  2.,  3.,  4.,  5.,  6.,  7.,  8.,  9., 10., 11.])"
      ]
     },
     "execution_count": 3,
     "metadata": {},
     "output_type": "execute_result"
    }
   ],
   "source": [
    "x = torch.arange(12, dtype=torch.float32)\n",
    "x"
   ]
  },
  {
   "cell_type": "code",
   "execution_count": 5,
   "id": "6f25455d-99e6-4f6c-a46e-b200833532a0",
   "metadata": {},
   "outputs": [
    {
     "data": {
      "text/plain": [
       "12"
      ]
     },
     "execution_count": 5,
     "metadata": {},
     "output_type": "execute_result"
    }
   ],
   "source": [
    "x.numel()"
   ]
  },
  {
   "cell_type": "code",
   "execution_count": 6,
   "id": "b4b7a971-a934-4b61-92b9-3c2d2f6603fd",
   "metadata": {},
   "outputs": [
    {
     "data": {
      "text/plain": [
       "torch.Size([12])"
      ]
     },
     "execution_count": 6,
     "metadata": {},
     "output_type": "execute_result"
    }
   ],
   "source": [
    "x.shape"
   ]
  },
  {
   "cell_type": "code",
   "execution_count": 10,
   "id": "7445b6b0-995a-456b-a882-96e6ccddd9d8",
   "metadata": {},
   "outputs": [
    {
     "data": {
      "text/plain": [
       "tensor([[ 0.,  1.,  2.,  3.],\n",
       "        [ 4.,  5.,  6.,  7.],\n",
       "        [ 8.,  9., 10., 11.]])"
      ]
     },
     "execution_count": 10,
     "metadata": {},
     "output_type": "execute_result"
    }
   ],
   "source": [
    "X = x.reshape(3, 4)\n",
    "X"
   ]
  },
  {
   "cell_type": "markdown",
   "id": "63785939-0e09-4cb1-ae1d-ad655e0f3506",
   "metadata": {},
   "source": [
    "The same `reshape` method can be done by using inference."
   ]
  },
  {
   "cell_type": "code",
   "execution_count": 11,
   "id": "23982eac-aee9-4df2-a0f2-2ba402362f04",
   "metadata": {},
   "outputs": [
    {
     "data": {
      "text/plain": [
       "tensor([[ 0.,  1.,  2.,  3.],\n",
       "        [ 4.,  5.,  6.,  7.],\n",
       "        [ 8.,  9., 10., 11.]])"
      ]
     },
     "execution_count": 11,
     "metadata": {},
     "output_type": "execute_result"
    }
   ],
   "source": [
    "X = x.reshape(-1, 4) # -1 infers the remaining size of the component, the same output applies to x.reshape(3, -1)\n",
    "X"
   ]
  },
  {
   "cell_type": "markdown",
   "id": "e14262df-f7d5-48a5-9227-6f51a9726b52",
   "metadata": {},
   "source": [
    "## Fill methods"
   ]
  },
  {
   "cell_type": "code",
   "execution_count": 13,
   "id": "74a52a96-4163-4ce7-be18-8b829bdf96ae",
   "metadata": {},
   "outputs": [
    {
     "data": {
      "text/plain": [
       "tensor([[[0., 0., 0.],\n",
       "         [0., 0., 0.]]])"
      ]
     },
     "execution_count": 13,
     "metadata": {},
     "output_type": "execute_result"
    }
   ],
   "source": [
    "torch.zeros((1, 2, 3))"
   ]
  },
  {
   "cell_type": "code",
   "execution_count": 14,
   "id": "277ae710-46c4-4537-8680-d99c603bd048",
   "metadata": {},
   "outputs": [
    {
     "data": {
      "text/plain": [
       "tensor([[[1., 1., 1.],\n",
       "         [1., 1., 1.]]])"
      ]
     },
     "execution_count": 14,
     "metadata": {},
     "output_type": "execute_result"
    }
   ],
   "source": [
    "torch.ones((1, 2, 3))"
   ]
  },
  {
   "cell_type": "code",
   "execution_count": 15,
   "id": "4bb27760-d017-457c-8cf9-c01bb855008f",
   "metadata": {},
   "outputs": [
    {
     "data": {
      "text/plain": [
       "tensor([[-1.1168,  0.3566, -2.7569,  1.3296],\n",
       "        [-1.2352,  1.7406, -0.3900, -0.0307],\n",
       "        [-1.2727,  0.5616,  1.2606,  0.1915]])"
      ]
     },
     "execution_count": 15,
     "metadata": {},
     "output_type": "execute_result"
    }
   ],
   "source": [
    "torch.randn((3, 4))"
   ]
  },
  {
   "cell_type": "code",
   "execution_count": 16,
   "id": "7a09254c-5142-4891-872e-5bc9750d484c",
   "metadata": {},
   "outputs": [
    {
     "data": {
      "text/plain": [
       "tensor([[2, 1, 4, 3],\n",
       "        [1, 2, 3, 4],\n",
       "        [4, 3, 2, 1]])"
      ]
     },
     "execution_count": 16,
     "metadata": {},
     "output_type": "execute_result"
    }
   ],
   "source": [
    "torch.tensor([[2, 1, 4, 3], [1, 2, 3, 4], [4, 3, 2, 1]])"
   ]
  },
  {
   "cell_type": "markdown",
   "id": "579f7811-a6c4-416f-b22b-6f88d51fc0a1",
   "metadata": {},
   "source": [
    "## Indexing and Slicing"
   ]
  },
  {
   "cell_type": "code",
   "execution_count": 17,
   "id": "3ff92448-ab60-4a98-a6a1-67b136427b4f",
   "metadata": {},
   "outputs": [
    {
     "data": {
      "text/plain": [
       "(tensor([ 8.,  9., 10., 11.]),\n",
       " tensor([[ 4.,  5.,  6.,  7.],\n",
       "         [ 8.,  9., 10., 11.]]))"
      ]
     },
     "execution_count": 17,
     "metadata": {},
     "output_type": "execute_result"
    }
   ],
   "source": [
    "X[-1], X[1:3]"
   ]
  },
  {
   "cell_type": "code",
   "execution_count": 18,
   "id": "642a3f1b-5acc-4418-ac38-7759222474f7",
   "metadata": {},
   "outputs": [
    {
     "data": {
      "text/plain": [
       "tensor(6.)"
      ]
     },
     "execution_count": 18,
     "metadata": {},
     "output_type": "execute_result"
    }
   ],
   "source": [
    "X[1,2]"
   ]
  },
  {
   "cell_type": "code",
   "execution_count": 19,
   "id": "829606a4-0c42-46f4-82fe-64e7f3b4bef1",
   "metadata": {},
   "outputs": [
    {
     "data": {
      "text/plain": [
       "tensor([[12., 12., 12., 12.],\n",
       "        [12., 12., 12., 12.],\n",
       "        [ 8.,  9., 10., 11.]])"
      ]
     },
     "execution_count": 19,
     "metadata": {},
     "output_type": "execute_result"
    }
   ],
   "source": [
    "X[:2, :] = 12\n",
    "X"
   ]
  },
  {
   "cell_type": "markdown",
   "id": "abad466d-279d-4f92-86f7-c4348eef1991",
   "metadata": {},
   "source": [
    "## Operations"
   ]
  },
  {
   "cell_type": "code",
   "execution_count": 20,
   "id": "313ea0d3-e80d-45c8-8eab-0c0b1e66b3ea",
   "metadata": {},
   "outputs": [
    {
     "data": {
      "text/plain": [
       "tensor([162754.7969, 162754.7969, 162754.7969, 162754.7969, 162754.7969,\n",
       "        162754.7969, 162754.7969, 162754.7969,   2980.9580,   8103.0840,\n",
       "         22026.4648,  59874.1406])"
      ]
     },
     "execution_count": 20,
     "metadata": {},
     "output_type": "execute_result"
    }
   ],
   "source": [
    "torch.exp(x) # applies the unary operator e^x"
   ]
  },
  {
   "cell_type": "markdown",
   "id": "8aee5fde-4737-49e3-b016-e5b5a54b5fc4",
   "metadata": {},
   "source": [
    "We can also do addition and subtraction of tensors."
   ]
  },
  {
   "cell_type": "code",
   "execution_count": 21,
   "id": "3f461f3a-727d-4974-ab53-66016c5202f0",
   "metadata": {},
   "outputs": [
    {
     "data": {
      "text/plain": [
       "(tensor([ 6.,  8., 10., 12.]),\n",
       " tensor([-4., -4., -4., -4.]),\n",
       " tensor([ 5., 12., 21., 32.]),\n",
       " tensor([0.2000, 0.3333, 0.4286, 0.5000]))"
      ]
     },
     "execution_count": 21,
     "metadata": {},
     "output_type": "execute_result"
    }
   ],
   "source": [
    "x = torch.tensor([1, 2, 3, 4], dtype=torch.float32)\n",
    "y = torch.tensor([5, 6, 7, 8], dtype=torch.float32)\n",
    "x+y, x-y, x*y, x/y"
   ]
  },
  {
   "cell_type": "markdown",
   "id": "cfb522eb-d5c2-416f-a11a-2ee8f8ba4b8e",
   "metadata": {},
   "source": [
    "We can also perform concatenations."
   ]
  },
  {
   "cell_type": "code",
   "execution_count": 23,
   "id": "04787828-d688-4ad6-929e-3ece3bc06d3b",
   "metadata": {},
   "outputs": [
    {
     "data": {
      "text/plain": [
       "(tensor([[ 0.,  1.,  2.,  3.],\n",
       "         [ 4.,  5.,  6.,  7.],\n",
       "         [ 8.,  9., 10., 11.],\n",
       "         [13., 12.,  1.,  1.],\n",
       "         [14.,  5.,  5.,  7.],\n",
       "         [16., 32.,  1.,  8.]]),\n",
       " tensor([[ 0.,  1.,  2.,  3., 13., 12.,  1.,  1.],\n",
       "         [ 4.,  5.,  6.,  7., 14.,  5.,  5.,  7.],\n",
       "         [ 8.,  9., 10., 11., 16., 32.,  1.,  8.]]))"
      ]
     },
     "execution_count": 23,
     "metadata": {},
     "output_type": "execute_result"
    }
   ],
   "source": [
    "x = torch.arange(12, dtype=torch.float32).reshape(3,4)\n",
    "y = torch.tensor([[13, 12, 1, 1], [14, 5, 5, 7], [16, 32, 1, 8]])\n",
    "torch.cat((x, y), dim=0), torch.cat((x, y), dim=1)"
   ]
  },
  {
   "cell_type": "markdown",
   "id": "f9653019-0811-47f0-ac47-5549bd85d83f",
   "metadata": {},
   "source": [
    "## Broadcasting\n",
    "\n",
    "The same broadcasting technique is used by `torch` as to `numpy` when it comes to tensors with different shapes."
   ]
  },
  {
   "cell_type": "code",
   "execution_count": 24,
   "id": "96c8c65d-faf9-4bcd-ba86-f37bc6cb88e3",
   "metadata": {},
   "outputs": [
    {
     "data": {
      "text/plain": [
       "(tensor([[1],\n",
       "         [2],\n",
       "         [3]]),\n",
       " tensor([0, 1]))"
      ]
     },
     "execution_count": 24,
     "metadata": {},
     "output_type": "execute_result"
    }
   ],
   "source": [
    "x = torch.tensor([[1], [2], [3]])\n",
    "y = torch.tensor([0, 1])\n",
    "x, y"
   ]
  },
  {
   "cell_type": "code",
   "execution_count": 26,
   "id": "28c6c278-4d80-40b9-a2a7-fb32cc02f20c",
   "metadata": {},
   "outputs": [
    {
     "data": {
      "text/plain": [
       "tensor([[1, 2],\n",
       "        [2, 3],\n",
       "        [3, 4]])"
      ]
     },
     "execution_count": 26,
     "metadata": {},
     "output_type": "execute_result"
    }
   ],
   "source": [
    "x+y"
   ]
  },
  {
   "cell_type": "markdown",
   "id": "14000632-5b57-4232-a12e-ee20493cf6cf",
   "metadata": {},
   "source": [
    "As you can see, the values for `y` is broadcasted to create a 3x2 tensor while `x` rows are broadcasted row-wise to create a 3x2 tensor."
   ]
  },
  {
   "cell_type": "code",
   "execution_count": null,
   "id": "6dd59625-a8b2-4d8d-b972-6364a847ba71",
   "metadata": {},
   "outputs": [],
   "source": []
  },
  {
   "cell_type": "code",
   "execution_count": null,
   "id": "3c47fc1f-813e-4349-a519-6477c0abb058",
   "metadata": {},
   "outputs": [],
   "source": []
  },
  {
   "cell_type": "code",
   "execution_count": null,
   "id": "61dd9abd-b2c5-4778-a311-2bc3302ca3c0",
   "metadata": {},
   "outputs": [],
   "source": []
  }
 ],
 "metadata": {
  "kernelspec": {
   "display_name": "Python 3 (ipykernel)",
   "language": "python",
   "name": "python3"
  },
  "language_info": {
   "codemirror_mode": {
    "name": "ipython",
    "version": 3
   },
   "file_extension": ".py",
   "mimetype": "text/x-python",
   "name": "python",
   "nbconvert_exporter": "python",
   "pygments_lexer": "ipython3",
   "version": "3.11.0"
  }
 },
 "nbformat": 4,
 "nbformat_minor": 5
}
