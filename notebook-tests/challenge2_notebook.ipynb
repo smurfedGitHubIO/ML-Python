{
 "cells": [
  {
   "cell_type": "code",
   "execution_count": 1,
   "id": "92592e11-cbe8-450c-8ce3-404df078475f",
   "metadata": {},
   "outputs": [],
   "source": [
    "import pandas as pd\n",
    "from matplotlib import pyplot as plt\n",
    "import numpy as np\n",
    "import seaborn as sns\n",
    "from scipy import stats"
   ]
  },
  {
   "cell_type": "markdown",
   "id": "8c990c18-0edf-4f22-a9a0-3e3dec4ad94f",
   "metadata": {},
   "source": [
    "# Financial Digital Transactions"
   ]
  },
  {
   "cell_type": "code",
   "execution_count": 2,
   "id": "6626efb1-63d8-490c-b102-8668100c1839",
   "metadata": {},
   "outputs": [
    {
     "data": {
      "text/html": [
       "<div>\n",
       "<style scoped>\n",
       "    .dataframe tbody tr th:only-of-type {\n",
       "        vertical-align: middle;\n",
       "    }\n",
       "\n",
       "    .dataframe tbody tr th {\n",
       "        vertical-align: top;\n",
       "    }\n",
       "\n",
       "    .dataframe thead th {\n",
       "        text-align: right;\n",
       "    }\n",
       "</style>\n",
       "<table border=\"1\" class=\"dataframe\">\n",
       "  <thead>\n",
       "    <tr style=\"text-align: right;\">\n",
       "      <th></th>\n",
       "      <th>CUST_NUM</th>\n",
       "      <th>AMOUNT</th>\n",
       "      <th>DATE_AND_TIME</th>\n",
       "      <th>CHANNEL</th>\n",
       "      <th>TRAN_TYPE</th>\n",
       "    </tr>\n",
       "  </thead>\n",
       "  <tbody>\n",
       "    <tr>\n",
       "      <th>0</th>\n",
       "      <td>4418.325475</td>\n",
       "      <td>2000.885936</td>\n",
       "      <td>2023-04-01 07:55:10</td>\n",
       "      <td>MOBILE</td>\n",
       "      <td>E-WALLET</td>\n",
       "    </tr>\n",
       "    <tr>\n",
       "      <th>1</th>\n",
       "      <td>4418.325475</td>\n",
       "      <td>2000.407658</td>\n",
       "      <td>2023-04-01 07:54:01</td>\n",
       "      <td>MOBILE</td>\n",
       "      <td>E-WALLET</td>\n",
       "    </tr>\n",
       "    <tr>\n",
       "      <th>2</th>\n",
       "      <td>4418.325475</td>\n",
       "      <td>9829.356544</td>\n",
       "      <td>2023-04-14 11:04:20</td>\n",
       "      <td>MOBILE</td>\n",
       "      <td>BILLS PAYMENT</td>\n",
       "    </tr>\n",
       "    <tr>\n",
       "      <th>3</th>\n",
       "      <td>7356.780546</td>\n",
       "      <td>2000.575996</td>\n",
       "      <td>2023-04-11 09:41:43</td>\n",
       "      <td>MOBILE</td>\n",
       "      <td>E-WALLET</td>\n",
       "    </tr>\n",
       "    <tr>\n",
       "      <th>4</th>\n",
       "      <td>10768.575579</td>\n",
       "      <td>100.667732</td>\n",
       "      <td>2023-04-02 20:36:51</td>\n",
       "      <td>WEB</td>\n",
       "      <td>E-WALLET</td>\n",
       "    </tr>\n",
       "  </tbody>\n",
       "</table>\n",
       "</div>"
      ],
      "text/plain": [
       "       CUST_NUM       AMOUNT       DATE_AND_TIME CHANNEL      TRAN_TYPE\n",
       "0   4418.325475  2000.885936 2023-04-01 07:55:10  MOBILE       E-WALLET\n",
       "1   4418.325475  2000.407658 2023-04-01 07:54:01  MOBILE       E-WALLET\n",
       "2   4418.325475  9829.356544 2023-04-14 11:04:20  MOBILE  BILLS PAYMENT\n",
       "3   7356.780546  2000.575996 2023-04-11 09:41:43  MOBILE       E-WALLET\n",
       "4  10768.575579   100.667732 2023-04-02 20:36:51     WEB       E-WALLET"
      ]
     },
     "execution_count": 2,
     "metadata": {},
     "output_type": "execute_result"
    }
   ],
   "source": [
    "financial_digital_df = pd.read_excel('./data/dataset/FINANCIAL DIGITAL TXNS_PJDSC.xlsx')\n",
    "financial_digital_df.head()"
   ]
  },
  {
   "cell_type": "code",
   "execution_count": 3,
   "id": "c5490724-7461-4cc1-83e2-b8123a4e34ee",
   "metadata": {},
   "outputs": [
    {
     "name": "stdout",
     "output_type": "stream",
     "text": [
      "<class 'pandas.core.frame.DataFrame'>\n",
      "RangeIndex: 174613 entries, 0 to 174612\n",
      "Data columns (total 5 columns):\n",
      " #   Column         Non-Null Count   Dtype         \n",
      "---  ------         --------------   -----         \n",
      " 0   CUST_NUM       174613 non-null  float64       \n",
      " 1   AMOUNT         174613 non-null  float64       \n",
      " 2   DATE_AND_TIME  174613 non-null  datetime64[ns]\n",
      " 3   CHANNEL        174613 non-null  object        \n",
      " 4   TRAN_TYPE      174613 non-null  object        \n",
      "dtypes: datetime64[ns](1), float64(2), object(2)\n",
      "memory usage: 6.7+ MB\n"
     ]
    }
   ],
   "source": [
    "financial_digital_df.info()"
   ]
  },
  {
   "cell_type": "markdown",
   "id": "7aef6e04-ceb3-4653-9deb-f16abfddd879",
   "metadata": {},
   "source": [
    "So far so good! No null values yet."
   ]
  },
  {
   "cell_type": "code",
   "execution_count": 4,
   "id": "31e1869c-ac82-4710-84e9-33f8ca4c5ba1",
   "metadata": {},
   "outputs": [
    {
     "data": {
      "text/html": [
       "<div>\n",
       "<style scoped>\n",
       "    .dataframe tbody tr th:only-of-type {\n",
       "        vertical-align: middle;\n",
       "    }\n",
       "\n",
       "    .dataframe tbody tr th {\n",
       "        vertical-align: top;\n",
       "    }\n",
       "\n",
       "    .dataframe thead th {\n",
       "        text-align: right;\n",
       "    }\n",
       "</style>\n",
       "<table border=\"1\" class=\"dataframe\">\n",
       "  <thead>\n",
       "    <tr style=\"text-align: right;\">\n",
       "      <th></th>\n",
       "      <th>CUST_NUM</th>\n",
       "      <th>AMOUNT</th>\n",
       "      <th>DATE_AND_TIME</th>\n",
       "      <th>CHANNEL</th>\n",
       "      <th>TRAN_TYPE</th>\n",
       "    </tr>\n",
       "  </thead>\n",
       "  <tbody>\n",
       "    <tr>\n",
       "      <th>count</th>\n",
       "      <td>174613.000000</td>\n",
       "      <td>1.746130e+05</td>\n",
       "      <td>174613</td>\n",
       "      <td>174613</td>\n",
       "      <td>174613</td>\n",
       "    </tr>\n",
       "    <tr>\n",
       "      <th>unique</th>\n",
       "      <td>NaN</td>\n",
       "      <td>NaN</td>\n",
       "      <td>NaN</td>\n",
       "      <td>4</td>\n",
       "      <td>3</td>\n",
       "    </tr>\n",
       "    <tr>\n",
       "      <th>top</th>\n",
       "      <td>NaN</td>\n",
       "      <td>NaN</td>\n",
       "      <td>NaN</td>\n",
       "      <td>WEB</td>\n",
       "      <td>E-WALLET</td>\n",
       "    </tr>\n",
       "    <tr>\n",
       "      <th>freq</th>\n",
       "      <td>NaN</td>\n",
       "      <td>NaN</td>\n",
       "      <td>NaN</td>\n",
       "      <td>94994</td>\n",
       "      <td>139581</td>\n",
       "    </tr>\n",
       "    <tr>\n",
       "      <th>mean</th>\n",
       "      <td>9480.347450</td>\n",
       "      <td>3.383496e+03</td>\n",
       "      <td>2023-05-17 00:30:03.782238208</td>\n",
       "      <td>NaN</td>\n",
       "      <td>NaN</td>\n",
       "    </tr>\n",
       "    <tr>\n",
       "      <th>min</th>\n",
       "      <td>107.814656</td>\n",
       "      <td>0.000000e+00</td>\n",
       "      <td>2023-04-01 00:06:39</td>\n",
       "      <td>NaN</td>\n",
       "      <td>NaN</td>\n",
       "    </tr>\n",
       "    <tr>\n",
       "      <th>25%</th>\n",
       "      <td>7084.895341</td>\n",
       "      <td>4.066369e+02</td>\n",
       "      <td>2023-04-25 14:52:07</td>\n",
       "      <td>NaN</td>\n",
       "      <td>NaN</td>\n",
       "    </tr>\n",
       "    <tr>\n",
       "      <th>50%</th>\n",
       "      <td>10088.303326</td>\n",
       "      <td>1.000800e+03</td>\n",
       "      <td>2023-05-16 11:39:59</td>\n",
       "      <td>NaN</td>\n",
       "      <td>NaN</td>\n",
       "    </tr>\n",
       "    <tr>\n",
       "      <th>75%</th>\n",
       "      <td>12255.857538</td>\n",
       "      <td>3.000917e+03</td>\n",
       "      <td>2023-06-08 07:08:17</td>\n",
       "      <td>NaN</td>\n",
       "      <td>NaN</td>\n",
       "    </tr>\n",
       "    <tr>\n",
       "      <th>max</th>\n",
       "      <td>14141.980201</td>\n",
       "      <td>1.200000e+06</td>\n",
       "      <td>2023-06-30 23:58:22</td>\n",
       "      <td>NaN</td>\n",
       "      <td>NaN</td>\n",
       "    </tr>\n",
       "    <tr>\n",
       "      <th>std</th>\n",
       "      <td>3303.237690</td>\n",
       "      <td>9.076471e+03</td>\n",
       "      <td>NaN</td>\n",
       "      <td>NaN</td>\n",
       "      <td>NaN</td>\n",
       "    </tr>\n",
       "  </tbody>\n",
       "</table>\n",
       "</div>"
      ],
      "text/plain": [
       "             CUST_NUM        AMOUNT                  DATE_AND_TIME CHANNEL  \\\n",
       "count   174613.000000  1.746130e+05                         174613  174613   \n",
       "unique            NaN           NaN                            NaN       4   \n",
       "top               NaN           NaN                            NaN     WEB   \n",
       "freq              NaN           NaN                            NaN   94994   \n",
       "mean      9480.347450  3.383496e+03  2023-05-17 00:30:03.782238208     NaN   \n",
       "min        107.814656  0.000000e+00            2023-04-01 00:06:39     NaN   \n",
       "25%       7084.895341  4.066369e+02            2023-04-25 14:52:07     NaN   \n",
       "50%      10088.303326  1.000800e+03            2023-05-16 11:39:59     NaN   \n",
       "75%      12255.857538  3.000917e+03            2023-06-08 07:08:17     NaN   \n",
       "max      14141.980201  1.200000e+06            2023-06-30 23:58:22     NaN   \n",
       "std       3303.237690  9.076471e+03                            NaN     NaN   \n",
       "\n",
       "       TRAN_TYPE  \n",
       "count     174613  \n",
       "unique         3  \n",
       "top     E-WALLET  \n",
       "freq      139581  \n",
       "mean         NaN  \n",
       "min          NaN  \n",
       "25%          NaN  \n",
       "50%          NaN  \n",
       "75%          NaN  \n",
       "max          NaN  \n",
       "std          NaN  "
      ]
     },
     "execution_count": 4,
     "metadata": {},
     "output_type": "execute_result"
    }
   ],
   "source": [
    "financial_digital_df.describe(include='all')"
   ]
  },
  {
   "cell_type": "markdown",
   "id": "14b7501f-d16c-406e-a5fe-9cca27ec21f7",
   "metadata": {},
   "source": [
    "As we can see, the `DATE_AND_TIME` feature is a combination of year, month, day, and time components. We break this down first so that all features are atomic in nature. Note that we are only dealing with the year 2023 so this might not be influential for now and only create three new features: `MONTH`, `DAY`, and `TIME`."
   ]
  },
  {
   "cell_type": "code",
   "execution_count": 5,
   "id": "64307c35-db5c-41fd-ae7d-00dd4475512a",
   "metadata": {},
   "outputs": [],
   "source": [
    "financial_digital_df['MONTH'] = financial_digital_df['DATE_AND_TIME'].dt.month\n",
    "financial_digital_df['DAY'] = financial_digital_df['DATE_AND_TIME'].dt.day\n",
    "financial_digital_df['TIME'] = financial_digital_df['DATE_AND_TIME'].dt.time"
   ]
  },
  {
   "cell_type": "code",
   "execution_count": 6,
   "id": "d9098226-e901-4364-8e38-99e9a7dc6449",
   "metadata": {},
   "outputs": [],
   "source": [
    "financial_digital_df.drop(labels=['DATE_AND_TIME'], axis=1, inplace=True)"
   ]
  },
  {
   "cell_type": "code",
   "execution_count": 7,
   "id": "3794fa22-5700-4084-acf6-501a09b941fb",
   "metadata": {},
   "outputs": [
    {
     "data": {
      "text/html": [
       "<div>\n",
       "<style scoped>\n",
       "    .dataframe tbody tr th:only-of-type {\n",
       "        vertical-align: middle;\n",
       "    }\n",
       "\n",
       "    .dataframe tbody tr th {\n",
       "        vertical-align: top;\n",
       "    }\n",
       "\n",
       "    .dataframe thead th {\n",
       "        text-align: right;\n",
       "    }\n",
       "</style>\n",
       "<table border=\"1\" class=\"dataframe\">\n",
       "  <thead>\n",
       "    <tr style=\"text-align: right;\">\n",
       "      <th></th>\n",
       "      <th>CUST_NUM</th>\n",
       "      <th>AMOUNT</th>\n",
       "      <th>CHANNEL</th>\n",
       "      <th>TRAN_TYPE</th>\n",
       "      <th>MONTH</th>\n",
       "      <th>DAY</th>\n",
       "      <th>TIME</th>\n",
       "    </tr>\n",
       "  </thead>\n",
       "  <tbody>\n",
       "    <tr>\n",
       "      <th>0</th>\n",
       "      <td>4418.325475</td>\n",
       "      <td>2000.885936</td>\n",
       "      <td>MOBILE</td>\n",
       "      <td>E-WALLET</td>\n",
       "      <td>4</td>\n",
       "      <td>1</td>\n",
       "      <td>07:55:10</td>\n",
       "    </tr>\n",
       "    <tr>\n",
       "      <th>1</th>\n",
       "      <td>4418.325475</td>\n",
       "      <td>2000.407658</td>\n",
       "      <td>MOBILE</td>\n",
       "      <td>E-WALLET</td>\n",
       "      <td>4</td>\n",
       "      <td>1</td>\n",
       "      <td>07:54:01</td>\n",
       "    </tr>\n",
       "    <tr>\n",
       "      <th>2</th>\n",
       "      <td>4418.325475</td>\n",
       "      <td>9829.356544</td>\n",
       "      <td>MOBILE</td>\n",
       "      <td>BILLS PAYMENT</td>\n",
       "      <td>4</td>\n",
       "      <td>14</td>\n",
       "      <td>11:04:20</td>\n",
       "    </tr>\n",
       "    <tr>\n",
       "      <th>3</th>\n",
       "      <td>7356.780546</td>\n",
       "      <td>2000.575996</td>\n",
       "      <td>MOBILE</td>\n",
       "      <td>E-WALLET</td>\n",
       "      <td>4</td>\n",
       "      <td>11</td>\n",
       "      <td>09:41:43</td>\n",
       "    </tr>\n",
       "    <tr>\n",
       "      <th>4</th>\n",
       "      <td>10768.575579</td>\n",
       "      <td>100.667732</td>\n",
       "      <td>WEB</td>\n",
       "      <td>E-WALLET</td>\n",
       "      <td>4</td>\n",
       "      <td>2</td>\n",
       "      <td>20:36:51</td>\n",
       "    </tr>\n",
       "  </tbody>\n",
       "</table>\n",
       "</div>"
      ],
      "text/plain": [
       "       CUST_NUM       AMOUNT CHANNEL      TRAN_TYPE  MONTH  DAY      TIME\n",
       "0   4418.325475  2000.885936  MOBILE       E-WALLET      4    1  07:55:10\n",
       "1   4418.325475  2000.407658  MOBILE       E-WALLET      4    1  07:54:01\n",
       "2   4418.325475  9829.356544  MOBILE  BILLS PAYMENT      4   14  11:04:20\n",
       "3   7356.780546  2000.575996  MOBILE       E-WALLET      4   11  09:41:43\n",
       "4  10768.575579   100.667732     WEB       E-WALLET      4    2  20:36:51"
      ]
     },
     "execution_count": 7,
     "metadata": {},
     "output_type": "execute_result"
    }
   ],
   "source": [
    "financial_digital_df.head()"
   ]
  },
  {
   "cell_type": "markdown",
   "id": "9beba50e-c6f9-4248-9b1d-77f83275cb19",
   "metadata": {},
   "source": [
    "# Feature Preprocessing"
   ]
  },
  {
   "cell_type": "markdown",
   "id": "c1b2b720-ae8f-4a77-a26c-a78ec1200761",
   "metadata": {},
   "source": [
    "We transform each categorical value into its numerical counterparts. Since there is no ordering imposed between each values from the `CHANNEL` and `TRAN_TYPE` features, we utilize the `factorize()` method to map each value into its corresponding numerical counterpart."
   ]
  },
  {
   "cell_type": "markdown",
   "id": "f2708ecd-171c-4151-8ed9-abada4f7b785",
   "metadata": {},
   "source": [
    "## Channel"
   ]
  },
  {
   "cell_type": "code",
   "execution_count": 8,
   "id": "3b86abde-a017-4c98-a8f1-02d6ee0ee6e6",
   "metadata": {},
   "outputs": [
    {
     "data": {
      "text/plain": [
       "array(['MOBILE', 'WEB', 'OPEN BANKING', 'BEAMS'], dtype=object)"
      ]
     },
     "execution_count": 8,
     "metadata": {},
     "output_type": "execute_result"
    }
   ],
   "source": [
    "financial_digital_df['CHANNEL'].unique()"
   ]
  },
  {
   "cell_type": "code",
   "execution_count": 9,
   "id": "84ea3bde-e0ad-4474-8d4f-a8e7022dd6a5",
   "metadata": {},
   "outputs": [],
   "source": [
    "financial_digital_df['CHANNEL'], channel_uniques = financial_digital_df['CHANNEL'].factorize()"
   ]
  },
  {
   "cell_type": "code",
   "execution_count": 10,
   "id": "546b156d-fdb8-4d8e-bfe2-96f9938617ec",
   "metadata": {},
   "outputs": [
    {
     "data": {
      "text/html": [
       "<div>\n",
       "<style scoped>\n",
       "    .dataframe tbody tr th:only-of-type {\n",
       "        vertical-align: middle;\n",
       "    }\n",
       "\n",
       "    .dataframe tbody tr th {\n",
       "        vertical-align: top;\n",
       "    }\n",
       "\n",
       "    .dataframe thead th {\n",
       "        text-align: right;\n",
       "    }\n",
       "</style>\n",
       "<table border=\"1\" class=\"dataframe\">\n",
       "  <thead>\n",
       "    <tr style=\"text-align: right;\">\n",
       "      <th></th>\n",
       "      <th>CUST_NUM</th>\n",
       "      <th>AMOUNT</th>\n",
       "      <th>CHANNEL</th>\n",
       "      <th>TRAN_TYPE</th>\n",
       "      <th>MONTH</th>\n",
       "      <th>DAY</th>\n",
       "      <th>TIME</th>\n",
       "    </tr>\n",
       "  </thead>\n",
       "  <tbody>\n",
       "    <tr>\n",
       "      <th>0</th>\n",
       "      <td>4418.325475</td>\n",
       "      <td>2000.885936</td>\n",
       "      <td>0</td>\n",
       "      <td>E-WALLET</td>\n",
       "      <td>4</td>\n",
       "      <td>1</td>\n",
       "      <td>07:55:10</td>\n",
       "    </tr>\n",
       "    <tr>\n",
       "      <th>1</th>\n",
       "      <td>4418.325475</td>\n",
       "      <td>2000.407658</td>\n",
       "      <td>0</td>\n",
       "      <td>E-WALLET</td>\n",
       "      <td>4</td>\n",
       "      <td>1</td>\n",
       "      <td>07:54:01</td>\n",
       "    </tr>\n",
       "    <tr>\n",
       "      <th>2</th>\n",
       "      <td>4418.325475</td>\n",
       "      <td>9829.356544</td>\n",
       "      <td>0</td>\n",
       "      <td>BILLS PAYMENT</td>\n",
       "      <td>4</td>\n",
       "      <td>14</td>\n",
       "      <td>11:04:20</td>\n",
       "    </tr>\n",
       "    <tr>\n",
       "      <th>3</th>\n",
       "      <td>7356.780546</td>\n",
       "      <td>2000.575996</td>\n",
       "      <td>0</td>\n",
       "      <td>E-WALLET</td>\n",
       "      <td>4</td>\n",
       "      <td>11</td>\n",
       "      <td>09:41:43</td>\n",
       "    </tr>\n",
       "    <tr>\n",
       "      <th>4</th>\n",
       "      <td>10768.575579</td>\n",
       "      <td>100.667732</td>\n",
       "      <td>1</td>\n",
       "      <td>E-WALLET</td>\n",
       "      <td>4</td>\n",
       "      <td>2</td>\n",
       "      <td>20:36:51</td>\n",
       "    </tr>\n",
       "  </tbody>\n",
       "</table>\n",
       "</div>"
      ],
      "text/plain": [
       "       CUST_NUM       AMOUNT  CHANNEL      TRAN_TYPE  MONTH  DAY      TIME\n",
       "0   4418.325475  2000.885936        0       E-WALLET      4    1  07:55:10\n",
       "1   4418.325475  2000.407658        0       E-WALLET      4    1  07:54:01\n",
       "2   4418.325475  9829.356544        0  BILLS PAYMENT      4   14  11:04:20\n",
       "3   7356.780546  2000.575996        0       E-WALLET      4   11  09:41:43\n",
       "4  10768.575579   100.667732        1       E-WALLET      4    2  20:36:51"
      ]
     },
     "execution_count": 10,
     "metadata": {},
     "output_type": "execute_result"
    }
   ],
   "source": [
    "financial_digital_df.head()"
   ]
  },
  {
   "cell_type": "code",
   "execution_count": 11,
   "id": "aeef4000-33c1-45fc-bad1-e247ffe48db6",
   "metadata": {},
   "outputs": [
    {
     "data": {
      "text/plain": [
       "Index(['MOBILE', 'WEB', 'OPEN BANKING', 'BEAMS'], dtype='object')"
      ]
     },
     "execution_count": 11,
     "metadata": {},
     "output_type": "execute_result"
    }
   ],
   "source": [
    "channel_uniques"
   ]
  },
  {
   "cell_type": "markdown",
   "id": "e49a0cad-690a-45c1-ad01-933bf2a02e79",
   "metadata": {},
   "source": [
    "## Transaction Type"
   ]
  },
  {
   "cell_type": "code",
   "execution_count": 12,
   "id": "ceb6b574-56ae-44f2-a3be-65f5b09b2a47",
   "metadata": {},
   "outputs": [
    {
     "data": {
      "text/plain": [
       "array(['E-WALLET', 'BILLS PAYMENT', 'INTERNAL FUNDS TRANSFER'],\n",
       "      dtype=object)"
      ]
     },
     "execution_count": 12,
     "metadata": {},
     "output_type": "execute_result"
    }
   ],
   "source": [
    "financial_digital_df['TRAN_TYPE'].unique()"
   ]
  },
  {
   "cell_type": "code",
   "execution_count": 13,
   "id": "0e00f5ad-7105-4f42-8aee-4cf53b33d67c",
   "metadata": {},
   "outputs": [],
   "source": [
    "financial_digital_df['TRAN_TYPE'], trantype_uniques = financial_digital_df['TRAN_TYPE'].factorize()"
   ]
  },
  {
   "cell_type": "code",
   "execution_count": 14,
   "id": "d6ea7e68-9865-4101-b732-0fe8dde6431a",
   "metadata": {},
   "outputs": [
    {
     "data": {
      "text/plain": [
       "Index(['E-WALLET', 'BILLS PAYMENT', 'INTERNAL FUNDS TRANSFER'], dtype='object')"
      ]
     },
     "execution_count": 14,
     "metadata": {},
     "output_type": "execute_result"
    }
   ],
   "source": [
    "trantype_uniques"
   ]
  },
  {
   "cell_type": "code",
   "execution_count": 15,
   "id": "9343d2b6-8dbf-4eae-8ebc-ed307c5d96ff",
   "metadata": {},
   "outputs": [
    {
     "data": {
      "text/html": [
       "<div>\n",
       "<style scoped>\n",
       "    .dataframe tbody tr th:only-of-type {\n",
       "        vertical-align: middle;\n",
       "    }\n",
       "\n",
       "    .dataframe tbody tr th {\n",
       "        vertical-align: top;\n",
       "    }\n",
       "\n",
       "    .dataframe thead th {\n",
       "        text-align: right;\n",
       "    }\n",
       "</style>\n",
       "<table border=\"1\" class=\"dataframe\">\n",
       "  <thead>\n",
       "    <tr style=\"text-align: right;\">\n",
       "      <th></th>\n",
       "      <th>CUST_NUM</th>\n",
       "      <th>AMOUNT</th>\n",
       "      <th>CHANNEL</th>\n",
       "      <th>TRAN_TYPE</th>\n",
       "      <th>MONTH</th>\n",
       "      <th>DAY</th>\n",
       "      <th>TIME</th>\n",
       "    </tr>\n",
       "  </thead>\n",
       "  <tbody>\n",
       "    <tr>\n",
       "      <th>0</th>\n",
       "      <td>4418.325475</td>\n",
       "      <td>2000.885936</td>\n",
       "      <td>0</td>\n",
       "      <td>0</td>\n",
       "      <td>4</td>\n",
       "      <td>1</td>\n",
       "      <td>07:55:10</td>\n",
       "    </tr>\n",
       "    <tr>\n",
       "      <th>1</th>\n",
       "      <td>4418.325475</td>\n",
       "      <td>2000.407658</td>\n",
       "      <td>0</td>\n",
       "      <td>0</td>\n",
       "      <td>4</td>\n",
       "      <td>1</td>\n",
       "      <td>07:54:01</td>\n",
       "    </tr>\n",
       "    <tr>\n",
       "      <th>2</th>\n",
       "      <td>4418.325475</td>\n",
       "      <td>9829.356544</td>\n",
       "      <td>0</td>\n",
       "      <td>1</td>\n",
       "      <td>4</td>\n",
       "      <td>14</td>\n",
       "      <td>11:04:20</td>\n",
       "    </tr>\n",
       "    <tr>\n",
       "      <th>3</th>\n",
       "      <td>7356.780546</td>\n",
       "      <td>2000.575996</td>\n",
       "      <td>0</td>\n",
       "      <td>0</td>\n",
       "      <td>4</td>\n",
       "      <td>11</td>\n",
       "      <td>09:41:43</td>\n",
       "    </tr>\n",
       "    <tr>\n",
       "      <th>4</th>\n",
       "      <td>10768.575579</td>\n",
       "      <td>100.667732</td>\n",
       "      <td>1</td>\n",
       "      <td>0</td>\n",
       "      <td>4</td>\n",
       "      <td>2</td>\n",
       "      <td>20:36:51</td>\n",
       "    </tr>\n",
       "  </tbody>\n",
       "</table>\n",
       "</div>"
      ],
      "text/plain": [
       "       CUST_NUM       AMOUNT  CHANNEL  TRAN_TYPE  MONTH  DAY      TIME\n",
       "0   4418.325475  2000.885936        0          0      4    1  07:55:10\n",
       "1   4418.325475  2000.407658        0          0      4    1  07:54:01\n",
       "2   4418.325475  9829.356544        0          1      4   14  11:04:20\n",
       "3   7356.780546  2000.575996        0          0      4   11  09:41:43\n",
       "4  10768.575579   100.667732        1          0      4    2  20:36:51"
      ]
     },
     "execution_count": 15,
     "metadata": {},
     "output_type": "execute_result"
    }
   ],
   "source": [
    "financial_digital_df.head()"
   ]
  },
  {
   "cell_type": "code",
   "execution_count": 16,
   "id": "df902ce1-e81c-402e-8462-33659eb09b41",
   "metadata": {},
   "outputs": [
    {
     "data": {
      "image/png": "[encoded data removed]",
      "text/plain": [
       "<Figure size 640x480 with 1 Axes>"
      ]
     },
     "metadata": {},
     "output_type": "display_data"
    }
   ],
   "source": [
    "financial_digital_df['TRAN_TYPE'].hist()\n",
    "plt.grid(False)\n",
    "plt.show()"
   ]
  },
  {
   "cell_type": "markdown",
   "id": "c371171a-3d84-4ee7-9171-310448ce4f98",
   "metadata": {},
   "source": [
    "## Amount"
   ]
  },
  {
   "cell_type": "markdown",
   "id": "1c4a8b1d-fdcc-4e41-ae80-f17309320eb8",
   "metadata": {},
   "source": [
    "We now check the boxplot for the `AMOUNT` feature and check for outliers. From the `describe()` operation above, we can see that the max value is way too far compared to the 75th percentile value."
   ]
  },
  {
   "cell_type": "code",
   "execution_count": 17,
   "id": "15201f92-a9f1-48b7-b86d-ab5037149c94",
   "metadata": {},
   "outputs": [
    {
     "data": {
      "image/png": "[encoded data removed]",
      "text/plain": [
       "<Figure size 640x480 with 1 Axes>"
      ]
     },
     "metadata": {},
     "output_type": "display_data"
    }
   ],
   "source": [
    "financial_digital_df.boxplot(column='AMOUNT')\n",
    "plt.grid(False)\n",
    "plt.show()"
   ]
  },
  {
   "cell_type": "code",
   "execution_count": 18,
   "id": "42c0dd17-5ccb-491c-b25f-dfa56bac4326",
   "metadata": {},
   "outputs": [],
   "source": [
    "z_scores = np.abs(stats.zscore(financial_digital_df['AMOUNT']))\n",
    "threshold = 3 # Default std outlier\n",
    "financial_digital_df = financial_digital_df[z_scores <= threshold]"
   ]
  },
  {
   "cell_type": "code",
   "execution_count": 19,
   "id": "c8f76c8b-45a8-4003-9de8-e2b6221a27ca",
   "metadata": {},
   "outputs": [
    {
     "data": {
      "text/plain": [
       "count    172437.000000\n",
       "mean       2713.669277\n",
       "std        4278.753026\n",
       "min           0.000000\n",
       "25%         400.846338\n",
       "50%        1000.734595\n",
       "75%        3000.616442\n",
       "max       30600.773123\n",
       "Name: AMOUNT, dtype: float64"
      ]
     },
     "execution_count": 19,
     "metadata": {},
     "output_type": "execute_result"
    }
   ],
   "source": [
    "financial_digital_df['AMOUNT'].describe()"
   ]
  },
  {
   "cell_type": "markdown",
   "id": "f1768cd8-b786-4d2e-8621-d8ad2a887280",
   "metadata": {},
   "source": [
    "# Heuristics"
   ]
  },
  {
   "cell_type": "markdown",
   "id": "e46e872f-84c3-4f70-b7ee-c787c9532a9b",
   "metadata": {},
   "source": [
    "We check if there are invalid dates inputted."
   ]
  },
  {
   "cell_type": "code",
   "execution_count": 20,
   "id": "ba9fa8c4-56b3-4a93-838f-09339f7868d2",
   "metadata": {},
   "outputs": [
    {
     "data": {
      "text/plain": [
       "array([ 1, 14, 11,  2,  9, 10, 13, 17, 30, 29, 20, 27,  8,  3,  5, 16, 21,\n",
       "       23, 26, 15, 28,  7,  6, 18, 24, 25, 12, 19,  4, 22])"
      ]
     },
     "execution_count": 20,
     "metadata": {},
     "output_type": "execute_result"
    }
   ],
   "source": [
    "financial_digital_df[financial_digital_df['MONTH'] == 4]['DAY'].unique()"
   ]
  },
  {
   "cell_type": "code",
   "execution_count": 21,
   "id": "6a090fbc-92af-4b29-a620-21cb12ebeed4",
   "metadata": {},
   "outputs": [
    {
     "data": {
      "text/plain": [
       "array([ 1, 13, 17, 31,  7, 20, 24, 26, 15, 16,  2,  8, 22,  4,  5, 12, 19,\n",
       "       21, 28, 25, 29, 23,  3, 30,  9, 11, 14, 18,  6, 10, 27])"
      ]
     },
     "execution_count": 21,
     "metadata": {},
     "output_type": "execute_result"
    }
   ],
   "source": [
    "financial_digital_df[financial_digital_df['MONTH'] == 5]['DAY'].unique()"
   ]
  },
  {
   "cell_type": "code",
   "execution_count": 22,
   "id": "640dc4d6-dd8c-479f-874a-d3d8d2810bda",
   "metadata": {},
   "outputs": [
    {
     "data": {
      "text/plain": [
       "array([14, 29,  8,  2, 19, 27,  3,  4,  5,  9, 21, 22, 25, 26,  6, 11, 16,\n",
       "       12, 24, 30, 28, 10,  7, 15, 18,  1, 20, 13, 17, 23])"
      ]
     },
     "execution_count": 22,
     "metadata": {},
     "output_type": "execute_result"
    }
   ],
   "source": [
    "financial_digital_df[financial_digital_df['MONTH'] == 6]['DAY'].unique()"
   ]
  },
  {
   "cell_type": "markdown",
   "id": "f8e4add8-1638-486f-bb74-c29285848499",
   "metadata": {},
   "source": [
    "So far so good."
   ]
  },
  {
   "cell_type": "markdown",
   "id": "d2008ce1-7282-402e-a416-e0e4b45164fa",
   "metadata": {},
   "source": [
    "We now utilize the cleaned data from the customer info dataset and check if each `CUST_NUM` value in the financial-digital dataset corresponds to a `CUST_NUM` value from the customer info dataset."
   ]
  },
  {
   "cell_type": "code",
   "execution_count": 23,
   "id": "e2d6cbe6-f403-4f0e-abb0-fd282d946d58",
   "metadata": {},
   "outputs": [
    {
     "data": {
      "text/html": [
       "<div>\n",
       "<style scoped>\n",
       "    .dataframe tbody tr th:only-of-type {\n",
       "        vertical-align: middle;\n",
       "    }\n",
       "\n",
       "    .dataframe tbody tr th {\n",
       "        vertical-align: top;\n",
       "    }\n",
       "\n",
       "    .dataframe thead th {\n",
       "        text-align: right;\n",
       "    }\n",
       "</style>\n",
       "<table border=\"1\" class=\"dataframe\">\n",
       "  <thead>\n",
       "    <tr style=\"text-align: right;\">\n",
       "      <th></th>\n",
       "      <th>CUST_NUM</th>\n",
       "      <th>PROVINCE</th>\n",
       "      <th>REGION</th>\n",
       "      <th>EDUCATION</th>\n",
       "      <th>AGE</th>\n",
       "      <th>TENURE</th>\n",
       "      <th>BUSINESS_OWNER</th>\n",
       "      <th>DIGITAL_FLAG</th>\n",
       "      <th>INCOME_SOURCE</th>\n",
       "      <th>GENDER</th>\n",
       "      <th>MARITAL_STATUS</th>\n",
       "    </tr>\n",
       "    <tr>\n",
       "      <th>Unnamed: 0</th>\n",
       "      <th></th>\n",
       "      <th></th>\n",
       "      <th></th>\n",
       "      <th></th>\n",
       "      <th></th>\n",
       "      <th></th>\n",
       "      <th></th>\n",
       "      <th></th>\n",
       "      <th></th>\n",
       "      <th></th>\n",
       "      <th></th>\n",
       "    </tr>\n",
       "  </thead>\n",
       "  <tbody>\n",
       "    <tr>\n",
       "      <th>0</th>\n",
       "      <td>11712.654012</td>\n",
       "      <td>0</td>\n",
       "      <td>0</td>\n",
       "      <td>1.0</td>\n",
       "      <td>20.0</td>\n",
       "      <td>1.833333</td>\n",
       "      <td>0</td>\n",
       "      <td>0</td>\n",
       "      <td>0</td>\n",
       "      <td>0</td>\n",
       "      <td>0</td>\n",
       "    </tr>\n",
       "    <tr>\n",
       "      <th>1</th>\n",
       "      <td>436.605085</td>\n",
       "      <td>0</td>\n",
       "      <td>0</td>\n",
       "      <td>1.0</td>\n",
       "      <td>21.0</td>\n",
       "      <td>4.250000</td>\n",
       "      <td>0</td>\n",
       "      <td>1</td>\n",
       "      <td>1</td>\n",
       "      <td>1</td>\n",
       "      <td>0</td>\n",
       "    </tr>\n",
       "    <tr>\n",
       "      <th>2</th>\n",
       "      <td>921.989154</td>\n",
       "      <td>0</td>\n",
       "      <td>0</td>\n",
       "      <td>1.0</td>\n",
       "      <td>23.0</td>\n",
       "      <td>2.000000</td>\n",
       "      <td>0</td>\n",
       "      <td>2</td>\n",
       "      <td>0</td>\n",
       "      <td>0</td>\n",
       "      <td>0</td>\n",
       "    </tr>\n",
       "    <tr>\n",
       "      <th>3</th>\n",
       "      <td>1119.634762</td>\n",
       "      <td>0</td>\n",
       "      <td>0</td>\n",
       "      <td>0.0</td>\n",
       "      <td>13.0</td>\n",
       "      <td>5.583333</td>\n",
       "      <td>0</td>\n",
       "      <td>2</td>\n",
       "      <td>0</td>\n",
       "      <td>0</td>\n",
       "      <td>0</td>\n",
       "    </tr>\n",
       "    <tr>\n",
       "      <th>4</th>\n",
       "      <td>1709.755538</td>\n",
       "      <td>0</td>\n",
       "      <td>0</td>\n",
       "      <td>1.0</td>\n",
       "      <td>20.0</td>\n",
       "      <td>1.250000</td>\n",
       "      <td>0</td>\n",
       "      <td>0</td>\n",
       "      <td>1</td>\n",
       "      <td>1</td>\n",
       "      <td>0</td>\n",
       "    </tr>\n",
       "  </tbody>\n",
       "</table>\n",
       "</div>"
      ],
      "text/plain": [
       "                CUST_NUM  PROVINCE  REGION  EDUCATION   AGE    TENURE  \\\n",
       "Unnamed: 0                                                              \n",
       "0           11712.654012         0       0        1.0  20.0  1.833333   \n",
       "1             436.605085         0       0        1.0  21.0  4.250000   \n",
       "2             921.989154         0       0        1.0  23.0  2.000000   \n",
       "3            1119.634762         0       0        0.0  13.0  5.583333   \n",
       "4            1709.755538         0       0        1.0  20.0  1.250000   \n",
       "\n",
       "            BUSINESS_OWNER  DIGITAL_FLAG  INCOME_SOURCE  GENDER  \\\n",
       "Unnamed: 0                                                        \n",
       "0                        0             0              0       0   \n",
       "1                        0             1              1       1   \n",
       "2                        0             2              0       0   \n",
       "3                        0             2              0       0   \n",
       "4                        0             0              1       1   \n",
       "\n",
       "            MARITAL_STATUS  \n",
       "Unnamed: 0                  \n",
       "0                        0  \n",
       "1                        0  \n",
       "2                        0  \n",
       "3                        0  \n",
       "4                        0  "
      ]
     },
     "execution_count": 23,
     "metadata": {},
     "output_type": "execute_result"
    }
   ],
   "source": [
    "customer_info_df = pd.read_csv('./CUSTOMER_INFO_CLEANED.csv')\n",
    "customer_info_df.set_index('Unnamed: 0', inplace=True)\n",
    "customer_info_df.head()"
   ]
  },
  {
   "cell_type": "code",
   "execution_count": 24,
   "id": "1a29390c-28fd-436b-97e6-8cb52edbf6e1",
   "metadata": {},
   "outputs": [],
   "source": [
    "region_mapper = customer_info_df[['CUST_NUM','REGION']]\n",
    "region_mapper.set_index('CUST_NUM', inplace=True)"
   ]
  },
  {
   "cell_type": "code",
   "execution_count": 25,
   "id": "b9316267-2730-4f8b-a7f7-9fa435c38bed",
   "metadata": {},
   "outputs": [],
   "source": [
    "region_mapper = region_mapper.to_dict()"
   ]
  },
  {
   "cell_type": "code",
   "execution_count": 26,
   "id": "32e57a3f-e6e0-4cfa-b71e-b68ca32608ae",
   "metadata": {},
   "outputs": [],
   "source": [
    "financial_digital_df['REGION'] = financial_digital_df['CUST_NUM'].map(region_mapper['REGION'])"
   ]
  },
  {
   "cell_type": "code",
   "execution_count": 27,
   "id": "e22de8be-fff3-4bc4-bd17-9cdfa23ed6c8",
   "metadata": {},
   "outputs": [
    {
     "data": {
      "text/plain": [
       "REGION\n",
       "6.0     25098\n",
       "4.0     23470\n",
       "8.0     21000\n",
       "3.0     18622\n",
       "0.0     13388\n",
       "1.0     11070\n",
       "5.0     10493\n",
       "2.0      9257\n",
       "13.0     8763\n",
       "7.0      7040\n",
       "9.0      5851\n",
       "11.0     5445\n",
       "NaN      4846\n",
       "10.0     4544\n",
       "12.0     3550\n",
       "Name: count, dtype: int64"
      ]
     },
     "execution_count": 27,
     "metadata": {},
     "output_type": "execute_result"
    }
   ],
   "source": [
    "financial_digital_df['REGION'].value_counts(dropna=False)"
   ]
  },
  {
   "cell_type": "markdown",
   "id": "50343350-ad42-466c-b84a-ca2d9cd2450f",
   "metadata": {},
   "source": [
    "As we can see, there are `CUST_NUM` values that doesn't correspond to any region mapped by the `CUST_NUM` values from the cleaned dataset. The best way to handle this problem is to drop the rows that contain `NaN` values as they would not contribute any analyzable relationships using the cleaned customer information dataset."
   ]
  },
  {
   "cell_type": "code",
   "execution_count": 28,
   "id": "99b0a957-1c48-436a-8682-68bd21201ad1",
   "metadata": {},
   "outputs": [],
   "source": [
    "financial_digital_df.dropna(axis=0, how='any', inplace=True)"
   ]
  },
  {
   "cell_type": "code",
   "execution_count": 29,
   "id": "7518b6f2-44db-4519-b201-717f485ddc4d",
   "metadata": {},
   "outputs": [
    {
     "data": {
      "text/plain": [
       "REGION\n",
       "6.0     25098\n",
       "4.0     23470\n",
       "8.0     21000\n",
       "3.0     18622\n",
       "0.0     13388\n",
       "1.0     11070\n",
       "5.0     10493\n",
       "2.0      9257\n",
       "13.0     8763\n",
       "7.0      7040\n",
       "9.0      5851\n",
       "11.0     5445\n",
       "10.0     4544\n",
       "12.0     3550\n",
       "Name: count, dtype: int64"
      ]
     },
     "execution_count": 29,
     "metadata": {},
     "output_type": "execute_result"
    }
   ],
   "source": [
    "financial_digital_df['REGION'].value_counts(dropna=False)"
   ]
  },
  {
   "cell_type": "code",
   "execution_count": 31,
   "id": "49a99898-80c1-41c0-8ba7-0a85819a9450",
   "metadata": {},
   "outputs": [
    {
     "name": "stdout",
     "output_type": "stream",
     "text": [
      "<class 'pandas.core.frame.DataFrame'>\n",
      "Index: 167591 entries, 0 to 174612\n",
      "Data columns (total 8 columns):\n",
      " #   Column     Non-Null Count   Dtype  \n",
      "---  ------     --------------   -----  \n",
      " 0   CUST_NUM   167591 non-null  float64\n",
      " 1   AMOUNT     167591 non-null  float64\n",
      " 2   CHANNEL    167591 non-null  int64  \n",
      " 3   TRAN_TYPE  167591 non-null  int64  \n",
      " 4   MONTH      167591 non-null  int32  \n",
      " 5   DAY        167591 non-null  int32  \n",
      " 6   TIME       167591 non-null  object \n",
      " 7   REGION     167591 non-null  float64\n",
      "dtypes: float64(3), int32(2), int64(2), object(1)\n",
      "memory usage: 10.2+ MB\n"
     ]
    }
   ],
   "source": [
    "financial_digital_df.info()"
   ]
  },
  {
   "cell_type": "markdown",
   "id": "b97e87db-eaa5-40e1-b1f4-74540c3451cd",
   "metadata": {},
   "source": [
    "# Trend Analysis"
   ]
  },
  {
   "cell_type": "code",
   "execution_count": 36,
   "id": "59a75e69-e930-4d6b-b007-708463e599d4",
   "metadata": {},
   "outputs": [],
   "source": [
    "total_transactions_per_region_and_month_df = financial_digital_df.groupby(['MONTH', 'REGION']).agg({\n",
    "    'AMOUNT': 'sum'\n",
    "}).reset_index()"
   ]
  },
  {
   "cell_type": "code",
   "execution_count": 41,
   "id": "c80a11f3-e523-4c01-a544-5b3eb7b9471a",
   "metadata": {},
   "outputs": [
    {
     "data": {
      "image/png": "[encoded data removed]",
      "text/plain": [
       "<Figure size 640x480 with 1 Axes>"
      ]
     },
     "metadata": {},
     "output_type": "display_data"
    }
   ],
   "source": [
    "total_transactions_per_region_and_month_df[total_transactions_per_region_and_month_df['MONTH'] == 4].plot(kind='bar')\n",
    "plt.grid(False)\n",
    "plt.show()"
   ]
  },
  {
   "cell_type": "code",
   "execution_count": 42,
   "id": "47613d25-a887-4d6c-9092-b9ab548b5f6a",
   "metadata": {},
   "outputs": [
    {
     "data": {
      "image/png": "[encoded data removed]",
      "text/plain": [
       "<Figure size 640x480 with 1 Axes>"
      ]
     },
     "metadata": {},
     "output_type": "display_data"
    }
   ],
   "source": [
    "total_transactions_per_region_and_month_df[total_transactions_per_region_and_month_df['MONTH'] == 5].plot(kind='bar')\n",
    "plt.grid(False)\n",
    "plt.show()"
   ]
  },
  {
   "cell_type": "code",
   "execution_count": 43,
   "id": "f8df6b1b-4851-4813-a53a-ad83e103bb16",
   "metadata": {},
   "outputs": [
    {
     "data": {
      "image/png": "[encoded data removed]",
      "text/plain": [
       "<Figure size 640x480 with 1 Axes>"
      ]
     },
     "metadata": {},
     "output_type": "display_data"
    }
   ],
   "source": [
    "total_transactions_per_region_and_month_df[total_transactions_per_region_and_month_df['MONTH'] == 6].plot(kind='bar')\n",
    "plt.grid(False)\n",
    "plt.show()"
   ]
  },
  {
   "cell_type": "code",
   "execution_count": 48,
   "id": "05b94df6-b504-4c4b-8e7c-6ea2bfa547db",
   "metadata": {},
   "outputs": [],
   "source": [
    "total_transactions_per_month_df = financial_digital_df.groupby(['MONTH']).agg({\n",
    "    'AMOUNT': 'sum'\n",
    "}).reset_index()"
   ]
  },
  {
   "cell_type": "code",
   "execution_count": 50,
   "id": "0a0103bc-d6e0-4959-908c-f7dc1ef5581c",
   "metadata": {},
   "outputs": [],
   "source": [
    "total_transactions_per_region_df = financial_digital_df.groupby(['REGION']).agg({\n",
    "    'AMOUNT': 'sum'\n",
    "}).reset_index()"
   ]
  },
  {
   "cell_type": "code",
   "execution_count": 51,
   "id": "eb4b15c8-af87-4065-90b2-dd5396504b31",
   "metadata": {},
   "outputs": [
    {
     "data": {
      "text/html": [
       "<div>\n",
       "<style scoped>\n",
       "    .dataframe tbody tr th:only-of-type {\n",
       "        vertical-align: middle;\n",
       "    }\n",
       "\n",
       "    .dataframe tbody tr th {\n",
       "        vertical-align: top;\n",
       "    }\n",
       "\n",
       "    .dataframe thead th {\n",
       "        text-align: right;\n",
       "    }\n",
       "</style>\n",
       "<table border=\"1\" class=\"dataframe\">\n",
       "  <thead>\n",
       "    <tr style=\"text-align: right;\">\n",
       "      <th></th>\n",
       "      <th>REGION</th>\n",
       "      <th>AMOUNT</th>\n",
       "    </tr>\n",
       "  </thead>\n",
       "  <tbody>\n",
       "    <tr>\n",
       "      <th>0</th>\n",
       "      <td>0.0</td>\n",
       "      <td>3.555002e+07</td>\n",
       "    </tr>\n",
       "    <tr>\n",
       "      <th>1</th>\n",
       "      <td>1.0</td>\n",
       "      <td>3.086590e+07</td>\n",
       "    </tr>\n",
       "    <tr>\n",
       "      <th>2</th>\n",
       "      <td>2.0</td>\n",
       "      <td>2.567561e+07</td>\n",
       "    </tr>\n",
       "    <tr>\n",
       "      <th>3</th>\n",
       "      <td>3.0</td>\n",
       "      <td>4.763178e+07</td>\n",
       "    </tr>\n",
       "    <tr>\n",
       "      <th>4</th>\n",
       "      <td>4.0</td>\n",
       "      <td>6.852349e+07</td>\n",
       "    </tr>\n",
       "    <tr>\n",
       "      <th>5</th>\n",
       "      <td>5.0</td>\n",
       "      <td>2.703372e+07</td>\n",
       "    </tr>\n",
       "    <tr>\n",
       "      <th>6</th>\n",
       "      <td>6.0</td>\n",
       "      <td>6.425954e+07</td>\n",
       "    </tr>\n",
       "    <tr>\n",
       "      <th>7</th>\n",
       "      <td>7.0</td>\n",
       "      <td>1.863946e+07</td>\n",
       "    </tr>\n",
       "    <tr>\n",
       "      <th>8</th>\n",
       "      <td>8.0</td>\n",
       "      <td>5.306731e+07</td>\n",
       "    </tr>\n",
       "    <tr>\n",
       "      <th>9</th>\n",
       "      <td>9.0</td>\n",
       "      <td>1.612593e+07</td>\n",
       "    </tr>\n",
       "    <tr>\n",
       "      <th>10</th>\n",
       "      <td>10.0</td>\n",
       "      <td>1.301065e+07</td>\n",
       "    </tr>\n",
       "    <tr>\n",
       "      <th>11</th>\n",
       "      <td>11.0</td>\n",
       "      <td>1.822556e+07</td>\n",
       "    </tr>\n",
       "    <tr>\n",
       "      <th>12</th>\n",
       "      <td>12.0</td>\n",
       "      <td>1.072947e+07</td>\n",
       "    </tr>\n",
       "    <tr>\n",
       "      <th>13</th>\n",
       "      <td>13.0</td>\n",
       "      <td>2.564237e+07</td>\n",
       "    </tr>\n",
       "  </tbody>\n",
       "</table>\n",
       "</div>"
      ],
      "text/plain": [
       "    REGION        AMOUNT\n",
       "0      0.0  3.555002e+07\n",
       "1      1.0  3.086590e+07\n",
       "2      2.0  2.567561e+07\n",
       "3      3.0  4.763178e+07\n",
       "4      4.0  6.852349e+07\n",
       "5      5.0  2.703372e+07\n",
       "6      6.0  6.425954e+07\n",
       "7      7.0  1.863946e+07\n",
       "8      8.0  5.306731e+07\n",
       "9      9.0  1.612593e+07\n",
       "10    10.0  1.301065e+07\n",
       "11    11.0  1.822556e+07\n",
       "12    12.0  1.072947e+07\n",
       "13    13.0  2.564237e+07"
      ]
     },
     "execution_count": 51,
     "metadata": {},
     "output_type": "execute_result"
    }
   ],
   "source": [
    "total_transactions_per_region_df"
   ]
  },
  {
   "cell_type": "code",
   "execution_count": null,
   "id": "325ecfb1-a1d4-4ec3-84e6-624d6dc5c81e",
   "metadata": {},
   "outputs": [],
   "source": []
  }
 ],
 "metadata": {
  "kernelspec": {
   "display_name": "Python 3 (ipykernel)",
   "language": "python",
   "name": "python3"
  },
  "language_info": {
   "codemirror_mode": {
    "name": "ipython",
    "version": 3
   },
   "file_extension": ".py",
   "mimetype": "text/x-python",
   "name": "python",
   "nbconvert_exporter": "python",
   "pygments_lexer": "ipython3",
   "version": "3.11.0"
  }
 },
 "nbformat": 4,
 "nbformat_minor": 5
}
