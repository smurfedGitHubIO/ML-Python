{
 "cells": [
  {
   "cell_type": "code",
   "execution_count": 1,
   "id": "953b8571-2de0-4bc8-8b38-74a9ef3e4fd4",
   "metadata": {},
   "outputs": [],
   "source": [
    "import torch\n",
    "import numpy as np\n",
    "import pandas as pd\n",
    "from matplotlib import pyplot as plt"
   ]
  },
  {
   "cell_type": "code",
   "execution_count": 2,
   "id": "64b442ac-c963-4a54-9833-c1dd4e49cc77",
   "metadata": {},
   "outputs": [],
   "source": [
    "from torch import nn # contains all of Pytorch's building blocks for graphs"
   ]
  },
  {
   "cell_type": "code",
   "execution_count": 3,
   "id": "818c375d-6978-4c86-9232-02d6d99de6fb",
   "metadata": {},
   "outputs": [
    {
     "data": {
      "text/plain": [
       "'2.1.0+cu121'"
      ]
     },
     "execution_count": 3,
     "metadata": {},
     "output_type": "execute_result"
    }
   ],
   "source": [
    "torch.__version__"
   ]
  },
  {
   "cell_type": "markdown",
   "id": "af130c0b-e18e-43cc-9f59-393b63e0be04",
   "metadata": {},
   "source": [
    "## Preparing and loading"
   ]
  },
  {
   "cell_type": "code",
   "execution_count": 4,
   "id": "a5e28c46-47c3-44e3-ab89-4322d8807eb8",
   "metadata": {},
   "outputs": [],
   "source": [
    "weight = 0.3\n",
    "bias = 0.7\n",
    "\n",
    "start = 0\n",
    "end = 1\n",
    "step = 0.02\n",
    "X = torch.arange(start,end,step).unsqueeze(dim=1)\n",
    "y = weight*X + bias"
   ]
  },
  {
   "cell_type": "code",
   "execution_count": 5,
   "id": "31c87435-f5d5-4a8a-ab24-958563d8dd0b",
   "metadata": {
    "scrolled": true
   },
   "outputs": [
    {
     "data": {
      "text/plain": [
       "(tensor([[0.0000],\n",
       "         [0.0200],\n",
       "         [0.0400],\n",
       "         [0.0600],\n",
       "         [0.0800],\n",
       "         [0.1000],\n",
       "         [0.1200],\n",
       "         [0.1400],\n",
       "         [0.1600],\n",
       "         [0.1800],\n",
       "         [0.2000],\n",
       "         [0.2200],\n",
       "         [0.2400],\n",
       "         [0.2600],\n",
       "         [0.2800],\n",
       "         [0.3000],\n",
       "         [0.3200],\n",
       "         [0.3400],\n",
       "         [0.3600],\n",
       "         [0.3800],\n",
       "         [0.4000],\n",
       "         [0.4200],\n",
       "         [0.4400],\n",
       "         [0.4600],\n",
       "         [0.4800],\n",
       "         [0.5000],\n",
       "         [0.5200],\n",
       "         [0.5400],\n",
       "         [0.5600],\n",
       "         [0.5800],\n",
       "         [0.6000],\n",
       "         [0.6200],\n",
       "         [0.6400],\n",
       "         [0.6600],\n",
       "         [0.6800],\n",
       "         [0.7000],\n",
       "         [0.7200],\n",
       "         [0.7400],\n",
       "         [0.7600],\n",
       "         [0.7800],\n",
       "         [0.8000],\n",
       "         [0.8200],\n",
       "         [0.8400],\n",
       "         [0.8600],\n",
       "         [0.8800],\n",
       "         [0.9000],\n",
       "         [0.9200],\n",
       "         [0.9400],\n",
       "         [0.9600],\n",
       "         [0.9800]]),\n",
       " tensor([[0.7000],\n",
       "         [0.7060],\n",
       "         [0.7120],\n",
       "         [0.7180],\n",
       "         [0.7240],\n",
       "         [0.7300],\n",
       "         [0.7360],\n",
       "         [0.7420],\n",
       "         [0.7480],\n",
       "         [0.7540],\n",
       "         [0.7600],\n",
       "         [0.7660],\n",
       "         [0.7720],\n",
       "         [0.7780],\n",
       "         [0.7840],\n",
       "         [0.7900],\n",
       "         [0.7960],\n",
       "         [0.8020],\n",
       "         [0.8080],\n",
       "         [0.8140],\n",
       "         [0.8200],\n",
       "         [0.8260],\n",
       "         [0.8320],\n",
       "         [0.8380],\n",
       "         [0.8440],\n",
       "         [0.8500],\n",
       "         [0.8560],\n",
       "         [0.8620],\n",
       "         [0.8680],\n",
       "         [0.8740],\n",
       "         [0.8800],\n",
       "         [0.8860],\n",
       "         [0.8920],\n",
       "         [0.8980],\n",
       "         [0.9040],\n",
       "         [0.9100],\n",
       "         [0.9160],\n",
       "         [0.9220],\n",
       "         [0.9280],\n",
       "         [0.9340],\n",
       "         [0.9400],\n",
       "         [0.9460],\n",
       "         [0.9520],\n",
       "         [0.9580],\n",
       "         [0.9640],\n",
       "         [0.9700],\n",
       "         [0.9760],\n",
       "         [0.9820],\n",
       "         [0.9880],\n",
       "         [0.9940]]))"
      ]
     },
     "execution_count": 5,
     "metadata": {},
     "output_type": "execute_result"
    }
   ],
   "source": [
    "X, y"
   ]
  },
  {
   "cell_type": "markdown",
   "id": "8e9d6326-8386-450a-97ae-e0bfd650d17a",
   "metadata": {},
   "source": [
    "### Splitting and Training Data Sets"
   ]
  },
  {
   "cell_type": "code",
   "execution_count": 6,
   "id": "318a5f63-2d0d-4837-92aa-574c967d65c8",
   "metadata": {},
   "outputs": [],
   "source": [
    "train_split = int(0.8*len(X))"
   ]
  },
  {
   "cell_type": "code",
   "execution_count": 7,
   "id": "a8405019-2c72-4e2c-a0f1-18286c2fe71a",
   "metadata": {},
   "outputs": [
    {
     "data": {
      "text/plain": [
       "(50, 50)"
      ]
     },
     "execution_count": 7,
     "metadata": {},
     "output_type": "execute_result"
    }
   ],
   "source": [
    "len(X), len(y)"
   ]
  },
  {
   "cell_type": "code",
   "execution_count": 8,
   "id": "8c35ee10-69f5-4979-8859-a07947db1a82",
   "metadata": {},
   "outputs": [],
   "source": [
    "X_train, X_test = X[:train_split], X[train_split:]\n",
    "y_train, y_test = y[:train_split], y[train_split:]"
   ]
  },
  {
   "cell_type": "code",
   "execution_count": 9,
   "id": "55f0c657-27ca-476d-8fc0-7a5f22da4fa1",
   "metadata": {},
   "outputs": [
    {
     "data": {
      "text/plain": [
       "(40, 10, 40, 10)"
      ]
     },
     "execution_count": 9,
     "metadata": {},
     "output_type": "execute_result"
    }
   ],
   "source": [
    "len(X_train), len(X_test), len(y_train), len(y_test)"
   ]
  },
  {
   "cell_type": "code",
   "execution_count": 10,
   "id": "6f45c64e-e7a9-4956-a657-e158427f80c5",
   "metadata": {},
   "outputs": [],
   "source": [
    "def plot_predictions(train_data = X_train,\n",
    "                    train_labels = y_train,\n",
    "                    test_data = X_test,\n",
    "                    test_labels = y_test,\n",
    "                    predictions = None):\n",
    "    plt.figure(figsize=(10, 7))\n",
    "    plt.scatter(train_data, train_labels, c=\"b\", s=4, label=\"Training data\")\n",
    "    plt.scatter(test_data, test_labels, c=\"g\", s=4, label=\"Testing data\")\n",
    "    if predictions is not None:\n",
    "        plt.scatter(test_data, predictions, c=\"r\", s=4, label=\"Predictions\")"
   ]
  },
  {
   "cell_type": "code",
   "execution_count": 11,
   "id": "de660854-04ec-4913-84a1-2dec41a1b616",
   "metadata": {},
   "outputs": [
    {
     "data": {
      "image/png": "[encoded data removed]",
      "text/plain": [
       "<Figure size 1000x700 with 1 Axes>"
      ]
     },
     "metadata": {},
     "output_type": "display_data"
    }
   ],
   "source": [
    "plot_predictions()"
   ]
  },
  {
   "cell_type": "markdown",
   "id": "484a500d-9662-474d-9610-3a5678372a70",
   "metadata": {},
   "source": [
    "## Build model"
   ]
  },
  {
   "cell_type": "code",
   "execution_count": 12,
   "id": "fa5ca0aa-42c9-49df-92db-8b0b82cd37a8",
   "metadata": {},
   "outputs": [],
   "source": [
    "# Create linear regression model class\n",
    "class LinearRegressionModel(nn.Module): # almost everything in PyTorch inherits in nn.Modules\n",
    "    def __init__(self):\n",
    "        super().__init__()\n",
    "        self.weights = nn.Parameter(torch.randn(1,\n",
    "                                                requires_grad=True,\n",
    "                                                dtype=torch.float))\n",
    "        self.bias = nn.Parameter(torch.randn(1,\n",
    "                                            requires_grad = True,\n",
    "                                            dtype=torch.float))\n",
    "    ## forward() -> defines the computation of every call\n",
    "    ## always need to overide the forward() function\n",
    "    def forward(self, x: torch.Tensor) -> torch.Tensor:\n",
    "        return self.weights * x + self.bias"
   ]
  },
  {
   "cell_type": "markdown",
   "id": "5073e7ce-cf34-43dc-9e3d-6e3d8c45b3f0",
   "metadata": {},
   "source": [
    "Essential building models\n",
    "* torch.optim - this where the optimizers in PyTorch live, they will help with gradient descent\n",
    "* def forward() - defines what happens in the forward computation"
   ]
  },
  {
   "cell_type": "markdown",
   "id": "e7a52ff4-cc4d-4079-abf3-1cb1502dbdc5",
   "metadata": {},
   "source": [
    "### Checking the contents of our PyTorch model"
   ]
  },
  {
   "cell_type": "code",
   "execution_count": 13,
   "id": "1a69f127-d776-4a6c-bc24-81779225a941",
   "metadata": {},
   "outputs": [
    {
     "data": {
      "text/plain": [
       "[Parameter containing:\n",
       " tensor([0.3367], requires_grad=True),\n",
       " Parameter containing:\n",
       " tensor([0.1288], requires_grad=True)]"
      ]
     },
     "execution_count": 13,
     "metadata": {},
     "output_type": "execute_result"
    }
   ],
   "source": [
    "torch.manual_seed(42)\n",
    "\n",
    "model_0 = LinearRegressionModel()\n",
    "list(model_0.parameters())"
   ]
  },
  {
   "cell_type": "code",
   "execution_count": 14,
   "id": "da8f8af8-f3cd-47f7-a9b7-db201f17490d",
   "metadata": {},
   "outputs": [
    {
     "data": {
      "text/plain": [
       "OrderedDict([('weights', tensor([0.3367])), ('bias', tensor([0.1288]))])"
      ]
     },
     "execution_count": 14,
     "metadata": {},
     "output_type": "execute_result"
    }
   ],
   "source": [
    "model_0.state_dict()"
   ]
  },
  {
   "cell_type": "markdown",
   "id": "7fa9d507-d71e-407c-b752-b7d7b5e37764",
   "metadata": {},
   "source": [
    "A state_dict is simply a Python dictionary object that maps each layer to its parameter tensor. It tells what the model contains."
   ]
  },
  {
   "cell_type": "markdown",
   "id": "2c0c57bf-6d46-474e-a8c5-d2274eb08917",
   "metadata": {},
   "source": [
    "### Making predictions using `torch.inference_mode()`"
   ]
  },
  {
   "cell_type": "code",
   "execution_count": 15,
   "id": "cc8d9565-7b90-4064-ad3a-98835e547983",
   "metadata": {},
   "outputs": [
    {
     "data": {
      "text/plain": [
       "tensor([[0.3982],\n",
       "        [0.4049],\n",
       "        [0.4116],\n",
       "        [0.4184],\n",
       "        [0.4251],\n",
       "        [0.4318],\n",
       "        [0.4386],\n",
       "        [0.4453],\n",
       "        [0.4520],\n",
       "        [0.4588]])"
      ]
     },
     "execution_count": 15,
     "metadata": {},
     "output_type": "execute_result"
    }
   ],
   "source": [
    "with torch.inference_mode():\n",
    "    y_preds = model_0(X_test)\n",
    "y_preds"
   ]
  },
  {
   "cell_type": "code",
   "execution_count": 16,
   "id": "c873b5a9-f10a-4fcc-8345-74f509829667",
   "metadata": {},
   "outputs": [
    {
     "data": {
      "image/png": "[encoded data removed]",
      "text/plain": [
       "<Figure size 1000x700 with 1 Axes>"
      ]
     },
     "metadata": {},
     "output_type": "display_data"
    }
   ],
   "source": [
    "plot_predictions(predictions=y_preds)"
   ]
  },
  {
   "cell_type": "markdown",
   "id": "daeeb8d7-22cf-4b03-8cc4-e4b2149e89af",
   "metadata": {},
   "source": [
    "Inference mode disables the useful things available of training. Makes the code faster."
   ]
  },
  {
   "cell_type": "code",
   "execution_count": 17,
   "id": "dcc5d3e7-e94d-4ee5-8845-af4fd38a12b6",
   "metadata": {},
   "outputs": [
    {
     "data": {
      "text/plain": [
       "tensor([[0.5418],\n",
       "        [0.5411],\n",
       "        [0.5404],\n",
       "        [0.5396],\n",
       "        [0.5389],\n",
       "        [0.5382],\n",
       "        [0.5374],\n",
       "        [0.5367],\n",
       "        [0.5360],\n",
       "        [0.5352]])"
      ]
     },
     "execution_count": 17,
     "metadata": {},
     "output_type": "execute_result"
    }
   ],
   "source": [
    "y_test - y_preds"
   ]
  },
  {
   "cell_type": "markdown",
   "id": "beda04bc-4e26-483c-9747-81203d85dc83",
   "metadata": {},
   "source": [
    "### Adding loss function and optimizer"
   ]
  },
  {
   "cell_type": "code",
   "execution_count": 18,
   "id": "51456fe4-e183-43c7-a19f-cdb2ecead477",
   "metadata": {},
   "outputs": [],
   "source": [
    "loss_fn = nn.L1Loss()\n",
    "optimizer = torch.optim.SGD(params=model_0.parameters(),\n",
    "                           lr=0.01)"
   ]
  },
  {
   "cell_type": "markdown",
   "id": "9fd85625-4736-41c8-883a-d2effe2baa13",
   "metadata": {},
   "source": [
    "### Training loop"
   ]
  },
  {
   "cell_type": "code",
   "execution_count": 18,
   "id": "2be20b56-92a4-4829-b82e-980fec887441",
   "metadata": {},
   "outputs": [
    {
     "ename": "NameError",
     "evalue": "name 'loss_fn' is not defined",
     "output_type": "error",
     "traceback": [
      "\u001b[1;31m---------------------------------------------------------------------------\u001b[0m",
      "\u001b[1;31mNameError\u001b[0m                                 Traceback (most recent call last)",
      "Cell \u001b[1;32mIn[18], line 5\u001b[0m\n\u001b[0;32m      3\u001b[0m model_0\u001b[38;5;241m.\u001b[39mtrain() \u001b[38;5;66;03m# train mode in PyTorch\u001b[39;00m\n\u001b[0;32m      4\u001b[0m y_pred \u001b[38;5;241m=\u001b[39m model_0(X_train) \u001b[38;5;66;03m# perform forward pass\u001b[39;00m\n\u001b[1;32m----> 5\u001b[0m loss \u001b[38;5;241m=\u001b[39m \u001b[43mloss_fn\u001b[49m(y_pred, y_train) \u001b[38;5;66;03m# calculate the loss\u001b[39;00m\n\u001b[0;32m      6\u001b[0m optimizer\u001b[38;5;241m.\u001b[39mzero_grad() \u001b[38;5;66;03m# zero out the optimizers para hindi mag-accumulate yung values\u001b[39;00m\n\u001b[0;32m      7\u001b[0m loss\u001b[38;5;241m.\u001b[39mbackward() \u001b[38;5;66;03m# perform backpropagation\u001b[39;00m\n",
      "\u001b[1;31mNameError\u001b[0m: name 'loss_fn' is not defined"
     ]
    }
   ],
   "source": [
    "epochs = 1000 # number of loops through the data\n",
    "for epoch in range(epochs):\n",
    "    model_0.train() # train mode in PyTorch\n",
    "    y_pred = model_0(X_train) # perform forward pass\n",
    "    loss = loss_fn(y_pred, y_train) # calculate the loss\n",
    "    optimizer.zero_grad() # zero out the optimizers para hindi mag-accumulate yung values\n",
    "    loss.backward() # perform backpropagation\n",
    "    optimizer.step() # update optimizers"
   ]
  },
  {
   "cell_type": "markdown",
   "id": "8fcac8ec-18fa-4d84-b555-dfe144b73401",
   "metadata": {},
   "source": [
    "Optimizer: adjusts parameter values through the use of loss values"
   ]
  },
  {
   "cell_type": "code",
   "execution_count": 20,
   "id": "38219ee5-cda3-4920-ba0c-78b1b66b9717",
   "metadata": {},
   "outputs": [
    {
     "data": {
      "text/plain": [
       "OrderedDict([('weights', tensor([0.3018])), ('bias', tensor([0.6903]))])"
      ]
     },
     "execution_count": 20,
     "metadata": {},
     "output_type": "execute_result"
    }
   ],
   "source": [
    "model_0.state_dict()"
   ]
  },
  {
   "cell_type": "markdown",
   "id": "acad53d2-fead-408f-9b25-aa14534f9af4",
   "metadata": {},
   "source": [
    "### Testing loop"
   ]
  },
  {
   "cell_type": "code",
   "execution_count": 28,
   "id": "d42a8787-4438-4fee-ad98-ad1d8b30bd19",
   "metadata": {
    "scrolled": true
   },
   "outputs": [
    {
     "name": "stdout",
     "output_type": "stream",
     "text": [
      "Epoch: 0 | Training loss: 0.025997888296842575 | Test loss : 0.05985529348254204\n",
      "Epoch: 10 | Training loss: 0.02256198786199093 | Test loss : 0.05226977914571762\n",
      "Epoch: 20 | Training loss: 0.019133061170578003 | Test loss : 0.043997425585985184\n",
      "Epoch: 30 | Training loss: 0.01569424197077751 | Test loss : 0.03572506457567215\n",
      "Epoch: 40 | Training loss: 0.012260009534657001 | Test loss : 0.028139550238847733\n",
      "Epoch: 50 | Training loss: 0.008829416707158089 | Test loss : 0.0198671817779541\n",
      "Epoch: 60 | Training loss: 0.005390599370002747 | Test loss : 0.011594819836318493\n",
      "Epoch: 70 | Training loss: 0.0019580244552344084 | Test loss : 0.00400930643081665\n",
      "Epoch: 80 | Training loss: 0.008988434448838234 | Test loss : 0.00538221001625061\n",
      "Epoch: 90 | Training loss: 0.008988434448838234 | Test loss : 0.00538221001625061\n",
      "Epoch: 100 | Training loss: 0.008988434448838234 | Test loss : 0.00538221001625061\n",
      "Epoch: 110 | Training loss: 0.008988434448838234 | Test loss : 0.00538221001625061\n",
      "Epoch: 120 | Training loss: 0.008988434448838234 | Test loss : 0.00538221001625061\n",
      "Epoch: 130 | Training loss: 0.008988434448838234 | Test loss : 0.00538221001625061\n",
      "Epoch: 140 | Training loss: 0.008988434448838234 | Test loss : 0.00538221001625061\n",
      "Epoch: 150 | Training loss: 0.008988434448838234 | Test loss : 0.00538221001625061\n",
      "Epoch: 160 | Training loss: 0.008988434448838234 | Test loss : 0.00538221001625061\n",
      "Epoch: 170 | Training loss: 0.008988434448838234 | Test loss : 0.00538221001625061\n",
      "Epoch: 180 | Training loss: 0.008988434448838234 | Test loss : 0.00538221001625061\n",
      "Epoch: 190 | Training loss: 0.008988434448838234 | Test loss : 0.00538221001625061\n",
      "Epoch: 200 | Training loss: 0.008988434448838234 | Test loss : 0.00538221001625061\n",
      "Epoch: 210 | Training loss: 0.008988434448838234 | Test loss : 0.00538221001625061\n",
      "Epoch: 220 | Training loss: 0.008988434448838234 | Test loss : 0.00538221001625061\n",
      "Epoch: 230 | Training loss: 0.008988434448838234 | Test loss : 0.00538221001625061\n",
      "Epoch: 240 | Training loss: 0.008988434448838234 | Test loss : 0.00538221001625061\n",
      "Epoch: 250 | Training loss: 0.008988434448838234 | Test loss : 0.00538221001625061\n",
      "Epoch: 260 | Training loss: 0.008988434448838234 | Test loss : 0.00538221001625061\n",
      "Epoch: 270 | Training loss: 0.008988434448838234 | Test loss : 0.00538221001625061\n",
      "Epoch: 280 | Training loss: 0.008988434448838234 | Test loss : 0.00538221001625061\n",
      "Epoch: 290 | Training loss: 0.008988434448838234 | Test loss : 0.00538221001625061\n",
      "Epoch: 300 | Training loss: 0.008988434448838234 | Test loss : 0.00538221001625061\n",
      "Epoch: 310 | Training loss: 0.008988434448838234 | Test loss : 0.00538221001625061\n",
      "Epoch: 320 | Training loss: 0.008988434448838234 | Test loss : 0.00538221001625061\n",
      "Epoch: 330 | Training loss: 0.008988434448838234 | Test loss : 0.00538221001625061\n",
      "Epoch: 340 | Training loss: 0.008988434448838234 | Test loss : 0.00538221001625061\n",
      "Epoch: 350 | Training loss: 0.008988434448838234 | Test loss : 0.00538221001625061\n",
      "Epoch: 360 | Training loss: 0.008988434448838234 | Test loss : 0.00538221001625061\n",
      "Epoch: 370 | Training loss: 0.008988434448838234 | Test loss : 0.00538221001625061\n",
      "Epoch: 380 | Training loss: 0.008988434448838234 | Test loss : 0.00538221001625061\n",
      "Epoch: 390 | Training loss: 0.008988434448838234 | Test loss : 0.00538221001625061\n",
      "Epoch: 400 | Training loss: 0.008988434448838234 | Test loss : 0.00538221001625061\n",
      "Epoch: 410 | Training loss: 0.008988434448838234 | Test loss : 0.00538221001625061\n",
      "Epoch: 420 | Training loss: 0.008988434448838234 | Test loss : 0.00538221001625061\n",
      "Epoch: 430 | Training loss: 0.008988434448838234 | Test loss : 0.00538221001625061\n",
      "Epoch: 440 | Training loss: 0.008988434448838234 | Test loss : 0.00538221001625061\n",
      "Epoch: 450 | Training loss: 0.008988434448838234 | Test loss : 0.00538221001625061\n",
      "Epoch: 460 | Training loss: 0.008988434448838234 | Test loss : 0.00538221001625061\n",
      "Epoch: 470 | Training loss: 0.008988434448838234 | Test loss : 0.00538221001625061\n",
      "Epoch: 480 | Training loss: 0.008988434448838234 | Test loss : 0.00538221001625061\n",
      "Epoch: 490 | Training loss: 0.008988434448838234 | Test loss : 0.00538221001625061\n",
      "Epoch: 500 | Training loss: 0.008988434448838234 | Test loss : 0.00538221001625061\n",
      "Epoch: 510 | Training loss: 0.008988434448838234 | Test loss : 0.00538221001625061\n",
      "Epoch: 520 | Training loss: 0.008988434448838234 | Test loss : 0.00538221001625061\n",
      "Epoch: 530 | Training loss: 0.008988434448838234 | Test loss : 0.00538221001625061\n",
      "Epoch: 540 | Training loss: 0.008988434448838234 | Test loss : 0.00538221001625061\n",
      "Epoch: 550 | Training loss: 0.008988434448838234 | Test loss : 0.00538221001625061\n",
      "Epoch: 560 | Training loss: 0.008988434448838234 | Test loss : 0.00538221001625061\n",
      "Epoch: 570 | Training loss: 0.008988434448838234 | Test loss : 0.00538221001625061\n",
      "Epoch: 580 | Training loss: 0.008988434448838234 | Test loss : 0.00538221001625061\n",
      "Epoch: 590 | Training loss: 0.008988434448838234 | Test loss : 0.00538221001625061\n",
      "Epoch: 600 | Training loss: 0.008988434448838234 | Test loss : 0.00538221001625061\n",
      "Epoch: 610 | Training loss: 0.008988434448838234 | Test loss : 0.00538221001625061\n",
      "Epoch: 620 | Training loss: 0.008988434448838234 | Test loss : 0.00538221001625061\n",
      "Epoch: 630 | Training loss: 0.008988434448838234 | Test loss : 0.00538221001625061\n",
      "Epoch: 640 | Training loss: 0.008988434448838234 | Test loss : 0.00538221001625061\n",
      "Epoch: 650 | Training loss: 0.008988434448838234 | Test loss : 0.00538221001625061\n",
      "Epoch: 660 | Training loss: 0.008988434448838234 | Test loss : 0.00538221001625061\n",
      "Epoch: 670 | Training loss: 0.008988434448838234 | Test loss : 0.00538221001625061\n",
      "Epoch: 680 | Training loss: 0.008988434448838234 | Test loss : 0.00538221001625061\n",
      "Epoch: 690 | Training loss: 0.008988434448838234 | Test loss : 0.00538221001625061\n",
      "Epoch: 700 | Training loss: 0.008988434448838234 | Test loss : 0.00538221001625061\n",
      "Epoch: 710 | Training loss: 0.008988434448838234 | Test loss : 0.00538221001625061\n",
      "Epoch: 720 | Training loss: 0.008988434448838234 | Test loss : 0.00538221001625061\n",
      "Epoch: 730 | Training loss: 0.008988434448838234 | Test loss : 0.00538221001625061\n",
      "Epoch: 740 | Training loss: 0.008988434448838234 | Test loss : 0.00538221001625061\n",
      "Epoch: 750 | Training loss: 0.008988434448838234 | Test loss : 0.00538221001625061\n",
      "Epoch: 760 | Training loss: 0.008988434448838234 | Test loss : 0.00538221001625061\n",
      "Epoch: 770 | Training loss: 0.008988434448838234 | Test loss : 0.00538221001625061\n",
      "Epoch: 780 | Training loss: 0.008988434448838234 | Test loss : 0.00538221001625061\n",
      "Epoch: 790 | Training loss: 0.008988434448838234 | Test loss : 0.00538221001625061\n",
      "Epoch: 800 | Training loss: 0.008988434448838234 | Test loss : 0.00538221001625061\n",
      "Epoch: 810 | Training loss: 0.008988434448838234 | Test loss : 0.00538221001625061\n",
      "Epoch: 820 | Training loss: 0.008988434448838234 | Test loss : 0.00538221001625061\n",
      "Epoch: 830 | Training loss: 0.008988434448838234 | Test loss : 0.00538221001625061\n",
      "Epoch: 840 | Training loss: 0.008988434448838234 | Test loss : 0.00538221001625061\n",
      "Epoch: 850 | Training loss: 0.008988434448838234 | Test loss : 0.00538221001625061\n",
      "Epoch: 860 | Training loss: 0.008988434448838234 | Test loss : 0.00538221001625061\n",
      "Epoch: 870 | Training loss: 0.008988434448838234 | Test loss : 0.00538221001625061\n",
      "Epoch: 880 | Training loss: 0.008988434448838234 | Test loss : 0.00538221001625061\n",
      "Epoch: 890 | Training loss: 0.008988434448838234 | Test loss : 0.00538221001625061\n",
      "Epoch: 900 | Training loss: 0.008988434448838234 | Test loss : 0.00538221001625061\n",
      "Epoch: 910 | Training loss: 0.008988434448838234 | Test loss : 0.00538221001625061\n",
      "Epoch: 920 | Training loss: 0.008988434448838234 | Test loss : 0.00538221001625061\n",
      "Epoch: 930 | Training loss: 0.008988434448838234 | Test loss : 0.00538221001625061\n",
      "Epoch: 940 | Training loss: 0.008988434448838234 | Test loss : 0.00538221001625061\n",
      "Epoch: 950 | Training loss: 0.008988434448838234 | Test loss : 0.00538221001625061\n",
      "Epoch: 960 | Training loss: 0.008988434448838234 | Test loss : 0.00538221001625061\n",
      "Epoch: 970 | Training loss: 0.008988434448838234 | Test loss : 0.00538221001625061\n",
      "Epoch: 980 | Training loss: 0.008988434448838234 | Test loss : 0.00538221001625061\n",
      "Epoch: 990 | Training loss: 0.008988434448838234 | Test loss : 0.00538221001625061\n"
     ]
    }
   ],
   "source": [
    "torch.manual_seed(42)\n",
    "\n",
    "epoch_count = 1000\n",
    "train_loss_values = []\n",
    "test_loss_values = []\n",
    "epoch_values = []\n",
    "\n",
    "for epoch in range(epoch_count):\n",
    "    model_0.train()\n",
    "\n",
    "    y_pred = model_0(X_train)\n",
    "    loss = loss_fn(y_pred, y_train)\n",
    "    optimizer.zero_grad()\n",
    "    loss.backward()\n",
    "    optimizer.step()\n",
    "    model_0.eval()\n",
    "    with torch.inference_mode():\n",
    "        test_pred = model_0(X_test)\n",
    "        test_loss = loss_fn(test_pred, y_test.type(torch.float))\n",
    "    if epoch%10 == 0:\n",
    "        epoch_values.append(epoch)\n",
    "        train_loss_values.append(loss.detach().numpy())\n",
    "        test_loss_values.append(test_loss.detach().numpy())\n",
    "        print(f\"Epoch: {epoch} | Training loss: {loss} | Test loss : {test_loss}\")"
   ]
  },
  {
   "cell_type": "code",
   "execution_count": 29,
   "id": "b463f308-dbc6-42f4-988b-dc6a0ace907c",
   "metadata": {},
   "outputs": [
    {
     "data": {
      "text/plain": [
       "[Parameter containing:\n",
       " tensor([0.3018], requires_grad=True),\n",
       " Parameter containing:\n",
       " tensor([0.6903], requires_grad=True)]"
      ]
     },
     "execution_count": 29,
     "metadata": {},
     "output_type": "execute_result"
    }
   ],
   "source": [
    "list(model_0.parameters())"
   ]
  },
  {
   "cell_type": "code",
   "execution_count": 30,
   "id": "80a54074-0ea2-4a89-826d-03692a012ec6",
   "metadata": {},
   "outputs": [
    {
     "data": {
      "text/plain": [
       "([array(0.02599789, dtype=float32),\n",
       "  array(0.02256199, dtype=float32),\n",
       "  array(0.01913306, dtype=float32),\n",
       "  array(0.01569424, dtype=float32),\n",
       "  array(0.01226001, dtype=float32),\n",
       "  array(0.00882942, dtype=float32),\n",
       "  array(0.0053906, dtype=float32),\n",
       "  array(0.00195802, dtype=float32),\n",
       "  array(0.00898843, dtype=float32),\n",
       "  array(0.00898843, dtype=float32),\n",
       "  array(0.00898843, dtype=float32),\n",
       "  array(0.00898843, dtype=float32),\n",
       "  array(0.00898843, dtype=float32),\n",
       "  array(0.00898843, dtype=float32),\n",
       "  array(0.00898843, dtype=float32),\n",
       "  array(0.00898843, dtype=float32),\n",
       "  array(0.00898843, dtype=float32),\n",
       "  array(0.00898843, dtype=float32),\n",
       "  array(0.00898843, dtype=float32),\n",
       "  array(0.00898843, dtype=float32),\n",
       "  array(0.00898843, dtype=float32),\n",
       "  array(0.00898843, dtype=float32),\n",
       "  array(0.00898843, dtype=float32),\n",
       "  array(0.00898843, dtype=float32),\n",
       "  array(0.00898843, dtype=float32),\n",
       "  array(0.00898843, dtype=float32),\n",
       "  array(0.00898843, dtype=float32),\n",
       "  array(0.00898843, dtype=float32),\n",
       "  array(0.00898843, dtype=float32),\n",
       "  array(0.00898843, dtype=float32),\n",
       "  array(0.00898843, dtype=float32),\n",
       "  array(0.00898843, dtype=float32),\n",
       "  array(0.00898843, dtype=float32),\n",
       "  array(0.00898843, dtype=float32),\n",
       "  array(0.00898843, dtype=float32),\n",
       "  array(0.00898843, dtype=float32),\n",
       "  array(0.00898843, dtype=float32),\n",
       "  array(0.00898843, dtype=float32),\n",
       "  array(0.00898843, dtype=float32),\n",
       "  array(0.00898843, dtype=float32),\n",
       "  array(0.00898843, dtype=float32),\n",
       "  array(0.00898843, dtype=float32),\n",
       "  array(0.00898843, dtype=float32),\n",
       "  array(0.00898843, dtype=float32),\n",
       "  array(0.00898843, dtype=float32),\n",
       "  array(0.00898843, dtype=float32),\n",
       "  array(0.00898843, dtype=float32),\n",
       "  array(0.00898843, dtype=float32),\n",
       "  array(0.00898843, dtype=float32),\n",
       "  array(0.00898843, dtype=float32),\n",
       "  array(0.00898843, dtype=float32),\n",
       "  array(0.00898843, dtype=float32),\n",
       "  array(0.00898843, dtype=float32),\n",
       "  array(0.00898843, dtype=float32),\n",
       "  array(0.00898843, dtype=float32),\n",
       "  array(0.00898843, dtype=float32),\n",
       "  array(0.00898843, dtype=float32),\n",
       "  array(0.00898843, dtype=float32),\n",
       "  array(0.00898843, dtype=float32),\n",
       "  array(0.00898843, dtype=float32),\n",
       "  array(0.00898843, dtype=float32),\n",
       "  array(0.00898843, dtype=float32),\n",
       "  array(0.00898843, dtype=float32),\n",
       "  array(0.00898843, dtype=float32),\n",
       "  array(0.00898843, dtype=float32),\n",
       "  array(0.00898843, dtype=float32),\n",
       "  array(0.00898843, dtype=float32),\n",
       "  array(0.00898843, dtype=float32),\n",
       "  array(0.00898843, dtype=float32),\n",
       "  array(0.00898843, dtype=float32),\n",
       "  array(0.00898843, dtype=float32),\n",
       "  array(0.00898843, dtype=float32),\n",
       "  array(0.00898843, dtype=float32),\n",
       "  array(0.00898843, dtype=float32),\n",
       "  array(0.00898843, dtype=float32),\n",
       "  array(0.00898843, dtype=float32),\n",
       "  array(0.00898843, dtype=float32),\n",
       "  array(0.00898843, dtype=float32),\n",
       "  array(0.00898843, dtype=float32),\n",
       "  array(0.00898843, dtype=float32),\n",
       "  array(0.00898843, dtype=float32),\n",
       "  array(0.00898843, dtype=float32),\n",
       "  array(0.00898843, dtype=float32),\n",
       "  array(0.00898843, dtype=float32),\n",
       "  array(0.00898843, dtype=float32),\n",
       "  array(0.00898843, dtype=float32),\n",
       "  array(0.00898843, dtype=float32),\n",
       "  array(0.00898843, dtype=float32),\n",
       "  array(0.00898843, dtype=float32),\n",
       "  array(0.00898843, dtype=float32),\n",
       "  array(0.00898843, dtype=float32),\n",
       "  array(0.00898843, dtype=float32),\n",
       "  array(0.00898843, dtype=float32),\n",
       "  array(0.00898843, dtype=float32),\n",
       "  array(0.00898843, dtype=float32),\n",
       "  array(0.00898843, dtype=float32),\n",
       "  array(0.00898843, dtype=float32),\n",
       "  array(0.00898843, dtype=float32),\n",
       "  array(0.00898843, dtype=float32),\n",
       "  array(0.00898843, dtype=float32)],\n",
       " [array(0.05985529, dtype=float32),\n",
       "  array(0.05226978, dtype=float32),\n",
       "  array(0.04399743, dtype=float32),\n",
       "  array(0.03572506, dtype=float32),\n",
       "  array(0.02813955, dtype=float32),\n",
       "  array(0.01986718, dtype=float32),\n",
       "  array(0.01159482, dtype=float32),\n",
       "  array(0.00400931, dtype=float32),\n",
       "  array(0.00538221, dtype=float32),\n",
       "  array(0.00538221, dtype=float32),\n",
       "  array(0.00538221, dtype=float32),\n",
       "  array(0.00538221, dtype=float32),\n",
       "  array(0.00538221, dtype=float32),\n",
       "  array(0.00538221, dtype=float32),\n",
       "  array(0.00538221, dtype=float32),\n",
       "  array(0.00538221, dtype=float32),\n",
       "  array(0.00538221, dtype=float32),\n",
       "  array(0.00538221, dtype=float32),\n",
       "  array(0.00538221, dtype=float32),\n",
       "  array(0.00538221, dtype=float32),\n",
       "  array(0.00538221, dtype=float32),\n",
       "  array(0.00538221, dtype=float32),\n",
       "  array(0.00538221, dtype=float32),\n",
       "  array(0.00538221, dtype=float32),\n",
       "  array(0.00538221, dtype=float32),\n",
       "  array(0.00538221, dtype=float32),\n",
       "  array(0.00538221, dtype=float32),\n",
       "  array(0.00538221, dtype=float32),\n",
       "  array(0.00538221, dtype=float32),\n",
       "  array(0.00538221, dtype=float32),\n",
       "  array(0.00538221, dtype=float32),\n",
       "  array(0.00538221, dtype=float32),\n",
       "  array(0.00538221, dtype=float32),\n",
       "  array(0.00538221, dtype=float32),\n",
       "  array(0.00538221, dtype=float32),\n",
       "  array(0.00538221, dtype=float32),\n",
       "  array(0.00538221, dtype=float32),\n",
       "  array(0.00538221, dtype=float32),\n",
       "  array(0.00538221, dtype=float32),\n",
       "  array(0.00538221, dtype=float32),\n",
       "  array(0.00538221, dtype=float32),\n",
       "  array(0.00538221, dtype=float32),\n",
       "  array(0.00538221, dtype=float32),\n",
       "  array(0.00538221, dtype=float32),\n",
       "  array(0.00538221, dtype=float32),\n",
       "  array(0.00538221, dtype=float32),\n",
       "  array(0.00538221, dtype=float32),\n",
       "  array(0.00538221, dtype=float32),\n",
       "  array(0.00538221, dtype=float32),\n",
       "  array(0.00538221, dtype=float32),\n",
       "  array(0.00538221, dtype=float32),\n",
       "  array(0.00538221, dtype=float32),\n",
       "  array(0.00538221, dtype=float32),\n",
       "  array(0.00538221, dtype=float32),\n",
       "  array(0.00538221, dtype=float32),\n",
       "  array(0.00538221, dtype=float32),\n",
       "  array(0.00538221, dtype=float32),\n",
       "  array(0.00538221, dtype=float32),\n",
       "  array(0.00538221, dtype=float32),\n",
       "  array(0.00538221, dtype=float32),\n",
       "  array(0.00538221, dtype=float32),\n",
       "  array(0.00538221, dtype=float32),\n",
       "  array(0.00538221, dtype=float32),\n",
       "  array(0.00538221, dtype=float32),\n",
       "  array(0.00538221, dtype=float32),\n",
       "  array(0.00538221, dtype=float32),\n",
       "  array(0.00538221, dtype=float32),\n",
       "  array(0.00538221, dtype=float32),\n",
       "  array(0.00538221, dtype=float32),\n",
       "  array(0.00538221, dtype=float32),\n",
       "  array(0.00538221, dtype=float32),\n",
       "  array(0.00538221, dtype=float32),\n",
       "  array(0.00538221, dtype=float32),\n",
       "  array(0.00538221, dtype=float32),\n",
       "  array(0.00538221, dtype=float32),\n",
       "  array(0.00538221, dtype=float32),\n",
       "  array(0.00538221, dtype=float32),\n",
       "  array(0.00538221, dtype=float32),\n",
       "  array(0.00538221, dtype=float32),\n",
       "  array(0.00538221, dtype=float32),\n",
       "  array(0.00538221, dtype=float32),\n",
       "  array(0.00538221, dtype=float32),\n",
       "  array(0.00538221, dtype=float32),\n",
       "  array(0.00538221, dtype=float32),\n",
       "  array(0.00538221, dtype=float32),\n",
       "  array(0.00538221, dtype=float32),\n",
       "  array(0.00538221, dtype=float32),\n",
       "  array(0.00538221, dtype=float32),\n",
       "  array(0.00538221, dtype=float32),\n",
       "  array(0.00538221, dtype=float32),\n",
       "  array(0.00538221, dtype=float32),\n",
       "  array(0.00538221, dtype=float32),\n",
       "  array(0.00538221, dtype=float32),\n",
       "  array(0.00538221, dtype=float32),\n",
       "  array(0.00538221, dtype=float32),\n",
       "  array(0.00538221, dtype=float32),\n",
       "  array(0.00538221, dtype=float32),\n",
       "  array(0.00538221, dtype=float32),\n",
       "  array(0.00538221, dtype=float32),\n",
       "  array(0.00538221, dtype=float32)])"
      ]
     },
     "execution_count": 30,
     "metadata": {},
     "output_type": "execute_result"
    }
   ],
   "source": [
    "train_loss_values, test_loss_values"
   ]
  },
  {
   "cell_type": "code",
   "execution_count": 31,
   "id": "52f2250b-69ec-45e0-80cb-64a3fd018d12",
   "metadata": {},
   "outputs": [
    {
     "data": {
      "image/png": "[encoded data removed]",
      "text/plain": [
       "<Figure size 640x480 with 1 Axes>"
      ]
     },
     "metadata": {},
     "output_type": "display_data"
    }
   ],
   "source": [
    "plt.plot(epoch_values, train_loss_values, label=\"Train loss\")\n",
    "plt.plot(epoch_values, test_loss_values, label=\"Test loss\")\n",
    "plt.legend()\n",
    "plt.show()"
   ]
  },
  {
   "cell_type": "markdown",
   "id": "4c89ff00-371a-4df4-918b-8d9c06268ce2",
   "metadata": {},
   "source": [
    "## Making predictions with a trained PyTorch model"
   ]
  },
  {
   "cell_type": "code",
   "execution_count": 32,
   "id": "07030d75-a639-4800-987e-ee3fae5dee4c",
   "metadata": {},
   "outputs": [
    {
     "data": {
      "image/png": "[encoded data removed]",
      "text/plain": [
       "<Figure size 1000x700 with 1 Axes>"
      ]
     },
     "metadata": {},
     "output_type": "display_data"
    }
   ],
   "source": [
    "model_0.eval()\n",
    "with torch.inference_mode():\n",
    "    y_pred = model_0(X_test)\n",
    "plot_predictions(predictions=y_pred)"
   ]
  },
  {
   "cell_type": "markdown",
   "id": "3003bdae-15c9-42dd-bd53-a650b07bd1fa",
   "metadata": {},
   "source": [
    "## Saving and loading a PyTorch model"
   ]
  },
  {
   "cell_type": "markdown",
   "id": "76d11462-5df3-49e2-a64b-f6ac9038591e",
   "metadata": {},
   "source": [
    "### Saving a PyTorch Model's `state_dict()`"
   ]
  },
  {
   "cell_type": "code",
   "execution_count": 33,
   "id": "2b72906a-445e-4669-a8d2-85a10460bc00",
   "metadata": {},
   "outputs": [],
   "source": [
    "from pathlib import Path\n",
    "\n",
    "MODEL_PATH = Path(\"models\")\n",
    "MODEL_PATH.mkdir(parents=True, exist_ok=True)\n",
    "\n",
    "MODEL_NAME = \"01_pytorch_workflow_model_0.pth\"\n",
    "MODEL_SAVE_PATH = MODEL_PATH / MODEL_NAME\n",
    "\n",
    "torch.save(obj=model_0.state_dict(), f=MODEL_SAVE_PATH)"
   ]
  },
  {
   "cell_type": "markdown",
   "id": "c695761b-7fbf-4690-bcf0-25595d4ccc17",
   "metadata": {},
   "source": [
    "### Loading PyTorch Model"
   ]
  },
  {
   "cell_type": "code",
   "execution_count": 35,
   "id": "1fb7be32-7d36-4d65-ab36-28f08b2a2c9c",
   "metadata": {},
   "outputs": [
    {
     "data": {
      "text/plain": [
       "<All keys matched successfully>"
      ]
     },
     "execution_count": 35,
     "metadata": {},
     "output_type": "execute_result"
    }
   ],
   "source": [
    "model_1 = LinearRegressionModel()\n",
    "model_1.load_state_dict(torch.load(f=MODEL_SAVE_PATH))"
   ]
  },
  {
   "cell_type": "code",
   "execution_count": 37,
   "id": "df865f96-ff51-4416-95ca-f04d3bfa87ad",
   "metadata": {},
   "outputs": [],
   "source": [
    "model_1.eval()\n",
    "\n",
    "with torch.inference_mode():\n",
    "    model_1_preds = model_1(X_test)"
   ]
  },
  {
   "cell_type": "code",
   "execution_count": 40,
   "id": "149aad2a-65ed-4f29-ba3f-fa187003423f",
   "metadata": {},
   "outputs": [
    {
     "data": {
      "text/plain": [
       "tensor([[True],\n",
       "        [True],\n",
       "        [True],\n",
       "        [True],\n",
       "        [True],\n",
       "        [True],\n",
       "        [True],\n",
       "        [True],\n",
       "        [True],\n",
       "        [True]])"
      ]
     },
     "execution_count": 40,
     "metadata": {},
     "output_type": "execute_result"
    }
   ],
   "source": [
    "y_pred == model_1_preds"
   ]
  },
  {
   "cell_type": "markdown",
   "id": "b5a2422a-9b9a-4347-b540-704eed284212",
   "metadata": {},
   "source": [
    "## Putting it all together"
   ]
  },
  {
   "cell_type": "code",
   "execution_count": 41,
   "id": "485c17c4-c12f-491e-add2-98713184bd3b",
   "metadata": {},
   "outputs": [],
   "source": [
    "import torch\n",
    "from torch import nn\n",
    "from matplotlib import pyplot as plt"
   ]
  },
  {
   "cell_type": "markdown",
   "id": "c92106cf-2caa-4ce3-b758-569b1574bef9",
   "metadata": {},
   "source": [
    "Make code device-agnostic."
   ]
  },
  {
   "cell_type": "code",
   "execution_count": 42,
   "id": "4ffd8c7a-c776-417d-a1a8-c8190c3a1e5e",
   "metadata": {},
   "outputs": [
    {
     "name": "stdout",
     "output_type": "stream",
     "text": [
      "cuda\n"
     ]
    }
   ],
   "source": [
    "device = \"cuda\" if torch.cuda.is_available() else \"cpu\"\n",
    "print(device)"
   ]
  },
  {
   "cell_type": "code",
   "execution_count": 43,
   "id": "659fe2af-5e5a-4459-aa50-cb40e1a48f8e",
   "metadata": {},
   "outputs": [],
   "source": [
    "weight = 0.7\n",
    "bias = 0.3\n",
    "\n",
    "start = 0\n",
    "end = 1\n",
    "step = 0.02\n",
    "X = torch.arange(start,end,step).unsqueeze(dim=1)\n",
    "y = weight*X + bias"
   ]
  },
  {
   "cell_type": "code",
   "execution_count": 44,
   "id": "4b96a18f-08cd-4d6c-848a-b782967945e6",
   "metadata": {},
   "outputs": [],
   "source": [
    "train_split = int(0.8*len(X))"
   ]
  },
  {
   "cell_type": "code",
   "execution_count": 45,
   "id": "f6e0f56e-dd00-4c0a-b485-4b68f56f91e4",
   "metadata": {},
   "outputs": [],
   "source": [
    "X_train, X_test = X[:train_split], X[train_split:]\n",
    "y_train, y_test = y[:train_split], y[train_split:]"
   ]
  },
  {
   "cell_type": "code",
   "execution_count": 46,
   "id": "875368f0-3b06-4d59-a961-61eb1e004611",
   "metadata": {},
   "outputs": [
    {
     "data": {
      "image/png": "[encoded data removed]",
      "text/plain": [
       "<Figure size 1000x700 with 1 Axes>"
      ]
     },
     "metadata": {},
     "output_type": "display_data"
    }
   ],
   "source": [
    "plot_predictions()"
   ]
  },
  {
   "cell_type": "code",
   "execution_count": 72,
   "id": "eb40a2a5-6803-434d-b65b-07db3f93d909",
   "metadata": {},
   "outputs": [
    {
     "data": {
      "text/plain": [
       "(LinearRegressionModelV2(\n",
       "   (linear_layer): Linear(in_features=1, out_features=1, bias=True)\n",
       " ),\n",
       " OrderedDict([('linear_layer.weight', tensor([[0.7645]])),\n",
       "              ('linear_layer.bias', tensor([0.8300]))]))"
      ]
     },
     "execution_count": 72,
     "metadata": {},
     "output_type": "execute_result"
    }
   ],
   "source": [
    "class LinearRegressionModelV2(nn.Module):\n",
    "    def __init__(self):\n",
    "        super().__init__()\n",
    "        self.linear_layer = nn.Linear(in_features = 1, out_features = 1)\n",
    "    def forward(self, x:torch.Tensor) -> torch.Tensor:\n",
    "        return self.linear_layer(x)\n",
    "\n",
    "torch.manual_seed(42)\n",
    "model_2 = LinearRegressionModelV2()\n",
    "model_2, model_2.state_dict()"
   ]
  },
  {
   "cell_type": "code",
   "execution_count": 73,
   "id": "c49359a6-0ba3-48be-a011-4a10accae487",
   "metadata": {},
   "outputs": [
    {
     "data": {
      "text/plain": [
       "device(type='cpu')"
      ]
     },
     "execution_count": 73,
     "metadata": {},
     "output_type": "execute_result"
    }
   ],
   "source": [
    "next(model_2.parameters()).device"
   ]
  },
  {
   "cell_type": "code",
   "execution_count": 74,
   "id": "41a40b64-bebb-4cdb-bc02-344db819a07c",
   "metadata": {},
   "outputs": [
    {
     "data": {
      "text/plain": [
       "device(type='cuda', index=0)"
      ]
     },
     "execution_count": 74,
     "metadata": {},
     "output_type": "execute_result"
    }
   ],
   "source": [
    "model_2.to(device)\n",
    "next(model_2.parameters()).device"
   ]
  },
  {
   "cell_type": "code",
   "execution_count": 75,
   "id": "447b9dbd-ecdd-4442-b516-62c5f107114f",
   "metadata": {},
   "outputs": [],
   "source": [
    "loss_fn = nn.L1Loss()\n",
    "optimizer = torch.optim.SGD(params=model_2.parameters(),\n",
    "    lr=0.01)"
   ]
  },
  {
   "cell_type": "code",
   "execution_count": 76,
   "id": "1d40b18d-f4ec-4a15-8d49-3e45ca5f4a88",
   "metadata": {
    "scrolled": true
   },
   "outputs": [
    {
     "name": "stdout",
     "output_type": "stream",
     "text": [
      "Epoch: 0 | Train Loss: 0.5551779866218567 | Test Loss: 0.5739762187004089\n",
      "Epoch: 10 | Train Loss: 0.439968079328537 | Test Loss: 0.4392664134502411\n",
      "Epoch: 20 | Train Loss: 0.3247582018375397 | Test Loss: 0.30455657839775085\n",
      "Epoch: 30 | Train Loss: 0.20954833924770355 | Test Loss: 0.16984669864177704\n",
      "Epoch: 40 | Train Loss: 0.09433845430612564 | Test Loss: 0.03513690456748009\n",
      "Epoch: 50 | Train Loss: 0.023886388167738914 | Test Loss: 0.04784907028079033\n",
      "Epoch: 60 | Train Loss: 0.019956795498728752 | Test Loss: 0.045803118497133255\n",
      "Epoch: 70 | Train Loss: 0.016517987474799156 | Test Loss: 0.037530567497015\n",
      "Epoch: 80 | Train Loss: 0.013089174404740334 | Test Loss: 0.02994490973651409\n",
      "Epoch: 90 | Train Loss: 0.009653178043663502 | Test Loss: 0.02167237363755703\n",
      "Epoch: 100 | Train Loss: 0.006215683650225401 | Test Loss: 0.014086711220443249\n",
      "Epoch: 110 | Train Loss: 0.00278724217787385 | Test Loss: 0.005814164876937866\n",
      "Epoch: 120 | Train Loss: 0.0012645035749301314 | Test Loss: 0.013801801018416882\n",
      "Epoch: 130 | Train Loss: 0.0012645035749301314 | Test Loss: 0.013801801018416882\n",
      "Epoch: 140 | Train Loss: 0.0012645035749301314 | Test Loss: 0.013801801018416882\n",
      "Epoch: 150 | Train Loss: 0.0012645035749301314 | Test Loss: 0.013801801018416882\n",
      "Epoch: 160 | Train Loss: 0.0012645035749301314 | Test Loss: 0.013801801018416882\n",
      "Epoch: 170 | Train Loss: 0.0012645035749301314 | Test Loss: 0.013801801018416882\n",
      "Epoch: 180 | Train Loss: 0.0012645035749301314 | Test Loss: 0.013801801018416882\n",
      "Epoch: 190 | Train Loss: 0.0012645035749301314 | Test Loss: 0.013801801018416882\n",
      "Epoch: 200 | Train Loss: 0.0012645035749301314 | Test Loss: 0.013801801018416882\n",
      "Epoch: 210 | Train Loss: 0.0012645035749301314 | Test Loss: 0.013801801018416882\n",
      "Epoch: 220 | Train Loss: 0.0012645035749301314 | Test Loss: 0.013801801018416882\n",
      "Epoch: 230 | Train Loss: 0.0012645035749301314 | Test Loss: 0.013801801018416882\n",
      "Epoch: 240 | Train Loss: 0.0012645035749301314 | Test Loss: 0.013801801018416882\n",
      "Epoch: 250 | Train Loss: 0.0012645035749301314 | Test Loss: 0.013801801018416882\n",
      "Epoch: 260 | Train Loss: 0.0012645035749301314 | Test Loss: 0.013801801018416882\n",
      "Epoch: 270 | Train Loss: 0.0012645035749301314 | Test Loss: 0.013801801018416882\n",
      "Epoch: 280 | Train Loss: 0.0012645035749301314 | Test Loss: 0.013801801018416882\n",
      "Epoch: 290 | Train Loss: 0.0012645035749301314 | Test Loss: 0.013801801018416882\n",
      "Epoch: 300 | Train Loss: 0.0012645035749301314 | Test Loss: 0.013801801018416882\n",
      "Epoch: 310 | Train Loss: 0.0012645035749301314 | Test Loss: 0.013801801018416882\n",
      "Epoch: 320 | Train Loss: 0.0012645035749301314 | Test Loss: 0.013801801018416882\n",
      "Epoch: 330 | Train Loss: 0.0012645035749301314 | Test Loss: 0.013801801018416882\n",
      "Epoch: 340 | Train Loss: 0.0012645035749301314 | Test Loss: 0.013801801018416882\n",
      "Epoch: 350 | Train Loss: 0.0012645035749301314 | Test Loss: 0.013801801018416882\n",
      "Epoch: 360 | Train Loss: 0.0012645035749301314 | Test Loss: 0.013801801018416882\n",
      "Epoch: 370 | Train Loss: 0.0012645035749301314 | Test Loss: 0.013801801018416882\n",
      "Epoch: 380 | Train Loss: 0.0012645035749301314 | Test Loss: 0.013801801018416882\n",
      "Epoch: 390 | Train Loss: 0.0012645035749301314 | Test Loss: 0.013801801018416882\n",
      "Epoch: 400 | Train Loss: 0.0012645035749301314 | Test Loss: 0.013801801018416882\n",
      "Epoch: 410 | Train Loss: 0.0012645035749301314 | Test Loss: 0.013801801018416882\n",
      "Epoch: 420 | Train Loss: 0.0012645035749301314 | Test Loss: 0.013801801018416882\n",
      "Epoch: 430 | Train Loss: 0.0012645035749301314 | Test Loss: 0.013801801018416882\n",
      "Epoch: 440 | Train Loss: 0.0012645035749301314 | Test Loss: 0.013801801018416882\n",
      "Epoch: 450 | Train Loss: 0.0012645035749301314 | Test Loss: 0.013801801018416882\n",
      "Epoch: 460 | Train Loss: 0.0012645035749301314 | Test Loss: 0.013801801018416882\n",
      "Epoch: 470 | Train Loss: 0.0012645035749301314 | Test Loss: 0.013801801018416882\n",
      "Epoch: 480 | Train Loss: 0.0012645035749301314 | Test Loss: 0.013801801018416882\n",
      "Epoch: 490 | Train Loss: 0.0012645035749301314 | Test Loss: 0.013801801018416882\n",
      "Epoch: 500 | Train Loss: 0.0012645035749301314 | Test Loss: 0.013801801018416882\n",
      "Epoch: 510 | Train Loss: 0.0012645035749301314 | Test Loss: 0.013801801018416882\n",
      "Epoch: 520 | Train Loss: 0.0012645035749301314 | Test Loss: 0.013801801018416882\n",
      "Epoch: 530 | Train Loss: 0.0012645035749301314 | Test Loss: 0.013801801018416882\n",
      "Epoch: 540 | Train Loss: 0.0012645035749301314 | Test Loss: 0.013801801018416882\n",
      "Epoch: 550 | Train Loss: 0.0012645035749301314 | Test Loss: 0.013801801018416882\n",
      "Epoch: 560 | Train Loss: 0.0012645035749301314 | Test Loss: 0.013801801018416882\n",
      "Epoch: 570 | Train Loss: 0.0012645035749301314 | Test Loss: 0.013801801018416882\n",
      "Epoch: 580 | Train Loss: 0.0012645035749301314 | Test Loss: 0.013801801018416882\n",
      "Epoch: 590 | Train Loss: 0.0012645035749301314 | Test Loss: 0.013801801018416882\n",
      "Epoch: 600 | Train Loss: 0.0012645035749301314 | Test Loss: 0.013801801018416882\n",
      "Epoch: 610 | Train Loss: 0.0012645035749301314 | Test Loss: 0.013801801018416882\n",
      "Epoch: 620 | Train Loss: 0.0012645035749301314 | Test Loss: 0.013801801018416882\n",
      "Epoch: 630 | Train Loss: 0.0012645035749301314 | Test Loss: 0.013801801018416882\n",
      "Epoch: 640 | Train Loss: 0.0012645035749301314 | Test Loss: 0.013801801018416882\n",
      "Epoch: 650 | Train Loss: 0.0012645035749301314 | Test Loss: 0.013801801018416882\n",
      "Epoch: 660 | Train Loss: 0.0012645035749301314 | Test Loss: 0.013801801018416882\n",
      "Epoch: 670 | Train Loss: 0.0012645035749301314 | Test Loss: 0.013801801018416882\n",
      "Epoch: 680 | Train Loss: 0.0012645035749301314 | Test Loss: 0.013801801018416882\n",
      "Epoch: 690 | Train Loss: 0.0012645035749301314 | Test Loss: 0.013801801018416882\n",
      "Epoch: 700 | Train Loss: 0.0012645035749301314 | Test Loss: 0.013801801018416882\n",
      "Epoch: 710 | Train Loss: 0.0012645035749301314 | Test Loss: 0.013801801018416882\n",
      "Epoch: 720 | Train Loss: 0.0012645035749301314 | Test Loss: 0.013801801018416882\n",
      "Epoch: 730 | Train Loss: 0.0012645035749301314 | Test Loss: 0.013801801018416882\n",
      "Epoch: 740 | Train Loss: 0.0012645035749301314 | Test Loss: 0.013801801018416882\n",
      "Epoch: 750 | Train Loss: 0.0012645035749301314 | Test Loss: 0.013801801018416882\n",
      "Epoch: 760 | Train Loss: 0.0012645035749301314 | Test Loss: 0.013801801018416882\n",
      "Epoch: 770 | Train Loss: 0.0012645035749301314 | Test Loss: 0.013801801018416882\n",
      "Epoch: 780 | Train Loss: 0.0012645035749301314 | Test Loss: 0.013801801018416882\n",
      "Epoch: 790 | Train Loss: 0.0012645035749301314 | Test Loss: 0.013801801018416882\n",
      "Epoch: 800 | Train Loss: 0.0012645035749301314 | Test Loss: 0.013801801018416882\n",
      "Epoch: 810 | Train Loss: 0.0012645035749301314 | Test Loss: 0.013801801018416882\n",
      "Epoch: 820 | Train Loss: 0.0012645035749301314 | Test Loss: 0.013801801018416882\n",
      "Epoch: 830 | Train Loss: 0.0012645035749301314 | Test Loss: 0.013801801018416882\n",
      "Epoch: 840 | Train Loss: 0.0012645035749301314 | Test Loss: 0.013801801018416882\n",
      "Epoch: 850 | Train Loss: 0.0012645035749301314 | Test Loss: 0.013801801018416882\n",
      "Epoch: 860 | Train Loss: 0.0012645035749301314 | Test Loss: 0.013801801018416882\n",
      "Epoch: 870 | Train Loss: 0.0012645035749301314 | Test Loss: 0.013801801018416882\n",
      "Epoch: 880 | Train Loss: 0.0012645035749301314 | Test Loss: 0.013801801018416882\n",
      "Epoch: 890 | Train Loss: 0.0012645035749301314 | Test Loss: 0.013801801018416882\n",
      "Epoch: 900 | Train Loss: 0.0012645035749301314 | Test Loss: 0.013801801018416882\n",
      "Epoch: 910 | Train Loss: 0.0012645035749301314 | Test Loss: 0.013801801018416882\n",
      "Epoch: 920 | Train Loss: 0.0012645035749301314 | Test Loss: 0.013801801018416882\n",
      "Epoch: 930 | Train Loss: 0.0012645035749301314 | Test Loss: 0.013801801018416882\n",
      "Epoch: 940 | Train Loss: 0.0012645035749301314 | Test Loss: 0.013801801018416882\n",
      "Epoch: 950 | Train Loss: 0.0012645035749301314 | Test Loss: 0.013801801018416882\n",
      "Epoch: 960 | Train Loss: 0.0012645035749301314 | Test Loss: 0.013801801018416882\n",
      "Epoch: 970 | Train Loss: 0.0012645035749301314 | Test Loss: 0.013801801018416882\n",
      "Epoch: 980 | Train Loss: 0.0012645035749301314 | Test Loss: 0.013801801018416882\n",
      "Epoch: 990 | Train Loss: 0.0012645035749301314 | Test Loss: 0.013801801018416882\n"
     ]
    }
   ],
   "source": [
    "torch.manual_seed(42)\n",
    "epochs = 1000\n",
    "\n",
    "X_train = X_train.to(device)\n",
    "X_test = X_test.to(device)\n",
    "y_train = y_train.to(device)\n",
    "y_test = y_test.to(device)\n",
    "\n",
    "for epoch in range(epochs):\n",
    "    model_2.train()\n",
    "    y_pred = model_2(X_train)\n",
    "    loss = loss_fn(y_pred, y_train)\n",
    "    optimizer.zero_grad()\n",
    "    loss.backward()\n",
    "    optimizer.step()\n",
    "    model_2.eval()\n",
    "    with torch.inference_mode():\n",
    "        y_preds = model_2(X_test)\n",
    "        test_loss = loss_fn(y_preds, y_test)\n",
    "    if epoch%10 == 0:\n",
    "        print(f\"Epoch: {epoch} | Train Loss: {loss} | Test Loss: {test_loss}\")"
   ]
  },
  {
   "cell_type": "code",
   "execution_count": 77,
   "id": "6b7cede6-5f05-447b-a46a-e44ba5e9e217",
   "metadata": {},
   "outputs": [
    {
     "data": {
      "text/plain": [
       "OrderedDict([('linear_layer.weight', tensor([[0.6968]], device='cuda:0')),\n",
       "             ('linear_layer.bias', tensor([0.3025], device='cuda:0'))])"
      ]
     },
     "execution_count": 77,
     "metadata": {},
     "output_type": "execute_result"
    }
   ],
   "source": [
    "model_2.state_dict()"
   ]
  },
  {
   "cell_type": "code",
   "execution_count": 78,
   "id": "0fdc4c57-ea89-45f6-b7c7-3bc437cb155a",
   "metadata": {},
   "outputs": [
    {
     "data": {
      "text/plain": [
       "tensor([[0.8600],\n",
       "        [0.8739],\n",
       "        [0.8878],\n",
       "        [0.9018],\n",
       "        [0.9157],\n",
       "        [0.9296],\n",
       "        [0.9436],\n",
       "        [0.9575],\n",
       "        [0.9714],\n",
       "        [0.9854]], device='cuda:0')"
      ]
     },
     "execution_count": 78,
     "metadata": {},
     "output_type": "execute_result"
    }
   ],
   "source": [
    "model_2.eval()\n",
    "with torch.inference_mode():\n",
    "    y_preds = model_2(X_test)\n",
    "y_preds"
   ]
  },
  {
   "cell_type": "code",
   "execution_count": 81,
   "id": "c9c0fd4c-9b7d-4243-8319-039c97355512",
   "metadata": {},
   "outputs": [
    {
     "data": {
      "image/png": "[encoded data removed]",
      "text/plain": [
       "<Figure size 1000x700 with 1 Axes>"
      ]
     },
     "metadata": {},
     "output_type": "display_data"
    }
   ],
   "source": [
    "plot_predictions(train_data=X_train.cpu(),\n",
    "                 train_labels=y_train.cpu(),\n",
    "                 test_data = X_test.cpu(),\n",
    "                 test_labels = y_test.cpu(),\n",
    "                 predictions=y_preds.cpu())"
   ]
  },
  {
   "cell_type": "code",
   "execution_count": null,
   "id": "1dbf39ba-98f0-45cd-8e47-3cf9753682b3",
   "metadata": {},
   "outputs": [],
   "source": []
  }
 ],
 "metadata": {
  "kernelspec": {
   "display_name": "Python 3 (ipykernel)",
   "language": "python",
   "name": "python3"
  },
  "language_info": {
   "codemirror_mode": {
    "name": "ipython",
    "version": 3
   },
   "file_extension": ".py",
   "mimetype": "text/x-python",
   "name": "python",
   "nbconvert_exporter": "python",
   "pygments_lexer": "ipython3",
   "version": "3.11.5"
  }
 },
 "nbformat": 4,
 "nbformat_minor": 5
}
