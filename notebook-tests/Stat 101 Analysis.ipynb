{
 "cells": [
  {
   "cell_type": "markdown",
   "id": "96d9db01-bfae-4042-a6a3-dd29a49af24a",
   "metadata": {},
   "source": [
    "# Stat 101 - WFR 2 Group 4 Data Project 1 Analysis"
   ]
  },
  {
   "cell_type": "markdown",
   "id": "4af202f5-bd3b-4a59-8215-562285bf4987",
   "metadata": {},
   "source": [
    "This work is a quick descriptive analysis from a survey conducted by Group 4 of Stat 101 - WFR 2 class. The survey comprises of a set of questions that asks on the discrepancy between budget allocations, savings, and budgetting system between dormers and non-dormers."
   ]
  },
  {
   "cell_type": "markdown",
   "id": "965a8bf4-fae6-4bfa-809b-147ae4da9d3a",
   "metadata": {},
   "source": [
    "As this analysis is written in a Jupyter notebook, the following lines of code may look gibberish to non-coding people so I would suggest to only look on the data, graphs, and analyses provided on each step done."
   ]
  },
  {
   "cell_type": "markdown",
   "id": "ecb4e95a-5d5f-4658-b5d1-c5eab0700fba",
   "metadata": {},
   "source": [
    "# Setup"
   ]
  },
  {
   "cell_type": "markdown",
   "id": "1f99a68b-42c0-4ebc-8909-b207f2ccd247",
   "metadata": {},
   "source": [
    "In order to "
   ]
  },
  {
   "cell_type": "code",
   "execution_count": 1,
   "id": "2b416691-8f87-46cc-8f79-d697929165be",
   "metadata": {},
   "outputs": [],
   "source": [
    "import numpy as np\n",
    "from matplotlib import pyplot as plt\n",
    "import pandas as pd"
   ]
  },
  {
   "cell_type": "code",
   "execution_count": 2,
   "id": "17fa62aa-2b98-44c4-9596-d72a289033bd",
   "metadata": {},
   "outputs": [
    {
     "data": {
      "text/html": [
       "<div>\n",
       "<style scoped>\n",
       "    .dataframe tbody tr th:only-of-type {\n",
       "        vertical-align: middle;\n",
       "    }\n",
       "\n",
       "    .dataframe tbody tr th {\n",
       "        vertical-align: top;\n",
       "    }\n",
       "\n",
       "    .dataframe thead th {\n",
       "        text-align: right;\n",
       "    }\n",
       "</style>\n",
       "<table border=\"1\" class=\"dataframe\">\n",
       "  <thead>\n",
       "    <tr style=\"text-align: right;\">\n",
       "      <th></th>\n",
       "      <th>Timestamp</th>\n",
       "      <th>In accordance with RA 10173 or the Data Privacy Act of 2012, all personal information gathered from this form shall be kept confidential and will only be accessed by the organizers for registration purposes.</th>\n",
       "      <th>Please indicate your student number.</th>\n",
       "      <th>Year Level</th>\n",
       "      <th>College</th>\n",
       "      <th>Course</th>\n",
       "      <th>How much is your average weekly allowance?</th>\n",
       "      <th>Are you currently residing outside of your permanent residence? (dorm/apartment/condominium)</th>\n",
       "      <th>How would you rank where to allocate your budget among the following? (Food, Transportation, Personal Expenses, Miscellaneous) [Food]</th>\n",
       "      <th>How would you rank where to allocate your budget among the following? (Food, Transportation, Personal Expenses, Miscellaneous) [Transportation]</th>\n",
       "      <th>How would you rank where to allocate your budget among the following? (Food, Transportation, Personal Expenses, Miscellaneous) [Personal Expenses]</th>\n",
       "      <th>How would you rank where to allocate your budget among the following? (Food, Transportation, Personal Expenses, Miscellaneous) [Miscellaneous]</th>\n",
       "      <th>Do you get to save by the end of the week?</th>\n",
       "      <th>Are you satisfied with your budget system? (Achieving budget satisfaction means comfortably covering essentials, enjoying discretionary spending, and saving for future goals.)</th>\n",
       "    </tr>\n",
       "  </thead>\n",
       "  <tbody>\n",
       "    <tr>\n",
       "      <th>0</th>\n",
       "      <td>10/1/2023 9:18:56</td>\n",
       "      <td>Yes</td>\n",
       "      <td>2022-12666</td>\n",
       "      <td>2</td>\n",
       "      <td>College of Engineering</td>\n",
       "      <td>BS Mechanical Engineering</td>\n",
       "      <td>1.000000e-07</td>\n",
       "      <td>No</td>\n",
       "      <td>Very High Priority</td>\n",
       "      <td>High Priority</td>\n",
       "      <td>Very Low Priority</td>\n",
       "      <td>Low Priority</td>\n",
       "      <td>Yes</td>\n",
       "      <td>Completely Satisfied</td>\n",
       "    </tr>\n",
       "    <tr>\n",
       "      <th>1</th>\n",
       "      <td>10/1/2023 14:25:12</td>\n",
       "      <td>Yes</td>\n",
       "      <td>2022-07299</td>\n",
       "      <td>1</td>\n",
       "      <td>Virata School of Business</td>\n",
       "      <td>BA Business Administration</td>\n",
       "      <td>1.500000e+03</td>\n",
       "      <td>Yes</td>\n",
       "      <td>Very High Priority</td>\n",
       "      <td>Low Priority</td>\n",
       "      <td>High Priority</td>\n",
       "      <td>Very Low Priority</td>\n",
       "      <td>Yes</td>\n",
       "      <td>Moderately Satisfied</td>\n",
       "    </tr>\n",
       "    <tr>\n",
       "      <th>2</th>\n",
       "      <td>10/1/2023 21:49:30</td>\n",
       "      <td>Yes</td>\n",
       "      <td>2021-21191</td>\n",
       "      <td>2nd year</td>\n",
       "      <td>College of Science</td>\n",
       "      <td>BS Geology</td>\n",
       "      <td>1.000000e+03</td>\n",
       "      <td>No</td>\n",
       "      <td>High Priority</td>\n",
       "      <td>Very High Priority</td>\n",
       "      <td>Very Low Priority</td>\n",
       "      <td>Low Priority</td>\n",
       "      <td>Yes</td>\n",
       "      <td>Moderately Satisfied</td>\n",
       "    </tr>\n",
       "    <tr>\n",
       "      <th>3</th>\n",
       "      <td>10/1/2023 22:58:27</td>\n",
       "      <td>Yes</td>\n",
       "      <td>2022-06241</td>\n",
       "      <td>2nd</td>\n",
       "      <td>School of Economics</td>\n",
       "      <td>BS Economics</td>\n",
       "      <td>3.000000e+03</td>\n",
       "      <td>No</td>\n",
       "      <td>High Priority</td>\n",
       "      <td>Very Low Priority</td>\n",
       "      <td>Very High Priority</td>\n",
       "      <td>Low Priority</td>\n",
       "      <td>Yes</td>\n",
       "      <td>Completely Satisfied</td>\n",
       "    </tr>\n",
       "    <tr>\n",
       "      <th>4</th>\n",
       "      <td>10/2/2023 10:25:59</td>\n",
       "      <td>Yes</td>\n",
       "      <td>2021-05731</td>\n",
       "      <td>1at</td>\n",
       "      <td>College of Home Economics</td>\n",
       "      <td>BS Clothing Technology</td>\n",
       "      <td>1.100000e+03</td>\n",
       "      <td>No</td>\n",
       "      <td>Low Priority</td>\n",
       "      <td>Very High Priority</td>\n",
       "      <td>High Priority</td>\n",
       "      <td>Very Low Priority</td>\n",
       "      <td>No</td>\n",
       "      <td>Moderately Satisfied</td>\n",
       "    </tr>\n",
       "  </tbody>\n",
       "</table>\n",
       "</div>"
      ],
      "text/plain": [
       "            Timestamp  \\\n",
       "0   10/1/2023 9:18:56   \n",
       "1  10/1/2023 14:25:12   \n",
       "2  10/1/2023 21:49:30   \n",
       "3  10/1/2023 22:58:27   \n",
       "4  10/2/2023 10:25:59   \n",
       "\n",
       "  In accordance with RA 10173 or the Data Privacy Act of 2012, all personal information gathered from this form shall be kept confidential and will only be accessed by the organizers for registration purposes.   \\\n",
       "0                                                Yes                                                                                                                                                                 \n",
       "1                                                Yes                                                                                                                                                                 \n",
       "2                                                Yes                                                                                                                                                                 \n",
       "3                                                Yes                                                                                                                                                                 \n",
       "4                                                Yes                                                                                                                                                                 \n",
       "\n",
       "  Please indicate your student number. Year Level                    College  \\\n",
       "0                           2022-12666          2     College of Engineering   \n",
       "1                           2022-07299          1  Virata School of Business   \n",
       "2                           2021-21191   2nd year         College of Science   \n",
       "3                           2022-06241        2nd        School of Economics   \n",
       "4                           2021-05731        1at  College of Home Economics   \n",
       "\n",
       "                       Course  How much is your average weekly allowance?  \\\n",
       "0   BS Mechanical Engineering                                1.000000e-07   \n",
       "1  BA Business Administration                                1.500000e+03   \n",
       "2                  BS Geology                                1.000000e+03   \n",
       "3                BS Economics                                3.000000e+03   \n",
       "4      BS Clothing Technology                                1.100000e+03   \n",
       "\n",
       "  Are you currently residing outside of your permanent residence? (dorm/apartment/condominium)  \\\n",
       "0                                                 No                                             \n",
       "1                                                Yes                                             \n",
       "2                                                 No                                             \n",
       "3                                                 No                                             \n",
       "4                                                 No                                             \n",
       "\n",
       "  How would you rank where to allocate your budget among the following? (Food, Transportation, Personal Expenses, Miscellaneous) [Food]  \\\n",
       "0                                 Very High Priority                                                                                      \n",
       "1                                 Very High Priority                                                                                      \n",
       "2                                      High Priority                                                                                      \n",
       "3                                      High Priority                                                                                      \n",
       "4                                       Low Priority                                                                                      \n",
       "\n",
       "  How would you rank where to allocate your budget among the following? (Food, Transportation, Personal Expenses, Miscellaneous) [Transportation]  \\\n",
       "0                                      High Priority                                                                                                \n",
       "1                                       Low Priority                                                                                                \n",
       "2                                 Very High Priority                                                                                                \n",
       "3                                  Very Low Priority                                                                                                \n",
       "4                                 Very High Priority                                                                                                \n",
       "\n",
       "  How would you rank where to allocate your budget among the following? (Food, Transportation, Personal Expenses, Miscellaneous) [Personal Expenses]  \\\n",
       "0                                  Very Low Priority                                                                                                   \n",
       "1                                      High Priority                                                                                                   \n",
       "2                                  Very Low Priority                                                                                                   \n",
       "3                                 Very High Priority                                                                                                   \n",
       "4                                      High Priority                                                                                                   \n",
       "\n",
       "  How would you rank where to allocate your budget among the following? (Food, Transportation, Personal Expenses, Miscellaneous) [Miscellaneous]  \\\n",
       "0                                       Low Priority                                                                                               \n",
       "1                                  Very Low Priority                                                                                               \n",
       "2                                       Low Priority                                                                                               \n",
       "3                                       Low Priority                                                                                               \n",
       "4                                  Very Low Priority                                                                                               \n",
       "\n",
       "  Do you get to save by the end of the week?  \\\n",
       "0                                        Yes   \n",
       "1                                        Yes   \n",
       "2                                        Yes   \n",
       "3                                        Yes   \n",
       "4                                         No   \n",
       "\n",
       "  Are you satisfied with your budget system? (Achieving budget satisfaction means comfortably covering essentials, enjoying discretionary spending, and saving for future goals.)  \n",
       "0                               Completely Satisfied                                                                                                                               \n",
       "1                               Moderately Satisfied                                                                                                                               \n",
       "2                               Moderately Satisfied                                                                                                                               \n",
       "3                               Completely Satisfied                                                                                                                               \n",
       "4                               Moderately Satisfied                                                                                                                               "
      ]
     },
     "execution_count": 2,
     "metadata": {},
     "output_type": "execute_result"
    }
   ],
   "source": [
    "df = pd.read_csv('./data/Budget Survey (Responses) - Form Responses 1.csv')\n",
    "df.head()"
   ]
  },
  {
   "cell_type": "code",
   "execution_count": 25,
   "id": "28614827-d847-4ac1-a205-d1812f915710",
   "metadata": {},
   "outputs": [
    {
     "data": {
      "text/html": [
       "<div>\n",
       "<style scoped>\n",
       "    .dataframe tbody tr th:only-of-type {\n",
       "        vertical-align: middle;\n",
       "    }\n",
       "\n",
       "    .dataframe tbody tr th {\n",
       "        vertical-align: top;\n",
       "    }\n",
       "\n",
       "    .dataframe thead th {\n",
       "        text-align: right;\n",
       "    }\n",
       "</style>\n",
       "<table border=\"1\" class=\"dataframe\">\n",
       "  <thead>\n",
       "    <tr style=\"text-align: right;\">\n",
       "      <th></th>\n",
       "      <th>timestamp</th>\n",
       "      <th>data_privacy</th>\n",
       "      <th>student_number</th>\n",
       "      <th>year_level</th>\n",
       "      <th>college</th>\n",
       "      <th>course</th>\n",
       "      <th>average_weekly_allowance</th>\n",
       "      <th>dorm_residency</th>\n",
       "      <th>food_allocation_prioritization</th>\n",
       "      <th>transportation_allocation_prioritization</th>\n",
       "      <th>personal_expense_allocation_prioritization</th>\n",
       "      <th>misc_allocation_prioritization</th>\n",
       "      <th>weekly_savings</th>\n",
       "      <th>budgetting_system_satisfaction</th>\n",
       "    </tr>\n",
       "  </thead>\n",
       "  <tbody>\n",
       "    <tr>\n",
       "      <th>count</th>\n",
       "      <td>25</td>\n",
       "      <td>25</td>\n",
       "      <td>25</td>\n",
       "      <td>25.000000</td>\n",
       "      <td>25</td>\n",
       "      <td>25</td>\n",
       "      <td>2.500000e+01</td>\n",
       "      <td>25</td>\n",
       "      <td>25</td>\n",
       "      <td>25</td>\n",
       "      <td>25</td>\n",
       "      <td>25</td>\n",
       "      <td>25</td>\n",
       "      <td>25</td>\n",
       "    </tr>\n",
       "    <tr>\n",
       "      <th>unique</th>\n",
       "      <td>25</td>\n",
       "      <td>1</td>\n",
       "      <td>24</td>\n",
       "      <td>NaN</td>\n",
       "      <td>11</td>\n",
       "      <td>22</td>\n",
       "      <td>NaN</td>\n",
       "      <td>2</td>\n",
       "      <td>3</td>\n",
       "      <td>4</td>\n",
       "      <td>4</td>\n",
       "      <td>2</td>\n",
       "      <td>2</td>\n",
       "      <td>3</td>\n",
       "    </tr>\n",
       "    <tr>\n",
       "      <th>top</th>\n",
       "      <td>10/1/2023 9:18:56</td>\n",
       "      <td>Yes</td>\n",
       "      <td>2022-00288</td>\n",
       "      <td>NaN</td>\n",
       "      <td>College of Engineering</td>\n",
       "      <td>BS Economics</td>\n",
       "      <td>NaN</td>\n",
       "      <td>Yes</td>\n",
       "      <td>Very High Priority</td>\n",
       "      <td>High Priority</td>\n",
       "      <td>Low Priority</td>\n",
       "      <td>Very Low Priority</td>\n",
       "      <td>Yes</td>\n",
       "      <td>Moderately Satisfied</td>\n",
       "    </tr>\n",
       "    <tr>\n",
       "      <th>freq</th>\n",
       "      <td>1</td>\n",
       "      <td>25</td>\n",
       "      <td>2</td>\n",
       "      <td>NaN</td>\n",
       "      <td>6</td>\n",
       "      <td>2</td>\n",
       "      <td>NaN</td>\n",
       "      <td>13</td>\n",
       "      <td>14</td>\n",
       "      <td>10</td>\n",
       "      <td>12</td>\n",
       "      <td>19</td>\n",
       "      <td>20</td>\n",
       "      <td>15</td>\n",
       "    </tr>\n",
       "    <tr>\n",
       "      <th>mean</th>\n",
       "      <td>NaN</td>\n",
       "      <td>NaN</td>\n",
       "      <td>NaN</td>\n",
       "      <td>2.560000</td>\n",
       "      <td>NaN</td>\n",
       "      <td>NaN</td>\n",
       "      <td>1.646000e+03</td>\n",
       "      <td>NaN</td>\n",
       "      <td>NaN</td>\n",
       "      <td>NaN</td>\n",
       "      <td>NaN</td>\n",
       "      <td>NaN</td>\n",
       "      <td>NaN</td>\n",
       "      <td>NaN</td>\n",
       "    </tr>\n",
       "    <tr>\n",
       "      <th>std</th>\n",
       "      <td>NaN</td>\n",
       "      <td>NaN</td>\n",
       "      <td>NaN</td>\n",
       "      <td>1.083205</td>\n",
       "      <td>NaN</td>\n",
       "      <td>NaN</td>\n",
       "      <td>9.237514e+02</td>\n",
       "      <td>NaN</td>\n",
       "      <td>NaN</td>\n",
       "      <td>NaN</td>\n",
       "      <td>NaN</td>\n",
       "      <td>NaN</td>\n",
       "      <td>NaN</td>\n",
       "      <td>NaN</td>\n",
       "    </tr>\n",
       "    <tr>\n",
       "      <th>min</th>\n",
       "      <td>NaN</td>\n",
       "      <td>NaN</td>\n",
       "      <td>NaN</td>\n",
       "      <td>1.000000</td>\n",
       "      <td>NaN</td>\n",
       "      <td>NaN</td>\n",
       "      <td>1.000000e-07</td>\n",
       "      <td>NaN</td>\n",
       "      <td>NaN</td>\n",
       "      <td>NaN</td>\n",
       "      <td>NaN</td>\n",
       "      <td>NaN</td>\n",
       "      <td>NaN</td>\n",
       "      <td>NaN</td>\n",
       "    </tr>\n",
       "    <tr>\n",
       "      <th>25%</th>\n",
       "      <td>NaN</td>\n",
       "      <td>NaN</td>\n",
       "      <td>NaN</td>\n",
       "      <td>2.000000</td>\n",
       "      <td>NaN</td>\n",
       "      <td>NaN</td>\n",
       "      <td>1.000000e+03</td>\n",
       "      <td>NaN</td>\n",
       "      <td>NaN</td>\n",
       "      <td>NaN</td>\n",
       "      <td>NaN</td>\n",
       "      <td>NaN</td>\n",
       "      <td>NaN</td>\n",
       "      <td>NaN</td>\n",
       "    </tr>\n",
       "    <tr>\n",
       "      <th>50%</th>\n",
       "      <td>NaN</td>\n",
       "      <td>NaN</td>\n",
       "      <td>NaN</td>\n",
       "      <td>2.000000</td>\n",
       "      <td>NaN</td>\n",
       "      <td>NaN</td>\n",
       "      <td>1.500000e+03</td>\n",
       "      <td>NaN</td>\n",
       "      <td>NaN</td>\n",
       "      <td>NaN</td>\n",
       "      <td>NaN</td>\n",
       "      <td>NaN</td>\n",
       "      <td>NaN</td>\n",
       "      <td>NaN</td>\n",
       "    </tr>\n",
       "    <tr>\n",
       "      <th>75%</th>\n",
       "      <td>NaN</td>\n",
       "      <td>NaN</td>\n",
       "      <td>NaN</td>\n",
       "      <td>3.000000</td>\n",
       "      <td>NaN</td>\n",
       "      <td>NaN</td>\n",
       "      <td>2.000000e+03</td>\n",
       "      <td>NaN</td>\n",
       "      <td>NaN</td>\n",
       "      <td>NaN</td>\n",
       "      <td>NaN</td>\n",
       "      <td>NaN</td>\n",
       "      <td>NaN</td>\n",
       "      <td>NaN</td>\n",
       "    </tr>\n",
       "    <tr>\n",
       "      <th>max</th>\n",
       "      <td>NaN</td>\n",
       "      <td>NaN</td>\n",
       "      <td>NaN</td>\n",
       "      <td>5.000000</td>\n",
       "      <td>NaN</td>\n",
       "      <td>NaN</td>\n",
       "      <td>3.500000e+03</td>\n",
       "      <td>NaN</td>\n",
       "      <td>NaN</td>\n",
       "      <td>NaN</td>\n",
       "      <td>NaN</td>\n",
       "      <td>NaN</td>\n",
       "      <td>NaN</td>\n",
       "      <td>NaN</td>\n",
       "    </tr>\n",
       "  </tbody>\n",
       "</table>\n",
       "</div>"
      ],
      "text/plain": [
       "                timestamp data_privacy student_number  year_level  \\\n",
       "count                  25           25             25   25.000000   \n",
       "unique                 25            1             24         NaN   \n",
       "top     10/1/2023 9:18:56          Yes     2022-00288         NaN   \n",
       "freq                    1           25              2         NaN   \n",
       "mean                  NaN          NaN            NaN    2.560000   \n",
       "std                   NaN          NaN            NaN    1.083205   \n",
       "min                   NaN          NaN            NaN    1.000000   \n",
       "25%                   NaN          NaN            NaN    2.000000   \n",
       "50%                   NaN          NaN            NaN    2.000000   \n",
       "75%                   NaN          NaN            NaN    3.000000   \n",
       "max                   NaN          NaN            NaN    5.000000   \n",
       "\n",
       "                       college        course  average_weekly_allowance  \\\n",
       "count                       25            25              2.500000e+01   \n",
       "unique                      11            22                       NaN   \n",
       "top     College of Engineering  BS Economics                       NaN   \n",
       "freq                         6             2                       NaN   \n",
       "mean                       NaN           NaN              1.646000e+03   \n",
       "std                        NaN           NaN              9.237514e+02   \n",
       "min                        NaN           NaN              1.000000e-07   \n",
       "25%                        NaN           NaN              1.000000e+03   \n",
       "50%                        NaN           NaN              1.500000e+03   \n",
       "75%                        NaN           NaN              2.000000e+03   \n",
       "max                        NaN           NaN              3.500000e+03   \n",
       "\n",
       "       dorm_residency food_allocation_prioritization  \\\n",
       "count              25                             25   \n",
       "unique              2                              3   \n",
       "top               Yes             Very High Priority   \n",
       "freq               13                             14   \n",
       "mean              NaN                            NaN   \n",
       "std               NaN                            NaN   \n",
       "min               NaN                            NaN   \n",
       "25%               NaN                            NaN   \n",
       "50%               NaN                            NaN   \n",
       "75%               NaN                            NaN   \n",
       "max               NaN                            NaN   \n",
       "\n",
       "       transportation_allocation_prioritization  \\\n",
       "count                                        25   \n",
       "unique                                        4   \n",
       "top                               High Priority   \n",
       "freq                                         10   \n",
       "mean                                        NaN   \n",
       "std                                         NaN   \n",
       "min                                         NaN   \n",
       "25%                                         NaN   \n",
       "50%                                         NaN   \n",
       "75%                                         NaN   \n",
       "max                                         NaN   \n",
       "\n",
       "       personal_expense_allocation_prioritization  \\\n",
       "count                                          25   \n",
       "unique                                          4   \n",
       "top                                  Low Priority   \n",
       "freq                                           12   \n",
       "mean                                          NaN   \n",
       "std                                           NaN   \n",
       "min                                           NaN   \n",
       "25%                                           NaN   \n",
       "50%                                           NaN   \n",
       "75%                                           NaN   \n",
       "max                                           NaN   \n",
       "\n",
       "       misc_allocation_prioritization weekly_savings  \\\n",
       "count                              25             25   \n",
       "unique                              2              2   \n",
       "top                 Very Low Priority            Yes   \n",
       "freq                               19             20   \n",
       "mean                              NaN            NaN   \n",
       "std                               NaN            NaN   \n",
       "min                               NaN            NaN   \n",
       "25%                               NaN            NaN   \n",
       "50%                               NaN            NaN   \n",
       "75%                               NaN            NaN   \n",
       "max                               NaN            NaN   \n",
       "\n",
       "       budgetting_system_satisfaction  \n",
       "count                              25  \n",
       "unique                              3  \n",
       "top              Moderately Satisfied  \n",
       "freq                               15  \n",
       "mean                              NaN  \n",
       "std                               NaN  \n",
       "min                               NaN  \n",
       "25%                               NaN  \n",
       "50%                               NaN  \n",
       "75%                               NaN  \n",
       "max                               NaN  "
      ]
     },
     "execution_count": 25,
     "metadata": {},
     "output_type": "execute_result"
    }
   ],
   "source": [
    "df.describe(include='all')"
   ]
  },
  {
   "cell_type": "code",
   "execution_count": 27,
   "id": "ed314ff8-a464-4af0-8830-2d60e1e0d52b",
   "metadata": {},
   "outputs": [
    {
     "name": "stdout",
     "output_type": "stream",
     "text": [
      "<class 'pandas.core.frame.DataFrame'>\n",
      "RangeIndex: 25 entries, 0 to 24\n",
      "Data columns (total 14 columns):\n",
      " #   Column                                      Non-Null Count  Dtype  \n",
      "---  ------                                      --------------  -----  \n",
      " 0   timestamp                                   25 non-null     object \n",
      " 1   data_privacy                                25 non-null     object \n",
      " 2   student_number                              25 non-null     object \n",
      " 3   year_level                                  25 non-null     int64  \n",
      " 4   college                                     25 non-null     object \n",
      " 5   course                                      25 non-null     object \n",
      " 6   average_weekly_allowance                    25 non-null     float64\n",
      " 7   dorm_residency                              25 non-null     object \n",
      " 8   food_allocation_prioritization              25 non-null     object \n",
      " 9   transportation_allocation_prioritization    25 non-null     object \n",
      " 10  personal_expense_allocation_prioritization  25 non-null     object \n",
      " 11  misc_allocation_prioritization              25 non-null     object \n",
      " 12  weekly_savings                              25 non-null     object \n",
      " 13  budgetting_system_satisfaction              25 non-null     object \n",
      "dtypes: float64(1), int64(1), object(12)\n",
      "memory usage: 2.9+ KB\n"
     ]
    }
   ],
   "source": [
    "df.info()"
   ]
  },
  {
   "cell_type": "markdown",
   "id": "67b765d1-28c9-49f7-87b0-52d7d2943c9a",
   "metadata": {},
   "source": [
    "As we can see, all features contain the non-null values which means there is no need to impute values in our dataset."
   ]
  },
  {
   "cell_type": "markdown",
   "id": "58fc9168-ca36-4815-9433-6c0997e08ade",
   "metadata": {},
   "source": [
    "## Dataset Preprocessing"
   ]
  },
  {
   "cell_type": "code",
   "execution_count": 3,
   "id": "6396fd53-13d9-4ed6-ac31-40608f668687",
   "metadata": {},
   "outputs": [
    {
     "data": {
      "text/plain": [
       "Index(['Timestamp',\n",
       "       'In accordance with RA 10173 or the Data Privacy Act of 2012, all personal information gathered from this form shall be kept confidential and will only be accessed by the organizers for registration purposes. ',\n",
       "       'Please indicate your student number.', 'Year Level', 'College',\n",
       "       'Course', 'How much is your average weekly allowance?',\n",
       "       'Are you currently residing outside of your permanent residence? (dorm/apartment/condominium)',\n",
       "       'How would you rank where to allocate your budget among the following? (Food, Transportation, Personal Expenses, Miscellaneous) [Food]',\n",
       "       'How would you rank where to allocate your budget among the following? (Food, Transportation, Personal Expenses, Miscellaneous) [Transportation]',\n",
       "       'How would you rank where to allocate your budget among the following? (Food, Transportation, Personal Expenses, Miscellaneous) [Personal Expenses]',\n",
       "       'How would you rank where to allocate your budget among the following? (Food, Transportation, Personal Expenses, Miscellaneous) [Miscellaneous]',\n",
       "       'Do you get to save by the end of the week?',\n",
       "       'Are you satisfied with your budget system? (Achieving budget satisfaction means comfortably covering essentials, enjoying discretionary spending, and saving for future goals.)'],\n",
       "      dtype='object')"
      ]
     },
     "execution_count": 3,
     "metadata": {},
     "output_type": "execute_result"
    }
   ],
   "source": [
    "df.columns"
   ]
  },
  {
   "cell_type": "code",
   "execution_count": 4,
   "id": "b5c71f3a-9540-4e75-9690-847d9ed2ca1e",
   "metadata": {},
   "outputs": [],
   "source": [
    "df.columns = [\n",
    "    'timestamp',\n",
    "    'data_privacy',\n",
    "    'student_number',\n",
    "    'year_level',\n",
    "    'college',\n",
    "    'course',\n",
    "    'average_weekly_allowance',\n",
    "    'dorm_residency',\n",
    "    'food_allocation_prioritization',\n",
    "    'transportation_allocation_prioritization',\n",
    "    'personal_expense_allocation_prioritization',\n",
    "    'misc_allocation_prioritization',\n",
    "    'weekly_savings',\n",
    "    'budgetting_system_satisfaction',\n",
    "]"
   ]
  },
  {
   "cell_type": "code",
   "execution_count": 5,
   "id": "a3e1d182-3eec-4d52-9c90-1ae0beddd48a",
   "metadata": {},
   "outputs": [
    {
     "data": {
      "text/html": [
       "<div>\n",
       "<style scoped>\n",
       "    .dataframe tbody tr th:only-of-type {\n",
       "        vertical-align: middle;\n",
       "    }\n",
       "\n",
       "    .dataframe tbody tr th {\n",
       "        vertical-align: top;\n",
       "    }\n",
       "\n",
       "    .dataframe thead th {\n",
       "        text-align: right;\n",
       "    }\n",
       "</style>\n",
       "<table border=\"1\" class=\"dataframe\">\n",
       "  <thead>\n",
       "    <tr style=\"text-align: right;\">\n",
       "      <th></th>\n",
       "      <th>timestamp</th>\n",
       "      <th>data_privacy</th>\n",
       "      <th>student_number</th>\n",
       "      <th>year_level</th>\n",
       "      <th>college</th>\n",
       "      <th>course</th>\n",
       "      <th>average_weekly_allowance</th>\n",
       "      <th>dorm_residency</th>\n",
       "      <th>food_allocation_prioritization</th>\n",
       "      <th>transportation_allocation_prioritization</th>\n",
       "      <th>personal_expense_allocation_prioritization</th>\n",
       "      <th>misc_allocation_prioritization</th>\n",
       "      <th>weekly_savings</th>\n",
       "      <th>budgetting_system_satisfaction</th>\n",
       "    </tr>\n",
       "  </thead>\n",
       "  <tbody>\n",
       "    <tr>\n",
       "      <th>0</th>\n",
       "      <td>10/1/2023 9:18:56</td>\n",
       "      <td>Yes</td>\n",
       "      <td>2022-12666</td>\n",
       "      <td>2</td>\n",
       "      <td>College of Engineering</td>\n",
       "      <td>BS Mechanical Engineering</td>\n",
       "      <td>1.000000e-07</td>\n",
       "      <td>No</td>\n",
       "      <td>Very High Priority</td>\n",
       "      <td>High Priority</td>\n",
       "      <td>Very Low Priority</td>\n",
       "      <td>Low Priority</td>\n",
       "      <td>Yes</td>\n",
       "      <td>Completely Satisfied</td>\n",
       "    </tr>\n",
       "    <tr>\n",
       "      <th>1</th>\n",
       "      <td>10/1/2023 14:25:12</td>\n",
       "      <td>Yes</td>\n",
       "      <td>2022-07299</td>\n",
       "      <td>1</td>\n",
       "      <td>Virata School of Business</td>\n",
       "      <td>BA Business Administration</td>\n",
       "      <td>1.500000e+03</td>\n",
       "      <td>Yes</td>\n",
       "      <td>Very High Priority</td>\n",
       "      <td>Low Priority</td>\n",
       "      <td>High Priority</td>\n",
       "      <td>Very Low Priority</td>\n",
       "      <td>Yes</td>\n",
       "      <td>Moderately Satisfied</td>\n",
       "    </tr>\n",
       "    <tr>\n",
       "      <th>2</th>\n",
       "      <td>10/1/2023 21:49:30</td>\n",
       "      <td>Yes</td>\n",
       "      <td>2021-21191</td>\n",
       "      <td>2nd year</td>\n",
       "      <td>College of Science</td>\n",
       "      <td>BS Geology</td>\n",
       "      <td>1.000000e+03</td>\n",
       "      <td>No</td>\n",
       "      <td>High Priority</td>\n",
       "      <td>Very High Priority</td>\n",
       "      <td>Very Low Priority</td>\n",
       "      <td>Low Priority</td>\n",
       "      <td>Yes</td>\n",
       "      <td>Moderately Satisfied</td>\n",
       "    </tr>\n",
       "    <tr>\n",
       "      <th>3</th>\n",
       "      <td>10/1/2023 22:58:27</td>\n",
       "      <td>Yes</td>\n",
       "      <td>2022-06241</td>\n",
       "      <td>2nd</td>\n",
       "      <td>School of Economics</td>\n",
       "      <td>BS Economics</td>\n",
       "      <td>3.000000e+03</td>\n",
       "      <td>No</td>\n",
       "      <td>High Priority</td>\n",
       "      <td>Very Low Priority</td>\n",
       "      <td>Very High Priority</td>\n",
       "      <td>Low Priority</td>\n",
       "      <td>Yes</td>\n",
       "      <td>Completely Satisfied</td>\n",
       "    </tr>\n",
       "    <tr>\n",
       "      <th>4</th>\n",
       "      <td>10/2/2023 10:25:59</td>\n",
       "      <td>Yes</td>\n",
       "      <td>2021-05731</td>\n",
       "      <td>1at</td>\n",
       "      <td>College of Home Economics</td>\n",
       "      <td>BS Clothing Technology</td>\n",
       "      <td>1.100000e+03</td>\n",
       "      <td>No</td>\n",
       "      <td>Low Priority</td>\n",
       "      <td>Very High Priority</td>\n",
       "      <td>High Priority</td>\n",
       "      <td>Very Low Priority</td>\n",
       "      <td>No</td>\n",
       "      <td>Moderately Satisfied</td>\n",
       "    </tr>\n",
       "  </tbody>\n",
       "</table>\n",
       "</div>"
      ],
      "text/plain": [
       "            timestamp data_privacy student_number year_level  \\\n",
       "0   10/1/2023 9:18:56          Yes     2022-12666          2   \n",
       "1  10/1/2023 14:25:12          Yes     2022-07299          1   \n",
       "2  10/1/2023 21:49:30          Yes     2021-21191   2nd year   \n",
       "3  10/1/2023 22:58:27          Yes     2022-06241        2nd   \n",
       "4  10/2/2023 10:25:59          Yes     2021-05731        1at   \n",
       "\n",
       "                     college                      course  \\\n",
       "0     College of Engineering   BS Mechanical Engineering   \n",
       "1  Virata School of Business  BA Business Administration   \n",
       "2         College of Science                  BS Geology   \n",
       "3        School of Economics                BS Economics   \n",
       "4  College of Home Economics      BS Clothing Technology   \n",
       "\n",
       "   average_weekly_allowance dorm_residency food_allocation_prioritization  \\\n",
       "0              1.000000e-07             No             Very High Priority   \n",
       "1              1.500000e+03            Yes             Very High Priority   \n",
       "2              1.000000e+03             No                  High Priority   \n",
       "3              3.000000e+03             No                  High Priority   \n",
       "4              1.100000e+03             No                   Low Priority   \n",
       "\n",
       "  transportation_allocation_prioritization  \\\n",
       "0                            High Priority   \n",
       "1                             Low Priority   \n",
       "2                       Very High Priority   \n",
       "3                        Very Low Priority   \n",
       "4                       Very High Priority   \n",
       "\n",
       "  personal_expense_allocation_prioritization misc_allocation_prioritization  \\\n",
       "0                          Very Low Priority                   Low Priority   \n",
       "1                              High Priority              Very Low Priority   \n",
       "2                          Very Low Priority                   Low Priority   \n",
       "3                         Very High Priority                   Low Priority   \n",
       "4                              High Priority              Very Low Priority   \n",
       "\n",
       "  weekly_savings budgetting_system_satisfaction  \n",
       "0            Yes           Completely Satisfied  \n",
       "1            Yes           Moderately Satisfied  \n",
       "2            Yes           Moderately Satisfied  \n",
       "3            Yes           Completely Satisfied  \n",
       "4             No           Moderately Satisfied  "
      ]
     },
     "execution_count": 5,
     "metadata": {},
     "output_type": "execute_result"
    }
   ],
   "source": [
    "df.head()"
   ]
  },
  {
   "cell_type": "code",
   "execution_count": 6,
   "id": "a286837d-640a-4a53-a910-8aac766f7d5c",
   "metadata": {},
   "outputs": [
    {
     "data": {
      "text/plain": [
       "array(['2', '1', '2nd year', '2nd', '1at', '3rd year', 'IV', '2nd Year',\n",
       "       '5th', 'Third', 'Sophomore ', '4th', '5th Year', '3rd', '3rd Year',\n",
       "       '2ND YEAR'], dtype=object)"
      ]
     },
     "execution_count": 6,
     "metadata": {},
     "output_type": "execute_result"
    }
   ],
   "source": [
    "df['year_level'].unique()"
   ]
  },
  {
   "cell_type": "code",
   "execution_count": 7,
   "id": "416c4659-dc84-48c8-8cb9-a0fb488b68a6",
   "metadata": {},
   "outputs": [],
   "source": [
    "year_level_mapper = {\n",
    "    '1': 1,\n",
    "    '1at': 1,\n",
    "    '2': 2,\n",
    "    '2nd': 2,\n",
    "    '2ND YEAR': 2,\n",
    "    '2nd year': 2,\n",
    "    '2nd Year': 2,\n",
    "    'Sophomore ': 2,\n",
    "    '3rd': 3,\n",
    "    '3rd year': 3,\n",
    "    '3rd Year': 3,\n",
    "    'Third': 3,\n",
    "    'IV': 4,\n",
    "    '4th': 4,\n",
    "    '5th Year': 5,\n",
    "    '5th': 5,\n",
    "}"
   ]
  },
  {
   "cell_type": "code",
   "execution_count": 8,
   "id": "796afbc6-3626-4672-a945-eaab64668452",
   "metadata": {},
   "outputs": [],
   "source": [
    "df['year_level'] = df['year_level'].map(year_level_mapper)"
   ]
  },
  {
   "cell_type": "code",
   "execution_count": 9,
   "id": "942bdbfa-40c9-4ece-96c3-f4334244f0e7",
   "metadata": {},
   "outputs": [
    {
     "data": {
      "text/plain": [
       "array([2, 1, 3, 4, 5], dtype=int64)"
      ]
     },
     "execution_count": 9,
     "metadata": {},
     "output_type": "execute_result"
    }
   ],
   "source": [
    "df['year_level'].unique()"
   ]
  },
  {
   "cell_type": "markdown",
   "id": "db6560d7-5849-421a-9da2-a0060b41398f",
   "metadata": {},
   "source": [
    "## Data Analysis"
   ]
  },
  {
   "cell_type": "markdown",
   "id": "c978d5d5-c638-456e-946a-e4034b191006",
   "metadata": {},
   "source": [
    "## Demographic Analysis"
   ]
  },
  {
   "cell_type": "markdown",
   "id": "736e0ee8-ff72-415d-8b21-d6563471e805",
   "metadata": {},
   "source": [
    "Before we start things off, we can do a quick demographic analysis on Stat 101 - WFR 2 students."
   ]
  },
  {
   "cell_type": "code",
   "execution_count": null,
   "id": "db53db64-66f7-4aa0-9340-83aa055e8b66",
   "metadata": {},
   "outputs": [],
   "source": [
    "df.groupby(['']).count()"
   ]
  },
  {
   "cell_type": "markdown",
   "id": "a7feb305-ebbd-4903-8bf3-4634b583ec80",
   "metadata": {},
   "source": [
    "### Average Weekly Allowance"
   ]
  },
  {
   "cell_type": "code",
   "execution_count": 10,
   "id": "53777d58-674f-4960-871f-61544c6ef27d",
   "metadata": {},
   "outputs": [
    {
     "data": {
      "image/png": "[encoded data removed]",
      "text/plain": [
       "<Figure size 640x480 with 1 Axes>"
      ]
     },
     "metadata": {},
     "output_type": "display_data"
    }
   ],
   "source": [
    "df.groupby(['average_weekly_allowance']).size().plot(kind='bar')\n",
    "plt.show()"
   ]
  },
  {
   "cell_type": "code",
   "execution_count": 16,
   "id": "a5833f94-dffc-4603-b642-5931907af9b6",
   "metadata": {},
   "outputs": [
    {
     "data": {
      "text/html": [
       "<div>\n",
       "<style scoped>\n",
       "    .dataframe tbody tr th:only-of-type {\n",
       "        vertical-align: middle;\n",
       "    }\n",
       "\n",
       "    .dataframe tbody tr th {\n",
       "        vertical-align: top;\n",
       "    }\n",
       "\n",
       "    .dataframe thead th {\n",
       "        text-align: right;\n",
       "    }\n",
       "</style>\n",
       "<table border=\"1\" class=\"dataframe\">\n",
       "  <thead>\n",
       "    <tr style=\"text-align: right;\">\n",
       "      <th></th>\n",
       "      <th>average_weekly_allowance</th>\n",
       "      <th>0</th>\n",
       "    </tr>\n",
       "  </thead>\n",
       "  <tbody>\n",
       "    <tr>\n",
       "      <th>0</th>\n",
       "      <td>1.000000e-07</td>\n",
       "      <td>1</td>\n",
       "    </tr>\n",
       "    <tr>\n",
       "      <th>1</th>\n",
       "      <td>5.000000e+02</td>\n",
       "      <td>1</td>\n",
       "    </tr>\n",
       "    <tr>\n",
       "      <th>2</th>\n",
       "      <td>1.000000e+03</td>\n",
       "      <td>6</td>\n",
       "    </tr>\n",
       "    <tr>\n",
       "      <th>3</th>\n",
       "      <td>1.100000e+03</td>\n",
       "      <td>1</td>\n",
       "    </tr>\n",
       "    <tr>\n",
       "      <th>4</th>\n",
       "      <td>1.250000e+03</td>\n",
       "      <td>1</td>\n",
       "    </tr>\n",
       "    <tr>\n",
       "      <th>5</th>\n",
       "      <td>1.300000e+03</td>\n",
       "      <td>1</td>\n",
       "    </tr>\n",
       "    <tr>\n",
       "      <th>6</th>\n",
       "      <td>1.500000e+03</td>\n",
       "      <td>7</td>\n",
       "    </tr>\n",
       "    <tr>\n",
       "      <th>7</th>\n",
       "      <td>2.000000e+03</td>\n",
       "      <td>1</td>\n",
       "    </tr>\n",
       "    <tr>\n",
       "      <th>8</th>\n",
       "      <td>2.500000e+03</td>\n",
       "      <td>1</td>\n",
       "    </tr>\n",
       "    <tr>\n",
       "      <th>9</th>\n",
       "      <td>3.000000e+03</td>\n",
       "      <td>3</td>\n",
       "    </tr>\n",
       "    <tr>\n",
       "      <th>10</th>\n",
       "      <td>3.500000e+03</td>\n",
       "      <td>2</td>\n",
       "    </tr>\n",
       "  </tbody>\n",
       "</table>\n",
       "</div>"
      ],
      "text/plain": [
       "    average_weekly_allowance  0\n",
       "0               1.000000e-07  1\n",
       "1               5.000000e+02  1\n",
       "2               1.000000e+03  6\n",
       "3               1.100000e+03  1\n",
       "4               1.250000e+03  1\n",
       "5               1.300000e+03  1\n",
       "6               1.500000e+03  7\n",
       "7               2.000000e+03  1\n",
       "8               2.500000e+03  1\n",
       "9               3.000000e+03  3\n",
       "10              3.500000e+03  2"
      ]
     },
     "execution_count": 16,
     "metadata": {},
     "output_type": "execute_result"
    }
   ],
   "source": [
    "df.groupby(['average_weekly_allowance']).size().reset_index()"
   ]
  },
  {
   "cell_type": "code",
   "execution_count": 18,
   "id": "bfccb2b4-b2e9-4d5f-a068-ea1fe61704fc",
   "metadata": {},
   "outputs": [
    {
     "data": {
      "text/html": [
       "<div>\n",
       "<style scoped>\n",
       "    .dataframe tbody tr th:only-of-type {\n",
       "        vertical-align: middle;\n",
       "    }\n",
       "\n",
       "    .dataframe tbody tr th {\n",
       "        vertical-align: top;\n",
       "    }\n",
       "\n",
       "    .dataframe thead th {\n",
       "        text-align: right;\n",
       "    }\n",
       "</style>\n",
       "<table border=\"1\" class=\"dataframe\">\n",
       "  <thead>\n",
       "    <tr style=\"text-align: right;\">\n",
       "      <th></th>\n",
       "      <th>0</th>\n",
       "    </tr>\n",
       "    <tr>\n",
       "      <th>average_weekly_allowance</th>\n",
       "      <th></th>\n",
       "    </tr>\n",
       "  </thead>\n",
       "  <tbody>\n",
       "    <tr>\n",
       "      <th>1.000000e-07</th>\n",
       "      <td>1</td>\n",
       "    </tr>\n",
       "    <tr>\n",
       "      <th>5.000000e+02</th>\n",
       "      <td>1</td>\n",
       "    </tr>\n",
       "    <tr>\n",
       "      <th>1.000000e+03</th>\n",
       "      <td>6</td>\n",
       "    </tr>\n",
       "    <tr>\n",
       "      <th>1.100000e+03</th>\n",
       "      <td>1</td>\n",
       "    </tr>\n",
       "    <tr>\n",
       "      <th>1.250000e+03</th>\n",
       "      <td>1</td>\n",
       "    </tr>\n",
       "    <tr>\n",
       "      <th>1.300000e+03</th>\n",
       "      <td>1</td>\n",
       "    </tr>\n",
       "    <tr>\n",
       "      <th>1.500000e+03</th>\n",
       "      <td>7</td>\n",
       "    </tr>\n",
       "    <tr>\n",
       "      <th>2.000000e+03</th>\n",
       "      <td>1</td>\n",
       "    </tr>\n",
       "    <tr>\n",
       "      <th>2.500000e+03</th>\n",
       "      <td>1</td>\n",
       "    </tr>\n",
       "    <tr>\n",
       "      <th>3.000000e+03</th>\n",
       "      <td>3</td>\n",
       "    </tr>\n",
       "    <tr>\n",
       "      <th>3.500000e+03</th>\n",
       "      <td>2</td>\n",
       "    </tr>\n",
       "  </tbody>\n",
       "</table>\n",
       "</div>"
      ],
      "text/plain": [
       "                          0\n",
       "average_weekly_allowance   \n",
       "1.000000e-07              1\n",
       "5.000000e+02              1\n",
       "1.000000e+03              6\n",
       "1.100000e+03              1\n",
       "1.250000e+03              1\n",
       "1.300000e+03              1\n",
       "1.500000e+03              7\n",
       "2.000000e+03              1\n",
       "2.500000e+03              1\n",
       "3.000000e+03              3\n",
       "3.500000e+03              2"
      ]
     },
     "execution_count": 18,
     "metadata": {},
     "output_type": "execute_result"
    }
   ],
   "source": [
    "average_weekly_allowance = df.groupby(['average_weekly_allowance']).size().reset_index()\n",
    "average_weekly_allowance.set_index('average_weekly_allowance')"
   ]
  },
  {
   "cell_type": "code",
   "execution_count": 23,
   "id": "c41bfc9b-c92c-42a5-bc0e-c51a0d09109d",
   "metadata": {},
   "outputs": [
    {
     "data": {
      "image/png": "[encoded data removed]",
      "text/plain": [
       "<Figure size 640x480 with 1 Axes>"
      ]
     },
     "metadata": {},
     "output_type": "display_data"
    }
   ],
   "source": [
    "df.boxplot(column=['average_weekly_allowance'])\n",
    "plt.grid(False)\n",
    "plt.show()"
   ]
  },
  {
   "cell_type": "markdown",
   "id": "1f2dbe42-1a1d-40a2-a7a6-8c7fd49c258c",
   "metadata": {},
   "source": [
    "The boxplot above shows that there are no outliers in average weekly allowance feature because all of the values in the dataset are within 3 standard deviations from the median but note that it is quite interesting that the minimum value for the average weekly allowance is 0 for someone who is not residing on any dormitory near UP Diliman."
   ]
  },
  {
   "cell_type": "markdown",
   "id": "11055a23-de67-4569-956d-14cc7f364dad",
   "metadata": {},
   "source": [
    "The boxplot above also shows that the median value is at Php1500 and most of the input values are within the range Php1000 and Php2000."
   ]
  },
  {
   "cell_type": "markdown",
   "id": "f21cddb8-24f8-463c-b8da-e5a334599f79",
   "metadata": {},
   "source": [
    "### Dorm residency"
   ]
  },
  {
   "cell_type": "code",
   "execution_count": 11,
   "id": "1bbbec60-7ecf-4b73-bf86-7a3bf6861179",
   "metadata": {},
   "outputs": [
    {
     "data": {
      "image/png": "[encoded data removed]",
      "text/plain": [
       "<Figure size 640x480 with 1 Axes>"
      ]
     },
     "metadata": {},
     "output_type": "display_data"
    }
   ],
   "source": [
    "df.groupby(['dorm_residency']).size().plot(kind='bar')\n",
    "plt.show()"
   ]
  },
  {
   "cell_type": "markdown",
   "id": "d90a4914-b8ef-47e1-8228-8e2cbe339585",
   "metadata": {},
   "source": [
    "As we can see, there is a pretty good discrepancy between the individuals who reside in the dorm and those who reside in their own houses."
   ]
  },
  {
   "cell_type": "markdown",
   "id": "e18f729e-82c9-4899-8c7d-2a8939fda080",
   "metadata": {},
   "source": [
    "## Expenditure Allocation"
   ]
  },
  {
   "cell_type": "markdown",
   "id": "a3ef8ecb-f6cf-4382-a8ac-f5f4f418ab0c",
   "metadata": {},
   "source": [
    "Note that the labels for the `*_allocation_prioritization` features utilizes categorical values."
   ]
  },
  {
   "cell_type": "markdown",
   "id": "ff38860f-fb95-4823-bf93-0091b17a08e5",
   "metadata": {},
   "source": [
    "### Food Allocation Prioritization"
   ]
  },
  {
   "cell_type": "code",
   "execution_count": 29,
   "id": "274b5b12-f7d4-4621-9bb9-3cbc8a0c3462",
   "metadata": {},
   "outputs": [
    {
     "data": {
      "image/png": "[encoded data removed]",
      "text/plain": [
       "<Figure size 640x480 with 1 Axes>"
      ]
     },
     "metadata": {},
     "output_type": "display_data"
    }
   ],
   "source": [
    "df.groupby(['food_allocation_prioritization']).size().plot(kind='bar')\n",
    "plt.show()"
   ]
  },
  {
   "cell_type": "markdown",
   "id": "7ad409ad-225f-4bf7-844e-2d6d95541bbd",
   "metadata": {},
   "source": [
    "### Transportation Allocation Prioritization"
   ]
  },
  {
   "cell_type": "code",
   "execution_count": 30,
   "id": "5e232f7b-595b-4c18-b139-852343157ee9",
   "metadata": {},
   "outputs": [
    {
     "data": {
      "image/png": "[encoded data removed]",
      "text/plain": [
       "<Figure size 640x480 with 1 Axes>"
      ]
     },
     "metadata": {},
     "output_type": "display_data"
    }
   ],
   "source": [
    "df.groupby(['transportation_allocation_prioritization']).size().plot(kind='bar')\n",
    "plt.show()"
   ]
  },
  {
   "cell_type": "markdown",
   "id": "5989fb2c-6947-4c7e-8398-5c41d7245094",
   "metadata": {},
   "source": [
    "### Personal Expenses Allocation Prioritization"
   ]
  },
  {
   "cell_type": "code",
   "execution_count": 32,
   "id": "be2cb062-8a9a-4e6c-bf40-dfd9d123cd2c",
   "metadata": {},
   "outputs": [
    {
     "data": {
      "image/png": "[encoded data removed]",
      "text/plain": [
       "<Figure size 640x480 with 1 Axes>"
      ]
     },
     "metadata": {},
     "output_type": "display_data"
    }
   ],
   "source": [
    "df.groupby(['personal_expense_allocation_prioritization']).size().plot(kind='bar')\n",
    "plt.show()"
   ]
  },
  {
   "cell_type": "markdown",
   "id": "c717a20b-a3e0-47bd-a64d-de552316bd50",
   "metadata": {},
   "source": [
    "### Miscellaneous Allocation Prioritization"
   ]
  },
  {
   "cell_type": "code",
   "execution_count": 33,
   "id": "9347c38d-681e-45cd-a3dc-eff3f90e459f",
   "metadata": {},
   "outputs": [
    {
     "data": {
      "image/png": "[encoded data removed]",
      "text/plain": [
       "<Figure size 640x480 with 1 Axes>"
      ]
     },
     "metadata": {},
     "output_type": "display_data"
    }
   ],
   "source": [
    "df.groupby(['misc_allocation_prioritization']).size().plot(kind='bar')\n",
    "plt.show()"
   ]
  },
  {
   "cell_type": "markdown",
   "id": "eef2e3c3-5484-4bdc-9bb1-e5eb1448fbe8",
   "metadata": {},
   "source": [
    "From the bar graphs shown above, we can see a very big discrepancy on how students of Stat 101 WFR - 2 allocate their budget. There are no ties between labels that could produce conflicts on which expenditure type has higher allocation."
   ]
  },
  {
   "cell_type": "markdown",
   "id": "8ec1d316-a702-4b32-bb45-51a6d1dcc6fb",
   "metadata": {},
   "source": [
    "### Weekly Savings Grouped by Dormers vs Non-dormers"
   ]
  },
  {
   "cell_type": "code",
   "execution_count": 13,
   "id": "60cc4b7e-1702-4652-aba0-2701df2cc98c",
   "metadata": {},
   "outputs": [],
   "source": [
    "cross_tab_weekly_savings_vs_residency = df.groupby([\n",
    "    'dorm_residency',\n",
    "    'weekly_savings',\n",
    "]).size().reset_index()\n",
    "cross_tab_weekly_savings_vs_residency.columns = ['dorm_residency', 'weekly_savings', 'count']"
   ]
  },
  {
   "cell_type": "code",
   "execution_count": 14,
   "id": "9319e454-1bca-4585-802d-0a172faafb73",
   "metadata": {},
   "outputs": [
    {
     "data": {
      "text/html": [
       "<div>\n",
       "<style scoped>\n",
       "    .dataframe tbody tr th:only-of-type {\n",
       "        vertical-align: middle;\n",
       "    }\n",
       "\n",
       "    .dataframe tbody tr th {\n",
       "        vertical-align: top;\n",
       "    }\n",
       "\n",
       "    .dataframe thead th {\n",
       "        text-align: right;\n",
       "    }\n",
       "</style>\n",
       "<table border=\"1\" class=\"dataframe\">\n",
       "  <thead>\n",
       "    <tr style=\"text-align: right;\">\n",
       "      <th></th>\n",
       "      <th>dorm_residency</th>\n",
       "      <th>weekly_savings</th>\n",
       "      <th>count</th>\n",
       "    </tr>\n",
       "  </thead>\n",
       "  <tbody>\n",
       "    <tr>\n",
       "      <th>0</th>\n",
       "      <td>No</td>\n",
       "      <td>No</td>\n",
       "      <td>2</td>\n",
       "    </tr>\n",
       "    <tr>\n",
       "      <th>1</th>\n",
       "      <td>No</td>\n",
       "      <td>Yes</td>\n",
       "      <td>10</td>\n",
       "    </tr>\n",
       "    <tr>\n",
       "      <th>2</th>\n",
       "      <td>Yes</td>\n",
       "      <td>No</td>\n",
       "      <td>3</td>\n",
       "    </tr>\n",
       "    <tr>\n",
       "      <th>3</th>\n",
       "      <td>Yes</td>\n",
       "      <td>Yes</td>\n",
       "      <td>10</td>\n",
       "    </tr>\n",
       "  </tbody>\n",
       "</table>\n",
       "</div>"
      ],
      "text/plain": [
       "  dorm_residency weekly_savings  count\n",
       "0             No             No      2\n",
       "1             No            Yes     10\n",
       "2            Yes             No      3\n",
       "3            Yes            Yes     10"
      ]
     },
     "execution_count": 14,
     "metadata": {},
     "output_type": "execute_result"
    }
   ],
   "source": [
    "cross_tab_weekly_savings_vs_residency"
   ]
  },
  {
   "cell_type": "markdown",
   "id": "d42ff268-38f9-4d48-be68-c5bcb420c7ee",
   "metadata": {},
   "source": [
    "## Budgetting System Satisfaction"
   ]
  },
  {
   "cell_type": "code",
   "execution_count": 65,
   "id": "9711bcb6-9673-4ac9-b7dc-9febc0e341be",
   "metadata": {},
   "outputs": [],
   "source": [
    "cross_tab_weekly_budgetting_system_vs_residency = df.groupby([\n",
    "    'dorm_residency',\n",
    "    'budgetting_system_satisfaction',\n",
    "]).size().reset_index()\n",
    "cross_tab_weekly_budgetting_system_vs_residency.columns = ['dorm_residency', 'budgetting_system_satisfaction', 'count']"
   ]
  },
  {
   "cell_type": "code",
   "execution_count": 66,
   "id": "ef8f733e-fd47-447a-914b-0a948ecd8bcc",
   "metadata": {},
   "outputs": [
    {
     "data": {
      "text/html": [
       "<div>\n",
       "<style scoped>\n",
       "    .dataframe tbody tr th:only-of-type {\n",
       "        vertical-align: middle;\n",
       "    }\n",
       "\n",
       "    .dataframe tbody tr th {\n",
       "        vertical-align: top;\n",
       "    }\n",
       "\n",
       "    .dataframe thead th {\n",
       "        text-align: right;\n",
       "    }\n",
       "</style>\n",
       "<table border=\"1\" class=\"dataframe\">\n",
       "  <thead>\n",
       "    <tr style=\"text-align: right;\">\n",
       "      <th></th>\n",
       "      <th>dorm_residency</th>\n",
       "      <th>budgetting_system_satisfaction</th>\n",
       "      <th>count</th>\n",
       "    </tr>\n",
       "  </thead>\n",
       "  <tbody>\n",
       "    <tr>\n",
       "      <th>0</th>\n",
       "      <td>No</td>\n",
       "      <td>Completely Satisfied</td>\n",
       "      <td>4</td>\n",
       "    </tr>\n",
       "    <tr>\n",
       "      <th>1</th>\n",
       "      <td>No</td>\n",
       "      <td>Moderately Satisfied</td>\n",
       "      <td>7</td>\n",
       "    </tr>\n",
       "    <tr>\n",
       "      <th>2</th>\n",
       "      <td>No</td>\n",
       "      <td>Not Satisfied</td>\n",
       "      <td>1</td>\n",
       "    </tr>\n",
       "    <tr>\n",
       "      <th>3</th>\n",
       "      <td>Yes</td>\n",
       "      <td>Completely Satisfied</td>\n",
       "      <td>3</td>\n",
       "    </tr>\n",
       "    <tr>\n",
       "      <th>4</th>\n",
       "      <td>Yes</td>\n",
       "      <td>Moderately Satisfied</td>\n",
       "      <td>8</td>\n",
       "    </tr>\n",
       "    <tr>\n",
       "      <th>5</th>\n",
       "      <td>Yes</td>\n",
       "      <td>Not Satisfied</td>\n",
       "      <td>2</td>\n",
       "    </tr>\n",
       "  </tbody>\n",
       "</table>\n",
       "</div>"
      ],
      "text/plain": [
       "  dorm_residency budgetting_system_satisfaction  count\n",
       "0             No           Completely Satisfied      4\n",
       "1             No           Moderately Satisfied      7\n",
       "2             No                  Not Satisfied      1\n",
       "3            Yes           Completely Satisfied      3\n",
       "4            Yes           Moderately Satisfied      8\n",
       "5            Yes                  Not Satisfied      2"
      ]
     },
     "execution_count": 66,
     "metadata": {},
     "output_type": "execute_result"
    }
   ],
   "source": [
    "cross_tab_weekly_budgetting_system_vs_residency"
   ]
  },
  {
   "cell_type": "code",
   "execution_count": 67,
   "id": "a66f1131-0817-4a46-9241-b0024ae4066d",
   "metadata": {},
   "outputs": [],
   "source": [
    "ctab_bss_vs_c_yes = cross_tab_weekly_budgetting_system_vs_residency[cross_tab_weekly_budgetting_system_vs_residency['dorm_residency'] == 'Yes'][['budgetting_system_satisfaction','count']]"
   ]
  },
  {
   "cell_type": "code",
   "execution_count": 68,
   "id": "a00f8d31-e8cc-4544-bf24-0c6ec167a876",
   "metadata": {},
   "outputs": [],
   "source": [
    "ctab_bss_vs_c_yes.set_index('budgetting_system_satisfaction', inplace=True)"
   ]
  },
  {
   "cell_type": "code",
   "execution_count": 72,
   "id": "39dcf607-2f09-41af-b7d7-4b4ba7bd8c60",
   "metadata": {},
   "outputs": [
    {
     "data": {
      "image/png": "[encoded data removed]",
      "text/plain": [
       "<Figure size 640x480 with 1 Axes>"
      ]
     },
     "metadata": {},
     "output_type": "display_data"
    }
   ],
   "source": [
    "ctab_bss_vs_c.plot(kind='bar', xlabel=ctab_bss_vs_c_yes.columns)\n",
    "plt.show()"
   ]
  },
  {
   "cell_type": "code",
   "execution_count": 70,
   "id": "78f48ff8-1c35-4c8f-a25a-0928ace7d17b",
   "metadata": {},
   "outputs": [],
   "source": [
    "ctab_bss_vs_c_no = cross_tab_weekly_budgetting_system_vs_residency[cross_tab_weekly_budgetting_system_vs_residency['dorm_residency'] == 'No'][['budgetting_system_satisfaction','count']]"
   ]
  },
  {
   "cell_type": "code",
   "execution_count": 71,
   "id": "9dd4ee77-a279-4d7d-a351-c10fb14c086d",
   "metadata": {},
   "outputs": [],
   "source": [
    "ctab_bss_vs_c_no.set_index('budgetting_system_satisfaction', inplace=True)"
   ]
  },
  {
   "cell_type": "code",
   "execution_count": 73,
   "id": "7199edfb-a2f7-44f5-b36a-76ead7376772",
   "metadata": {},
   "outputs": [
    {
     "data": {
      "image/png": "[encoded data removed]",
      "text/plain": [
       "<Figure size 640x480 with 1 Axes>"
      ]
     },
     "metadata": {},
     "output_type": "display_data"
    }
   ],
   "source": [
    "ctab_bss_vs_c_no.plot(kind='bar', xlabel=ctab_bss_vs_c_no.columns)\n",
    "plt.show()"
   ]
  },
  {
   "cell_type": "markdown",
   "id": "155ff0bb-e9b2-49a4-b97a-c83aa7486961",
   "metadata": {},
   "source": [
    "> Fix analyses below\n",
    "> Try to add dormers vs non-dormers analyses"
   ]
  },
  {
   "cell_type": "code",
   "execution_count": null,
   "id": "6c6da53d-938b-41da-a55d-e210038e937c",
   "metadata": {},
   "outputs": [],
   "source": []
  }
 ],
 "metadata": {
  "kernelspec": {
   "display_name": "Python 3 (ipykernel)",
   "language": "python",
   "name": "python3"
  },
  "language_info": {
   "codemirror_mode": {
    "name": "ipython",
    "version": 3
   },
   "file_extension": ".py",
   "mimetype": "text/x-python",
   "name": "python",
   "nbconvert_exporter": "python",
   "pygments_lexer": "ipython3",
   "version": "3.11.5"
  }
 },
 "nbformat": 4,
 "nbformat_minor": 5
}
