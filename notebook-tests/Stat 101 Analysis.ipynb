{
 "cells": [
  {
   "cell_type": "markdown",
   "id": "96d9db01-bfae-4042-a6a3-dd29a49af24a",
   "metadata": {},
   "source": [
    "# Stat 101 - WFR 2 Group 4 Data Project 1 Analysis"
   ]
  },
  {
   "cell_type": "markdown",
   "id": "4af202f5-bd3b-4a59-8215-562285bf4987",
   "metadata": {},
   "source": [
    "This work is a quick descriptive analysis from a survey conducted by Group 4 of Stat 101 - WFR 2 class. The survey consists of a set of questions that asks on the discrepancy between budget allocations, savings, and budgetting system of dormers and non-dormers."
   ]
  },
  {
   "cell_type": "markdown",
   "id": "965a8bf4-fae6-4bfa-809b-147ae4da9d3a",
   "metadata": {},
   "source": [
    "As this analysis is written in a Jupyter notebook, the following lines of code may look gibberish to non-coding people so I would suggest to only look on the data, graphs, and analyses provided on each step done."
   ]
  },
  {
   "cell_type": "markdown",
   "id": "63a9e86e-b18c-45f0-9e54-4e98bae65f78",
   "metadata": {
    "jp-MarkdownHeadingCollapsed": true
   },
   "source": [
    "## Terms and Definitions"
   ]
  },
  {
   "cell_type": "markdown",
   "id": "edd6aa29-7fe4-4179-98f5-ed5b7ead5179",
   "metadata": {},
   "source": [
    "As you skim by the analyses and graphs, there might be terminologies you might come come across that are not taught on our Stat 101 class. Given below are some terms and their corresponding definitions."
   ]
  },
  {
   "cell_type": "markdown",
   "id": "afe800de-de5b-4b1d-81f6-3ced9766340d",
   "metadata": {},
   "source": [
    "**Dataset** - we will refer to this as the data collected from the survey\n",
    "\n",
    "**Feature** - refers to the name of a column from the dataset (e.g. `Timestamp`, `Year Level`)\n",
    "\n",
    "**Record/Instance** - refers to a row in the dataset\n",
    "\n",
    "**Library** - a compilation of code that works to produce a specific set of interrelated actions (e.g. think of a house cleaner that can clean a house. the cleaner can clean the bathroom, wash the dishes, and broom the living room, the house cleaner here is a \"library\" that does a set of actions that are interrelated)\n",
    "\n",
    "**Function** - just like in Algebra, refers to a mapping for some value/s `X` to another set of value/s `Y`\n",
    "\n",
    "**Method** - refers to a function that is particular for a library\n",
    "\n",
    "**Strings** - a set of concatenated characters\n",
    "\n",
    "**NULL** - a non-existing value\n",
    "\n",
    "**Impute** - action of replacing `NULL` values with non-null values based from the available values from the dataset"
   ]
  },
  {
   "cell_type": "markdown",
   "id": "ecb4e95a-5d5f-4658-b5d1-c5eab0700fba",
   "metadata": {
    "jp-MarkdownHeadingCollapsed": true
   },
   "source": [
    "## Setup"
   ]
  },
  {
   "cell_type": "markdown",
   "id": "1f99a68b-42c0-4ebc-8909-b207f2ccd247",
   "metadata": {},
   "source": [
    "In order to perform data analysis, we would first need to import libraries that are essential for the analysis."
   ]
  },
  {
   "cell_type": "code",
   "execution_count": 1,
   "id": "2b416691-8f87-46cc-8f79-d697929165be",
   "metadata": {},
   "outputs": [],
   "source": [
    "import numpy as np\n",
    "from matplotlib import pyplot as plt\n",
    "import pandas as pd"
   ]
  },
  {
   "cell_type": "markdown",
   "id": "067e49f1-2ace-4caf-8281-5052246401c1",
   "metadata": {},
   "source": [
    "We will do a quick check on the tabular format and first five values of the CSV (comma-separated value) file."
   ]
  },
  {
   "cell_type": "code",
   "execution_count": 2,
   "id": "17fa62aa-2b98-44c4-9596-d72a289033bd",
   "metadata": {},
   "outputs": [
    {
     "data": {
      "text/html": [
       "<div>\n",
       "<style scoped>\n",
       "    .dataframe tbody tr th:only-of-type {\n",
       "        vertical-align: middle;\n",
       "    }\n",
       "\n",
       "    .dataframe tbody tr th {\n",
       "        vertical-align: top;\n",
       "    }\n",
       "\n",
       "    .dataframe thead th {\n",
       "        text-align: right;\n",
       "    }\n",
       "</style>\n",
       "<table border=\"1\" class=\"dataframe\">\n",
       "  <thead>\n",
       "    <tr style=\"text-align: right;\">\n",
       "      <th></th>\n",
       "      <th>Timestamp</th>\n",
       "      <th>In accordance with RA 10173 or the Data Privacy Act of 2012, all personal information gathered from this form shall be kept confidential and will only be accessed by the organizers for registration purposes.</th>\n",
       "      <th>Please indicate your student number.</th>\n",
       "      <th>Year Level</th>\n",
       "      <th>College</th>\n",
       "      <th>Course</th>\n",
       "      <th>How much is your average weekly allowance?</th>\n",
       "      <th>Are you currently residing outside of your permanent residence? (dorm/apartment/condominium)</th>\n",
       "      <th>How would you rank where to allocate your budget among the following? (Food, Transportation, Personal Expenses, Miscellaneous) [Food]</th>\n",
       "      <th>How would you rank where to allocate your budget among the following? (Food, Transportation, Personal Expenses, Miscellaneous) [Transportation]</th>\n",
       "      <th>How would you rank where to allocate your budget among the following? (Food, Transportation, Personal Expenses, Miscellaneous) [Personal Expenses]</th>\n",
       "      <th>How would you rank where to allocate your budget among the following? (Food, Transportation, Personal Expenses, Miscellaneous) [Miscellaneous]</th>\n",
       "      <th>Do you get to save by the end of the week?</th>\n",
       "      <th>Are you satisfied with your budget system? (Achieving budget satisfaction means comfortably covering essentials, enjoying discretionary spending, and saving for future goals.)</th>\n",
       "    </tr>\n",
       "  </thead>\n",
       "  <tbody>\n",
       "    <tr>\n",
       "      <th>0</th>\n",
       "      <td>10/1/2023 9:18:56</td>\n",
       "      <td>Yes</td>\n",
       "      <td>2022-12666</td>\n",
       "      <td>2</td>\n",
       "      <td>College of Engineering</td>\n",
       "      <td>BS Mechanical Engineering</td>\n",
       "      <td>1.000000e-07</td>\n",
       "      <td>No</td>\n",
       "      <td>Very High Priority</td>\n",
       "      <td>High Priority</td>\n",
       "      <td>Very Low Priority</td>\n",
       "      <td>Low Priority</td>\n",
       "      <td>Yes</td>\n",
       "      <td>Completely Satisfied</td>\n",
       "    </tr>\n",
       "    <tr>\n",
       "      <th>1</th>\n",
       "      <td>10/1/2023 14:25:12</td>\n",
       "      <td>Yes</td>\n",
       "      <td>2022-07299</td>\n",
       "      <td>1</td>\n",
       "      <td>Virata School of Business</td>\n",
       "      <td>BA Business Administration</td>\n",
       "      <td>1.500000e+03</td>\n",
       "      <td>Yes</td>\n",
       "      <td>Very High Priority</td>\n",
       "      <td>Low Priority</td>\n",
       "      <td>High Priority</td>\n",
       "      <td>Very Low Priority</td>\n",
       "      <td>Yes</td>\n",
       "      <td>Moderately Satisfied</td>\n",
       "    </tr>\n",
       "    <tr>\n",
       "      <th>2</th>\n",
       "      <td>10/1/2023 21:49:30</td>\n",
       "      <td>Yes</td>\n",
       "      <td>2021-21191</td>\n",
       "      <td>2nd year</td>\n",
       "      <td>College of Science</td>\n",
       "      <td>BS Geology</td>\n",
       "      <td>1.000000e+03</td>\n",
       "      <td>No</td>\n",
       "      <td>High Priority</td>\n",
       "      <td>Very High Priority</td>\n",
       "      <td>Very Low Priority</td>\n",
       "      <td>Low Priority</td>\n",
       "      <td>Yes</td>\n",
       "      <td>Moderately Satisfied</td>\n",
       "    </tr>\n",
       "    <tr>\n",
       "      <th>3</th>\n",
       "      <td>10/1/2023 22:58:27</td>\n",
       "      <td>Yes</td>\n",
       "      <td>2022-06241</td>\n",
       "      <td>2nd</td>\n",
       "      <td>School of Economics</td>\n",
       "      <td>BS Economics</td>\n",
       "      <td>3.000000e+03</td>\n",
       "      <td>No</td>\n",
       "      <td>High Priority</td>\n",
       "      <td>Very Low Priority</td>\n",
       "      <td>Very High Priority</td>\n",
       "      <td>Low Priority</td>\n",
       "      <td>Yes</td>\n",
       "      <td>Completely Satisfied</td>\n",
       "    </tr>\n",
       "    <tr>\n",
       "      <th>4</th>\n",
       "      <td>10/2/2023 10:25:59</td>\n",
       "      <td>Yes</td>\n",
       "      <td>2021-05731</td>\n",
       "      <td>1at</td>\n",
       "      <td>College of Home Economics</td>\n",
       "      <td>BS Clothing Technology</td>\n",
       "      <td>1.100000e+03</td>\n",
       "      <td>No</td>\n",
       "      <td>Low Priority</td>\n",
       "      <td>Very High Priority</td>\n",
       "      <td>High Priority</td>\n",
       "      <td>Very Low Priority</td>\n",
       "      <td>No</td>\n",
       "      <td>Moderately Satisfied</td>\n",
       "    </tr>\n",
       "  </tbody>\n",
       "</table>\n",
       "</div>"
      ],
      "text/plain": [
       "            Timestamp  \\\n",
       "0   10/1/2023 9:18:56   \n",
       "1  10/1/2023 14:25:12   \n",
       "2  10/1/2023 21:49:30   \n",
       "3  10/1/2023 22:58:27   \n",
       "4  10/2/2023 10:25:59   \n",
       "\n",
       "  In accordance with RA 10173 or the Data Privacy Act of 2012, all personal information gathered from this form shall be kept confidential and will only be accessed by the organizers for registration purposes.   \\\n",
       "0                                                Yes                                                                                                                                                                 \n",
       "1                                                Yes                                                                                                                                                                 \n",
       "2                                                Yes                                                                                                                                                                 \n",
       "3                                                Yes                                                                                                                                                                 \n",
       "4                                                Yes                                                                                                                                                                 \n",
       "\n",
       "  Please indicate your student number. Year Level                    College  \\\n",
       "0                           2022-12666          2     College of Engineering   \n",
       "1                           2022-07299          1  Virata School of Business   \n",
       "2                           2021-21191   2nd year         College of Science   \n",
       "3                           2022-06241        2nd        School of Economics   \n",
       "4                           2021-05731        1at  College of Home Economics   \n",
       "\n",
       "                       Course  How much is your average weekly allowance?  \\\n",
       "0   BS Mechanical Engineering                                1.000000e-07   \n",
       "1  BA Business Administration                                1.500000e+03   \n",
       "2                  BS Geology                                1.000000e+03   \n",
       "3                BS Economics                                3.000000e+03   \n",
       "4      BS Clothing Technology                                1.100000e+03   \n",
       "\n",
       "  Are you currently residing outside of your permanent residence? (dorm/apartment/condominium)  \\\n",
       "0                                                 No                                             \n",
       "1                                                Yes                                             \n",
       "2                                                 No                                             \n",
       "3                                                 No                                             \n",
       "4                                                 No                                             \n",
       "\n",
       "  How would you rank where to allocate your budget among the following? (Food, Transportation, Personal Expenses, Miscellaneous) [Food]  \\\n",
       "0                                 Very High Priority                                                                                      \n",
       "1                                 Very High Priority                                                                                      \n",
       "2                                      High Priority                                                                                      \n",
       "3                                      High Priority                                                                                      \n",
       "4                                       Low Priority                                                                                      \n",
       "\n",
       "  How would you rank where to allocate your budget among the following? (Food, Transportation, Personal Expenses, Miscellaneous) [Transportation]  \\\n",
       "0                                      High Priority                                                                                                \n",
       "1                                       Low Priority                                                                                                \n",
       "2                                 Very High Priority                                                                                                \n",
       "3                                  Very Low Priority                                                                                                \n",
       "4                                 Very High Priority                                                                                                \n",
       "\n",
       "  How would you rank where to allocate your budget among the following? (Food, Transportation, Personal Expenses, Miscellaneous) [Personal Expenses]  \\\n",
       "0                                  Very Low Priority                                                                                                   \n",
       "1                                      High Priority                                                                                                   \n",
       "2                                  Very Low Priority                                                                                                   \n",
       "3                                 Very High Priority                                                                                                   \n",
       "4                                      High Priority                                                                                                   \n",
       "\n",
       "  How would you rank where to allocate your budget among the following? (Food, Transportation, Personal Expenses, Miscellaneous) [Miscellaneous]  \\\n",
       "0                                       Low Priority                                                                                               \n",
       "1                                  Very Low Priority                                                                                               \n",
       "2                                       Low Priority                                                                                               \n",
       "3                                       Low Priority                                                                                               \n",
       "4                                  Very Low Priority                                                                                               \n",
       "\n",
       "  Do you get to save by the end of the week?  \\\n",
       "0                                        Yes   \n",
       "1                                        Yes   \n",
       "2                                        Yes   \n",
       "3                                        Yes   \n",
       "4                                         No   \n",
       "\n",
       "  Are you satisfied with your budget system? (Achieving budget satisfaction means comfortably covering essentials, enjoying discretionary spending, and saving for future goals.)  \n",
       "0                               Completely Satisfied                                                                                                                               \n",
       "1                               Moderately Satisfied                                                                                                                               \n",
       "2                               Moderately Satisfied                                                                                                                               \n",
       "3                               Completely Satisfied                                                                                                                               \n",
       "4                               Moderately Satisfied                                                                                                                               "
      ]
     },
     "execution_count": 2,
     "metadata": {},
     "output_type": "execute_result"
    }
   ],
   "source": [
    "df = pd.read_csv('./data/Budget Survey (Responses) - Form Responses 1.csv')\n",
    "df.head()"
   ]
  },
  {
   "cell_type": "markdown",
   "id": "41ca30f0-8e34-4bea-9f70-4edad0e7d451",
   "metadata": {},
   "source": [
    "Since the Pandas library has built-in implementations for standard statistical summary measures (e.g. mean, media, max, min), we will try to describe each feature by taking its summary measures. Note that there are categorical features in our dataset so we first describe features that are mathematically computable."
   ]
  },
  {
   "cell_type": "code",
   "execution_count": 3,
   "id": "28614827-d847-4ac1-a205-d1812f915710",
   "metadata": {},
   "outputs": [
    {
     "data": {
      "text/html": [
       "<div>\n",
       "<style scoped>\n",
       "    .dataframe tbody tr th:only-of-type {\n",
       "        vertical-align: middle;\n",
       "    }\n",
       "\n",
       "    .dataframe tbody tr th {\n",
       "        vertical-align: top;\n",
       "    }\n",
       "\n",
       "    .dataframe thead th {\n",
       "        text-align: right;\n",
       "    }\n",
       "</style>\n",
       "<table border=\"1\" class=\"dataframe\">\n",
       "  <thead>\n",
       "    <tr style=\"text-align: right;\">\n",
       "      <th></th>\n",
       "      <th>How much is your average weekly allowance?</th>\n",
       "    </tr>\n",
       "  </thead>\n",
       "  <tbody>\n",
       "    <tr>\n",
       "      <th>count</th>\n",
       "      <td>2.500000e+01</td>\n",
       "    </tr>\n",
       "    <tr>\n",
       "      <th>mean</th>\n",
       "      <td>1.646000e+03</td>\n",
       "    </tr>\n",
       "    <tr>\n",
       "      <th>std</th>\n",
       "      <td>9.237514e+02</td>\n",
       "    </tr>\n",
       "    <tr>\n",
       "      <th>min</th>\n",
       "      <td>1.000000e-07</td>\n",
       "    </tr>\n",
       "    <tr>\n",
       "      <th>25%</th>\n",
       "      <td>1.000000e+03</td>\n",
       "    </tr>\n",
       "    <tr>\n",
       "      <th>50%</th>\n",
       "      <td>1.500000e+03</td>\n",
       "    </tr>\n",
       "    <tr>\n",
       "      <th>75%</th>\n",
       "      <td>2.000000e+03</td>\n",
       "    </tr>\n",
       "    <tr>\n",
       "      <th>max</th>\n",
       "      <td>3.500000e+03</td>\n",
       "    </tr>\n",
       "  </tbody>\n",
       "</table>\n",
       "</div>"
      ],
      "text/plain": [
       "       How much is your average weekly allowance?\n",
       "count                                2.500000e+01\n",
       "mean                                 1.646000e+03\n",
       "std                                  9.237514e+02\n",
       "min                                  1.000000e-07\n",
       "25%                                  1.000000e+03\n",
       "50%                                  1.500000e+03\n",
       "75%                                  2.000000e+03\n",
       "max                                  3.500000e+03"
      ]
     },
     "execution_count": 3,
     "metadata": {},
     "output_type": "execute_result"
    }
   ],
   "source": [
    "df.describe()"
   ]
  },
  {
   "cell_type": "markdown",
   "id": "4b9a0da9-6339-4e04-b2ff-d6e16319be4d",
   "metadata": {},
   "source": [
    "From the above line, we can see that there is only one numerical feature (average weekly allowance)."
   ]
  },
  {
   "cell_type": "markdown",
   "id": "c7d446e4-d128-4fad-909b-8dd1d53c1280",
   "metadata": {},
   "source": [
    "We'll do the same for the categorical features. But this time, the `describe()` method will only include those with values that can be considered as strings and the summary measures here include the total count of all non-NULL values for that specific feature, the amount of unique values, the most frequent value, and the corresponding frequency of that value."
   ]
  },
  {
   "cell_type": "code",
   "execution_count": 4,
   "id": "f06f0d31-27e2-43e7-9245-b327724445e3",
   "metadata": {},
   "outputs": [
    {
     "data": {
      "text/html": [
       "<div>\n",
       "<style scoped>\n",
       "    .dataframe tbody tr th:only-of-type {\n",
       "        vertical-align: middle;\n",
       "    }\n",
       "\n",
       "    .dataframe tbody tr th {\n",
       "        vertical-align: top;\n",
       "    }\n",
       "\n",
       "    .dataframe thead th {\n",
       "        text-align: right;\n",
       "    }\n",
       "</style>\n",
       "<table border=\"1\" class=\"dataframe\">\n",
       "  <thead>\n",
       "    <tr style=\"text-align: right;\">\n",
       "      <th></th>\n",
       "      <th>Timestamp</th>\n",
       "      <th>In accordance with RA 10173 or the Data Privacy Act of 2012, all personal information gathered from this form shall be kept confidential and will only be accessed by the organizers for registration purposes.</th>\n",
       "      <th>Please indicate your student number.</th>\n",
       "      <th>Year Level</th>\n",
       "      <th>College</th>\n",
       "      <th>Course</th>\n",
       "      <th>Are you currently residing outside of your permanent residence? (dorm/apartment/condominium)</th>\n",
       "      <th>How would you rank where to allocate your budget among the following? (Food, Transportation, Personal Expenses, Miscellaneous) [Food]</th>\n",
       "      <th>How would you rank where to allocate your budget among the following? (Food, Transportation, Personal Expenses, Miscellaneous) [Transportation]</th>\n",
       "      <th>How would you rank where to allocate your budget among the following? (Food, Transportation, Personal Expenses, Miscellaneous) [Personal Expenses]</th>\n",
       "      <th>How would you rank where to allocate your budget among the following? (Food, Transportation, Personal Expenses, Miscellaneous) [Miscellaneous]</th>\n",
       "      <th>Do you get to save by the end of the week?</th>\n",
       "      <th>Are you satisfied with your budget system? (Achieving budget satisfaction means comfortably covering essentials, enjoying discretionary spending, and saving for future goals.)</th>\n",
       "    </tr>\n",
       "  </thead>\n",
       "  <tbody>\n",
       "    <tr>\n",
       "      <th>count</th>\n",
       "      <td>25</td>\n",
       "      <td>25</td>\n",
       "      <td>25</td>\n",
       "      <td>25</td>\n",
       "      <td>25</td>\n",
       "      <td>25</td>\n",
       "      <td>25</td>\n",
       "      <td>25</td>\n",
       "      <td>25</td>\n",
       "      <td>25</td>\n",
       "      <td>25</td>\n",
       "      <td>25</td>\n",
       "      <td>25</td>\n",
       "    </tr>\n",
       "    <tr>\n",
       "      <th>unique</th>\n",
       "      <td>25</td>\n",
       "      <td>1</td>\n",
       "      <td>24</td>\n",
       "      <td>16</td>\n",
       "      <td>11</td>\n",
       "      <td>22</td>\n",
       "      <td>2</td>\n",
       "      <td>3</td>\n",
       "      <td>4</td>\n",
       "      <td>4</td>\n",
       "      <td>2</td>\n",
       "      <td>2</td>\n",
       "      <td>3</td>\n",
       "    </tr>\n",
       "    <tr>\n",
       "      <th>top</th>\n",
       "      <td>10/1/2023 9:18:56</td>\n",
       "      <td>Yes</td>\n",
       "      <td>2022-00288</td>\n",
       "      <td>2nd Year</td>\n",
       "      <td>College of Engineering</td>\n",
       "      <td>BS Economics</td>\n",
       "      <td>Yes</td>\n",
       "      <td>Very High Priority</td>\n",
       "      <td>High Priority</td>\n",
       "      <td>Low Priority</td>\n",
       "      <td>Very Low Priority</td>\n",
       "      <td>Yes</td>\n",
       "      <td>Moderately Satisfied</td>\n",
       "    </tr>\n",
       "    <tr>\n",
       "      <th>freq</th>\n",
       "      <td>1</td>\n",
       "      <td>25</td>\n",
       "      <td>2</td>\n",
       "      <td>4</td>\n",
       "      <td>6</td>\n",
       "      <td>2</td>\n",
       "      <td>13</td>\n",
       "      <td>14</td>\n",
       "      <td>10</td>\n",
       "      <td>12</td>\n",
       "      <td>19</td>\n",
       "      <td>20</td>\n",
       "      <td>15</td>\n",
       "    </tr>\n",
       "  </tbody>\n",
       "</table>\n",
       "</div>"
      ],
      "text/plain": [
       "                Timestamp  \\\n",
       "count                  25   \n",
       "unique                 25   \n",
       "top     10/1/2023 9:18:56   \n",
       "freq                    1   \n",
       "\n",
       "       In accordance with RA 10173 or the Data Privacy Act of 2012, all personal information gathered from this form shall be kept confidential and will only be accessed by the organizers for registration purposes.   \\\n",
       "count                                                  25                                                                                                                                                                 \n",
       "unique                                                  1                                                                                                                                                                 \n",
       "top                                                   Yes                                                                                                                                                                 \n",
       "freq                                                   25                                                                                                                                                                 \n",
       "\n",
       "       Please indicate your student number. Year Level  \\\n",
       "count                                    25         25   \n",
       "unique                                   24         16   \n",
       "top                              2022-00288   2nd Year   \n",
       "freq                                      2          4   \n",
       "\n",
       "                       College        Course  \\\n",
       "count                       25            25   \n",
       "unique                      11            22   \n",
       "top     College of Engineering  BS Economics   \n",
       "freq                         6             2   \n",
       "\n",
       "       Are you currently residing outside of your permanent residence? (dorm/apartment/condominium)  \\\n",
       "count                                                  25                                             \n",
       "unique                                                  2                                             \n",
       "top                                                   Yes                                             \n",
       "freq                                                   13                                             \n",
       "\n",
       "       How would you rank where to allocate your budget among the following? (Food, Transportation, Personal Expenses, Miscellaneous) [Food]  \\\n",
       "count                                                  25                                                                                      \n",
       "unique                                                  3                                                                                      \n",
       "top                                    Very High Priority                                                                                      \n",
       "freq                                                   14                                                                                      \n",
       "\n",
       "       How would you rank where to allocate your budget among the following? (Food, Transportation, Personal Expenses, Miscellaneous) [Transportation]  \\\n",
       "count                                                  25                                                                                                \n",
       "unique                                                  4                                                                                                \n",
       "top                                         High Priority                                                                                                \n",
       "freq                                                   10                                                                                                \n",
       "\n",
       "       How would you rank where to allocate your budget among the following? (Food, Transportation, Personal Expenses, Miscellaneous) [Personal Expenses]  \\\n",
       "count                                                  25                                                                                                   \n",
       "unique                                                  4                                                                                                   \n",
       "top                                          Low Priority                                                                                                   \n",
       "freq                                                   12                                                                                                   \n",
       "\n",
       "       How would you rank where to allocate your budget among the following? (Food, Transportation, Personal Expenses, Miscellaneous) [Miscellaneous]  \\\n",
       "count                                                  25                                                                                               \n",
       "unique                                                  2                                                                                               \n",
       "top                                     Very Low Priority                                                                                               \n",
       "freq                                                   19                                                                                               \n",
       "\n",
       "       Do you get to save by the end of the week?  \\\n",
       "count                                          25   \n",
       "unique                                          2   \n",
       "top                                           Yes   \n",
       "freq                                           20   \n",
       "\n",
       "       Are you satisfied with your budget system? (Achieving budget satisfaction means comfortably covering essentials, enjoying discretionary spending, and saving for future goals.)  \n",
       "count                                                  25                                                                                                                               \n",
       "unique                                                  3                                                                                                                               \n",
       "top                                  Moderately Satisfied                                                                                                                               \n",
       "freq                                                   15                                                                                                                               "
      ]
     },
     "execution_count": 4,
     "metadata": {},
     "output_type": "execute_result"
    }
   ],
   "source": [
    "df.describe(include='object')"
   ]
  },
  {
   "cell_type": "markdown",
   "id": "9bd19796-7c54-42e2-95f9-5b2ea6a854bc",
   "metadata": {},
   "source": [
    "We can also do a quick check on the `NULL` values from our dataset to see if we would need to impute values."
   ]
  },
  {
   "cell_type": "code",
   "execution_count": 5,
   "id": "ed314ff8-a464-4af0-8830-2d60e1e0d52b",
   "metadata": {},
   "outputs": [
    {
     "name": "stdout",
     "output_type": "stream",
     "text": [
      "<class 'pandas.core.frame.DataFrame'>\n",
      "RangeIndex: 25 entries, 0 to 24\n",
      "Data columns (total 14 columns):\n",
      " #   Column                                                                                                                                                                                                            Non-Null Count  Dtype  \n",
      "---  ------                                                                                                                                                                                                            --------------  -----  \n",
      " 0   Timestamp                                                                                                                                                                                                         25 non-null     object \n",
      " 1   In accordance with RA 10173 or the Data Privacy Act of 2012, all personal information gathered from this form shall be kept confidential and will only be accessed by the organizers for registration purposes.   25 non-null     object \n",
      " 2   Please indicate your student number.                                                                                                                                                                              25 non-null     object \n",
      " 3   Year Level                                                                                                                                                                                                        25 non-null     object \n",
      " 4   College                                                                                                                                                                                                           25 non-null     object \n",
      " 5   Course                                                                                                                                                                                                            25 non-null     object \n",
      " 6   How much is your average weekly allowance?                                                                                                                                                                        25 non-null     float64\n",
      " 7   Are you currently residing outside of your permanent residence? (dorm/apartment/condominium)                                                                                                                      25 non-null     object \n",
      " 8   How would you rank where to allocate your budget among the following? (Food, Transportation, Personal Expenses, Miscellaneous) [Food]                                                                             25 non-null     object \n",
      " 9   How would you rank where to allocate your budget among the following? (Food, Transportation, Personal Expenses, Miscellaneous) [Transportation]                                                                   25 non-null     object \n",
      " 10  How would you rank where to allocate your budget among the following? (Food, Transportation, Personal Expenses, Miscellaneous) [Personal Expenses]                                                                25 non-null     object \n",
      " 11  How would you rank where to allocate your budget among the following? (Food, Transportation, Personal Expenses, Miscellaneous) [Miscellaneous]                                                                    25 non-null     object \n",
      " 12  Do you get to save by the end of the week?                                                                                                                                                                        25 non-null     object \n",
      " 13  Are you satisfied with your budget system? (Achieving budget satisfaction means comfortably covering essentials, enjoying discretionary spending, and saving for future goals.)                                   25 non-null     object \n",
      "dtypes: float64(1), object(13)\n",
      "memory usage: 2.9+ KB\n"
     ]
    }
   ],
   "source": [
    "df.info()"
   ]
  },
  {
   "cell_type": "markdown",
   "id": "67b765d1-28c9-49f7-87b0-52d7d2943c9a",
   "metadata": {},
   "source": [
    "As we can see, all features contain 25 non-null values which means there is no need to impute values in our dataset."
   ]
  },
  {
   "cell_type": "markdown",
   "id": "a89d00b3-3796-4301-9a8d-c71b69654bc0",
   "metadata": {
    "jp-MarkdownHeadingCollapsed": true
   },
   "source": [
    "## Data Preprocessing"
   ]
  },
  {
   "cell_type": "markdown",
   "id": "4debe624-719d-46f3-954b-0926a2889739",
   "metadata": {},
   "source": [
    "The next step for every analysis is to preprocess our data to have a simpler and readable table."
   ]
  },
  {
   "cell_type": "markdown",
   "id": "99d7f249-b85e-44e7-961d-c03a67ea4e9a",
   "metadata": {},
   "source": [
    "We will simplify feature names by replacing the `columns` property of the dataframe."
   ]
  },
  {
   "cell_type": "code",
   "execution_count": 6,
   "id": "6396fd53-13d9-4ed6-ac31-40608f668687",
   "metadata": {},
   "outputs": [
    {
     "data": {
      "text/plain": [
       "Index(['Timestamp',\n",
       "       'In accordance with RA 10173 or the Data Privacy Act of 2012, all personal information gathered from this form shall be kept confidential and will only be accessed by the organizers for registration purposes. ',\n",
       "       'Please indicate your student number.', 'Year Level', 'College',\n",
       "       'Course', 'How much is your average weekly allowance?',\n",
       "       'Are you currently residing outside of your permanent residence? (dorm/apartment/condominium)',\n",
       "       'How would you rank where to allocate your budget among the following? (Food, Transportation, Personal Expenses, Miscellaneous) [Food]',\n",
       "       'How would you rank where to allocate your budget among the following? (Food, Transportation, Personal Expenses, Miscellaneous) [Transportation]',\n",
       "       'How would you rank where to allocate your budget among the following? (Food, Transportation, Personal Expenses, Miscellaneous) [Personal Expenses]',\n",
       "       'How would you rank where to allocate your budget among the following? (Food, Transportation, Personal Expenses, Miscellaneous) [Miscellaneous]',\n",
       "       'Do you get to save by the end of the week?',\n",
       "       'Are you satisfied with your budget system? (Achieving budget satisfaction means comfortably covering essentials, enjoying discretionary spending, and saving for future goals.)'],\n",
       "      dtype='object')"
      ]
     },
     "execution_count": 6,
     "metadata": {},
     "output_type": "execute_result"
    }
   ],
   "source": [
    "df.columns"
   ]
  },
  {
   "cell_type": "code",
   "execution_count": 7,
   "id": "b5c71f3a-9540-4e75-9690-847d9ed2ca1e",
   "metadata": {},
   "outputs": [],
   "source": [
    "df.columns = [\n",
    "    'timestamp',\n",
    "    'data_privacy',\n",
    "    'student_number',\n",
    "    'year_level',\n",
    "    'college',\n",
    "    'course',\n",
    "    'average_weekly_allowance',\n",
    "    'dorm_residency',\n",
    "    'food_allocation_prioritization',\n",
    "    'transportation_allocation_prioritization',\n",
    "    'personal_expense_allocation_prioritization',\n",
    "    'misc_allocation_prioritization',\n",
    "    'weekly_savings',\n",
    "    'budgetting_system_satisfaction',\n",
    "]"
   ]
  },
  {
   "cell_type": "code",
   "execution_count": 8,
   "id": "a3e1d182-3eec-4d52-9c90-1ae0beddd48a",
   "metadata": {},
   "outputs": [
    {
     "data": {
      "text/html": [
       "<div>\n",
       "<style scoped>\n",
       "    .dataframe tbody tr th:only-of-type {\n",
       "        vertical-align: middle;\n",
       "    }\n",
       "\n",
       "    .dataframe tbody tr th {\n",
       "        vertical-align: top;\n",
       "    }\n",
       "\n",
       "    .dataframe thead th {\n",
       "        text-align: right;\n",
       "    }\n",
       "</style>\n",
       "<table border=\"1\" class=\"dataframe\">\n",
       "  <thead>\n",
       "    <tr style=\"text-align: right;\">\n",
       "      <th></th>\n",
       "      <th>timestamp</th>\n",
       "      <th>data_privacy</th>\n",
       "      <th>student_number</th>\n",
       "      <th>year_level</th>\n",
       "      <th>college</th>\n",
       "      <th>course</th>\n",
       "      <th>average_weekly_allowance</th>\n",
       "      <th>dorm_residency</th>\n",
       "      <th>food_allocation_prioritization</th>\n",
       "      <th>transportation_allocation_prioritization</th>\n",
       "      <th>personal_expense_allocation_prioritization</th>\n",
       "      <th>misc_allocation_prioritization</th>\n",
       "      <th>weekly_savings</th>\n",
       "      <th>budgetting_system_satisfaction</th>\n",
       "    </tr>\n",
       "  </thead>\n",
       "  <tbody>\n",
       "    <tr>\n",
       "      <th>0</th>\n",
       "      <td>10/1/2023 9:18:56</td>\n",
       "      <td>Yes</td>\n",
       "      <td>2022-12666</td>\n",
       "      <td>2</td>\n",
       "      <td>College of Engineering</td>\n",
       "      <td>BS Mechanical Engineering</td>\n",
       "      <td>1.000000e-07</td>\n",
       "      <td>No</td>\n",
       "      <td>Very High Priority</td>\n",
       "      <td>High Priority</td>\n",
       "      <td>Very Low Priority</td>\n",
       "      <td>Low Priority</td>\n",
       "      <td>Yes</td>\n",
       "      <td>Completely Satisfied</td>\n",
       "    </tr>\n",
       "    <tr>\n",
       "      <th>1</th>\n",
       "      <td>10/1/2023 14:25:12</td>\n",
       "      <td>Yes</td>\n",
       "      <td>2022-07299</td>\n",
       "      <td>1</td>\n",
       "      <td>Virata School of Business</td>\n",
       "      <td>BA Business Administration</td>\n",
       "      <td>1.500000e+03</td>\n",
       "      <td>Yes</td>\n",
       "      <td>Very High Priority</td>\n",
       "      <td>Low Priority</td>\n",
       "      <td>High Priority</td>\n",
       "      <td>Very Low Priority</td>\n",
       "      <td>Yes</td>\n",
       "      <td>Moderately Satisfied</td>\n",
       "    </tr>\n",
       "    <tr>\n",
       "      <th>2</th>\n",
       "      <td>10/1/2023 21:49:30</td>\n",
       "      <td>Yes</td>\n",
       "      <td>2021-21191</td>\n",
       "      <td>2nd year</td>\n",
       "      <td>College of Science</td>\n",
       "      <td>BS Geology</td>\n",
       "      <td>1.000000e+03</td>\n",
       "      <td>No</td>\n",
       "      <td>High Priority</td>\n",
       "      <td>Very High Priority</td>\n",
       "      <td>Very Low Priority</td>\n",
       "      <td>Low Priority</td>\n",
       "      <td>Yes</td>\n",
       "      <td>Moderately Satisfied</td>\n",
       "    </tr>\n",
       "    <tr>\n",
       "      <th>3</th>\n",
       "      <td>10/1/2023 22:58:27</td>\n",
       "      <td>Yes</td>\n",
       "      <td>2022-06241</td>\n",
       "      <td>2nd</td>\n",
       "      <td>School of Economics</td>\n",
       "      <td>BS Economics</td>\n",
       "      <td>3.000000e+03</td>\n",
       "      <td>No</td>\n",
       "      <td>High Priority</td>\n",
       "      <td>Very Low Priority</td>\n",
       "      <td>Very High Priority</td>\n",
       "      <td>Low Priority</td>\n",
       "      <td>Yes</td>\n",
       "      <td>Completely Satisfied</td>\n",
       "    </tr>\n",
       "    <tr>\n",
       "      <th>4</th>\n",
       "      <td>10/2/2023 10:25:59</td>\n",
       "      <td>Yes</td>\n",
       "      <td>2021-05731</td>\n",
       "      <td>1at</td>\n",
       "      <td>College of Home Economics</td>\n",
       "      <td>BS Clothing Technology</td>\n",
       "      <td>1.100000e+03</td>\n",
       "      <td>No</td>\n",
       "      <td>Low Priority</td>\n",
       "      <td>Very High Priority</td>\n",
       "      <td>High Priority</td>\n",
       "      <td>Very Low Priority</td>\n",
       "      <td>No</td>\n",
       "      <td>Moderately Satisfied</td>\n",
       "    </tr>\n",
       "  </tbody>\n",
       "</table>\n",
       "</div>"
      ],
      "text/plain": [
       "            timestamp data_privacy student_number year_level  \\\n",
       "0   10/1/2023 9:18:56          Yes     2022-12666          2   \n",
       "1  10/1/2023 14:25:12          Yes     2022-07299          1   \n",
       "2  10/1/2023 21:49:30          Yes     2021-21191   2nd year   \n",
       "3  10/1/2023 22:58:27          Yes     2022-06241        2nd   \n",
       "4  10/2/2023 10:25:59          Yes     2021-05731        1at   \n",
       "\n",
       "                     college                      course  \\\n",
       "0     College of Engineering   BS Mechanical Engineering   \n",
       "1  Virata School of Business  BA Business Administration   \n",
       "2         College of Science                  BS Geology   \n",
       "3        School of Economics                BS Economics   \n",
       "4  College of Home Economics      BS Clothing Technology   \n",
       "\n",
       "   average_weekly_allowance dorm_residency food_allocation_prioritization  \\\n",
       "0              1.000000e-07             No             Very High Priority   \n",
       "1              1.500000e+03            Yes             Very High Priority   \n",
       "2              1.000000e+03             No                  High Priority   \n",
       "3              3.000000e+03             No                  High Priority   \n",
       "4              1.100000e+03             No                   Low Priority   \n",
       "\n",
       "  transportation_allocation_prioritization  \\\n",
       "0                            High Priority   \n",
       "1                             Low Priority   \n",
       "2                       Very High Priority   \n",
       "3                        Very Low Priority   \n",
       "4                       Very High Priority   \n",
       "\n",
       "  personal_expense_allocation_prioritization misc_allocation_prioritization  \\\n",
       "0                          Very Low Priority                   Low Priority   \n",
       "1                              High Priority              Very Low Priority   \n",
       "2                          Very Low Priority                   Low Priority   \n",
       "3                         Very High Priority                   Low Priority   \n",
       "4                              High Priority              Very Low Priority   \n",
       "\n",
       "  weekly_savings budgetting_system_satisfaction  \n",
       "0            Yes           Completely Satisfied  \n",
       "1            Yes           Moderately Satisfied  \n",
       "2            Yes           Moderately Satisfied  \n",
       "3            Yes           Completely Satisfied  \n",
       "4             No           Moderately Satisfied  "
      ]
     },
     "execution_count": 8,
     "metadata": {},
     "output_type": "execute_result"
    }
   ],
   "source": [
    "df.head()"
   ]
  },
  {
   "cell_type": "markdown",
   "id": "ffc788d5-1446-4863-9400-d2688c25e995",
   "metadata": {},
   "source": [
    "As we can see, the feature names of our dataset have been changed. The next thing that we can do is inspect the features for inconsistencies."
   ]
  },
  {
   "cell_type": "markdown",
   "id": "52cfdf6c-5f81-4d82-bd0f-b4be3e21a5fc",
   "metadata": {},
   "source": [
    "Note that we don't need to inspect every feature as we can already conclude something based from our previous `describe()` and `info()` analysis."
   ]
  },
  {
   "cell_type": "markdown",
   "id": "f3c539ea-eed9-4d90-92b9-6629340e1b35",
   "metadata": {},
   "source": [
    "### Timestamp"
   ]
  },
  {
   "cell_type": "markdown",
   "id": "2f4e4f59-57d6-4146-b682-73a0af7c2fe1",
   "metadata": {},
   "source": [
    "The `timestamp` feature won't be as impactful as it would be since the survey isn't a time-series survey."
   ]
  },
  {
   "cell_type": "markdown",
   "id": "22100251-2dc0-4d07-ae01-800715d495ef",
   "metadata": {},
   "source": [
    "### Data Privacy"
   ]
  },
  {
   "cell_type": "markdown",
   "id": "e3ed6f18-85b3-46e5-b6d7-191e0f6ed699",
   "metadata": {},
   "source": [
    "Note that we can see the number of unique values from the `describe()` call done above for every categorical feature. As you'll see, there is only one response for this feature so we will skip this feature."
   ]
  },
  {
   "cell_type": "markdown",
   "id": "3fa17db9-a5e0-4988-a587-1e2b2f68c2c7",
   "metadata": {},
   "source": [
    "### Student Number"
   ]
  },
  {
   "cell_type": "markdown",
   "id": "5ee2774c-3cf1-4b05-a6a2-13312e564a60",
   "metadata": {},
   "source": [
    "Again, we utilize the `describe()` call done above. This time, instead of only having one value, we have 25 unique values. Again, this won't be representative of any analysis that we'll benefit from and it is also a unique identifier for all Stat 101 WFR 2 students."
   ]
  },
  {
   "cell_type": "markdown",
   "id": "bdf8ee7a-2336-41d4-942b-08147f772c2e",
   "metadata": {},
   "source": [
    "If there is ever a duplicate student number, we can drop any of the two unless the two records have different responses."
   ]
  },
  {
   "cell_type": "markdown",
   "id": "2eb95331-c310-4390-adcd-1ebb1720dce0",
   "metadata": {},
   "source": [
    "### Year Level"
   ]
  },
  {
   "cell_type": "markdown",
   "id": "3d4c5258-b79d-4d62-b67a-842b85f22d5c",
   "metadata": {},
   "source": [
    "We first check the unique values for our year level feature."
   ]
  },
  {
   "cell_type": "code",
   "execution_count": 9,
   "id": "a286837d-640a-4a53-a910-8aac766f7d5c",
   "metadata": {},
   "outputs": [
    {
     "data": {
      "text/plain": [
       "array(['2', '1', '2nd year', '2nd', '1at', '3rd year', 'IV', '2nd Year',\n",
       "       '5th', 'Third', 'Sophomore ', '4th', '5th Year', '3rd', '3rd Year',\n",
       "       '2ND YEAR'], dtype=object)"
      ]
     },
     "execution_count": 9,
     "metadata": {},
     "output_type": "execute_result"
    }
   ],
   "source": [
    "df['year_level'].unique()"
   ]
  },
  {
   "cell_type": "markdown",
   "id": "9a7eef04-c351-424a-a3a9-1cda0276f802",
   "metadata": {},
   "source": [
    "It is noticeable that there are different values on our dataset so one thing we can do is apply a mapping method to make the values in this feature consistent (note that `2nd year` is equivalent to `Sophomore` and `2ND YEAR`)."
   ]
  },
  {
   "cell_type": "code",
   "execution_count": 10,
   "id": "416c4659-dc84-48c8-8cb9-a0fb488b68a6",
   "metadata": {},
   "outputs": [],
   "source": [
    "year_level_mapper = {\n",
    "    '1': 1,\n",
    "    '1at': 1,\n",
    "    '2': 2,\n",
    "    '2nd': 2,\n",
    "    '2ND YEAR': 2,\n",
    "    '2nd year': 2,\n",
    "    '2nd Year': 2,\n",
    "    'Sophomore ': 2,\n",
    "    '3rd': 3,\n",
    "    '3rd year': 3,\n",
    "    '3rd Year': 3,\n",
    "    'Third': 3,\n",
    "    'IV': 4,\n",
    "    '4th': 4,\n",
    "    '5th Year': 5,\n",
    "    '5th': 5,\n",
    "}"
   ]
  },
  {
   "cell_type": "code",
   "execution_count": 11,
   "id": "796afbc6-3626-4672-a945-eaab64668452",
   "metadata": {},
   "outputs": [],
   "source": [
    "df['year_level'] = df['year_level'].map(year_level_mapper)"
   ]
  },
  {
   "cell_type": "code",
   "execution_count": 12,
   "id": "942bdbfa-40c9-4ece-96c3-f4334244f0e7",
   "metadata": {},
   "outputs": [
    {
     "data": {
      "text/plain": [
       "array([2, 1, 3, 4, 5], dtype=int64)"
      ]
     },
     "execution_count": 12,
     "metadata": {},
     "output_type": "execute_result"
    }
   ],
   "source": [
    "df['year_level'].unique()"
   ]
  },
  {
   "cell_type": "markdown",
   "id": "9534561c-335f-4c54-9048-eb92ad6b8fc9",
   "metadata": {},
   "source": [
    "After the transformation, we can see that we only have five unique values left which is better for our analysis."
   ]
  },
  {
   "cell_type": "markdown",
   "id": "4944c409-91b5-4a37-a91c-0f4bfba3873d",
   "metadata": {},
   "source": [
    "### College"
   ]
  },
  {
   "cell_type": "markdown",
   "id": "4a935e67-46c2-41a0-a8cf-bcc07557f147",
   "metadata": {},
   "source": [
    "We copy the same process done above."
   ]
  },
  {
   "cell_type": "code",
   "execution_count": 13,
   "id": "35e609f6-dd3a-4170-b5d5-78fd94c8dacb",
   "metadata": {},
   "outputs": [
    {
     "data": {
      "text/plain": [
       "array(['College of Engineering', 'Virata School of Business',\n",
       "       'College of Science', 'School of Economics',\n",
       "       'College of Home Economics', 'College of Architecture',\n",
       "       'Asian Institute of Tourism', 'College of Human Kinetics', 'NCPAG',\n",
       "       'College of Education ', 'COLLEGE OF HOME ECONOMICS'], dtype=object)"
      ]
     },
     "execution_count": 13,
     "metadata": {},
     "output_type": "execute_result"
    }
   ],
   "source": [
    "df['college'].unique()"
   ]
  },
  {
   "cell_type": "markdown",
   "id": "143c5d8e-b0bc-473f-a7d5-8d6fec0e7356",
   "metadata": {},
   "source": [
    "If we carefully check, there are similar instances for `College of Home Econommics` but with varying capitalizations. Again, we transform this feature by following a capitalized version of all strings in that feature."
   ]
  },
  {
   "cell_type": "code",
   "execution_count": 14,
   "id": "9582daa4-5e11-4fe6-b783-19632b964e71",
   "metadata": {},
   "outputs": [],
   "source": [
    "df['college'] = df['college'].str.capitalize()"
   ]
  },
  {
   "cell_type": "code",
   "execution_count": 15,
   "id": "8a389f6d-aeb5-48a7-b2ce-f793fb390899",
   "metadata": {},
   "outputs": [
    {
     "data": {
      "text/plain": [
       "array(['College of engineering', 'Virata school of business',\n",
       "       'College of science', 'School of economics',\n",
       "       'College of home economics', 'College of architecture',\n",
       "       'Asian institute of tourism', 'College of human kinetics', 'Ncpag',\n",
       "       'College of education '], dtype=object)"
      ]
     },
     "execution_count": 15,
     "metadata": {},
     "output_type": "execute_result"
    }
   ],
   "source": [
    "df['college'].unique()"
   ]
  },
  {
   "cell_type": "markdown",
   "id": "4b94094a-1158-46cc-8e96-5f0727f6e77b",
   "metadata": {},
   "source": [
    "As we can see, the capitalizations are now uniform and there's no repeating values."
   ]
  },
  {
   "cell_type": "markdown",
   "id": "6d518351-92f9-4cad-8672-d254e60f97bd",
   "metadata": {},
   "source": [
    "### Course"
   ]
  },
  {
   "cell_type": "markdown",
   "id": "92d16551-bbea-4ccd-b800-36722d2d325c",
   "metadata": {},
   "source": [
    "Again, we copy the same process as above."
   ]
  },
  {
   "cell_type": "code",
   "execution_count": 16,
   "id": "121b911a-5d7f-4d8f-86c3-eec5ee61bf7f",
   "metadata": {},
   "outputs": [
    {
     "data": {
      "text/plain": [
       "array(['BS Mechanical Engineering', 'BA Business Administration',\n",
       "       'BS Geology', 'BS Economics', 'BS Clothing Technology',\n",
       "       'B Landscape Architecture', 'BS Tourism', 'BS Computer Science',\n",
       "       'B Sport Science', 'BS Business Economics',\n",
       "       'BS Geodetic Engineering', 'B Public Administration',\n",
       "       'BS Molecular Biology and Biotechnology ',\n",
       "       'BS Community Nutrition', 'B Sports Science',\n",
       "       'B Secondary Education ', 'BS Interior Design',\n",
       "       'BS Chemical Engineering', 'Non-Major', 'BS Geodetic Engineering ',\n",
       "       'AA Sports Studies', 'BS INTERIOR DESIGN'], dtype=object)"
      ]
     },
     "execution_count": 16,
     "metadata": {},
     "output_type": "execute_result"
    }
   ],
   "source": [
    "df['course'].unique()"
   ]
  },
  {
   "cell_type": "markdown",
   "id": "5d0fd3bb-8cf0-4f1f-9ce3-ae635fc29fa4",
   "metadata": {},
   "source": [
    "Again, there are two `BS Interior Design` values that have different capitalizations."
   ]
  },
  {
   "cell_type": "code",
   "execution_count": 17,
   "id": "93aa15ef-4bec-427c-a45a-52192fdaf5e1",
   "metadata": {},
   "outputs": [],
   "source": [
    "df['course'] = df['course'].str.capitalize()"
   ]
  },
  {
   "cell_type": "code",
   "execution_count": 18,
   "id": "ef540477-40e6-4a6d-95e6-d9919fdb4430",
   "metadata": {},
   "outputs": [
    {
     "data": {
      "text/plain": [
       "array(['College of engineering', 'Virata school of business',\n",
       "       'College of science', 'School of economics',\n",
       "       'College of home economics', 'College of architecture',\n",
       "       'Asian institute of tourism', 'College of human kinetics', 'Ncpag',\n",
       "       'College of education '], dtype=object)"
      ]
     },
     "execution_count": 18,
     "metadata": {},
     "output_type": "execute_result"
    }
   ],
   "source": [
    "df['college'].unique()"
   ]
  },
  {
   "cell_type": "markdown",
   "id": "1fb57729-7dca-4b72-bf7d-5dbdd7577938",
   "metadata": {},
   "source": [
    "After transformation, the values are now distinct from one another."
   ]
  },
  {
   "cell_type": "markdown",
   "id": "a074e3ec-836d-46b8-ae5c-95f7d7a36627",
   "metadata": {},
   "source": [
    "### Average Weekly Allowance"
   ]
  },
  {
   "cell_type": "markdown",
   "id": "27a4a096-00b3-41db-8822-83749c7ea20c",
   "metadata": {},
   "source": [
    "Note from the very first table of this notebook, there's a weird floating point value in our `average_weekly_allowance` feature. Note that in Pandas, we can change the data type of a value/feature into an integer value to avoid floating point precision errors."
   ]
  },
  {
   "cell_type": "code",
   "execution_count": 19,
   "id": "11c2b535-858f-4f6e-a6c6-7689ab705671",
   "metadata": {},
   "outputs": [],
   "source": [
    "df['average_weekly_allowance'] = df['average_weekly_allowance'].astype('int32')"
   ]
  },
  {
   "cell_type": "code",
   "execution_count": 20,
   "id": "435c1c08-d4b5-4c49-b8b9-cf0a40f58686",
   "metadata": {},
   "outputs": [
    {
     "data": {
      "text/html": [
       "<div>\n",
       "<style scoped>\n",
       "    .dataframe tbody tr th:only-of-type {\n",
       "        vertical-align: middle;\n",
       "    }\n",
       "\n",
       "    .dataframe tbody tr th {\n",
       "        vertical-align: top;\n",
       "    }\n",
       "\n",
       "    .dataframe thead th {\n",
       "        text-align: right;\n",
       "    }\n",
       "</style>\n",
       "<table border=\"1\" class=\"dataframe\">\n",
       "  <thead>\n",
       "    <tr style=\"text-align: right;\">\n",
       "      <th></th>\n",
       "      <th>timestamp</th>\n",
       "      <th>data_privacy</th>\n",
       "      <th>student_number</th>\n",
       "      <th>year_level</th>\n",
       "      <th>college</th>\n",
       "      <th>course</th>\n",
       "      <th>average_weekly_allowance</th>\n",
       "      <th>dorm_residency</th>\n",
       "      <th>food_allocation_prioritization</th>\n",
       "      <th>transportation_allocation_prioritization</th>\n",
       "      <th>personal_expense_allocation_prioritization</th>\n",
       "      <th>misc_allocation_prioritization</th>\n",
       "      <th>weekly_savings</th>\n",
       "      <th>budgetting_system_satisfaction</th>\n",
       "    </tr>\n",
       "  </thead>\n",
       "  <tbody>\n",
       "    <tr>\n",
       "      <th>0</th>\n",
       "      <td>10/1/2023 9:18:56</td>\n",
       "      <td>Yes</td>\n",
       "      <td>2022-12666</td>\n",
       "      <td>2</td>\n",
       "      <td>College of engineering</td>\n",
       "      <td>Bs mechanical engineering</td>\n",
       "      <td>0</td>\n",
       "      <td>No</td>\n",
       "      <td>Very High Priority</td>\n",
       "      <td>High Priority</td>\n",
       "      <td>Very Low Priority</td>\n",
       "      <td>Low Priority</td>\n",
       "      <td>Yes</td>\n",
       "      <td>Completely Satisfied</td>\n",
       "    </tr>\n",
       "    <tr>\n",
       "      <th>1</th>\n",
       "      <td>10/1/2023 14:25:12</td>\n",
       "      <td>Yes</td>\n",
       "      <td>2022-07299</td>\n",
       "      <td>1</td>\n",
       "      <td>Virata school of business</td>\n",
       "      <td>Ba business administration</td>\n",
       "      <td>1500</td>\n",
       "      <td>Yes</td>\n",
       "      <td>Very High Priority</td>\n",
       "      <td>Low Priority</td>\n",
       "      <td>High Priority</td>\n",
       "      <td>Very Low Priority</td>\n",
       "      <td>Yes</td>\n",
       "      <td>Moderately Satisfied</td>\n",
       "    </tr>\n",
       "    <tr>\n",
       "      <th>2</th>\n",
       "      <td>10/1/2023 21:49:30</td>\n",
       "      <td>Yes</td>\n",
       "      <td>2021-21191</td>\n",
       "      <td>2</td>\n",
       "      <td>College of science</td>\n",
       "      <td>Bs geology</td>\n",
       "      <td>1000</td>\n",
       "      <td>No</td>\n",
       "      <td>High Priority</td>\n",
       "      <td>Very High Priority</td>\n",
       "      <td>Very Low Priority</td>\n",
       "      <td>Low Priority</td>\n",
       "      <td>Yes</td>\n",
       "      <td>Moderately Satisfied</td>\n",
       "    </tr>\n",
       "    <tr>\n",
       "      <th>3</th>\n",
       "      <td>10/1/2023 22:58:27</td>\n",
       "      <td>Yes</td>\n",
       "      <td>2022-06241</td>\n",
       "      <td>2</td>\n",
       "      <td>School of economics</td>\n",
       "      <td>Bs economics</td>\n",
       "      <td>3000</td>\n",
       "      <td>No</td>\n",
       "      <td>High Priority</td>\n",
       "      <td>Very Low Priority</td>\n",
       "      <td>Very High Priority</td>\n",
       "      <td>Low Priority</td>\n",
       "      <td>Yes</td>\n",
       "      <td>Completely Satisfied</td>\n",
       "    </tr>\n",
       "    <tr>\n",
       "      <th>4</th>\n",
       "      <td>10/2/2023 10:25:59</td>\n",
       "      <td>Yes</td>\n",
       "      <td>2021-05731</td>\n",
       "      <td>1</td>\n",
       "      <td>College of home economics</td>\n",
       "      <td>Bs clothing technology</td>\n",
       "      <td>1100</td>\n",
       "      <td>No</td>\n",
       "      <td>Low Priority</td>\n",
       "      <td>Very High Priority</td>\n",
       "      <td>High Priority</td>\n",
       "      <td>Very Low Priority</td>\n",
       "      <td>No</td>\n",
       "      <td>Moderately Satisfied</td>\n",
       "    </tr>\n",
       "  </tbody>\n",
       "</table>\n",
       "</div>"
      ],
      "text/plain": [
       "            timestamp data_privacy student_number  year_level  \\\n",
       "0   10/1/2023 9:18:56          Yes     2022-12666           2   \n",
       "1  10/1/2023 14:25:12          Yes     2022-07299           1   \n",
       "2  10/1/2023 21:49:30          Yes     2021-21191           2   \n",
       "3  10/1/2023 22:58:27          Yes     2022-06241           2   \n",
       "4  10/2/2023 10:25:59          Yes     2021-05731           1   \n",
       "\n",
       "                     college                      course  \\\n",
       "0     College of engineering   Bs mechanical engineering   \n",
       "1  Virata school of business  Ba business administration   \n",
       "2         College of science                  Bs geology   \n",
       "3        School of economics                Bs economics   \n",
       "4  College of home economics      Bs clothing technology   \n",
       "\n",
       "   average_weekly_allowance dorm_residency food_allocation_prioritization  \\\n",
       "0                         0             No             Very High Priority   \n",
       "1                      1500            Yes             Very High Priority   \n",
       "2                      1000             No                  High Priority   \n",
       "3                      3000             No                  High Priority   \n",
       "4                      1100             No                   Low Priority   \n",
       "\n",
       "  transportation_allocation_prioritization  \\\n",
       "0                            High Priority   \n",
       "1                             Low Priority   \n",
       "2                       Very High Priority   \n",
       "3                        Very Low Priority   \n",
       "4                       Very High Priority   \n",
       "\n",
       "  personal_expense_allocation_prioritization misc_allocation_prioritization  \\\n",
       "0                          Very Low Priority                   Low Priority   \n",
       "1                              High Priority              Very Low Priority   \n",
       "2                          Very Low Priority                   Low Priority   \n",
       "3                         Very High Priority                   Low Priority   \n",
       "4                              High Priority              Very Low Priority   \n",
       "\n",
       "  weekly_savings budgetting_system_satisfaction  \n",
       "0            Yes           Completely Satisfied  \n",
       "1            Yes           Moderately Satisfied  \n",
       "2            Yes           Moderately Satisfied  \n",
       "3            Yes           Completely Satisfied  \n",
       "4             No           Moderately Satisfied  "
      ]
     },
     "execution_count": 20,
     "metadata": {},
     "output_type": "execute_result"
    }
   ],
   "source": [
    "df.head()"
   ]
  },
  {
   "cell_type": "markdown",
   "id": "5ddc3beb-f31f-400a-8df1-9714d2dac2dc",
   "metadata": {},
   "source": [
    "As we can see, all values in the `average_weekly_allowance` are now transformed into a 32-bit integer data type."
   ]
  },
  {
   "cell_type": "markdown",
   "id": "1d72eb4d-c4cd-438f-84db-7d24ca205e50",
   "metadata": {},
   "source": [
    "### Remaining Features"
   ]
  },
  {
   "cell_type": "markdown",
   "id": "2be4c378-a621-4689-b04b-585b6597c28e",
   "metadata": {},
   "source": [
    "Note that the remaining features aren't manually inputted by the user so there would be no errors in input descriptions. One can validate this that all inputs are indeed within the range of all possible values for all feature."
   ]
  },
  {
   "cell_type": "markdown",
   "id": "db6560d7-5849-421a-9da2-a0060b41398f",
   "metadata": {
    "jp-MarkdownHeadingCollapsed": true
   },
   "source": [
    "## Data Analysis"
   ]
  },
  {
   "cell_type": "markdown",
   "id": "c978d5d5-c638-456e-946a-e4034b191006",
   "metadata": {},
   "source": [
    "### Demographic Analysis"
   ]
  },
  {
   "cell_type": "markdown",
   "id": "736e0ee8-ff72-415d-8b21-d6563471e805",
   "metadata": {},
   "source": [
    "Before we start things off, we can do a quick demographic analysis on Stat 101 - WFR 2 students."
   ]
  },
  {
   "cell_type": "markdown",
   "id": "bed0c79a-d8b8-4600-a76b-58e12476eccb",
   "metadata": {
    "jp-MarkdownHeadingCollapsed": true
   },
   "source": [
    "### College"
   ]
  },
  {
   "cell_type": "markdown",
   "id": "7c934007-1ac9-4faa-a756-ec9834511472",
   "metadata": {},
   "source": [
    "We will utilize a horizontal bar chart to check the college with the most students in Stat 101 WFR 2."
   ]
  },
  {
   "cell_type": "code",
   "execution_count": 21,
   "id": "db53db64-66f7-4aa0-9340-83aa055e8b66",
   "metadata": {},
   "outputs": [
    {
     "data": {
      "text/plain": [
       "college\n",
       "Asian institute of tourism    1\n",
       "College of architecture       1\n",
       "College of education          1\n",
       "College of engineering        6\n",
       "College of home economics     5\n",
       "College of human kinetics     3\n",
       "College of science            2\n",
       "Ncpag                         1\n",
       "School of economics           4\n",
       "Virata school of business     1\n",
       "dtype: int64"
      ]
     },
     "execution_count": 21,
     "metadata": {},
     "output_type": "execute_result"
    }
   ],
   "source": [
    "df.groupby(['college']).size()"
   ]
  },
  {
   "cell_type": "code",
   "execution_count": 22,
   "id": "3e2310d9-bd1f-4661-93fb-6e152bcc830f",
   "metadata": {},
   "outputs": [],
   "source": [
    "college_group = df.groupby(['college']).size().reset_index()\n",
    "college_group.set_index('college', drop=True, inplace=True)"
   ]
  },
  {
   "cell_type": "code",
   "execution_count": 23,
   "id": "b3a0a036-65c1-4358-b294-6c1cc71f597a",
   "metadata": {},
   "outputs": [
    {
     "data": {
      "text/plain": [
       "Index(['Asian institute of tourism', 'College of architecture',\n",
       "       'College of education ', 'College of engineering',\n",
       "       'College of home economics', 'College of human kinetics',\n",
       "       'College of science', 'Ncpag', 'School of economics',\n",
       "       'Virata school of business'],\n",
       "      dtype='object', name='college')"
      ]
     },
     "execution_count": 23,
     "metadata": {},
     "output_type": "execute_result"
    }
   ],
   "source": [
    "college_group.index"
   ]
  },
  {
   "cell_type": "code",
   "execution_count": 24,
   "id": "206ade35-8190-4ed7-b340-6ca4905d256f",
   "metadata": {},
   "outputs": [
    {
     "data": {
      "image/png": "[encoded data removed]",
      "text/plain": [
       "<Figure size 640x480 with 1 Axes>"
      ]
     },
     "metadata": {},
     "output_type": "display_data"
    }
   ],
   "source": [
    "college_data = sorted(zip(college_group.index, df.groupby(['college']).size()), key=lambda x: x[1], reverse=False)\n",
    "categs, values = zip(*college_data)\n",
    "plt.barh(categs, values)\n",
    "plt.xlabel(\"Frequency\")\n",
    "plt.title(\"Student Per College Representation in Stat 101 WFR 2\")\n",
    "plt.show()"
   ]
  },
  {
   "cell_type": "markdown",
   "id": "617096d6-c45d-4e7b-8316-b7d92241e909",
   "metadata": {},
   "source": [
    "As we can see, the College of Engineering has the most students."
   ]
  },
  {
   "cell_type": "markdown",
   "id": "7fb93f14-6212-4b4e-aaa9-947f7fbf24b7",
   "metadata": {
    "jp-MarkdownHeadingCollapsed": true
   },
   "source": [
    "### Year Level"
   ]
  },
  {
   "cell_type": "code",
   "execution_count": 25,
   "id": "a752e1f4-74ae-4d4e-88b6-3983b0843755",
   "metadata": {},
   "outputs": [
    {
     "data": {
      "text/plain": [
       "year_level\n",
       "1     2\n",
       "2    14\n",
       "3     4\n",
       "4     3\n",
       "5     2\n",
       "dtype: int64"
      ]
     },
     "execution_count": 25,
     "metadata": {},
     "output_type": "execute_result"
    }
   ],
   "source": [
    "df.groupby(['year_level']).size()"
   ]
  },
  {
   "cell_type": "code",
   "execution_count": 26,
   "id": "3fcaa679-01ac-4f66-a92c-c282be828504",
   "metadata": {},
   "outputs": [],
   "source": [
    "year_level_group = df.groupby(['year_level']).size().reset_index()\n",
    "year_level_group.set_index('year_level', drop=True, inplace=True)"
   ]
  },
  {
   "cell_type": "code",
   "execution_count": 27,
   "id": "324ed5c3-f2a0-4bf8-9f27-40143068a7a6",
   "metadata": {},
   "outputs": [],
   "source": [
    "year_level_group.index = year_level_group.index.astype('object')"
   ]
  },
  {
   "cell_type": "code",
   "execution_count": 28,
   "id": "4541edb2-d7c2-4300-b796-388990eca08f",
   "metadata": {},
   "outputs": [],
   "source": [
    "year_level_group.columns = ['count']"
   ]
  },
  {
   "cell_type": "code",
   "execution_count": 29,
   "id": "0ee05674-3dd6-426e-94b4-e8b06fd97c63",
   "metadata": {},
   "outputs": [
    {
     "data": {
      "text/plain": [
       "year_level\n",
       "1     2\n",
       "2    14\n",
       "3     4\n",
       "4     3\n",
       "5     2\n",
       "Name: count, dtype: int64"
      ]
     },
     "execution_count": 29,
     "metadata": {},
     "output_type": "execute_result"
    }
   ],
   "source": [
    "year_level_group['count']"
   ]
  },
  {
   "cell_type": "code",
   "execution_count": 30,
   "id": "1ef6dccc-c9d5-44aa-a118-386995dff0b8",
   "metadata": {},
   "outputs": [
    {
     "data": {
      "text/plain": [
       "dtype('O')"
      ]
     },
     "execution_count": 30,
     "metadata": {},
     "output_type": "execute_result"
    }
   ],
   "source": [
    "year_level_group.index.dtype"
   ]
  },
  {
   "cell_type": "code",
   "execution_count": 31,
   "id": "63adc6e2-962a-4ad4-be20-dc72f3416977",
   "metadata": {},
   "outputs": [
    {
     "name": "stdout",
     "output_type": "stream",
     "text": [
      "[(2, 14), (3, 4), (4, 3), (1, 2), (5, 2)]\n"
     ]
    },
    {
     "data": {
      "image/png": "[encoded data removed]",
      "text/plain": [
       "<Figure size 640x480 with 1 Axes>"
      ]
     },
     "metadata": {},
     "output_type": "display_data"
    }
   ],
   "source": [
    "year_level_data = sorted(zip(year_level_group.index, year_level_group['count']), key=lambda x: x[1], reverse=True)\n",
    "print(year_level_data)\n",
    "categs, values = zip(*year_level_data)\n",
    "plt.barh(categs, values,)\n",
    "plt.show()"
   ]
  },
  {
   "cell_type": "markdown",
   "id": "38dc7a70-95f8-4d85-9bc0-64f10695a860",
   "metadata": {},
   "source": [
    "Note that we are having a problem with our barchart as it sorts our data by using the index."
   ]
  },
  {
   "cell_type": "code",
   "execution_count": 32,
   "id": "6a803b1a-e716-4c81-bfac-962eee178f20",
   "metadata": {},
   "outputs": [
    {
     "data": {
      "text/plain": [
       "Index([1, 2, 3, 4, 5], dtype='object', name='year_level')"
      ]
     },
     "execution_count": 32,
     "metadata": {},
     "output_type": "execute_result"
    }
   ],
   "source": [
    "year_level_group.index"
   ]
  },
  {
   "cell_type": "code",
   "execution_count": 33,
   "id": "87e17596-6832-4ebf-8f1b-5eba3d08c889",
   "metadata": {},
   "outputs": [],
   "source": [
    "year_level_group.index = ['First', 'Second', 'Third', 'Fourth', 'Fifth']"
   ]
  },
  {
   "cell_type": "code",
   "execution_count": 34,
   "id": "5308eee6-d900-4068-a47e-b41c04b16a80",
   "metadata": {},
   "outputs": [
    {
     "data": {
      "text/html": [
       "<div>\n",
       "<style scoped>\n",
       "    .dataframe tbody tr th:only-of-type {\n",
       "        vertical-align: middle;\n",
       "    }\n",
       "\n",
       "    .dataframe tbody tr th {\n",
       "        vertical-align: top;\n",
       "    }\n",
       "\n",
       "    .dataframe thead th {\n",
       "        text-align: right;\n",
       "    }\n",
       "</style>\n",
       "<table border=\"1\" class=\"dataframe\">\n",
       "  <thead>\n",
       "    <tr style=\"text-align: right;\">\n",
       "      <th></th>\n",
       "      <th>count</th>\n",
       "    </tr>\n",
       "  </thead>\n",
       "  <tbody>\n",
       "    <tr>\n",
       "      <th>First</th>\n",
       "      <td>2</td>\n",
       "    </tr>\n",
       "    <tr>\n",
       "      <th>Second</th>\n",
       "      <td>14</td>\n",
       "    </tr>\n",
       "    <tr>\n",
       "      <th>Third</th>\n",
       "      <td>4</td>\n",
       "    </tr>\n",
       "    <tr>\n",
       "      <th>Fourth</th>\n",
       "      <td>3</td>\n",
       "    </tr>\n",
       "    <tr>\n",
       "      <th>Fifth</th>\n",
       "      <td>2</td>\n",
       "    </tr>\n",
       "  </tbody>\n",
       "</table>\n",
       "</div>"
      ],
      "text/plain": [
       "        count\n",
       "First       2\n",
       "Second     14\n",
       "Third       4\n",
       "Fourth      3\n",
       "Fifth       2"
      ]
     },
     "execution_count": 34,
     "metadata": {},
     "output_type": "execute_result"
    }
   ],
   "source": [
    "year_level_group"
   ]
  },
  {
   "cell_type": "code",
   "execution_count": 35,
   "id": "c17ab4b5-b6ac-457c-b8b4-9e4ccea564b5",
   "metadata": {},
   "outputs": [
    {
     "name": "stdout",
     "output_type": "stream",
     "text": [
      "[('First', 2), ('Fifth', 2), ('Fourth', 3), ('Third', 4), ('Second', 14)]\n"
     ]
    },
    {
     "data": {
      "image/png": "[encoded data removed]",
      "text/plain": [
       "<Figure size 640x480 with 1 Axes>"
      ]
     },
     "metadata": {},
     "output_type": "display_data"
    }
   ],
   "source": [
    "year_level_data = sorted(zip(year_level_group.index, year_level_group['count']), key=lambda x: x[1], reverse=False)\n",
    "print(year_level_data)\n",
    "categs, values = zip(*year_level_data)\n",
    "plt.barh(categs, values)\n",
    "plt.show()"
   ]
  },
  {
   "cell_type": "markdown",
   "id": "35195b2f-ce9e-4f70-907f-49e2dba94379",
   "metadata": {},
   "source": [
    "After index transformation, we can see that most of the students in our class consists of second year students."
   ]
  },
  {
   "cell_type": "markdown",
   "id": "695045d5-e185-4003-a15a-15155ced07d8",
   "metadata": {
    "jp-MarkdownHeadingCollapsed": true
   },
   "source": [
    "### Course"
   ]
  },
  {
   "cell_type": "markdown",
   "id": "9a035217-76ad-48dc-baf3-54185969af41",
   "metadata": {},
   "source": [
    "We can also do a quick `course` check."
   ]
  },
  {
   "cell_type": "code",
   "execution_count": 36,
   "id": "ab8a5001-9c05-4099-ab62-30cc4eaa1b75",
   "metadata": {},
   "outputs": [
    {
     "data": {
      "text/plain": [
       "course\n",
       "Aa sports studies                          1\n",
       "B landscape architecture                   1\n",
       "B public administration                    1\n",
       "B secondary education                      1\n",
       "B sport science                            1\n",
       "B sports science                           1\n",
       "Ba business administration                 1\n",
       "Bs business economics                      2\n",
       "Bs chemical engineering                    1\n",
       "Bs clothing technology                     1\n",
       "Bs community nutrition                     2\n",
       "Bs computer science                        1\n",
       "Bs economics                               2\n",
       "Bs geodetic engineering                    1\n",
       "Bs geodetic engineering                    1\n",
       "Bs geology                                 1\n",
       "Bs interior design                         2\n",
       "Bs mechanical engineering                  1\n",
       "Bs molecular biology and biotechnology     1\n",
       "Bs tourism                                 1\n",
       "Non-major                                  1\n",
       "dtype: int64"
      ]
     },
     "execution_count": 36,
     "metadata": {},
     "output_type": "execute_result"
    }
   ],
   "source": [
    "df.groupby(['course']).size()"
   ]
  },
  {
   "cell_type": "markdown",
   "id": "0845772c-fde7-4f2d-9aa1-938d79e7df35",
   "metadata": {},
   "source": [
    "As we can see, the courses are pretty varied. The values are either 1 or 2."
   ]
  },
  {
   "cell_type": "markdown",
   "id": "4169c854-727f-46b9-8907-7a31b1d536b4",
   "metadata": {},
   "source": [
    "Before we proceed with our analysis proper, note that the following analyses are comparisons between available features for both dormers and non-dormers."
   ]
  },
  {
   "cell_type": "markdown",
   "id": "bd81537f-807e-4e40-bbf7-555868b04d5e",
   "metadata": {
    "jp-MarkdownHeadingCollapsed": true
   },
   "source": [
    "## Dormers and Non-dormers"
   ]
  },
  {
   "cell_type": "code",
   "execution_count": 21,
   "id": "01db3767-b295-42e9-b4e2-2f228d59220e",
   "metadata": {},
   "outputs": [
    {
     "data": {
      "text/plain": [
       "[12, 13]"
      ]
     },
     "execution_count": 21,
     "metadata": {},
     "output_type": "execute_result"
    }
   ],
   "source": [
    "df.groupby(['dorm_residency']).size().tolist()"
   ]
  },
  {
   "cell_type": "code",
   "execution_count": 22,
   "id": "b18bf28f-d411-4cd4-bd0b-61b6dbd2a29d",
   "metadata": {},
   "outputs": [
    {
     "data": {
      "text/plain": [
       "['No', 'Yes']"
      ]
     },
     "execution_count": 22,
     "metadata": {},
     "output_type": "execute_result"
    }
   ],
   "source": [
    "df['dorm_residency'].unique().tolist()"
   ]
  },
  {
   "cell_type": "code",
   "execution_count": 27,
   "id": "61ed0c7d-1da3-4ee0-b8c6-c01ab92ee0eb",
   "metadata": {},
   "outputs": [
    {
     "data": {
      "image/png": "[encoded data removed]",
      "text/plain": [
       "<Figure size 640x480 with 1 Axes>"
      ]
     },
     "metadata": {},
     "output_type": "display_data"
    }
   ],
   "source": [
    "plt.pie(x=df.groupby(['dorm_residency']).size().tolist(), labels=df['dorm_residency'].unique().tolist(),  autopct='%1.1f%%', startangle=90)\n",
    "plt.title(\"Dorm Residency\")\n",
    "plt.show()"
   ]
  },
  {
   "cell_type": "markdown",
   "id": "d986b30c-73e7-44f9-873a-4ebb8269e698",
   "metadata": {},
   "source": [
    "As we can see from the above pie chart, there is a good cut between dormers and non-dormers for the Stat 101 WFR-2 class."
   ]
  },
  {
   "cell_type": "markdown",
   "id": "a7feb305-ebbd-4903-8bf3-4634b583ec80",
   "metadata": {},
   "source": [
    "### Average Weekly Allowance"
   ]
  },
  {
   "cell_type": "markdown",
   "id": "adf2ec94-71b1-4659-9a8c-e4c9d133553c",
   "metadata": {},
   "source": [
    "Now, we perform discrepancies between the average weekly allowance of dormers and non-dormers."
   ]
  },
  {
   "cell_type": "markdown",
   "id": "cab13a62-7eb5-42f4-b32c-fd0649543b3f",
   "metadata": {},
   "source": [
    "Before that, let's first check the data as a whole."
   ]
  },
  {
   "cell_type": "code",
   "execution_count": 44,
   "id": "53777d58-674f-4960-871f-61544c6ef27d",
   "metadata": {},
   "outputs": [
    {
     "data": {
      "image/png": "[encoded data removed]",
      "text/plain": [
       "<Figure size 640x480 with 1 Axes>"
      ]
     },
     "metadata": {},
     "output_type": "display_data"
    }
   ],
   "source": [
    "plt.hist(df['average_weekly_allowance'], edgecolor='black', alpha=0.7)\n",
    "plt.show()"
   ]
  },
  {
   "cell_type": "code",
   "execution_count": 45,
   "id": "a5833f94-dffc-4603-b642-5931907af9b6",
   "metadata": {},
   "outputs": [
    {
     "data": {
      "text/html": [
       "<div>\n",
       "<style scoped>\n",
       "    .dataframe tbody tr th:only-of-type {\n",
       "        vertical-align: middle;\n",
       "    }\n",
       "\n",
       "    .dataframe tbody tr th {\n",
       "        vertical-align: top;\n",
       "    }\n",
       "\n",
       "    .dataframe thead th {\n",
       "        text-align: right;\n",
       "    }\n",
       "</style>\n",
       "<table border=\"1\" class=\"dataframe\">\n",
       "  <thead>\n",
       "    <tr style=\"text-align: right;\">\n",
       "      <th></th>\n",
       "      <th>average_weekly_allowance</th>\n",
       "      <th>0</th>\n",
       "    </tr>\n",
       "  </thead>\n",
       "  <tbody>\n",
       "    <tr>\n",
       "      <th>0</th>\n",
       "      <td>0</td>\n",
       "      <td>1</td>\n",
       "    </tr>\n",
       "    <tr>\n",
       "      <th>1</th>\n",
       "      <td>500</td>\n",
       "      <td>1</td>\n",
       "    </tr>\n",
       "    <tr>\n",
       "      <th>2</th>\n",
       "      <td>1000</td>\n",
       "      <td>6</td>\n",
       "    </tr>\n",
       "    <tr>\n",
       "      <th>3</th>\n",
       "      <td>1100</td>\n",
       "      <td>1</td>\n",
       "    </tr>\n",
       "    <tr>\n",
       "      <th>4</th>\n",
       "      <td>1250</td>\n",
       "      <td>1</td>\n",
       "    </tr>\n",
       "    <tr>\n",
       "      <th>5</th>\n",
       "      <td>1300</td>\n",
       "      <td>1</td>\n",
       "    </tr>\n",
       "    <tr>\n",
       "      <th>6</th>\n",
       "      <td>1500</td>\n",
       "      <td>7</td>\n",
       "    </tr>\n",
       "    <tr>\n",
       "      <th>7</th>\n",
       "      <td>2000</td>\n",
       "      <td>1</td>\n",
       "    </tr>\n",
       "    <tr>\n",
       "      <th>8</th>\n",
       "      <td>2500</td>\n",
       "      <td>1</td>\n",
       "    </tr>\n",
       "    <tr>\n",
       "      <th>9</th>\n",
       "      <td>3000</td>\n",
       "      <td>3</td>\n",
       "    </tr>\n",
       "    <tr>\n",
       "      <th>10</th>\n",
       "      <td>3500</td>\n",
       "      <td>2</td>\n",
       "    </tr>\n",
       "  </tbody>\n",
       "</table>\n",
       "</div>"
      ],
      "text/plain": [
       "    average_weekly_allowance  0\n",
       "0                          0  1\n",
       "1                        500  1\n",
       "2                       1000  6\n",
       "3                       1100  1\n",
       "4                       1250  1\n",
       "5                       1300  1\n",
       "6                       1500  7\n",
       "7                       2000  1\n",
       "8                       2500  1\n",
       "9                       3000  3\n",
       "10                      3500  2"
      ]
     },
     "execution_count": 45,
     "metadata": {},
     "output_type": "execute_result"
    }
   ],
   "source": [
    "df.groupby(['average_weekly_allowance']).size().reset_index()"
   ]
  },
  {
   "cell_type": "code",
   "execution_count": 46,
   "id": "bfccb2b4-b2e9-4d5f-a068-ea1fe61704fc",
   "metadata": {},
   "outputs": [
    {
     "data": {
      "text/html": [
       "<div>\n",
       "<style scoped>\n",
       "    .dataframe tbody tr th:only-of-type {\n",
       "        vertical-align: middle;\n",
       "    }\n",
       "\n",
       "    .dataframe tbody tr th {\n",
       "        vertical-align: top;\n",
       "    }\n",
       "\n",
       "    .dataframe thead th {\n",
       "        text-align: right;\n",
       "    }\n",
       "</style>\n",
       "<table border=\"1\" class=\"dataframe\">\n",
       "  <thead>\n",
       "    <tr style=\"text-align: right;\">\n",
       "      <th></th>\n",
       "      <th>0</th>\n",
       "    </tr>\n",
       "    <tr>\n",
       "      <th>average_weekly_allowance</th>\n",
       "      <th></th>\n",
       "    </tr>\n",
       "  </thead>\n",
       "  <tbody>\n",
       "    <tr>\n",
       "      <th>0</th>\n",
       "      <td>1</td>\n",
       "    </tr>\n",
       "    <tr>\n",
       "      <th>500</th>\n",
       "      <td>1</td>\n",
       "    </tr>\n",
       "    <tr>\n",
       "      <th>1000</th>\n",
       "      <td>6</td>\n",
       "    </tr>\n",
       "    <tr>\n",
       "      <th>1100</th>\n",
       "      <td>1</td>\n",
       "    </tr>\n",
       "    <tr>\n",
       "      <th>1250</th>\n",
       "      <td>1</td>\n",
       "    </tr>\n",
       "    <tr>\n",
       "      <th>1300</th>\n",
       "      <td>1</td>\n",
       "    </tr>\n",
       "    <tr>\n",
       "      <th>1500</th>\n",
       "      <td>7</td>\n",
       "    </tr>\n",
       "    <tr>\n",
       "      <th>2000</th>\n",
       "      <td>1</td>\n",
       "    </tr>\n",
       "    <tr>\n",
       "      <th>2500</th>\n",
       "      <td>1</td>\n",
       "    </tr>\n",
       "    <tr>\n",
       "      <th>3000</th>\n",
       "      <td>3</td>\n",
       "    </tr>\n",
       "    <tr>\n",
       "      <th>3500</th>\n",
       "      <td>2</td>\n",
       "    </tr>\n",
       "  </tbody>\n",
       "</table>\n",
       "</div>"
      ],
      "text/plain": [
       "                          0\n",
       "average_weekly_allowance   \n",
       "0                         1\n",
       "500                       1\n",
       "1000                      6\n",
       "1100                      1\n",
       "1250                      1\n",
       "1300                      1\n",
       "1500                      7\n",
       "2000                      1\n",
       "2500                      1\n",
       "3000                      3\n",
       "3500                      2"
      ]
     },
     "execution_count": 46,
     "metadata": {},
     "output_type": "execute_result"
    }
   ],
   "source": [
    "average_weekly_allowance = df.groupby(['average_weekly_allowance']).size().reset_index()\n",
    "average_weekly_allowance.set_index('average_weekly_allowance')"
   ]
  },
  {
   "cell_type": "code",
   "execution_count": 47,
   "id": "c41bfc9b-c92c-42a5-bc0e-c51a0d09109d",
   "metadata": {},
   "outputs": [
    {
     "data": {
      "image/png": "[encoded data removed]",
      "text/plain": [
       "<Figure size 640x480 with 1 Axes>"
      ]
     },
     "metadata": {},
     "output_type": "display_data"
    }
   ],
   "source": [
    "df.boxplot(column=['average_weekly_allowance'])\n",
    "plt.grid(False)\n",
    "plt.show()"
   ]
  },
  {
   "cell_type": "markdown",
   "id": "1f2dbe42-1a1d-40a2-a7a6-8c7fd49c258c",
   "metadata": {},
   "source": [
    "The boxplot above shows that there are no outliers in average weekly allowance feature because all of the values in the dataset are within 3 standard deviations from the median but note that it is quite interesting that the minimum value for the average weekly allowance is 0 for someone who is not residing on any dormitory near UP Diliman."
   ]
  },
  {
   "cell_type": "markdown",
   "id": "11055a23-de67-4569-956d-14cc7f364dad",
   "metadata": {},
   "source": [
    "The boxplot above also shows that the median value is at Php1500 and most of the input values are within the range Php1000 and Php2000."
   ]
  },
  {
   "cell_type": "markdown",
   "id": "237f96a4-5431-417f-8001-720d2ecfb677",
   "metadata": {},
   "source": [
    "Now we perform cross tabulation between dormers and non-dormers."
   ]
  },
  {
   "cell_type": "code",
   "execution_count": 48,
   "id": "f56ee8f0-5d6f-46a4-ba7c-6e9ba448dc97",
   "metadata": {},
   "outputs": [
    {
     "data": {
      "text/html": [
       "<div>\n",
       "<style scoped>\n",
       "    .dataframe tbody tr th:only-of-type {\n",
       "        vertical-align: middle;\n",
       "    }\n",
       "\n",
       "    .dataframe tbody tr th {\n",
       "        vertical-align: top;\n",
       "    }\n",
       "\n",
       "    .dataframe thead th {\n",
       "        text-align: right;\n",
       "    }\n",
       "</style>\n",
       "<table border=\"1\" class=\"dataframe\">\n",
       "  <thead>\n",
       "    <tr style=\"text-align: right;\">\n",
       "      <th></th>\n",
       "      <th>average_weekly_allowance</th>\n",
       "    </tr>\n",
       "    <tr>\n",
       "      <th>dorm_residency</th>\n",
       "      <th></th>\n",
       "    </tr>\n",
       "  </thead>\n",
       "  <tbody>\n",
       "    <tr>\n",
       "      <th>No</th>\n",
       "      <td>1679.166667</td>\n",
       "    </tr>\n",
       "    <tr>\n",
       "      <th>Yes</th>\n",
       "      <td>1615.384615</td>\n",
       "    </tr>\n",
       "  </tbody>\n",
       "</table>\n",
       "</div>"
      ],
      "text/plain": [
       "                average_weekly_allowance\n",
       "dorm_residency                          \n",
       "No                           1679.166667\n",
       "Yes                          1615.384615"
      ]
     },
     "execution_count": 48,
     "metadata": {},
     "output_type": "execute_result"
    }
   ],
   "source": [
    "df.groupby(['dorm_residency']).agg({\n",
    "    'average_weekly_allowance': 'mean'\n",
    "})"
   ]
  },
  {
   "cell_type": "markdown",
   "id": "b31fc94e-798c-4ad3-a7c2-a6c2abaa8d21",
   "metadata": {},
   "source": [
    "From the above grouping, we can see that the weekly allowance of non-dormers are slightly higher compared to dormers."
   ]
  },
  {
   "cell_type": "code",
   "execution_count": 53,
   "id": "8b1f397b-c6b7-4ac5-a1c7-0a1c33abc746",
   "metadata": {},
   "outputs": [
    {
     "data": {
      "image/png": "[encoded data removed]",
      "text/plain": [
       "<Figure size 640x480 with 1 Axes>"
      ]
     },
     "metadata": {},
     "output_type": "display_data"
    }
   ],
   "source": [
    "plt.hist(df[df['dorm_residency'] == 'No']['average_weekly_allowance'], edgecolor='white', alpha=0.7)\n",
    "plt.hist(df[df['dorm_residency'] == 'Yes']['average_weekly_allowance'], edgecolor='white', alpha=0.7)\n",
    "plt.show()"
   ]
  },
  {
   "cell_type": "markdown",
   "id": "60aadf45-efbc-4474-bdd6-67ac4dbed1e5",
   "metadata": {},
   "source": [
    "The histograms above doesn't really look good but the amount of non-dormers that has allowance beyond Php2000 are more frequent compared to dormers."
   ]
  },
  {
   "cell_type": "markdown",
   "id": "e18f729e-82c9-4899-8c7d-2a8939fda080",
   "metadata": {
    "jp-MarkdownHeadingCollapsed": true
   },
   "source": [
    "## Expenditure Allocation"
   ]
  },
  {
   "cell_type": "markdown",
   "id": "a3ef8ecb-f6cf-4382-a8ac-f5f4f418ab0c",
   "metadata": {},
   "source": [
    "Note that the labels for the `*_allocation_prioritization` features utilizes categorical values."
   ]
  },
  {
   "cell_type": "markdown",
   "id": "99e77b77-c8b6-4cb0-8c2e-1493c513eae5",
   "metadata": {},
   "source": [
    "Before we provide insights between budget allocation of dormers and non-dormers, let us first take a quick insight of the whole dataset by graphing the prioritization of each category."
   ]
  },
  {
   "cell_type": "markdown",
   "id": "ff38860f-fb95-4823-bf93-0091b17a08e5",
   "metadata": {},
   "source": [
    "### Food Allocation Prioritization"
   ]
  },
  {
   "cell_type": "code",
   "execution_count": 66,
   "id": "61014aea-b08c-4244-9ecb-48f42a734222",
   "metadata": {},
   "outputs": [],
   "source": [
    "food_alloc = df.groupby('food_allocation_prioritization').size().reset_index()\n",
    "food_alloc.set_index('food_allocation_prioritization', drop=True, inplace=True)\n",
    "food_alloc.columns = ['count']"
   ]
  },
  {
   "cell_type": "code",
   "execution_count": 68,
   "id": "274b5b12-f7d4-4621-9bb9-3cbc8a0c3462",
   "metadata": {},
   "outputs": [
    {
     "data": {
      "image/png": "[encoded data removed]",
      "text/plain": [
       "<Figure size 640x480 with 1 Axes>"
      ]
     },
     "metadata": {},
     "output_type": "display_data"
    }
   ],
   "source": [
    "food_prio_data = sorted(zip(food_alloc.index, food_alloc['count']), key=lambda x: x[1], reverse=False)\n",
    "categs, values = zip(*food_prio_data)\n",
    "plt.barh(categs, values)\n",
    "plt.xlabel('Student Count')\n",
    "plt.title('Food Budget Prioritization')\n",
    "plt.show()"
   ]
  },
  {
   "cell_type": "markdown",
   "id": "7ad409ad-225f-4bf7-844e-2d6d95541bbd",
   "metadata": {},
   "source": [
    "### Transportation Allocation Prioritization"
   ]
  },
  {
   "cell_type": "code",
   "execution_count": 69,
   "id": "5e232f7b-595b-4c18-b139-852343157ee9",
   "metadata": {},
   "outputs": [],
   "source": [
    "transpo_alloc = df.groupby('transportation_allocation_prioritization').size().reset_index()\n",
    "transpo_alloc.set_index('transportation_allocation_prioritization', drop=True, inplace=True)\n",
    "transpo_alloc.columns = ['count']"
   ]
  },
  {
   "cell_type": "code",
   "execution_count": 70,
   "id": "aece5818-b4bb-43ce-9c35-e6b400ce7d53",
   "metadata": {},
   "outputs": [
    {
     "data": {
      "image/png": "[encoded data removed]",
      "text/plain": [
       "<Figure size 640x480 with 1 Axes>"
      ]
     },
     "metadata": {},
     "output_type": "display_data"
    }
   ],
   "source": [
    "transpo_prio_data = sorted(zip(transpo_alloc.index, transpo_alloc['count']), key=lambda x: x[1], reverse=False)\n",
    "categs, values = zip(*transpo_prio_data)\n",
    "plt.barh(categs, values)\n",
    "plt.xlabel('Student Count')\n",
    "plt.title('Transportation Budget Prioritization')\n",
    "plt.show()"
   ]
  },
  {
   "cell_type": "markdown",
   "id": "5989fb2c-6947-4c7e-8398-5c41d7245094",
   "metadata": {},
   "source": [
    "### Personal Expenses Allocation Prioritization"
   ]
  },
  {
   "cell_type": "code",
   "execution_count": 71,
   "id": "35bd21ff-c863-402d-880e-d0a97b167c39",
   "metadata": {},
   "outputs": [],
   "source": [
    "personal_expense_alloc = df.groupby('personal_expense_allocation_prioritization').size().reset_index()\n",
    "personal_expense_alloc.set_index('personal_expense_allocation_prioritization', drop=True, inplace=True)\n",
    "personal_expense_alloc.columns = ['count']"
   ]
  },
  {
   "cell_type": "code",
   "execution_count": 72,
   "id": "be2cb062-8a9a-4e6c-bf40-dfd9d123cd2c",
   "metadata": {},
   "outputs": [
    {
     "data": {
      "image/png": "[encoded data removed]",
      "text/plain": [
       "<Figure size 640x480 with 1 Axes>"
      ]
     },
     "metadata": {},
     "output_type": "display_data"
    }
   ],
   "source": [
    "personal_expense_prio_data = sorted(zip(personal_expense_alloc.index, personal_expense_alloc['count']), key=lambda x: x[1], reverse=False)\n",
    "categs, values = zip(*personal_expense_prio_data)\n",
    "plt.barh(categs, values)\n",
    "plt.xlabel('Student Count')\n",
    "plt.title('Personal Expense Budget Prioritization')\n",
    "plt.show()"
   ]
  },
  {
   "cell_type": "markdown",
   "id": "c717a20b-a3e0-47bd-a64d-de552316bd50",
   "metadata": {},
   "source": [
    "### Miscellaneous Allocation Prioritization"
   ]
  },
  {
   "cell_type": "code",
   "execution_count": 73,
   "id": "9347c38d-681e-45cd-a3dc-eff3f90e459f",
   "metadata": {},
   "outputs": [],
   "source": [
    "misc_alloc = df.groupby('misc_allocation_prioritization').size().reset_index()\n",
    "misc_alloc.set_index('misc_allocation_prioritization', drop=True, inplace=True)\n",
    "misc_alloc.columns = ['count']"
   ]
  },
  {
   "cell_type": "code",
   "execution_count": 75,
   "id": "072b0e5b-665e-4839-8b28-a6eae41ae467",
   "metadata": {},
   "outputs": [
    {
     "data": {
      "image/png": "[encoded data removed]",
      "text/plain": [
       "<Figure size 640x480 with 1 Axes>"
      ]
     },
     "metadata": {},
     "output_type": "display_data"
    }
   ],
   "source": [
    "misc_prio_data = sorted(zip(misc_alloc.index, misc_alloc['count']), key=lambda x: x[1], reverse=False)\n",
    "categs, values = zip(*misc_prio_data)\n",
    "plt.barh(categs, values)\n",
    "plt.xlabel('Student Count')\n",
    "plt.title('Miscellaneous Budget Prioritization')\n",
    "plt.show()"
   ]
  },
  {
   "cell_type": "markdown",
   "id": "eef2e3c3-5484-4bdc-9bb1-e5eb1448fbe8",
   "metadata": {},
   "source": [
    "From the bar graphs shown above, we can see a clear cut prioritization on how students of Stat 101 WFR - 2 allocate their budget. There are no ties between labels which could result on conflicts on which allocation is better as the labels for the feature are all categorical."
   ]
  },
  {
   "cell_type": "markdown",
   "id": "3bc5b8d9-464b-43c2-8b60-c08ddcd404a3",
   "metadata": {},
   "source": [
    "We now check if this is still true for both dormers and non-dormers."
   ]
  },
  {
   "cell_type": "markdown",
   "id": "7f268a9b-7e94-4317-a869-f8727c7bb743",
   "metadata": {
    "jp-MarkdownHeadingCollapsed": true
   },
   "source": [
    "### Dormers"
   ]
  },
  {
   "cell_type": "markdown",
   "id": "bb6e170b-b6c2-4c67-adb9-55d87f1d13ad",
   "metadata": {},
   "source": [
    "#### Food Allocation Prioritization"
   ]
  },
  {
   "cell_type": "code",
   "execution_count": 76,
   "id": "eb3ef2ed-e5fa-4948-8d51-fc5b4a7c0906",
   "metadata": {},
   "outputs": [
    {
     "data": {
      "image/png": "[encoded data removed]",
      "text/plain": [
       "<Figure size 640x480 with 1 Axes>"
      ]
     },
     "metadata": {},
     "output_type": "display_data"
    }
   ],
   "source": [
    "food_alloc = df[df['dorm_residency'] == 'Yes'].groupby('food_allocation_prioritization').size().reset_index()\n",
    "food_alloc.set_index('food_allocation_prioritization', drop=True, inplace=True)\n",
    "food_alloc.columns = ['count']\n",
    "food_prio_data = sorted(zip(food_alloc.index, food_alloc['count']), key=lambda x: x[1], reverse=False)\n",
    "categs, values = zip(*food_prio_data)\n",
    "plt.barh(categs, values)\n",
    "plt.xlabel('Student Count')\n",
    "plt.title('Food Budget Prioritization')\n",
    "plt.show()"
   ]
  },
  {
   "cell_type": "markdown",
   "id": "faa4127c-df9e-408c-ae8d-b975b8dd3875",
   "metadata": {},
   "source": [
    "#### Transportation Allocation Prioritization"
   ]
  },
  {
   "cell_type": "code",
   "execution_count": 77,
   "id": "e6fce4fc-7afe-4cc6-b25e-d0bad4342f37",
   "metadata": {},
   "outputs": [
    {
     "data": {
      "image/png": "[encoded data removed]",
      "text/plain": [
       "<Figure size 640x480 with 1 Axes>"
      ]
     },
     "metadata": {},
     "output_type": "display_data"
    }
   ],
   "source": [
    "transpo_alloc = df[df['dorm_residency'] == 'Yes'].groupby('transportation_allocation_prioritization').size().reset_index()\n",
    "transpo_alloc.set_index('transportation_allocation_prioritization', drop=True, inplace=True)\n",
    "transpo_alloc.columns = ['count']\n",
    "transpo_prio_data = sorted(zip(transpo_alloc.index, transpo_alloc['count']), key=lambda x: x[1], reverse=False)\n",
    "categs, values = zip(*transpo_prio_data)\n",
    "plt.barh(categs, values)\n",
    "plt.xlabel('Student Count')\n",
    "plt.title('Transportation Budget Prioritization')\n",
    "plt.show()"
   ]
  },
  {
   "cell_type": "markdown",
   "id": "07063e20-edd6-4fc5-9e35-be5520ffa729",
   "metadata": {},
   "source": [
    "#### Personal Expense Allocation Prioritization"
   ]
  },
  {
   "cell_type": "code",
   "execution_count": 78,
   "id": "15e3bce2-c187-4da2-9f99-673e528ab056",
   "metadata": {},
   "outputs": [
    {
     "data": {
      "image/png": "[encoded data removed]",
      "text/plain": [
       "<Figure size 640x480 with 1 Axes>"
      ]
     },
     "metadata": {},
     "output_type": "display_data"
    }
   ],
   "source": [
    "personal_expense_alloc = df[df['dorm_residency'] == 'Yes'].groupby('personal_expense_allocation_prioritization').size().reset_index()\n",
    "personal_expense_alloc.set_index('personal_expense_allocation_prioritization', drop=True, inplace=True)\n",
    "personal_expense_alloc.columns = ['count']\n",
    "personal_expense_prio_data = sorted(zip(personal_expense_alloc.index, personal_expense_alloc['count']), key=lambda x: x[1], reverse=False)\n",
    "categs, values = zip(*personal_expense_prio_data)\n",
    "plt.barh(categs, values)\n",
    "plt.xlabel('Student Count')\n",
    "plt.title('Personal Expense Budget Prioritization')\n",
    "plt.show()"
   ]
  },
  {
   "cell_type": "markdown",
   "id": "e9083621-fda4-436b-9d6f-99dd410a59f5",
   "metadata": {},
   "source": [
    "#### Miscellaneous Expense Allocation Prioritization"
   ]
  },
  {
   "cell_type": "code",
   "execution_count": 79,
   "id": "7511c30a-23eb-4156-a888-61e58c7b78f6",
   "metadata": {},
   "outputs": [
    {
     "data": {
      "image/png": "[encoded data removed]",
      "text/plain": [
       "<Figure size 640x480 with 1 Axes>"
      ]
     },
     "metadata": {},
     "output_type": "display_data"
    }
   ],
   "source": [
    "misc_alloc = df[df['dorm_residency'] == 'Yes'].groupby('misc_allocation_prioritization').size().reset_index()\n",
    "misc_alloc.set_index('misc_allocation_prioritization', drop=True, inplace=True)\n",
    "misc_alloc.columns = ['count']\n",
    "misc_prio_data = sorted(zip(misc_alloc.index, misc_alloc['count']), key=lambda x: x[1], reverse=False)\n",
    "categs, values = zip(*misc_prio_data)\n",
    "plt.barh(categs, values)\n",
    "plt.xlabel('Student Count')\n",
    "plt.title('Miscellaneous Budget Prioritization')\n",
    "plt.show()"
   ]
  },
  {
   "cell_type": "markdown",
   "id": "3ab5b7ee-7519-4c03-9470-a4233f681618",
   "metadata": {
    "jp-MarkdownHeadingCollapsed": true
   },
   "source": [
    "### Non-Dormers"
   ]
  },
  {
   "cell_type": "markdown",
   "id": "80f4321f-6ab4-47e4-abb7-3e42efb785dd",
   "metadata": {},
   "source": [
    "#### Food Allocation Prioritization"
   ]
  },
  {
   "cell_type": "code",
   "execution_count": 80,
   "id": "ae732992-2fd6-4142-a92b-cb56eea713ff",
   "metadata": {},
   "outputs": [
    {
     "data": {
      "image/png": "[encoded data removed]",
      "text/plain": [
       "<Figure size 640x480 with 1 Axes>"
      ]
     },
     "metadata": {},
     "output_type": "display_data"
    }
   ],
   "source": [
    "food_alloc = df[df['dorm_residency'] == 'No'].groupby('food_allocation_prioritization').size().reset_index()\n",
    "food_alloc.set_index('food_allocation_prioritization', drop=True, inplace=True)\n",
    "food_alloc.columns = ['count']\n",
    "food_prio_data = sorted(zip(food_alloc.index, food_alloc['count']), key=lambda x: x[1], reverse=False)\n",
    "categs, values = zip(*food_prio_data)\n",
    "plt.barh(categs, values)\n",
    "plt.xlabel('Student Count')\n",
    "plt.title('Food Budget Prioritization')\n",
    "plt.show()"
   ]
  },
  {
   "cell_type": "markdown",
   "id": "632b0a52-cfd9-4860-83f9-fe8ec624e23c",
   "metadata": {},
   "source": [
    "#### Transportation Allocation Prioritization"
   ]
  },
  {
   "cell_type": "code",
   "execution_count": 81,
   "id": "f58dacd5-6bca-45f4-b4e2-cf832cb25a0d",
   "metadata": {},
   "outputs": [
    {
     "data": {
      "image/png": "[encoded data removed]",
      "text/plain": [
       "<Figure size 640x480 with 1 Axes>"
      ]
     },
     "metadata": {},
     "output_type": "display_data"
    }
   ],
   "source": [
    "transpo_alloc = df[df['dorm_residency'] == 'No'].groupby('transportation_allocation_prioritization').size().reset_index()\n",
    "transpo_alloc.set_index('transportation_allocation_prioritization', drop=True, inplace=True)\n",
    "transpo_alloc.columns = ['count']\n",
    "transpo_prio_data = sorted(zip(transpo_alloc.index, transpo_alloc['count']), key=lambda x: x[1], reverse=False)\n",
    "categs, values = zip(*transpo_prio_data)\n",
    "plt.barh(categs, values)\n",
    "plt.xlabel('Student Count')\n",
    "plt.title('Transportation Budget Prioritization')\n",
    "plt.show()"
   ]
  },
  {
   "cell_type": "markdown",
   "id": "299e5606-89e3-44be-88d9-c3c1800f30b7",
   "metadata": {},
   "source": [
    "#### Personal Expense Allocation Prioritization"
   ]
  },
  {
   "cell_type": "code",
   "execution_count": 82,
   "id": "176c62bc-3568-42b4-96f9-e91e878cea14",
   "metadata": {},
   "outputs": [
    {
     "data": {
      "image/png": "[encoded data removed]",
      "text/plain": [
       "<Figure size 640x480 with 1 Axes>"
      ]
     },
     "metadata": {},
     "output_type": "display_data"
    }
   ],
   "source": [
    "personal_expense_alloc = df[df['dorm_residency'] == 'No'].groupby('personal_expense_allocation_prioritization').size().reset_index()\n",
    "personal_expense_alloc.set_index('personal_expense_allocation_prioritization', drop=True, inplace=True)\n",
    "personal_expense_alloc.columns = ['count']\n",
    "personal_expense_prio_data = sorted(zip(personal_expense_alloc.index, personal_expense_alloc['count']), key=lambda x: x[1], reverse=False)\n",
    "categs, values = zip(*personal_expense_prio_data)\n",
    "plt.barh(categs, values)\n",
    "plt.xlabel('Student Count')\n",
    "plt.title('Personal Expense Budget Prioritization')\n",
    "plt.show()"
   ]
  },
  {
   "cell_type": "markdown",
   "id": "6c1b52f2-d570-409e-ac2e-e17cdba881de",
   "metadata": {},
   "source": [
    "#### Miscellaneous Allocation Prioritization"
   ]
  },
  {
   "cell_type": "code",
   "execution_count": 83,
   "id": "64473c4a-6ad5-4c7f-8741-502a49844125",
   "metadata": {},
   "outputs": [
    {
     "data": {
      "image/png": "[encoded data removed]",
      "text/plain": [
       "<Figure size 640x480 with 1 Axes>"
      ]
     },
     "metadata": {},
     "output_type": "display_data"
    }
   ],
   "source": [
    "misc_alloc = df[df['dorm_residency'] == 'No'].groupby('misc_allocation_prioritization').size().reset_index()\n",
    "misc_alloc.set_index('misc_allocation_prioritization', drop=True, inplace=True)\n",
    "misc_alloc.columns = ['count']\n",
    "misc_prio_data = sorted(zip(misc_alloc.index, misc_alloc['count']), key=lambda x: x[1], reverse=False)\n",
    "categs, values = zip(*misc_prio_data)\n",
    "plt.barh(categs, values)\n",
    "plt.xlabel('Student Count')\n",
    "plt.title('Miscellaneous Budget Prioritization')\n",
    "plt.show()"
   ]
  },
  {
   "cell_type": "markdown",
   "id": "f16d4f48-8ba1-4264-9506-cc8ba3696aa6",
   "metadata": {},
   "source": [
    "As we can see from the graphs shown above, there is a similarity between the prioritization done by dormers and non-dormers."
   ]
  },
  {
   "cell_type": "markdown",
   "id": "8ec1d316-a702-4b32-bb45-51a6d1dcc6fb",
   "metadata": {},
   "source": [
    "## Weekly Savings"
   ]
  },
  {
   "cell_type": "code",
   "execution_count": 84,
   "id": "60cc4b7e-1702-4652-aba0-2701df2cc98c",
   "metadata": {},
   "outputs": [],
   "source": [
    "cross_tab_weekly_savings_vs_residency = df.groupby([\n",
    "    'dorm_residency',\n",
    "    'weekly_savings',\n",
    "]).size().reset_index()\n",
    "cross_tab_weekly_savings_vs_residency.columns = ['dorm_residency', 'weekly_savings', 'count']"
   ]
  },
  {
   "cell_type": "code",
   "execution_count": 85,
   "id": "9319e454-1bca-4585-802d-0a172faafb73",
   "metadata": {},
   "outputs": [
    {
     "data": {
      "text/html": [
       "<div>\n",
       "<style scoped>\n",
       "    .dataframe tbody tr th:only-of-type {\n",
       "        vertical-align: middle;\n",
       "    }\n",
       "\n",
       "    .dataframe tbody tr th {\n",
       "        vertical-align: top;\n",
       "    }\n",
       "\n",
       "    .dataframe thead th {\n",
       "        text-align: right;\n",
       "    }\n",
       "</style>\n",
       "<table border=\"1\" class=\"dataframe\">\n",
       "  <thead>\n",
       "    <tr style=\"text-align: right;\">\n",
       "      <th></th>\n",
       "      <th>dorm_residency</th>\n",
       "      <th>weekly_savings</th>\n",
       "      <th>count</th>\n",
       "    </tr>\n",
       "  </thead>\n",
       "  <tbody>\n",
       "    <tr>\n",
       "      <th>0</th>\n",
       "      <td>No</td>\n",
       "      <td>No</td>\n",
       "      <td>2</td>\n",
       "    </tr>\n",
       "    <tr>\n",
       "      <th>1</th>\n",
       "      <td>No</td>\n",
       "      <td>Yes</td>\n",
       "      <td>10</td>\n",
       "    </tr>\n",
       "    <tr>\n",
       "      <th>2</th>\n",
       "      <td>Yes</td>\n",
       "      <td>No</td>\n",
       "      <td>3</td>\n",
       "    </tr>\n",
       "    <tr>\n",
       "      <th>3</th>\n",
       "      <td>Yes</td>\n",
       "      <td>Yes</td>\n",
       "      <td>10</td>\n",
       "    </tr>\n",
       "  </tbody>\n",
       "</table>\n",
       "</div>"
      ],
      "text/plain": [
       "  dorm_residency weekly_savings  count\n",
       "0             No             No      2\n",
       "1             No            Yes     10\n",
       "2            Yes             No      3\n",
       "3            Yes            Yes     10"
      ]
     },
     "execution_count": 85,
     "metadata": {},
     "output_type": "execute_result"
    }
   ],
   "source": [
    "cross_tab_weekly_savings_vs_residency"
   ]
  },
  {
   "cell_type": "markdown",
   "id": "42ad4cd1-860b-4119-9021-5def54e24a66",
   "metadata": {},
   "source": [
    "### Dormers"
   ]
  },
  {
   "cell_type": "code",
   "execution_count": 89,
   "id": "7300e90d-e08d-4149-964b-234ce36a8415",
   "metadata": {},
   "outputs": [
    {
     "data": {
      "image/png": "[encoded data removed]",
      "text/plain": [
       "<Figure size 640x480 with 1 Axes>"
      ]
     },
     "metadata": {},
     "output_type": "display_data"
    }
   ],
   "source": [
    "plt.pie(x=df[df['dorm_residency'] == 'Yes'].groupby(['weekly_savings']).size(),\n",
    "        labels=['No', 'Yes'],  autopct='%1.1f%%', startangle=90)\n",
    "plt.title(\"Weekly Savings\")\n",
    "plt.show()"
   ]
  },
  {
   "cell_type": "markdown",
   "id": "9c424cd9-5821-4f0b-88ea-81966ab63ace",
   "metadata": {},
   "source": [
    "### Non-dormers"
   ]
  },
  {
   "cell_type": "code",
   "execution_count": 90,
   "id": "9e93bf48-d5b4-49c8-9627-3ec3bbb010f1",
   "metadata": {},
   "outputs": [
    {
     "data": {
      "image/png": "[encoded data removed]",
      "text/plain": [
       "<Figure size 640x480 with 1 Axes>"
      ]
     },
     "metadata": {},
     "output_type": "display_data"
    }
   ],
   "source": [
    "plt.pie(x=df[df['dorm_residency'] == 'No'].groupby(['weekly_savings']).size(),\n",
    "        labels=['No', 'Yes'],  autopct='%1.1f%%', startangle=90)\n",
    "plt.title(\"Weekly Savings\")\n",
    "plt.show()"
   ]
  },
  {
   "cell_type": "markdown",
   "id": "d42ff268-38f9-4d48-be68-c5bcb420c7ee",
   "metadata": {},
   "source": [
    "## Budgetting System Satisfaction"
   ]
  },
  {
   "cell_type": "markdown",
   "id": "9891b6d9-7dac-49a5-8c52-6dc5ef14ec96",
   "metadata": {},
   "source": [
    "We can do a quick cross tabulation for the budgetting system satisfaction of both dormers and non-dormers."
   ]
  },
  {
   "cell_type": "code",
   "execution_count": 65,
   "id": "9711bcb6-9673-4ac9-b7dc-9febc0e341be",
   "metadata": {},
   "outputs": [],
   "source": [
    "cross_tab_weekly_budgetting_system_vs_residency = df.groupby([\n",
    "    'dorm_residency',\n",
    "    'budgetting_system_satisfaction',\n",
    "]).size().reset_index()\n",
    "cross_tab_weekly_budgetting_system_vs_residency.columns = ['dorm_residency', 'budgetting_system_satisfaction', 'count']"
   ]
  },
  {
   "cell_type": "code",
   "execution_count": 66,
   "id": "ef8f733e-fd47-447a-914b-0a948ecd8bcc",
   "metadata": {},
   "outputs": [
    {
     "data": {
      "text/html": [
       "<div>\n",
       "<style scoped>\n",
       "    .dataframe tbody tr th:only-of-type {\n",
       "        vertical-align: middle;\n",
       "    }\n",
       "\n",
       "    .dataframe tbody tr th {\n",
       "        vertical-align: top;\n",
       "    }\n",
       "\n",
       "    .dataframe thead th {\n",
       "        text-align: right;\n",
       "    }\n",
       "</style>\n",
       "<table border=\"1\" class=\"dataframe\">\n",
       "  <thead>\n",
       "    <tr style=\"text-align: right;\">\n",
       "      <th></th>\n",
       "      <th>dorm_residency</th>\n",
       "      <th>budgetting_system_satisfaction</th>\n",
       "      <th>count</th>\n",
       "    </tr>\n",
       "  </thead>\n",
       "  <tbody>\n",
       "    <tr>\n",
       "      <th>0</th>\n",
       "      <td>No</td>\n",
       "      <td>Completely Satisfied</td>\n",
       "      <td>4</td>\n",
       "    </tr>\n",
       "    <tr>\n",
       "      <th>1</th>\n",
       "      <td>No</td>\n",
       "      <td>Moderately Satisfied</td>\n",
       "      <td>7</td>\n",
       "    </tr>\n",
       "    <tr>\n",
       "      <th>2</th>\n",
       "      <td>No</td>\n",
       "      <td>Not Satisfied</td>\n",
       "      <td>1</td>\n",
       "    </tr>\n",
       "    <tr>\n",
       "      <th>3</th>\n",
       "      <td>Yes</td>\n",
       "      <td>Completely Satisfied</td>\n",
       "      <td>3</td>\n",
       "    </tr>\n",
       "    <tr>\n",
       "      <th>4</th>\n",
       "      <td>Yes</td>\n",
       "      <td>Moderately Satisfied</td>\n",
       "      <td>8</td>\n",
       "    </tr>\n",
       "    <tr>\n",
       "      <th>5</th>\n",
       "      <td>Yes</td>\n",
       "      <td>Not Satisfied</td>\n",
       "      <td>2</td>\n",
       "    </tr>\n",
       "  </tbody>\n",
       "</table>\n",
       "</div>"
      ],
      "text/plain": [
       "  dorm_residency budgetting_system_satisfaction  count\n",
       "0             No           Completely Satisfied      4\n",
       "1             No           Moderately Satisfied      7\n",
       "2             No                  Not Satisfied      1\n",
       "3            Yes           Completely Satisfied      3\n",
       "4            Yes           Moderately Satisfied      8\n",
       "5            Yes                  Not Satisfied      2"
      ]
     },
     "execution_count": 66,
     "metadata": {},
     "output_type": "execute_result"
    }
   ],
   "source": [
    "cross_tab_weekly_budgetting_system_vs_residency"
   ]
  },
  {
   "cell_type": "markdown",
   "id": "418139fc-864d-4ed9-8dff-b79b14f612b9",
   "metadata": {},
   "source": [
    "### Dormers"
   ]
  },
  {
   "cell_type": "code",
   "execution_count": 93,
   "id": "a66f1131-0817-4a46-9241-b0024ae4066d",
   "metadata": {},
   "outputs": [
    {
     "data": {
      "image/png": "[encoded data removed]",
      "text/plain": [
       "<Figure size 640x480 with 1 Axes>"
      ]
     },
     "metadata": {},
     "output_type": "display_data"
    }
   ],
   "source": [
    "budgetting_satisfaction = df[df['dorm_residency'] == 'Yes'].groupby('budgetting_system_satisfaction').size().reset_index()\n",
    "budgetting_satisfaction.set_index('budgetting_system_satisfaction', drop=True, inplace=True)\n",
    "budgetting_satisfaction.columns = ['count']\n",
    "budgetting_satisfaction_data = sorted(zip(budgetting_satisfaction.index, budgetting_satisfaction['count']), key=lambda x: x[1], reverse=False)\n",
    "categs, values = zip(*budgetting_satisfaction_data)\n",
    "plt.barh(categs, values)\n",
    "plt.xlabel('Student Count')\n",
    "plt.title('Budgetting System Satisfaction')\n",
    "plt.show()"
   ]
  },
  {
   "cell_type": "markdown",
   "id": "ab7f5790-6b76-425c-9553-a7d3a64a32c9",
   "metadata": {},
   "source": [
    "### Non-Dormers"
   ]
  },
  {
   "cell_type": "code",
   "execution_count": 94,
   "id": "7199edfb-a2f7-44f5-b36a-76ead7376772",
   "metadata": {},
   "outputs": [
    {
     "data": {
      "image/png": "[encoded data removed]",
      "text/plain": [
       "<Figure size 640x480 with 1 Axes>"
      ]
     },
     "metadata": {},
     "output_type": "display_data"
    }
   ],
   "source": [
    "budgetting_satisfaction = df[df['dorm_residency'] == 'No'].groupby('budgetting_system_satisfaction').size().reset_index()\n",
    "budgetting_satisfaction.set_index('budgetting_system_satisfaction', drop=True, inplace=True)\n",
    "budgetting_satisfaction.columns = ['count']\n",
    "budgetting_satisfaction_data = sorted(zip(budgetting_satisfaction.index, budgetting_satisfaction['count']), key=lambda x: x[1], reverse=False)\n",
    "categs, values = zip(*budgetting_satisfaction_data)\n",
    "plt.barh(categs, values)\n",
    "plt.xlabel('Student Count')\n",
    "plt.title('Budgetting System Satisfaction')\n",
    "plt.show()"
   ]
  },
  {
   "cell_type": "markdown",
   "id": "a1198f6e-51fa-4ce7-88b4-32103ed5dfa7",
   "metadata": {},
   "source": [
    "As we can see, most of the students of Stat 101 WFR 2 are moderately satisfied with their current budgetting system. Factors and reasons cannot be explained by the current data the researchers have currently on-hold."
   ]
  },
  {
   "cell_type": "markdown",
   "id": "3c3a4ca6-9fd2-492a-b925-b709ae38bc85",
   "metadata": {},
   "source": [
    "## Conclusion"
   ]
  },
  {
   "cell_type": "markdown",
   "id": "6c466a78-f861-48ea-b353-ddac5f680d18",
   "metadata": {},
   "source": [
    "As a conclusion, I'm tired and sleepy. I've been writing this for almost three hours na. WOOHOO ansaya ... pero legit ansaya : DDDDDDDD"
   ]
  },
  {
   "cell_type": "code",
   "execution_count": null,
   "id": "41c4ba62-e65a-47e2-a637-ceb24837f4a9",
   "metadata": {},
   "outputs": [],
   "source": []
  }
 ],
 "metadata": {
  "kernelspec": {
   "display_name": "Python 3 (ipykernel)",
   "language": "python",
   "name": "python3"
  },
  "language_info": {
   "codemirror_mode": {
    "name": "ipython",
    "version": 3
   },
   "file_extension": ".py",
   "mimetype": "text/x-python",
   "name": "python",
   "nbconvert_exporter": "python",
   "pygments_lexer": "ipython3",
   "version": "3.11.5"
  }
 },
 "nbformat": 4,
 "nbformat_minor": 5
}
