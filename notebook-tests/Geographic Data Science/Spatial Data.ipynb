{
 "cells": [
  {
   "cell_type": "code",
   "execution_count": 2,
   "id": "1fff45d8-97b7-4b2c-a19c-cf6a10399c0d",
   "metadata": {},
   "outputs": [],
   "source": [
    "import pandas\n",
    "import osmnx\n",
    "import geopandas\n",
    "import rioxarray\n",
    "import xarray\n",
    "import datashader\n",
    "import contextily as cx\n",
    "from shapely import geometry\n",
    "import matplotlib.pyplot as plt"
   ]
  },
  {
   "cell_type": "code",
   "execution_count": null,
   "id": "79a86ea4-10c3-41b4-9443-293d08611c44",
   "metadata": {},
   "outputs": [],
   "source": []
  }
 ],
 "metadata": {
  "kernelspec": {
   "display_name": "Python 3 (ipykernel)",
   "language": "python",
   "name": "python3"
  },
  "language_info": {
   "codemirror_mode": {
    "name": "ipython",
    "version": 3
   },
   "file_extension": ".py",
   "mimetype": "text/x-python",
   "name": "python",
   "nbconvert_exporter": "python",
   "pygments_lexer": "ipython3",
   "version": "3.11.0"
  }
 },
 "nbformat": 4,
 "nbformat_minor": 5
}
