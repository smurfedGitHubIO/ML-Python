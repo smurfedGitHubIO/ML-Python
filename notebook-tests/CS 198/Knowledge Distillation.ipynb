{
 "cells": [
  {
   "cell_type": "markdown",
   "id": "f01add0b",
   "metadata": {},
   "source": [
    "## Setup Libraries"
   ]
  },
  {
   "cell_type": "code",
   "execution_count": 1,
   "id": "d62855e2",
   "metadata": {},
   "outputs": [],
   "source": [
    "import tensorflow as tf\n",
    "from tensorflow import keras\n",
    "from tensorflow.keras import layers\n",
    "import numpy as np"
   ]
  },
  {
   "cell_type": "markdown",
   "id": "94f811dc-c273-41ba-b43b-899bc4f8118a",
   "metadata": {},
   "source": [
    "## Create Distiller class with modified compile, train_step, and test_step methods"
   ]
  },
  {
   "cell_type": "code",
   "execution_count": 2,
   "id": "1d687781",
   "metadata": {},
   "outputs": [],
   "source": [
    "class Distiller(keras.Model):\n",
    "    def __init__(self, student, teacher):\n",
    "        super().__init__()\n",
    "        self.teacher = teacher\n",
    "        self.student = student\n",
    "\n",
    "    def compile(\n",
    "        self,\n",
    "        optimizer,\n",
    "        metrics,\n",
    "        student_loss_fn,\n",
    "        distillation_loss_fn,\n",
    "        alpha=0.1,\n",
    "        temperature=3,\n",
    "    ):\n",
    "        super().compile(optimizer=optimizer, metrics=metrics)\n",
    "        self.student_loss_function = student_loss_fn\n",
    "        self.distillation_loss_function = distillation_loss_fn\n",
    "        self.alpha = alpha\n",
    "        self.temperature = temperature\n",
    "\n",
    "    def train_step(self, data):\n",
    "        x, y = data\n",
    "        \n",
    "        teacher_predictions = self.teacher(x, training=False)\n",
    "\n",
    "        with tf.GradientTape() as tape:\n",
    "            student_predictions = self.student(x, training=True)\n",
    "\n",
    "            student_loss = self.student_loss_function(y, student_predictions)\n",
    "\n",
    "            distillation_loss = (\n",
    "                self.distillation_loss_function(\n",
    "                    tf.nn.softmax(teacher_predictions / self.temperature, axis=1),\n",
    "                    tf.nn.softmax(student_predictions / self.temperature, axis=1),\n",
    "                )\n",
    "                * self.temperature**2\n",
    "            )\n",
    "\n",
    "            loss = self.alpha * student_loss + (1 - self.alpha) * distillation_loss\n",
    "\n",
    "        trainable_vars = self.student.trainable_variables\n",
    "        gradients = tape.gradient(loss, trainable_vars)\n",
    "\n",
    "        self.optimizer.apply_gradients(zip(gradients, trainable_vars))\n",
    "\n",
    "        self.compiled_metrics.update_state(y, student_predictions)\n",
    "\n",
    "        results = {m.name: m.result() for m in self.metrics}\n",
    "        results.update(\n",
    "            {\"student_loss\": student_loss, \"distillation_loss\": distillation_loss}\n",
    "        )\n",
    "        return results\n",
    "\n",
    "    def test_step(self, data):\n",
    "        x, y = data\n",
    "\n",
    "        y_prediction = self.student(x, training=False)\n",
    "\n",
    "        student_loss = self.student_loss_function(y, y_prediction)\n",
    "\n",
    "        self.compiled_metrics.update_state(y, y_prediction)\n",
    "\n",
    "        results = {met.name: met.result() for met in self.metrics}\n",
    "        results.update({\"student_loss\": student_loss})\n",
    "        return results"
   ]
  },
  {
   "cell_type": "markdown",
   "id": "c4d0c28b-10c3-4295-bf3b-8a6ff743f7af",
   "metadata": {},
   "source": [
    "## Teacher-Student Model Creation"
   ]
  },
  {
   "cell_type": "code",
   "execution_count": 3,
   "id": "ef9b0f93-25b0-490b-827b-9a855d94eb5e",
   "metadata": {},
   "outputs": [],
   "source": [
    "teacher = keras.Sequential(\n",
    "    [\n",
    "        keras.Input(shape=(28, 28, 1)),\n",
    "        layers.Conv2D(256, (3, 3), strides=(2, 2), padding=\"same\"),\n",
    "        layers.LeakyReLU(alpha=0.2),\n",
    "        layers.MaxPooling2D(pool_size=(2, 2), strides=(1, 1), padding=\"same\"),\n",
    "        layers.Conv2D(512, (3, 3), strides=(2, 2), padding=\"same\"),\n",
    "        layers.Flatten(),\n",
    "        layers.Dense(10),\n",
    "    ],\n",
    "    name=\"teacher\",\n",
    ")\n",
    "\n",
    "student = keras.Sequential(\n",
    "    [\n",
    "        keras.Input(shape=(28, 28, 1)),\n",
    "        layers.Conv2D(16, (3, 3), strides=(2, 2), padding=\"same\"),\n",
    "        layers.LeakyReLU(alpha=0.2),\n",
    "        layers.MaxPooling2D(pool_size=(2, 2), strides=(1, 1), padding=\"same\"),\n",
    "        layers.Conv2D(32, (3, 3), strides=(2, 2), padding=\"same\"),\n",
    "        layers.Flatten(),\n",
    "        layers.Dense(10),\n",
    "    ],\n",
    "    name=\"student\",\n",
    ")\n",
    "\n",
    "student_scratch = keras.models.clone_model(student)"
   ]
  },
  {
   "cell_type": "markdown",
   "id": "e341c97c-56d3-430c-b82c-b7257bae54c7",
   "metadata": {},
   "source": [
    "## Prepare and Preprocess Train and Test Set"
   ]
  },
  {
   "cell_type": "code",
   "execution_count": 4,
   "id": "31759fd8-ef4c-46f5-82bf-4fc503cc8b20",
   "metadata": {},
   "outputs": [],
   "source": [
    "batch_size = 64\n",
    "(x_train, y_train), (x_test, y_test) = keras.datasets.mnist.load_data()\n",
    "\n",
    "x_train = x_train.astype(\"float32\") / 255.0\n",
    "x_train = np.reshape(x_train, (-1, 28, 28, 1))\n",
    "\n",
    "x_test = x_test.astype(\"float32\") / 255.0\n",
    "x_test = np.reshape(x_test, (-1, 28, 28, 1))"
   ]
  },
  {
   "cell_type": "markdown",
   "id": "cb8a98d0-411c-4e7e-8d48-3afe2ea0f21a",
   "metadata": {},
   "source": [
    "## Train the Teacher Model"
   ]
  },
  {
   "cell_type": "code",
   "execution_count": 5,
   "id": "91952337-9295-4c38-9ea5-8194d00604ae",
   "metadata": {},
   "outputs": [
    {
     "name": "stdout",
     "output_type": "stream",
     "text": [
      "Epoch 1/5\n",
      "1875/1875 [==============================] - 217s 115ms/step - loss: 0.1455 - sparse_categorical_accuracy: 0.9562\n",
      "Epoch 2/5\n",
      "1875/1875 [==============================] - 218s 116ms/step - loss: 0.0931 - sparse_categorical_accuracy: 0.9722\n",
      "Epoch 3/5\n",
      "1875/1875 [==============================] - 218s 116ms/step - loss: 0.0808 - sparse_categorical_accuracy: 0.9758\n",
      "Epoch 4/5\n",
      "1875/1875 [==============================] - 215s 114ms/step - loss: 0.0732 - sparse_categorical_accuracy: 0.9794\n",
      "Epoch 5/5\n",
      "1875/1875 [==============================] - 218s 116ms/step - loss: 0.0705 - sparse_categorical_accuracy: 0.9803\n",
      "313/313 [==============================] - 6s 19ms/step - loss: 0.0841 - sparse_categorical_accuracy: 0.9797\n"
     ]
    },
    {
     "data": {
      "text/plain": [
       "[0.08408331871032715, 0.9797000288963318]"
      ]
     },
     "execution_count": 5,
     "metadata": {},
     "output_type": "execute_result"
    }
   ],
   "source": [
    "# Train teacher as usual\n",
    "teacher.compile(\n",
    "    optimizer=keras.optimizers.Adam(),\n",
    "    loss=keras.losses.SparseCategoricalCrossentropy(from_logits=True),\n",
    "    metrics=[keras.metrics.SparseCategoricalAccuracy()],\n",
    ")\n",
    "\n",
    "# Train and evaluate teacher on data.\n",
    "teacher.fit(x_train, y_train, epochs=5)\n",
    "teacher.evaluate(x_test, y_test)"
   ]
  },
  {
   "cell_type": "markdown",
   "id": "1d746eba-a229-4f84-bd77-5511f850d699",
   "metadata": {},
   "source": [
    "## Initialize and Compile Distiller"
   ]
  },
  {
   "cell_type": "code",
   "execution_count": 6,
   "id": "8db99703-f739-4781-8eef-566043f929ac",
   "metadata": {},
   "outputs": [
    {
     "name": "stdout",
     "output_type": "stream",
     "text": [
      "Epoch 1/5\n",
      "1875/1875 [==============================] - 41s 21ms/step - sparse_categorical_accuracy: 0.9160 - student_loss: 0.3715 - distillation_loss: 8.2367\n",
      "Epoch 2/5\n",
      "1875/1875 [==============================] - 40s 21ms/step - sparse_categorical_accuracy: 0.9732 - student_loss: 0.1057 - distillation_loss: 1.8635\n",
      "Epoch 3/5\n",
      "1875/1875 [==============================] - 42s 22ms/step - sparse_categorical_accuracy: 0.9782 - student_loss: 0.0855 - distillation_loss: 1.2598\n",
      "Epoch 4/5\n",
      "1875/1875 [==============================] - 41s 22ms/step - sparse_categorical_accuracy: 0.9795 - student_loss: 0.0778 - distillation_loss: 0.9842\n",
      "Epoch 5/5\n",
      "1875/1875 [==============================] - 42s 22ms/step - sparse_categorical_accuracy: 0.9800 - student_loss: 0.0724 - distillation_loss: 0.8013\n",
      "313/313 [==============================] - 1s 3ms/step - sparse_categorical_accuracy: 0.9774 - student_loss: 0.0908\n"
     ]
    },
    {
     "data": {
      "text/plain": [
       "[0.977400004863739, 4.766300116898492e-05]"
      ]
     },
     "execution_count": 6,
     "metadata": {},
     "output_type": "execute_result"
    }
   ],
   "source": [
    "distiller = Distiller(student=student, teacher=teacher)\n",
    "distiller.compile(\n",
    "    optimizer=keras.optimizers.Adam(),\n",
    "    metrics=[keras.metrics.SparseCategoricalAccuracy()],\n",
    "    student_loss_fn=keras.losses.SparseCategoricalCrossentropy(from_logits=True),\n",
    "    distillation_loss_fn=keras.losses.KLDivergence(),\n",
    "    alpha=0.1,\n",
    "    temperature=12,\n",
    ")\n",
    "\n",
    "distiller.fit(x_train, y_train, epochs=5)\n",
    "\n",
    "distiller.evaluate(x_test, y_test)"
   ]
  },
  {
   "cell_type": "markdown",
   "id": "d0310586-3bc1-4385-9e2c-58af29ce8bd4",
   "metadata": {},
   "source": [
    "## Train and Evaluate Student Model"
   ]
  },
  {
   "cell_type": "code",
   "execution_count": 7,
   "id": "0f03d7b7-df4f-4ad8-82f3-d50913924464",
   "metadata": {},
   "outputs": [
    {
     "name": "stdout",
     "output_type": "stream",
     "text": [
      "Epoch 1/5\n",
      "1875/1875 [==============================] - 13s 7ms/step - loss: 0.2398 - sparse_categorical_accuracy: 0.9291\n",
      "Epoch 2/5\n",
      "1875/1875 [==============================] - 15s 8ms/step - loss: 0.0905 - sparse_categorical_accuracy: 0.9719\n",
      "Epoch 3/5\n",
      "1875/1875 [==============================] - 15s 8ms/step - loss: 0.0748 - sparse_categorical_accuracy: 0.9770\n",
      "Epoch 4/5\n",
      "1875/1875 [==============================] - 16s 8ms/step - loss: 0.0649 - sparse_categorical_accuracy: 0.9800\n",
      "Epoch 5/5\n",
      "1875/1875 [==============================] - 16s 9ms/step - loss: 0.0596 - sparse_categorical_accuracy: 0.9813\n",
      "313/313 [==============================] - 1s 3ms/step - loss: 0.0544 - sparse_categorical_accuracy: 0.9822\n"
     ]
    },
    {
     "data": {
      "text/plain": [
       "[0.054402440786361694, 0.982200026512146]"
      ]
     },
     "execution_count": 7,
     "metadata": {},
     "output_type": "execute_result"
    }
   ],
   "source": [
    "student_scratch.compile(\n",
    "    optimizer=keras.optimizers.Adam(),\n",
    "    loss=keras.losses.SparseCategoricalCrossentropy(from_logits=True),\n",
    "    metrics=[keras.metrics.SparseCategoricalAccuracy()],\n",
    ")\n",
    "\n",
    "student_scratch.fit(x_train, y_train, epochs=5)\n",
    "student_scratch.evaluate(x_test, y_test)"
   ]
  },
  {
   "cell_type": "code",
   "execution_count": null,
   "id": "a35b2c75-8495-4855-a64c-bbf1a42a78f9",
   "metadata": {},
   "outputs": [],
   "source": []
  }
 ],
 "metadata": {
  "kernelspec": {
   "display_name": "Python 3 (ipykernel)",
   "language": "python",
   "name": "python3"
  },
  "language_info": {
   "codemirror_mode": {
    "name": "ipython",
    "version": 3
   },
   "file_extension": ".py",
   "mimetype": "text/x-python",
   "name": "python",
   "nbconvert_exporter": "python",
   "pygments_lexer": "ipython3",
   "version": "3.11.5"
  }
 },
 "nbformat": 4,
 "nbformat_minor": 5
}
