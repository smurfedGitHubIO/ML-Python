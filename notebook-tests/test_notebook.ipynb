{
 "cells": [
  {
   "cell_type": "code",
   "execution_count": 1,
   "id": "e6f8811b-e81f-4eaf-88e4-16cecd17456e",
   "metadata": {},
   "outputs": [],
   "source": [
    "import pandas as pd\n",
    "from matplotlib import pyplot as plt\n",
    "import numpy as np"
   ]
  },
  {
   "cell_type": "markdown",
   "id": "f35f4644-a671-4aa3-8a14-29f43cae493e",
   "metadata": {},
   "source": [
    "# Credit Card"
   ]
  },
  {
   "cell_type": "code",
   "execution_count": 2,
   "id": "7bac2ea3-e2e7-4375-b70f-6cc8c474ef9b",
   "metadata": {},
   "outputs": [
    {
     "data": {
      "text/html": [
       "<div>\n",
       "<style scoped>\n",
       "    .dataframe tbody tr th:only-of-type {\n",
       "        vertical-align: middle;\n",
       "    }\n",
       "\n",
       "    .dataframe tbody tr th {\n",
       "        vertical-align: top;\n",
       "    }\n",
       "\n",
       "    .dataframe thead th {\n",
       "        text-align: right;\n",
       "    }\n",
       "</style>\n",
       "<table border=\"1\" class=\"dataframe\">\n",
       "  <thead>\n",
       "    <tr style=\"text-align: right;\">\n",
       "      <th></th>\n",
       "      <th>CUST_NUM</th>\n",
       "      <th>MERCH_GROUP</th>\n",
       "      <th>DATE</th>\n",
       "      <th>AMOUNT</th>\n",
       "      <th>CHANNEL</th>\n",
       "      <th>MERCH_NAME</th>\n",
       "      <th>COUNTRY</th>\n",
       "    </tr>\n",
       "  </thead>\n",
       "  <tbody>\n",
       "    <tr>\n",
       "      <th>0</th>\n",
       "      <td>3016.966026</td>\n",
       "      <td>Retail Outlet Services</td>\n",
       "      <td>2023-04-01</td>\n",
       "      <td>3211.528727</td>\n",
       "      <td>POS-RETAIL PURCHASE</td>\n",
       "      <td>MERCHANT 1</td>\n",
       "      <td>PH</td>\n",
       "    </tr>\n",
       "    <tr>\n",
       "      <th>1</th>\n",
       "      <td>3016.966026</td>\n",
       "      <td>Clothing Stores</td>\n",
       "      <td>2023-04-01</td>\n",
       "      <td>3982.218215</td>\n",
       "      <td>POS-RETAIL PURCHASE</td>\n",
       "      <td>MERCHANT 2</td>\n",
       "      <td>PH</td>\n",
       "    </tr>\n",
       "    <tr>\n",
       "      <th>2</th>\n",
       "      <td>3016.966026</td>\n",
       "      <td>Miscellaneous Stores</td>\n",
       "      <td>2023-04-18</td>\n",
       "      <td>872.539734</td>\n",
       "      <td>POS-RETAIL PURCHASE</td>\n",
       "      <td>MERCHANT 3</td>\n",
       "      <td>PH</td>\n",
       "    </tr>\n",
       "    <tr>\n",
       "      <th>3</th>\n",
       "      <td>3016.966026</td>\n",
       "      <td>Miscellaneous Stores</td>\n",
       "      <td>2023-04-27</td>\n",
       "      <td>390.082187</td>\n",
       "      <td>POS-RETAIL PURCHASE</td>\n",
       "      <td>MERCHANT 4</td>\n",
       "      <td>PH</td>\n",
       "    </tr>\n",
       "    <tr>\n",
       "      <th>4</th>\n",
       "      <td>3016.966026</td>\n",
       "      <td>Retail Outlet Services</td>\n",
       "      <td>2023-04-29</td>\n",
       "      <td>4956.055464</td>\n",
       "      <td>ONLINE-RETAIL PURCHASE</td>\n",
       "      <td>MERCHANT 5</td>\n",
       "      <td>PH</td>\n",
       "    </tr>\n",
       "  </tbody>\n",
       "</table>\n",
       "</div>"
      ],
      "text/plain": [
       "      CUST_NUM             MERCH_GROUP       DATE       AMOUNT  \\\n",
       "0  3016.966026  Retail Outlet Services 2023-04-01  3211.528727   \n",
       "1  3016.966026         Clothing Stores 2023-04-01  3982.218215   \n",
       "2  3016.966026    Miscellaneous Stores 2023-04-18   872.539734   \n",
       "3  3016.966026    Miscellaneous Stores 2023-04-27   390.082187   \n",
       "4  3016.966026  Retail Outlet Services 2023-04-29  4956.055464   \n",
       "\n",
       "                  CHANNEL  MERCH_NAME COUNTRY  \n",
       "0     POS-RETAIL PURCHASE  MERCHANT 1      PH  \n",
       "1     POS-RETAIL PURCHASE  MERCHANT 2      PH  \n",
       "2     POS-RETAIL PURCHASE  MERCHANT 3      PH  \n",
       "3     POS-RETAIL PURCHASE  MERCHANT 4      PH  \n",
       "4  ONLINE-RETAIL PURCHASE  MERCHANT 5      PH  "
      ]
     },
     "execution_count": 2,
     "metadata": {},
     "output_type": "execute_result"
    }
   ],
   "source": [
    "credit_card_df = pd.read_excel('./data/dataset/CREDIT CARD TXNS_PJDSC.xlsx')\n",
    "credit_card_df.head()"
   ]
  },
  {
   "cell_type": "code",
   "execution_count": 3,
   "id": "c798f40c-af0a-420d-9777-62608de2f343",
   "metadata": {},
   "outputs": [
    {
     "data": {
      "text/plain": [
       "(33126, 7)"
      ]
     },
     "execution_count": 3,
     "metadata": {},
     "output_type": "execute_result"
    }
   ],
   "source": [
    "credit_card_df.shape"
   ]
  },
  {
   "cell_type": "code",
   "execution_count": 7,
   "id": "4fda9fd9-bb87-4843-98c3-d1af78713745",
   "metadata": {},
   "outputs": [
    {
     "name": "stdout",
     "output_type": "stream",
     "text": [
      "CUST_NUM: 2143\n",
      "MERCH_GROUP: 12\n",
      "DATE: 91\n",
      "AMOUNT: 33126\n",
      "CHANNEL: 3\n",
      "MERCH_NAME: 3008\n",
      "COUNTRY: 40\n"
     ]
    }
   ],
   "source": [
    "for i in credit_card_df.columns:\n",
    "    print(f'{i}: {credit_card_df[i].nunique()}')"
   ]
  },
  {
   "cell_type": "code",
   "execution_count": 9,
   "id": "ee2d83b7-037e-4022-9182-4bb38355e4c1",
   "metadata": {},
   "outputs": [
    {
     "name": "stdout",
     "output_type": "stream",
     "text": [
      "<class 'pandas.core.frame.DataFrame'>\n",
      "RangeIndex: 33126 entries, 0 to 33125\n",
      "Data columns (total 7 columns):\n",
      " #   Column       Non-Null Count  Dtype         \n",
      "---  ------       --------------  -----         \n",
      " 0   CUST_NUM     33126 non-null  float64       \n",
      " 1   MERCH_GROUP  31558 non-null  object        \n",
      " 2   DATE         33126 non-null  datetime64[ns]\n",
      " 3   AMOUNT       33126 non-null  float64       \n",
      " 4   CHANNEL      33126 non-null  object        \n",
      " 5   MERCH_NAME   33126 non-null  object        \n",
      " 6   COUNTRY      31877 non-null  object        \n",
      "dtypes: datetime64[ns](1), float64(2), object(4)\n",
      "memory usage: 1.8+ MB\n"
     ]
    }
   ],
   "source": [
    "credit_card_df.info()"
   ]
  },
  {
   "cell_type": "markdown",
   "id": "f14c8aad-25b8-49ac-9ce3-54b7f1dcbc0d",
   "metadata": {},
   "source": [
    "# Customer Info"
   ]
  },
  {
   "cell_type": "code",
   "execution_count": 11,
   "id": "943432a5-5f03-4820-8b64-e3bb8311a7cf",
   "metadata": {},
   "outputs": [
    {
     "data": {
      "text/html": [
       "<div>\n",
       "<style scoped>\n",
       "    .dataframe tbody tr th:only-of-type {\n",
       "        vertical-align: middle;\n",
       "    }\n",
       "\n",
       "    .dataframe tbody tr th {\n",
       "        vertical-align: top;\n",
       "    }\n",
       "\n",
       "    .dataframe thead th {\n",
       "        text-align: right;\n",
       "    }\n",
       "</style>\n",
       "<table border=\"1\" class=\"dataframe\">\n",
       "  <thead>\n",
       "    <tr style=\"text-align: right;\">\n",
       "      <th></th>\n",
       "      <th>CUST_NUM</th>\n",
       "      <th>PROVINCE</th>\n",
       "      <th>REGION</th>\n",
       "      <th>EDUCATION</th>\n",
       "      <th>AGE</th>\n",
       "      <th>TENURE</th>\n",
       "      <th>BUSINESS_OWNER</th>\n",
       "      <th>DIGITAL_FLAG</th>\n",
       "      <th>INCOME_SOURCE</th>\n",
       "      <th>IDV_OR_ORG</th>\n",
       "      <th>SEGMENT</th>\n",
       "      <th>SUBSEGMENT</th>\n",
       "      <th>GENDER</th>\n",
       "      <th>MARITAL_STATUS</th>\n",
       "    </tr>\n",
       "  </thead>\n",
       "  <tbody>\n",
       "    <tr>\n",
       "      <th>0</th>\n",
       "      <td>11712.654012</td>\n",
       "      <td>BENGUET</td>\n",
       "      <td>CORDILLERA ADMINISTRATIVE REGION (CAR)</td>\n",
       "      <td>NO_DATA</td>\n",
       "      <td>20.0</td>\n",
       "      <td>1.833333</td>\n",
       "      <td>N</td>\n",
       "      <td>DIGITAL</td>\n",
       "      <td>ALLOWANCE</td>\n",
       "      <td>1</td>\n",
       "      <td>3</td>\n",
       "      <td>CORE MASS</td>\n",
       "      <td>MALE</td>\n",
       "      <td>SINGLE</td>\n",
       "    </tr>\n",
       "    <tr>\n",
       "      <th>1</th>\n",
       "      <td>436.605085</td>\n",
       "      <td>BENGUET</td>\n",
       "      <td>CORDILLERA ADMINISTRATIVE REGION (CAR)</td>\n",
       "      <td>NO_DATA</td>\n",
       "      <td>21.0</td>\n",
       "      <td>4.250000</td>\n",
       "      <td>N</td>\n",
       "      <td>NO_DATA</td>\n",
       "      <td>SALARY</td>\n",
       "      <td>1</td>\n",
       "      <td>3</td>\n",
       "      <td>CORE MASS</td>\n",
       "      <td>FEMALE</td>\n",
       "      <td>SINGLE</td>\n",
       "    </tr>\n",
       "    <tr>\n",
       "      <th>2</th>\n",
       "      <td>921.989154</td>\n",
       "      <td>BENGUET</td>\n",
       "      <td>CORDILLERA ADMINISTRATIVE REGION (CAR)</td>\n",
       "      <td>NO_DATA</td>\n",
       "      <td>23.0</td>\n",
       "      <td>2.000000</td>\n",
       "      <td>N</td>\n",
       "      <td>TRADITIONAL</td>\n",
       "      <td>ALLOWANCE</td>\n",
       "      <td>1</td>\n",
       "      <td>3</td>\n",
       "      <td>CORE MASS</td>\n",
       "      <td>MALE</td>\n",
       "      <td>SINGLE</td>\n",
       "    </tr>\n",
       "    <tr>\n",
       "      <th>3</th>\n",
       "      <td>1119.634762</td>\n",
       "      <td>BENGUET</td>\n",
       "      <td>CORDILLERA ADMINISTRATIVE REGION (CAR)</td>\n",
       "      <td>LOW</td>\n",
       "      <td>13.0</td>\n",
       "      <td>5.583333</td>\n",
       "      <td>N</td>\n",
       "      <td>TRADITIONAL</td>\n",
       "      <td>ALLOWANCE</td>\n",
       "      <td>1</td>\n",
       "      <td>3</td>\n",
       "      <td>CORE MASS</td>\n",
       "      <td>MALE</td>\n",
       "      <td>SINGLE</td>\n",
       "    </tr>\n",
       "    <tr>\n",
       "      <th>4</th>\n",
       "      <td>1709.755538</td>\n",
       "      <td>BENGUET</td>\n",
       "      <td>CORDILLERA ADMINISTRATIVE REGION (CAR)</td>\n",
       "      <td>NO_DATA</td>\n",
       "      <td>20.0</td>\n",
       "      <td>1.250000</td>\n",
       "      <td>N</td>\n",
       "      <td>DIGITAL</td>\n",
       "      <td>SALARY</td>\n",
       "      <td>1</td>\n",
       "      <td>3</td>\n",
       "      <td>CORE MASS</td>\n",
       "      <td>FEMALE</td>\n",
       "      <td>SINGLE</td>\n",
       "    </tr>\n",
       "  </tbody>\n",
       "</table>\n",
       "</div>"
      ],
      "text/plain": [
       "       CUST_NUM PROVINCE                                  REGION EDUCATION  \\\n",
       "0  11712.654012  BENGUET  CORDILLERA ADMINISTRATIVE REGION (CAR)   NO_DATA   \n",
       "1    436.605085  BENGUET  CORDILLERA ADMINISTRATIVE REGION (CAR)   NO_DATA   \n",
       "2    921.989154  BENGUET  CORDILLERA ADMINISTRATIVE REGION (CAR)   NO_DATA   \n",
       "3   1119.634762  BENGUET  CORDILLERA ADMINISTRATIVE REGION (CAR)       LOW   \n",
       "4   1709.755538  BENGUET  CORDILLERA ADMINISTRATIVE REGION (CAR)   NO_DATA   \n",
       "\n",
       "    AGE    TENURE BUSINESS_OWNER DIGITAL_FLAG INCOME_SOURCE  IDV_OR_ORG  \\\n",
       "0  20.0  1.833333              N      DIGITAL     ALLOWANCE           1   \n",
       "1  21.0  4.250000              N      NO_DATA        SALARY           1   \n",
       "2  23.0  2.000000              N  TRADITIONAL     ALLOWANCE           1   \n",
       "3  13.0  5.583333              N  TRADITIONAL     ALLOWANCE           1   \n",
       "4  20.0  1.250000              N      DIGITAL        SALARY           1   \n",
       "\n",
       "   SEGMENT SUBSEGMENT  GENDER MARITAL_STATUS  \n",
       "0        3  CORE MASS    MALE         SINGLE  \n",
       "1        3  CORE MASS  FEMALE         SINGLE  \n",
       "2        3  CORE MASS    MALE         SINGLE  \n",
       "3        3  CORE MASS    MALE         SINGLE  \n",
       "4        3  CORE MASS  FEMALE         SINGLE  "
      ]
     },
     "execution_count": 11,
     "metadata": {},
     "output_type": "execute_result"
    }
   ],
   "source": [
    "customer_info_df = pd.read_excel('./data/dataset/CUSTOMER INFO_PJDSC.xlsx')\n",
    "customer_info_df.head()"
   ]
  },
  {
   "cell_type": "code",
   "execution_count": 18,
   "id": "39fa5a38-8a32-4f0c-b9da-e8258eac1d91",
   "metadata": {},
   "outputs": [
    {
     "data": {
      "text/plain": [
       "(138444, 14)"
      ]
     },
     "execution_count": 18,
     "metadata": {},
     "output_type": "execute_result"
    }
   ],
   "source": [
    "customer_info_df.shape"
   ]
  },
  {
   "cell_type": "code",
   "execution_count": 44,
   "id": "cab80b72-f4e2-450d-929f-ddedaabcc5d6",
   "metadata": {},
   "outputs": [
    {
     "name": "stdout",
     "output_type": "stream",
     "text": [
      "<class 'pandas.core.frame.DataFrame'>\n",
      "RangeIndex: 138444 entries, 0 to 138443\n",
      "Data columns (total 11 columns):\n",
      " #   Column          Non-Null Count   Dtype  \n",
      "---  ------          --------------   -----  \n",
      " 0   CUST_NUM        138444 non-null  float64\n",
      " 1   PROVINCE        138444 non-null  object \n",
      " 2   REGION          138444 non-null  object \n",
      " 3   EDUCATION       138444 non-null  object \n",
      " 4   AGE             138378 non-null  float64\n",
      " 5   TENURE          138444 non-null  float64\n",
      " 6   BUSINESS_OWNER  138444 non-null  object \n",
      " 7   DIGITAL_FLAG    138444 non-null  object \n",
      " 8   INCOME_SOURCE   138444 non-null  object \n",
      " 9   GENDER          138444 non-null  object \n",
      " 10  MARITAL_STATUS  138444 non-null  object \n",
      "dtypes: float64(3), object(8)\n",
      "memory usage: 11.6+ MB\n"
     ]
    }
   ],
   "source": [
    "customer_info_df.info()"
   ]
  },
  {
   "cell_type": "code",
   "execution_count": 47,
   "id": "458b7fe6-e93f-4f81-9d1b-6086e98bce85",
   "metadata": {},
   "outputs": [
    {
     "data": {
      "text/html": [
       "<div>\n",
       "<style scoped>\n",
       "    .dataframe tbody tr th:only-of-type {\n",
       "        vertical-align: middle;\n",
       "    }\n",
       "\n",
       "    .dataframe tbody tr th {\n",
       "        vertical-align: top;\n",
       "    }\n",
       "\n",
       "    .dataframe thead th {\n",
       "        text-align: right;\n",
       "    }\n",
       "</style>\n",
       "<table border=\"1\" class=\"dataframe\">\n",
       "  <thead>\n",
       "    <tr style=\"text-align: right;\">\n",
       "      <th></th>\n",
       "      <th>CUST_NUM</th>\n",
       "      <th>PROVINCE</th>\n",
       "      <th>REGION</th>\n",
       "      <th>EDUCATION</th>\n",
       "      <th>AGE</th>\n",
       "      <th>TENURE</th>\n",
       "      <th>BUSINESS_OWNER</th>\n",
       "      <th>DIGITAL_FLAG</th>\n",
       "      <th>INCOME_SOURCE</th>\n",
       "      <th>GENDER</th>\n",
       "      <th>MARITAL_STATUS</th>\n",
       "    </tr>\n",
       "  </thead>\n",
       "  <tbody>\n",
       "    <tr>\n",
       "      <th>count</th>\n",
       "      <td>138444.000000</td>\n",
       "      <td>138444</td>\n",
       "      <td>138444</td>\n",
       "      <td>138444</td>\n",
       "      <td>138378.000000</td>\n",
       "      <td>138444.000000</td>\n",
       "      <td>138444</td>\n",
       "      <td>138444</td>\n",
       "      <td>138444</td>\n",
       "      <td>138444</td>\n",
       "      <td>138444</td>\n",
       "    </tr>\n",
       "    <tr>\n",
       "      <th>unique</th>\n",
       "      <td>NaN</td>\n",
       "      <td>45</td>\n",
       "      <td>14</td>\n",
       "      <td>4</td>\n",
       "      <td>NaN</td>\n",
       "      <td>NaN</td>\n",
       "      <td>2</td>\n",
       "      <td>3</td>\n",
       "      <td>12</td>\n",
       "      <td>3</td>\n",
       "      <td>6</td>\n",
       "    </tr>\n",
       "    <tr>\n",
       "      <th>top</th>\n",
       "      <td>NaN</td>\n",
       "      <td>NEGROS OCCIDENTAL</td>\n",
       "      <td>REGION VI (WESTERN VISAYAS)</td>\n",
       "      <td>MID</td>\n",
       "      <td>NaN</td>\n",
       "      <td>NaN</td>\n",
       "      <td>N</td>\n",
       "      <td>TRADITIONAL</td>\n",
       "      <td>SALARY</td>\n",
       "      <td>FEMALE</td>\n",
       "      <td>SINGLE</td>\n",
       "    </tr>\n",
       "    <tr>\n",
       "      <th>freq</th>\n",
       "      <td>NaN</td>\n",
       "      <td>13488</td>\n",
       "      <td>20508</td>\n",
       "      <td>63396</td>\n",
       "      <td>NaN</td>\n",
       "      <td>NaN</td>\n",
       "      <td>131553</td>\n",
       "      <td>64695</td>\n",
       "      <td>84531</td>\n",
       "      <td>80298</td>\n",
       "      <td>80310</td>\n",
       "    </tr>\n",
       "    <tr>\n",
       "      <th>mean</th>\n",
       "      <td>9424.785491</td>\n",
       "      <td>NaN</td>\n",
       "      <td>NaN</td>\n",
       "      <td>NaN</td>\n",
       "      <td>40.255496</td>\n",
       "      <td>6.280592</td>\n",
       "      <td>NaN</td>\n",
       "      <td>NaN</td>\n",
       "      <td>NaN</td>\n",
       "      <td>NaN</td>\n",
       "      <td>NaN</td>\n",
       "    </tr>\n",
       "    <tr>\n",
       "      <th>std</th>\n",
       "      <td>3337.146487</td>\n",
       "      <td>NaN</td>\n",
       "      <td>NaN</td>\n",
       "      <td>NaN</td>\n",
       "      <td>15.712651</td>\n",
       "      <td>5.241069</td>\n",
       "      <td>NaN</td>\n",
       "      <td>NaN</td>\n",
       "      <td>NaN</td>\n",
       "      <td>NaN</td>\n",
       "      <td>NaN</td>\n",
       "    </tr>\n",
       "    <tr>\n",
       "      <th>min</th>\n",
       "      <td>85.229103</td>\n",
       "      <td>NaN</td>\n",
       "      <td>NaN</td>\n",
       "      <td>NaN</td>\n",
       "      <td>1.000000</td>\n",
       "      <td>0.083333</td>\n",
       "      <td>NaN</td>\n",
       "      <td>NaN</td>\n",
       "      <td>NaN</td>\n",
       "      <td>NaN</td>\n",
       "      <td>NaN</td>\n",
       "    </tr>\n",
       "    <tr>\n",
       "      <th>25%</th>\n",
       "      <td>7064.942498</td>\n",
       "      <td>NaN</td>\n",
       "      <td>NaN</td>\n",
       "      <td>NaN</td>\n",
       "      <td>28.000000</td>\n",
       "      <td>2.166667</td>\n",
       "      <td>NaN</td>\n",
       "      <td>NaN</td>\n",
       "      <td>NaN</td>\n",
       "      <td>NaN</td>\n",
       "      <td>NaN</td>\n",
       "    </tr>\n",
       "    <tr>\n",
       "      <th>50%</th>\n",
       "      <td>10000.653129</td>\n",
       "      <td>NaN</td>\n",
       "      <td>NaN</td>\n",
       "      <td>NaN</td>\n",
       "      <td>36.000000</td>\n",
       "      <td>5.083333</td>\n",
       "      <td>NaN</td>\n",
       "      <td>NaN</td>\n",
       "      <td>NaN</td>\n",
       "      <td>NaN</td>\n",
       "      <td>NaN</td>\n",
       "    </tr>\n",
       "    <tr>\n",
       "      <th>75%</th>\n",
       "      <td>12247.160446</td>\n",
       "      <td>NaN</td>\n",
       "      <td>NaN</td>\n",
       "      <td>NaN</td>\n",
       "      <td>49.000000</td>\n",
       "      <td>9.000000</td>\n",
       "      <td>NaN</td>\n",
       "      <td>NaN</td>\n",
       "      <td>NaN</td>\n",
       "      <td>NaN</td>\n",
       "      <td>NaN</td>\n",
       "    </tr>\n",
       "    <tr>\n",
       "      <th>max</th>\n",
       "      <td>14141.980201</td>\n",
       "      <td>NaN</td>\n",
       "      <td>NaN</td>\n",
       "      <td>NaN</td>\n",
       "      <td>122.000000</td>\n",
       "      <td>30.416667</td>\n",
       "      <td>NaN</td>\n",
       "      <td>NaN</td>\n",
       "      <td>NaN</td>\n",
       "      <td>NaN</td>\n",
       "      <td>NaN</td>\n",
       "    </tr>\n",
       "  </tbody>\n",
       "</table>\n",
       "</div>"
      ],
      "text/plain": [
       "             CUST_NUM           PROVINCE                       REGION  \\\n",
       "count   138444.000000             138444                       138444   \n",
       "unique            NaN                 45                           14   \n",
       "top               NaN  NEGROS OCCIDENTAL  REGION VI (WESTERN VISAYAS)   \n",
       "freq              NaN              13488                        20508   \n",
       "mean      9424.785491                NaN                          NaN   \n",
       "std       3337.146487                NaN                          NaN   \n",
       "min         85.229103                NaN                          NaN   \n",
       "25%       7064.942498                NaN                          NaN   \n",
       "50%      10000.653129                NaN                          NaN   \n",
       "75%      12247.160446                NaN                          NaN   \n",
       "max      14141.980201                NaN                          NaN   \n",
       "\n",
       "       EDUCATION            AGE         TENURE BUSINESS_OWNER DIGITAL_FLAG  \\\n",
       "count     138444  138378.000000  138444.000000         138444       138444   \n",
       "unique         4            NaN            NaN              2            3   \n",
       "top          MID            NaN            NaN              N  TRADITIONAL   \n",
       "freq       63396            NaN            NaN         131553        64695   \n",
       "mean         NaN      40.255496       6.280592            NaN          NaN   \n",
       "std          NaN      15.712651       5.241069            NaN          NaN   \n",
       "min          NaN       1.000000       0.083333            NaN          NaN   \n",
       "25%          NaN      28.000000       2.166667            NaN          NaN   \n",
       "50%          NaN      36.000000       5.083333            NaN          NaN   \n",
       "75%          NaN      49.000000       9.000000            NaN          NaN   \n",
       "max          NaN     122.000000      30.416667            NaN          NaN   \n",
       "\n",
       "       INCOME_SOURCE  GENDER MARITAL_STATUS  \n",
       "count         138444  138444         138444  \n",
       "unique            12       3              6  \n",
       "top           SALARY  FEMALE         SINGLE  \n",
       "freq           84531   80298          80310  \n",
       "mean             NaN     NaN            NaN  \n",
       "std              NaN     NaN            NaN  \n",
       "min              NaN     NaN            NaN  \n",
       "25%              NaN     NaN            NaN  \n",
       "50%              NaN     NaN            NaN  \n",
       "75%              NaN     NaN            NaN  \n",
       "max              NaN     NaN            NaN  "
      ]
     },
     "execution_count": 47,
     "metadata": {},
     "output_type": "execute_result"
    }
   ],
   "source": [
    "customer_info_df.describe(include='all')"
   ]
  },
  {
   "cell_type": "code",
   "execution_count": 24,
   "id": "d1c64643-d450-4247-acfb-78405b5fb650",
   "metadata": {},
   "outputs": [
    {
     "name": "stdout",
     "output_type": "stream",
     "text": [
      "CUST_NUM: 46148\n",
      "PROVINCE: 45\n",
      "REGION: 14\n",
      "EDUCATION: 4\n",
      "AGE: 106\n",
      "TENURE: 307\n",
      "BUSINESS_OWNER: 2\n",
      "DIGITAL_FLAG: 3\n",
      "INCOME_SOURCE: 12\n",
      "IDV_OR_ORG: 1\n",
      "SEGMENT: 1\n",
      "SUBSEGMENT: 1\n",
      "GENDER: 3\n",
      "MARITAL_STATUS: 6\n"
     ]
    }
   ],
   "source": [
    "for i in customer_info_df.columns:\n",
    "    print(f'{i}: {customer_info_df[i].unique()}')"
   ]
  },
  {
   "cell_type": "markdown",
   "id": "6a24a6b6-9640-4561-ad2f-309d13eb2399",
   "metadata": {},
   "source": [
    "We can remove all other features that only contains one value (IDV_OR_ORG, SEGMENT, SUBSEGMENT)."
   ]
  },
  {
   "cell_type": "code",
   "execution_count": 42,
   "id": "070b6ac3-f631-4866-873d-41020a91abf7",
   "metadata": {},
   "outputs": [],
   "source": [
    "customer_info_df.drop(labels=['IDV_OR_ORG', 'SEGMENT','SUBSEGMENT'],axis=1,inplace=True)"
   ]
  },
  {
   "cell_type": "code",
   "execution_count": 43,
   "id": "fe3fe473-6154-403b-aa6d-adba2b14c435",
   "metadata": {},
   "outputs": [
    {
     "data": {
      "text/plain": [
       "Index(['CUST_NUM', 'PROVINCE', 'REGION', 'EDUCATION', 'AGE', 'TENURE',\n",
       "       'BUSINESS_OWNER', 'DIGITAL_FLAG', 'INCOME_SOURCE', 'GENDER',\n",
       "       'MARITAL_STATUS'],\n",
       "      dtype='object')"
      ]
     },
     "execution_count": 43,
     "metadata": {},
     "output_type": "execute_result"
    }
   ],
   "source": [
    "customer_info_df.columns"
   ]
  },
  {
   "cell_type": "markdown",
   "id": "0210340f-dbb9-4695-8f2b-6a41d628be8c",
   "metadata": {},
   "source": [
    "# Debit Card"
   ]
  },
  {
   "cell_type": "code",
   "execution_count": 12,
   "id": "f759a5e6-9ed6-4116-919d-c1ab4f3ca7aa",
   "metadata": {},
   "outputs": [
    {
     "data": {
      "text/html": [
       "<div>\n",
       "<style scoped>\n",
       "    .dataframe tbody tr th:only-of-type {\n",
       "        vertical-align: middle;\n",
       "    }\n",
       "\n",
       "    .dataframe tbody tr th {\n",
       "        vertical-align: top;\n",
       "    }\n",
       "\n",
       "    .dataframe thead th {\n",
       "        text-align: right;\n",
       "    }\n",
       "</style>\n",
       "<table border=\"1\" class=\"dataframe\">\n",
       "  <thead>\n",
       "    <tr style=\"text-align: right;\">\n",
       "      <th></th>\n",
       "      <th>CUST_NUM</th>\n",
       "      <th>CHANNEL</th>\n",
       "      <th>DATE</th>\n",
       "      <th>TIME</th>\n",
       "      <th>AMOUNT</th>\n",
       "    </tr>\n",
       "  </thead>\n",
       "  <tbody>\n",
       "    <tr>\n",
       "      <th>0</th>\n",
       "      <td>3659.137057</td>\n",
       "      <td>POS</td>\n",
       "      <td>2023-04-01</td>\n",
       "      <td>39958</td>\n",
       "      <td>30001.039678</td>\n",
       "    </tr>\n",
       "    <tr>\n",
       "      <th>1</th>\n",
       "      <td>3659.137057</td>\n",
       "      <td>POS</td>\n",
       "      <td>2023-04-04</td>\n",
       "      <td>51349</td>\n",
       "      <td>20001.662634</td>\n",
       "    </tr>\n",
       "    <tr>\n",
       "      <th>2</th>\n",
       "      <td>3659.137057</td>\n",
       "      <td>POS</td>\n",
       "      <td>2023-04-05</td>\n",
       "      <td>42803</td>\n",
       "      <td>22001.514584</td>\n",
       "    </tr>\n",
       "    <tr>\n",
       "      <th>3</th>\n",
       "      <td>3659.137057</td>\n",
       "      <td>POS</td>\n",
       "      <td>2023-04-06</td>\n",
       "      <td>51455</td>\n",
       "      <td>30001.529392</td>\n",
       "    </tr>\n",
       "    <tr>\n",
       "      <th>4</th>\n",
       "      <td>3659.137057</td>\n",
       "      <td>POS</td>\n",
       "      <td>2023-04-11</td>\n",
       "      <td>62752</td>\n",
       "      <td>22001.092602</td>\n",
       "    </tr>\n",
       "  </tbody>\n",
       "</table>\n",
       "</div>"
      ],
      "text/plain": [
       "      CUST_NUM CHANNEL       DATE   TIME        AMOUNT\n",
       "0  3659.137057     POS 2023-04-01  39958  30001.039678\n",
       "1  3659.137057     POS 2023-04-04  51349  20001.662634\n",
       "2  3659.137057     POS 2023-04-05  42803  22001.514584\n",
       "3  3659.137057     POS 2023-04-06  51455  30001.529392\n",
       "4  3659.137057     POS 2023-04-11  62752  22001.092602"
      ]
     },
     "execution_count": 12,
     "metadata": {},
     "output_type": "execute_result"
    }
   ],
   "source": [
    "debit_card_df = pd.read_excel('./data/dataset/DEBIT CARD TXNS_PJDSC.xlsx')\n",
    "debit_card_df.head()"
   ]
  },
  {
   "cell_type": "code",
   "execution_count": 19,
   "id": "42a4041f-95e1-49d2-ab8a-15ff2f1a3970",
   "metadata": {},
   "outputs": [
    {
     "data": {
      "text/plain": [
       "(369594, 5)"
      ]
     },
     "execution_count": 19,
     "metadata": {},
     "output_type": "execute_result"
    }
   ],
   "source": [
    "debit_card_df.shape"
   ]
  },
  {
   "cell_type": "code",
   "execution_count": 26,
   "id": "ffb9ddc4-80bc-4f22-8846-254f65e66894",
   "metadata": {},
   "outputs": [
    {
     "name": "stdout",
     "output_type": "stream",
     "text": [
      "CUST_NUM: 25618\n",
      "CHANNEL: 2\n",
      "DATE: 92\n",
      "TIME: 67455\n",
      "AMOUNT: 369594\n"
     ]
    }
   ],
   "source": [
    "for i in debit_card_df.columns:\n",
    "    print(f'{i}: {debit_card_df[i].nunique()}')"
   ]
  },
  {
   "cell_type": "code",
   "execution_count": 27,
   "id": "1b7375c6-2aef-4026-8d39-091004427d20",
   "metadata": {},
   "outputs": [
    {
     "name": "stdout",
     "output_type": "stream",
     "text": [
      "CUST_NUM: 0\n",
      "CHANNEL: 0\n",
      "DATE: 0\n",
      "TIME: 0\n",
      "AMOUNT: 0\n"
     ]
    }
   ],
   "source": [
    "for i in debit_card_df.columns:\n",
    "    print(f'{i}: {debit_card_df[i].isna().sum()}')"
   ]
  },
  {
   "cell_type": "markdown",
   "id": "cd3fcc5b-d4db-4c40-935f-b00fe30d1b4c",
   "metadata": {},
   "source": [
    "# Financial Digital"
   ]
  },
  {
   "cell_type": "code",
   "execution_count": 13,
   "id": "a412aaa8-3c5b-4b99-9ea2-44b0bf8cfabe",
   "metadata": {},
   "outputs": [
    {
     "data": {
      "text/html": [
       "<div>\n",
       "<style scoped>\n",
       "    .dataframe tbody tr th:only-of-type {\n",
       "        vertical-align: middle;\n",
       "    }\n",
       "\n",
       "    .dataframe tbody tr th {\n",
       "        vertical-align: top;\n",
       "    }\n",
       "\n",
       "    .dataframe thead th {\n",
       "        text-align: right;\n",
       "    }\n",
       "</style>\n",
       "<table border=\"1\" class=\"dataframe\">\n",
       "  <thead>\n",
       "    <tr style=\"text-align: right;\">\n",
       "      <th></th>\n",
       "      <th>CUST_NUM</th>\n",
       "      <th>AMOUNT</th>\n",
       "      <th>DATE_AND_TIME</th>\n",
       "      <th>CHANNEL</th>\n",
       "      <th>TRAN_TYPE</th>\n",
       "    </tr>\n",
       "  </thead>\n",
       "  <tbody>\n",
       "    <tr>\n",
       "      <th>0</th>\n",
       "      <td>4418.325475</td>\n",
       "      <td>2000.885936</td>\n",
       "      <td>2023-04-01 07:55:10</td>\n",
       "      <td>MOBILE</td>\n",
       "      <td>E-WALLET</td>\n",
       "    </tr>\n",
       "    <tr>\n",
       "      <th>1</th>\n",
       "      <td>4418.325475</td>\n",
       "      <td>2000.407658</td>\n",
       "      <td>2023-04-01 07:54:01</td>\n",
       "      <td>MOBILE</td>\n",
       "      <td>E-WALLET</td>\n",
       "    </tr>\n",
       "    <tr>\n",
       "      <th>2</th>\n",
       "      <td>4418.325475</td>\n",
       "      <td>9829.356544</td>\n",
       "      <td>2023-04-14 11:04:20</td>\n",
       "      <td>MOBILE</td>\n",
       "      <td>BILLS PAYMENT</td>\n",
       "    </tr>\n",
       "    <tr>\n",
       "      <th>3</th>\n",
       "      <td>7356.780546</td>\n",
       "      <td>2000.575996</td>\n",
       "      <td>2023-04-11 09:41:43</td>\n",
       "      <td>MOBILE</td>\n",
       "      <td>E-WALLET</td>\n",
       "    </tr>\n",
       "    <tr>\n",
       "      <th>4</th>\n",
       "      <td>10768.575579</td>\n",
       "      <td>100.667732</td>\n",
       "      <td>2023-04-02 20:36:51</td>\n",
       "      <td>WEB</td>\n",
       "      <td>E-WALLET</td>\n",
       "    </tr>\n",
       "  </tbody>\n",
       "</table>\n",
       "</div>"
      ],
      "text/plain": [
       "       CUST_NUM       AMOUNT       DATE_AND_TIME CHANNEL      TRAN_TYPE\n",
       "0   4418.325475  2000.885936 2023-04-01 07:55:10  MOBILE       E-WALLET\n",
       "1   4418.325475  2000.407658 2023-04-01 07:54:01  MOBILE       E-WALLET\n",
       "2   4418.325475  9829.356544 2023-04-14 11:04:20  MOBILE  BILLS PAYMENT\n",
       "3   7356.780546  2000.575996 2023-04-11 09:41:43  MOBILE       E-WALLET\n",
       "4  10768.575579   100.667732 2023-04-02 20:36:51     WEB       E-WALLET"
      ]
     },
     "execution_count": 13,
     "metadata": {},
     "output_type": "execute_result"
    }
   ],
   "source": [
    "financial_digital_df = pd.read_excel('./data/dataset/FINANCIAL DIGITAL TXNS_PJDSC.xlsx')\n",
    "financial_digital_df.head()"
   ]
  },
  {
   "cell_type": "code",
   "execution_count": 20,
   "id": "b4774beb-db54-4872-be5f-0fe3334eefb6",
   "metadata": {},
   "outputs": [
    {
     "data": {
      "text/html": [
       "<div>\n",
       "<style scoped>\n",
       "    .dataframe tbody tr th:only-of-type {\n",
       "        vertical-align: middle;\n",
       "    }\n",
       "\n",
       "    .dataframe tbody tr th {\n",
       "        vertical-align: top;\n",
       "    }\n",
       "\n",
       "    .dataframe thead th {\n",
       "        text-align: right;\n",
       "    }\n",
       "</style>\n",
       "<table border=\"1\" class=\"dataframe\">\n",
       "  <thead>\n",
       "    <tr style=\"text-align: right;\">\n",
       "      <th></th>\n",
       "      <th>CUST_NUM</th>\n",
       "      <th>AMOUNT</th>\n",
       "      <th>DATE_AND_TIME</th>\n",
       "      <th>CHANNEL</th>\n",
       "      <th>TRAN_TYPE</th>\n",
       "    </tr>\n",
       "  </thead>\n",
       "  <tbody>\n",
       "    <tr>\n",
       "      <th>0</th>\n",
       "      <td>4418.325475</td>\n",
       "      <td>2000.885936</td>\n",
       "      <td>2023-04-01 07:55:10</td>\n",
       "      <td>MOBILE</td>\n",
       "      <td>E-WALLET</td>\n",
       "    </tr>\n",
       "    <tr>\n",
       "      <th>1</th>\n",
       "      <td>4418.325475</td>\n",
       "      <td>2000.407658</td>\n",
       "      <td>2023-04-01 07:54:01</td>\n",
       "      <td>MOBILE</td>\n",
       "      <td>E-WALLET</td>\n",
       "    </tr>\n",
       "    <tr>\n",
       "      <th>2</th>\n",
       "      <td>4418.325475</td>\n",
       "      <td>9829.356544</td>\n",
       "      <td>2023-04-14 11:04:20</td>\n",
       "      <td>MOBILE</td>\n",
       "      <td>BILLS PAYMENT</td>\n",
       "    </tr>\n",
       "    <tr>\n",
       "      <th>3</th>\n",
       "      <td>7356.780546</td>\n",
       "      <td>2000.575996</td>\n",
       "      <td>2023-04-11 09:41:43</td>\n",
       "      <td>MOBILE</td>\n",
       "      <td>E-WALLET</td>\n",
       "    </tr>\n",
       "    <tr>\n",
       "      <th>4</th>\n",
       "      <td>10768.575579</td>\n",
       "      <td>100.667732</td>\n",
       "      <td>2023-04-02 20:36:51</td>\n",
       "      <td>WEB</td>\n",
       "      <td>E-WALLET</td>\n",
       "    </tr>\n",
       "  </tbody>\n",
       "</table>\n",
       "</div>"
      ],
      "text/plain": [
       "       CUST_NUM       AMOUNT       DATE_AND_TIME CHANNEL      TRAN_TYPE\n",
       "0   4418.325475  2000.885936 2023-04-01 07:55:10  MOBILE       E-WALLET\n",
       "1   4418.325475  2000.407658 2023-04-01 07:54:01  MOBILE       E-WALLET\n",
       "2   4418.325475  9829.356544 2023-04-14 11:04:20  MOBILE  BILLS PAYMENT\n",
       "3   7356.780546  2000.575996 2023-04-11 09:41:43  MOBILE       E-WALLET\n",
       "4  10768.575579   100.667732 2023-04-02 20:36:51     WEB       E-WALLET"
      ]
     },
     "execution_count": 20,
     "metadata": {},
     "output_type": "execute_result"
    }
   ],
   "source": [
    "financial_digital_df.head()"
   ]
  },
  {
   "cell_type": "code",
   "execution_count": 28,
   "id": "6ac92b70-1d52-4103-905e-07f52c7795cc",
   "metadata": {},
   "outputs": [
    {
     "name": "stdout",
     "output_type": "stream",
     "text": [
      "CUST_NUM: 10160\n",
      "AMOUNT: 174613\n",
      "DATE_AND_TIME: 172043\n",
      "CHANNEL: 4\n",
      "TRAN_TYPE: 3\n"
     ]
    }
   ],
   "source": [
    "for i in financial_digital_df.columns:\n",
    "    print(f'{i}: {financial_digital_df[i].nunique()}')"
   ]
  },
  {
   "cell_type": "code",
   "execution_count": 29,
   "id": "6f726c57-ad25-4df4-b8d4-8c16f36a3f17",
   "metadata": {},
   "outputs": [
    {
     "name": "stdout",
     "output_type": "stream",
     "text": [
      "CUST_NUM: 0\n",
      "AMOUNT: 0\n",
      "DATE_AND_TIME: 0\n",
      "CHANNEL: 0\n",
      "TRAN_TYPE: 0\n"
     ]
    }
   ],
   "source": [
    "for i in financial_digital_df.columns:\n",
    "    print(f'{i}: {financial_digital_df[i].isna().sum()}')"
   ]
  },
  {
   "cell_type": "markdown",
   "id": "4600e764-b8f0-4bb1-9018-7c8206d97f4d",
   "metadata": {},
   "source": [
    "# Incoming Instapay"
   ]
  },
  {
   "cell_type": "code",
   "execution_count": 14,
   "id": "1ab0c1da-4d7b-404c-bd85-10a1741a3932",
   "metadata": {},
   "outputs": [
    {
     "data": {
      "text/html": [
       "<div>\n",
       "<style scoped>\n",
       "    .dataframe tbody tr th:only-of-type {\n",
       "        vertical-align: middle;\n",
       "    }\n",
       "\n",
       "    .dataframe tbody tr th {\n",
       "        vertical-align: top;\n",
       "    }\n",
       "\n",
       "    .dataframe thead th {\n",
       "        text-align: right;\n",
       "    }\n",
       "</style>\n",
       "<table border=\"1\" class=\"dataframe\">\n",
       "  <thead>\n",
       "    <tr style=\"text-align: right;\">\n",
       "      <th></th>\n",
       "      <th>CUST_NUM</th>\n",
       "      <th>DATE</th>\n",
       "      <th>TIME</th>\n",
       "      <th>AMOUNT</th>\n",
       "      <th>BPI_ACCT_TYPE</th>\n",
       "      <th>SRC_BANK_NAME</th>\n",
       "    </tr>\n",
       "  </thead>\n",
       "  <tbody>\n",
       "    <tr>\n",
       "      <th>0</th>\n",
       "      <td>5713.401964</td>\n",
       "      <td>2023-04-01</td>\n",
       "      <td>73591</td>\n",
       "      <td>12299.238264</td>\n",
       "      <td>SA</td>\n",
       "      <td>LEMUR</td>\n",
       "    </tr>\n",
       "    <tr>\n",
       "      <th>1</th>\n",
       "      <td>5713.401964</td>\n",
       "      <td>2023-04-05</td>\n",
       "      <td>44714</td>\n",
       "      <td>2499.424915</td>\n",
       "      <td>SA</td>\n",
       "      <td>HUMAN</td>\n",
       "    </tr>\n",
       "    <tr>\n",
       "      <th>2</th>\n",
       "      <td>5713.401964</td>\n",
       "      <td>2023-04-24</td>\n",
       "      <td>46302</td>\n",
       "      <td>748.744684</td>\n",
       "      <td>SA</td>\n",
       "      <td>HUMAN</td>\n",
       "    </tr>\n",
       "    <tr>\n",
       "      <th>3</th>\n",
       "      <td>5713.401964</td>\n",
       "      <td>2023-04-29</td>\n",
       "      <td>40612</td>\n",
       "      <td>1799.144167</td>\n",
       "      <td>SA</td>\n",
       "      <td>HUMAN</td>\n",
       "    </tr>\n",
       "    <tr>\n",
       "      <th>4</th>\n",
       "      <td>5713.401964</td>\n",
       "      <td>2023-04-29</td>\n",
       "      <td>24021</td>\n",
       "      <td>1499.628880</td>\n",
       "      <td>SA</td>\n",
       "      <td>HUMAN</td>\n",
       "    </tr>\n",
       "  </tbody>\n",
       "</table>\n",
       "</div>"
      ],
      "text/plain": [
       "      CUST_NUM       DATE   TIME        AMOUNT BPI_ACCT_TYPE SRC_BANK_NAME\n",
       "0  5713.401964 2023-04-01  73591  12299.238264            SA         LEMUR\n",
       "1  5713.401964 2023-04-05  44714   2499.424915            SA         HUMAN\n",
       "2  5713.401964 2023-04-24  46302    748.744684            SA         HUMAN\n",
       "3  5713.401964 2023-04-29  40612   1799.144167            SA         HUMAN\n",
       "4  5713.401964 2023-04-29  24021   1499.628880            SA         HUMAN"
      ]
     },
     "execution_count": 14,
     "metadata": {},
     "output_type": "execute_result"
    }
   ],
   "source": [
    "incoming_instapay_df = pd.read_excel('./data/dataset/INCOMING INSTAPAY TXNS_PJDSC.xlsx')\n",
    "incoming_instapay_df.head()"
   ]
  },
  {
   "cell_type": "code",
   "execution_count": 21,
   "id": "0a7942d8-81ee-4641-a8f4-f2d74509325e",
   "metadata": {},
   "outputs": [
    {
     "data": {
      "text/plain": [
       "(80042, 6)"
      ]
     },
     "execution_count": 21,
     "metadata": {},
     "output_type": "execute_result"
    }
   ],
   "source": [
    "incoming_instapay_df.shape"
   ]
  },
  {
   "cell_type": "code",
   "execution_count": 30,
   "id": "13bc5cb8-8a06-4fab-ad8f-5bb845e296b8",
   "metadata": {},
   "outputs": [
    {
     "name": "stdout",
     "output_type": "stream",
     "text": [
      "CUST_NUM: 12929\n",
      "DATE: 91\n",
      "TIME: 47447\n",
      "AMOUNT: 80042\n",
      "BPI_ACCT_TYPE: 2\n",
      "SRC_BANK_NAME: 49\n"
     ]
    }
   ],
   "source": [
    "for i in incoming_instapay_df.columns:\n",
    "    print(f'{i}: {incoming_instapay_df[i].nunique()}')"
   ]
  },
  {
   "cell_type": "code",
   "execution_count": 31,
   "id": "f7d437e7-65b7-4cab-9849-45694030e331",
   "metadata": {},
   "outputs": [
    {
     "name": "stdout",
     "output_type": "stream",
     "text": [
      "CUST_NUM: 0\n",
      "DATE: 0\n",
      "TIME: 0\n",
      "AMOUNT: 0\n",
      "BPI_ACCT_TYPE: 0\n",
      "SRC_BANK_NAME: 0\n"
     ]
    }
   ],
   "source": [
    "for i in incoming_instapay_df.columns:\n",
    "    print(f'{i}: {incoming_instapay_df[i].isna().sum()}')"
   ]
  },
  {
   "cell_type": "markdown",
   "id": "32c67450-c475-45b2-b0ee-1185daa0be8e",
   "metadata": {},
   "source": [
    "# Outgoing Instapay"
   ]
  },
  {
   "cell_type": "code",
   "execution_count": 15,
   "id": "66b42d55-33a3-4c2c-b018-62a06ea3fa20",
   "metadata": {},
   "outputs": [
    {
     "data": {
      "text/html": [
       "<div>\n",
       "<style scoped>\n",
       "    .dataframe tbody tr th:only-of-type {\n",
       "        vertical-align: middle;\n",
       "    }\n",
       "\n",
       "    .dataframe tbody tr th {\n",
       "        vertical-align: top;\n",
       "    }\n",
       "\n",
       "    .dataframe thead th {\n",
       "        text-align: right;\n",
       "    }\n",
       "</style>\n",
       "<table border=\"1\" class=\"dataframe\">\n",
       "  <thead>\n",
       "    <tr style=\"text-align: right;\">\n",
       "      <th></th>\n",
       "      <th>CUST_NUM</th>\n",
       "      <th>DATE</th>\n",
       "      <th>TIME</th>\n",
       "      <th>AMOUNT</th>\n",
       "      <th>CHANNEL</th>\n",
       "      <th>RCV_BANK_NAME</th>\n",
       "    </tr>\n",
       "  </thead>\n",
       "  <tbody>\n",
       "    <tr>\n",
       "      <th>0</th>\n",
       "      <td>12844.855858</td>\n",
       "      <td>2023-04-01</td>\n",
       "      <td>68284</td>\n",
       "      <td>999.858929</td>\n",
       "      <td>MOBILE</td>\n",
       "      <td>HUMAN</td>\n",
       "    </tr>\n",
       "    <tr>\n",
       "      <th>1</th>\n",
       "      <td>12844.855858</td>\n",
       "      <td>2023-04-01</td>\n",
       "      <td>70887</td>\n",
       "      <td>1999.472786</td>\n",
       "      <td>MOBILE</td>\n",
       "      <td>HUMAN</td>\n",
       "    </tr>\n",
       "    <tr>\n",
       "      <th>2</th>\n",
       "      <td>12844.855858</td>\n",
       "      <td>2023-04-02</td>\n",
       "      <td>14934</td>\n",
       "      <td>5099.594826</td>\n",
       "      <td>MOBILE</td>\n",
       "      <td>HUMAN</td>\n",
       "    </tr>\n",
       "    <tr>\n",
       "      <th>3</th>\n",
       "      <td>12844.855858</td>\n",
       "      <td>2023-04-02</td>\n",
       "      <td>14025</td>\n",
       "      <td>1799.585649</td>\n",
       "      <td>MOBILE</td>\n",
       "      <td>HUMAN</td>\n",
       "    </tr>\n",
       "    <tr>\n",
       "      <th>4</th>\n",
       "      <td>12844.855858</td>\n",
       "      <td>2023-04-04</td>\n",
       "      <td>5845</td>\n",
       "      <td>4299.349369</td>\n",
       "      <td>MOBILE</td>\n",
       "      <td>HUMAN</td>\n",
       "    </tr>\n",
       "  </tbody>\n",
       "</table>\n",
       "</div>"
      ],
      "text/plain": [
       "       CUST_NUM       DATE   TIME       AMOUNT CHANNEL RCV_BANK_NAME\n",
       "0  12844.855858 2023-04-01  68284   999.858929  MOBILE         HUMAN\n",
       "1  12844.855858 2023-04-01  70887  1999.472786  MOBILE         HUMAN\n",
       "2  12844.855858 2023-04-02  14934  5099.594826  MOBILE         HUMAN\n",
       "3  12844.855858 2023-04-02  14025  1799.585649  MOBILE         HUMAN\n",
       "4  12844.855858 2023-04-04   5845  4299.349369  MOBILE         HUMAN"
      ]
     },
     "execution_count": 15,
     "metadata": {},
     "output_type": "execute_result"
    }
   ],
   "source": [
    "outgoing_instapay_df = pd.read_excel('./data/dataset/OUTGOING INSTAPAY TXNS_PJDSC.xlsx')\n",
    "outgoing_instapay_df.head()"
   ]
  },
  {
   "cell_type": "code",
   "execution_count": 23,
   "id": "ce0c406b-8360-4d08-958c-6022b4b79c52",
   "metadata": {},
   "outputs": [
    {
     "data": {
      "text/plain": [
       "(40829, 6)"
      ]
     },
     "execution_count": 23,
     "metadata": {},
     "output_type": "execute_result"
    }
   ],
   "source": [
    "outgoing_instapay_df.shape"
   ]
  },
  {
   "cell_type": "code",
   "execution_count": 32,
   "id": "7307cb52-3c82-45fa-88da-7105295e6294",
   "metadata": {},
   "outputs": [
    {
     "name": "stdout",
     "output_type": "stream",
     "text": [
      "CUST_NUM: 6230\n",
      "DATE: 91\n",
      "TIME: 30899\n",
      "AMOUNT: 40829\n",
      "CHANNEL: 2\n",
      "RCV_BANK_NAME: 54\n"
     ]
    }
   ],
   "source": [
    "for i in outgoing_instapay_df.columns:\n",
    "    print(f'{i}: {outgoing_instapay_df[i].nunique()}')"
   ]
  },
  {
   "cell_type": "code",
   "execution_count": 33,
   "id": "cbb5a41e-6bd3-4a5d-b362-6955f58436b6",
   "metadata": {},
   "outputs": [
    {
     "name": "stdout",
     "output_type": "stream",
     "text": [
      "CUST_NUM: 0\n",
      "DATE: 0\n",
      "TIME: 0\n",
      "AMOUNT: 0\n",
      "CHANNEL: 0\n",
      "RCV_BANK_NAME: 0\n"
     ]
    }
   ],
   "source": [
    "for i in outgoing_instapay_df.columns:\n",
    "    print(f'{i}: {outgoing_instapay_df[i].isna().sum()}')"
   ]
  },
  {
   "cell_type": "markdown",
   "id": "40869a51-da0a-4551-a326-f26b127a81fe",
   "metadata": {},
   "source": [
    "# Questions"
   ]
  },
  {
   "cell_type": "markdown",
   "id": "0fcc368b-c1e7-4f24-9830-b3d5121e00ea",
   "metadata": {},
   "source": [
    "1. How many Core Mass clients from Sultan Kudarat are in the Customer Info dataset?"
   ]
  },
  {
   "cell_type": "code",
   "execution_count": 15,
   "id": "0f52c040-86c0-4722-beb4-2606952bd628",
   "metadata": {},
   "outputs": [
    {
     "data": {
      "text/plain": [
       "PROVINCE\n",
       "AGUSAN DEL NORTE                   2364\n",
       "AGUSAN DEL SUR                      402\n",
       "AKLAN                              3102\n",
       "ALBAY                              3546\n",
       "ANTIQUE                            1284\n",
       "BATAAN                             2727\n",
       "BENGUET                            8214\n",
       "BOHOL                              4206\n",
       "BUKIDNON                           2319\n",
       "CAGAYAN                            3111\n",
       "CAMARINES NORTE                    1098\n",
       "CAMARINES SUR                      4044\n",
       "CAPIZ                              2634\n",
       "COTABATO (NORTH COTABATO)          1191\n",
       "COTABATO CITY (NOT A PROVINCE)     1017\n",
       "DAVAO DEL NORTE                    3432\n",
       "DAVAO ORIENTAL                      453\n",
       "ILOCOS NORTE                       3363\n",
       "ILOCOS SUR                         1893\n",
       "ISABELA                            3792\n",
       "LA UNION                           3462\n",
       "LANAO DEL NORTE                    2460\n",
       "LEYTE                              4845\n",
       "MISAMIS OCCIDENTAL                 1497\n",
       "MISAMIS ORIENTAL                   9783\n",
       "NEGROS OCCIDENTAL                 13488\n",
       "NEGROS ORIENTAL                    5034\n",
       "NORTHERN SAMAR                      351\n",
       "NUEVA ECIJA                        4836\n",
       "NUEVA VIZCAYA                      1119\n",
       "OCCIDENTAL MINDORO                    9\n",
       "ORIENTAL MINDORO                   1044\n",
       "PALAWAN                            2397\n",
       "PANGASINAN                         8841\n",
       "SAMAR (WESTERN SAMAR)               246\n",
       "SORSOGON                            945\n",
       "SOUTH COTABATO                     5262\n",
       "SOUTHERN LEYTE                      402\n",
       "SULTAN KUDARAT                      462\n",
       "SURIGAO DEL NORTE                  1068\n",
       "SURIGAO DEL SUR                     309\n",
       "TARLAC                             4020\n",
       "ZAMBALES                           5742\n",
       "ZAMBOANGA DEL NORTE                1320\n",
       "ZAMBOANGA DEL SUR                  5310\n",
       "dtype: int64"
      ]
     },
     "execution_count": 15,
     "metadata": {},
     "output_type": "execute_result"
    }
   ],
   "source": [
    "customer_info_df.groupby(['PROVINCE']).size()"
   ]
  },
  {
   "cell_type": "markdown",
   "id": "5da569d8-f2ba-4d47-8f66-c5f3e7d39714",
   "metadata": {},
   "source": [
    "Based from the `groupby()` operation done above, there are 462 Core Mass clients from Sultan Kudarat."
   ]
  },
  {
   "cell_type": "markdown",
   "id": "cf029125-bdc6-48ac-bc7e-dedf323cad59",
   "metadata": {},
   "source": [
    "2. In May 2023, what was the total financial digital transaction amount produced by Core Mass clients? "
   ]
  },
  {
   "cell_type": "code",
   "execution_count": null,
   "id": "08819b26-22bc-445a-9904-55007fe9df34",
   "metadata": {},
   "outputs": [],
   "source": [
    "financial_digital_df.groupby('')"
   ]
  },
  {
   "cell_type": "markdown",
   "id": "7ffdea15-37ae-4bc9-8ef8-4266c8214ec2",
   "metadata": {},
   "source": [
    "3. What bank was most frequently treated as recipient by Core Mass for their outgoing Instapay transactions?"
   ]
  },
  {
   "cell_type": "markdown",
   "id": "19429d63-1b12-44eb-b282-3ecb99397c00",
   "metadata": {},
   "source": []
  },
  {
   "cell_type": "markdown",
   "id": "69acc30c-8334-4d94-aa41-7f94aa7b3e35",
   "metadata": {},
   "source": [
    "4. What are the top three countries wherein Core Mass clients performed credit card transactions most frequently?"
   ]
  },
  {
   "cell_type": "markdown",
   "id": "b0b099d4-c623-4b0a-a91f-fccd3c188f43",
   "metadata": {},
   "source": []
  },
  {
   "cell_type": "markdown",
   "id": "ec97b08a-8931-4cd7-b04f-0476759c4417",
   "metadata": {},
   "source": [
    "5. For each dataset, which columns contain null values?"
   ]
  },
  {
   "cell_type": "markdown",
   "id": "f3b987a7-63b3-41ee-a7ce-ca94e73ae3b5",
   "metadata": {},
   "source": [
    "Only two datasets contains `NULL` values. The `credit_card` dataset had two columns containing `NULL` values, MERCH_GROUP and COUNTRY. The second dataset was the `customer_info` dataset. It only had null values on the AGE column."
   ]
  },
  {
   "cell_type": "code",
   "execution_count": null,
   "id": "16eb75d3-05d9-4db6-8361-3a68264fcf41",
   "metadata": {},
   "outputs": [],
   "source": []
  }
 ],
 "metadata": {
  "kernelspec": {
   "display_name": "Python 3 (ipykernel)",
   "language": "python",
   "name": "python3"
  },
  "language_info": {
   "codemirror_mode": {
    "name": "ipython",
    "version": 3
   },
   "file_extension": ".py",
   "mimetype": "text/x-python",
   "name": "python",
   "nbconvert_exporter": "python",
   "pygments_lexer": "ipython3",
   "version": "3.11.0"
  }
 },
 "nbformat": 4,
 "nbformat_minor": 5
}
