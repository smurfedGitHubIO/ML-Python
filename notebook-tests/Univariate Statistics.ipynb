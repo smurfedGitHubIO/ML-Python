{
 "cells": [
  {
   "cell_type": "code",
   "execution_count": 1,
   "id": "a21b56c2",
   "metadata": {},
   "outputs": [],
   "source": [
    "import pandas as pd\n",
    "import numpy as np"
   ]
  },
  {
   "cell_type": "code",
   "execution_count": 3,
   "id": "bd889bc2",
   "metadata": {},
   "outputs": [
    {
     "data": {
      "text/html": [
       "<div>\n",
       "<style scoped>\n",
       "    .dataframe tbody tr th:only-of-type {\n",
       "        vertical-align: middle;\n",
       "    }\n",
       "\n",
       "    .dataframe tbody tr th {\n",
       "        vertical-align: top;\n",
       "    }\n",
       "\n",
       "    .dataframe thead th {\n",
       "        text-align: right;\n",
       "    }\n",
       "</style>\n",
       "<table border=\"1\" class=\"dataframe\">\n",
       "  <thead>\n",
       "    <tr style=\"text-align: right;\">\n",
       "      <th></th>\n",
       "      <th>age</th>\n",
       "      <th>sex</th>\n",
       "      <th>bmi</th>\n",
       "      <th>children</th>\n",
       "      <th>smoker</th>\n",
       "      <th>region</th>\n",
       "      <th>charges</th>\n",
       "    </tr>\n",
       "  </thead>\n",
       "  <tbody>\n",
       "    <tr>\n",
       "      <th>0</th>\n",
       "      <td>19</td>\n",
       "      <td>female</td>\n",
       "      <td>27.900</td>\n",
       "      <td>0</td>\n",
       "      <td>yes</td>\n",
       "      <td>southwest</td>\n",
       "      <td>16884.92400</td>\n",
       "    </tr>\n",
       "    <tr>\n",
       "      <th>1</th>\n",
       "      <td>18</td>\n",
       "      <td>male</td>\n",
       "      <td>33.770</td>\n",
       "      <td>1</td>\n",
       "      <td>no</td>\n",
       "      <td>southeast</td>\n",
       "      <td>1725.55230</td>\n",
       "    </tr>\n",
       "    <tr>\n",
       "      <th>2</th>\n",
       "      <td>28</td>\n",
       "      <td>male</td>\n",
       "      <td>33.000</td>\n",
       "      <td>3</td>\n",
       "      <td>no</td>\n",
       "      <td>southeast</td>\n",
       "      <td>4449.46200</td>\n",
       "    </tr>\n",
       "    <tr>\n",
       "      <th>3</th>\n",
       "      <td>33</td>\n",
       "      <td>male</td>\n",
       "      <td>22.705</td>\n",
       "      <td>0</td>\n",
       "      <td>no</td>\n",
       "      <td>northwest</td>\n",
       "      <td>21984.47061</td>\n",
       "    </tr>\n",
       "    <tr>\n",
       "      <th>4</th>\n",
       "      <td>32</td>\n",
       "      <td>male</td>\n",
       "      <td>28.880</td>\n",
       "      <td>0</td>\n",
       "      <td>no</td>\n",
       "      <td>northwest</td>\n",
       "      <td>3866.85520</td>\n",
       "    </tr>\n",
       "  </tbody>\n",
       "</table>\n",
       "</div>"
      ],
      "text/plain": [
       "   age     sex     bmi  children smoker     region      charges\n",
       "0   19  female  27.900         0    yes  southwest  16884.92400\n",
       "1   18    male  33.770         1     no  southeast   1725.55230\n",
       "2   28    male  33.000         3     no  southeast   4449.46200\n",
       "3   33    male  22.705         0     no  northwest  21984.47061\n",
       "4   32    male  28.880         0     no  northwest   3866.85520"
      ]
     },
     "execution_count": 3,
     "metadata": {},
     "output_type": "execute_result"
    }
   ],
   "source": [
    "df = pd.read_csv('./data/insurance.csv')\n",
    "df.head()"
   ]
  },
  {
   "cell_type": "code",
   "execution_count": 4,
   "id": "2d3b4216",
   "metadata": {},
   "outputs": [
    {
     "data": {
      "text/plain": [
       "(1338, 7)"
      ]
     },
     "execution_count": 4,
     "metadata": {},
     "output_type": "execute_result"
    }
   ],
   "source": [
    "df.shape"
   ]
  },
  {
   "cell_type": "code",
   "execution_count": 12,
   "id": "bbf118f4",
   "metadata": {},
   "outputs": [
    {
     "name": "stdout",
     "output_type": "stream",
     "text": [
      "age: 47 unique values\n",
      "sex: 2 unique values\n",
      "bmi: 548 unique values\n",
      "children: 6 unique values\n",
      "smoker: 2 unique values\n",
      "region: 4 unique values\n",
      "charges: 1337 unique values\n"
     ]
    }
   ],
   "source": [
    "for cols in df:\n",
    "    print(f'{cols}: {df[cols].nunique()} unique values')"
   ]
  },
  {
   "cell_type": "code",
   "execution_count": 16,
   "id": "1b8e5f6f",
   "metadata": {},
   "outputs": [
    {
     "name": "stdout",
     "output_type": "stream",
     "text": [
      "sex: ['female' 'male']\n",
      "smoker: ['yes' 'no']\n",
      "region: ['southwest' 'southeast' 'northwest' 'northeast']\n"
     ]
    }
   ],
   "source": [
    "for cols in df:\n",
    "    if df[cols].dtype == object:\n",
    "        print(f'{cols}: {df[cols].unique()}')"
   ]
  },
  {
   "cell_type": "code",
   "execution_count": 20,
   "id": "b5b47a4b",
   "metadata": {},
   "outputs": [
    {
     "name": "stdout",
     "output_type": "stream",
     "text": [
      "age min: 18\n",
      "age 0.25 quantile: 27.0\n",
      "age 0.5 quantile: 39.0\n",
      "age 0.75 quantile: 51.0\n",
      "age max: 64\n",
      "age mean: 39.20702541106129\n",
      "age median: 39.0\n",
      "age mode: 18\n",
      "bmi min: 15.96\n",
      "bmi 0.25 quantile: 26.29625\n",
      "bmi 0.5 quantile: 30.4\n",
      "bmi 0.75 quantile: 34.69375\n",
      "bmi max: 53.13\n",
      "bmi mean: 30.66339686098655\n",
      "bmi median: 30.4\n",
      "bmi mode: 32.3\n",
      "children min: 0\n",
      "children 0.25 quantile: 0.0\n",
      "children 0.5 quantile: 1.0\n",
      "children 0.75 quantile: 2.0\n",
      "children max: 5\n",
      "children mean: 1.0949177877429\n",
      "children median: 1.0\n",
      "children mode: 0\n",
      "charges min: 1121.8739\n",
      "charges 0.25 quantile: 4740.28715\n",
      "charges 0.5 quantile: 9382.033\n",
      "charges 0.75 quantile: 16639.912515\n",
      "charges max: 63770.42801\n",
      "charges mean: 13270.422265141257\n",
      "charges median: 9382.033\n",
      "charges mode: 1639.5631\n"
     ]
    }
   ],
   "source": [
    "for cols in df:\n",
    "    if df[cols].dtype != object:\n",
    "        print(f'{cols} min: {df[cols].min()}')\n",
    "        print(f'{cols} 0.25 quantile: {df[cols].quantile(0.25)}')\n",
    "        print(f'{cols} 0.5 quantile: {df[cols].quantile(0.5)}')\n",
    "        print(f'{cols} 0.75 quantile: {df[cols].quantile(0.75)}')\n",
    "        print(f'{cols} max: {df[cols].max()}')\n",
    "        print(f'{cols} mean: {df[cols].mean()}')\n",
    "        print(f'{cols} median: {df[cols].median()}')\n",
    "        print(f'{cols} mode: {df[cols].mode()[0]}')"
   ]
  },
  {
   "cell_type": "code",
   "execution_count": 21,
   "id": "332bbed9",
   "metadata": {},
   "outputs": [
    {
     "name": "stdout",
     "output_type": "stream",
     "text": [
      "age skew: 0.05567251565299186\n",
      "age kurtosis: -1.2450876526418673\n",
      "bmi skew: 0.2840471105987448\n",
      "bmi kurtosis: -0.05073153135467834\n",
      "children skew: 0.9383804401702414\n",
      "children kurtosis: 0.2024541467168901\n",
      "charges skew: 1.5158796580240388\n",
      "charges kurtosis: 1.6062986532967907\n"
     ]
    }
   ],
   "source": [
    "for cols in df:\n",
    "    if df[cols].dtype != object:\n",
    "        print(f'{cols} skew: {df[cols].skew()}')\n",
    "        print(f'{cols} kurtosis: {df[cols].kurt()}')"
   ]
  },
  {
   "cell_type": "code",
   "execution_count": null,
   "id": "acd08f1e",
   "metadata": {},
   "outputs": [],
   "source": []
  }
 ],
 "metadata": {
  "kernelspec": {
   "display_name": "Python 3 (ipykernel)",
   "language": "python",
   "name": "python3"
  },
  "language_info": {
   "codemirror_mode": {
    "name": "ipython",
    "version": 3
   },
   "file_extension": ".py",
   "mimetype": "text/x-python",
   "name": "python",
   "nbconvert_exporter": "python",
   "pygments_lexer": "ipython3",
   "version": "3.11.0"
  }
 },
 "nbformat": 4,
 "nbformat_minor": 5
}
